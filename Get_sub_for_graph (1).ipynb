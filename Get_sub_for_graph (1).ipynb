{
 "cells": [
  {
   "cell_type": "code",
   "execution_count": 665,
   "metadata": {},
   "outputs": [],
   "source": [
    "from IPython.core.interactiveshell import InteractiveShell\n",
    "InteractiveShell.ast_node_interactivity = \"all\"\n",
    "\n",
    "import pandas as pd\n",
    "\n",
    "pd.set_option('display.max_rows', 30000)"
   ]
  },
  {
   "cell_type": "code",
   "execution_count": 666,
   "metadata": {},
   "outputs": [
    {
     "data": {
      "text/html": [
       "<div>\n",
       "<style scoped>\n",
       "    .dataframe tbody tr th:only-of-type {\n",
       "        vertical-align: middle;\n",
       "    }\n",
       "\n",
       "    .dataframe tbody tr th {\n",
       "        vertical-align: top;\n",
       "    }\n",
       "\n",
       "    .dataframe thead th {\n",
       "        text-align: right;\n",
       "    }\n",
       "</style>\n",
       "<table border=\"1\" class=\"dataframe\">\n",
       "  <thead>\n",
       "    <tr style=\"text-align: right;\">\n",
       "      <th></th>\n",
       "      <th>Unnamed: 0</th>\n",
       "      <th>vertices</th>\n",
       "      <th>neg</th>\n",
       "      <th>ne</th>\n",
       "      <th>po</th>\n",
       "      <th>m</th>\n",
       "      <th>rumor</th>\n",
       "      <th>not_rumor</th>\n",
       "      <th>v1</th>\n",
       "      <th>v2</th>\n",
       "      <th>key1</th>\n",
       "      <th>key2</th>\n",
       "      <th>max</th>\n",
       "      <th>max_label</th>\n",
       "      <th>key1.1</th>\n",
       "      <th>key2.1</th>\n",
       "    </tr>\n",
       "  </thead>\n",
       "  <tbody>\n",
       "    <tr>\n",
       "      <th>0</th>\n",
       "      <td>0</td>\n",
       "      <td>('#rt', '#believe')</td>\n",
       "      <td>6</td>\n",
       "      <td>8</td>\n",
       "      <td>0</td>\n",
       "      <td>0</td>\n",
       "      <td>1</td>\n",
       "      <td>13</td>\n",
       "      <td>#rt</td>\n",
       "      <td>#believe</td>\n",
       "      <td>209</td>\n",
       "      <td>1326</td>\n",
       "      <td>8</td>\n",
       "      <td>1</td>\n",
       "      <td>209</td>\n",
       "      <td>1326</td>\n",
       "    </tr>\n",
       "  </tbody>\n",
       "</table>\n",
       "</div>"
      ],
      "text/plain": [
       "   Unnamed: 0             vertices  neg  ne  po  m  rumor  not_rumor   v1  \\\n",
       "0           0  ('#rt', '#believe')    6   8   0  0      1         13  #rt   \n",
       "\n",
       "         v2  key1  key2  max  max_label  key1.1  key2.1  \n",
       "0  #believe   209  1326    8          1     209    1326  "
      ]
     },
     "execution_count": 666,
     "metadata": {},
     "output_type": "execute_result"
    }
   ],
   "source": [
    "dffull=pd.read_csv('fulldf.csv')\n",
    "dffull.head(1)"
   ]
  },
  {
   "cell_type": "code",
   "execution_count": 667,
   "metadata": {},
   "outputs": [
    {
     "data": {
      "text/plain": [
       "(43004, 16)"
      ]
     },
     "execution_count": 667,
     "metadata": {},
     "output_type": "execute_result"
    }
   ],
   "source": [
    "dffull.shape"
   ]
  },
  {
   "cell_type": "code",
   "execution_count": 668,
   "metadata": {},
   "outputs": [
    {
     "data": {
      "text/html": [
       "<div>\n",
       "<style scoped>\n",
       "    .dataframe tbody tr th:only-of-type {\n",
       "        vertical-align: middle;\n",
       "    }\n",
       "\n",
       "    .dataframe tbody tr th {\n",
       "        vertical-align: top;\n",
       "    }\n",
       "\n",
       "    .dataframe thead th {\n",
       "        text-align: right;\n",
       "    }\n",
       "</style>\n",
       "<table border=\"1\" class=\"dataframe\">\n",
       "  <thead>\n",
       "    <tr style=\"text-align: right;\">\n",
       "      <th></th>\n",
       "      <th>Unnamed: 0</th>\n",
       "      <th>vertices</th>\n",
       "      <th>neg</th>\n",
       "      <th>ne</th>\n",
       "      <th>po</th>\n",
       "      <th>m</th>\n",
       "      <th>rumor</th>\n",
       "      <th>not_rumor</th>\n",
       "      <th>v1</th>\n",
       "      <th>v2</th>\n",
       "      <th>key1</th>\n",
       "      <th>key2</th>\n",
       "      <th>max</th>\n",
       "      <th>max_label</th>\n",
       "      <th>key1.1</th>\n",
       "      <th>key2.1</th>\n",
       "      <th>rumorprob</th>\n",
       "    </tr>\n",
       "  </thead>\n",
       "  <tbody>\n",
       "    <tr>\n",
       "      <th>0</th>\n",
       "      <td>0</td>\n",
       "      <td>('#rt', '#believe')</td>\n",
       "      <td>6</td>\n",
       "      <td>8</td>\n",
       "      <td>0</td>\n",
       "      <td>0</td>\n",
       "      <td>1</td>\n",
       "      <td>13</td>\n",
       "      <td>#rt</td>\n",
       "      <td>#believe</td>\n",
       "      <td>209</td>\n",
       "      <td>1326</td>\n",
       "      <td>8</td>\n",
       "      <td>1</td>\n",
       "      <td>209</td>\n",
       "      <td>1326</td>\n",
       "      <td>0.071429</td>\n",
       "    </tr>\n",
       "  </tbody>\n",
       "</table>\n",
       "</div>"
      ],
      "text/plain": [
       "   Unnamed: 0             vertices  neg  ne  po  m  rumor  not_rumor   v1  \\\n",
       "0           0  ('#rt', '#believe')    6   8   0  0      1         13  #rt   \n",
       "\n",
       "         v2  key1  key2  max  max_label  key1.1  key2.1  rumorprob  \n",
       "0  #believe   209  1326    8          1     209    1326   0.071429  "
      ]
     },
     "execution_count": 668,
     "metadata": {},
     "output_type": "execute_result"
    }
   ],
   "source": [
    "#Add rumor probability column.\n",
    "dffull['rumorprob']=dffull['rumor']/(dffull['rumor']+dffull['not_rumor'])\n",
    "dffull.head(1)"
   ]
  },
  {
   "cell_type": "code",
   "execution_count": 669,
   "metadata": {},
   "outputs": [],
   "source": [
    "# Add positive probability column.\n",
    "dffull['positive_prob']=dffull['po']/(dffull['po']++dffullnode['ne']+dffull['neg']+dffullnode['m'])"
   ]
  },
  {
   "cell_type": "code",
   "execution_count": 670,
   "metadata": {},
   "outputs": [],
   "source": [
    "# define function to devide positive probability into two groups, using the mean positve probability of all nodes in\n",
    "#entire dataset as threshold.\n",
    "def node_sent_group(po_prob):\n",
    "    if po_prob>NodePoMean:\n",
    "        return 1  # high rumor prob\n",
    "    else:\n",
    "        return 0  # low rumor prob"
   ]
  },
  {
   "cell_type": "code",
   "execution_count": 671,
   "metadata": {},
   "outputs": [],
   "source": [
    "# add sentiment group column for graphing later.\n",
    "dffull['sent_group']=dffull['positive_prob'].apply(lambda x:node_sent_group(x))"
   ]
  },
  {
   "cell_type": "code",
   "execution_count": 672,
   "metadata": {},
   "outputs": [],
   "source": [
    "# define function to devide positive probability into two groups, using the mean positve probability of all links in\n",
    "#entire dataset as threshold.\n",
    "def rumor_group(rumor_prob):\n",
    "    if rumor_prob>LinkRumorMean:\n",
    "        return 1  # high rumor prob\n",
    "    else:\n",
    "        return 0  # low rumor prob"
   ]
  },
  {
   "cell_type": "code",
   "execution_count": 673,
   "metadata": {},
   "outputs": [],
   "source": [
    "# add rumor group column for graphing later.\n",
    "dffull['rumor_group']=dffull['rumorprob'].apply(lambda x:node_rumor_group(x))"
   ]
  },
  {
   "cell_type": "code",
   "execution_count": 674,
   "metadata": {},
   "outputs": [
    {
     "data": {
      "text/html": [
       "<div>\n",
       "<style scoped>\n",
       "    .dataframe tbody tr th:only-of-type {\n",
       "        vertical-align: middle;\n",
       "    }\n",
       "\n",
       "    .dataframe tbody tr th {\n",
       "        vertical-align: top;\n",
       "    }\n",
       "\n",
       "    .dataframe thead th {\n",
       "        text-align: right;\n",
       "    }\n",
       "</style>\n",
       "<table border=\"1\" class=\"dataframe\">\n",
       "  <thead>\n",
       "    <tr style=\"text-align: right;\">\n",
       "      <th></th>\n",
       "      <th>Unnamed: 0</th>\n",
       "      <th>vertices</th>\n",
       "      <th>neg</th>\n",
       "      <th>ne</th>\n",
       "      <th>po</th>\n",
       "      <th>m</th>\n",
       "      <th>rumor</th>\n",
       "      <th>not_rumor</th>\n",
       "      <th>v1</th>\n",
       "      <th>v2</th>\n",
       "      <th>key1</th>\n",
       "      <th>key2</th>\n",
       "      <th>max</th>\n",
       "      <th>max_label</th>\n",
       "      <th>key1.1</th>\n",
       "      <th>key2.1</th>\n",
       "      <th>rumorprob</th>\n",
       "      <th>positive_prob</th>\n",
       "      <th>sent_group</th>\n",
       "      <th>rumor_group</th>\n",
       "    </tr>\n",
       "  </thead>\n",
       "  <tbody>\n",
       "    <tr>\n",
       "      <th>0</th>\n",
       "      <td>0</td>\n",
       "      <td>('#rt', '#believe')</td>\n",
       "      <td>6</td>\n",
       "      <td>8</td>\n",
       "      <td>0</td>\n",
       "      <td>0</td>\n",
       "      <td>1</td>\n",
       "      <td>13</td>\n",
       "      <td>#rt</td>\n",
       "      <td>#believe</td>\n",
       "      <td>209</td>\n",
       "      <td>1326</td>\n",
       "      <td>8</td>\n",
       "      <td>1</td>\n",
       "      <td>209</td>\n",
       "      <td>1326</td>\n",
       "      <td>0.071429</td>\n",
       "      <td>0.000000</td>\n",
       "      <td>0</td>\n",
       "      <td>1</td>\n",
       "    </tr>\n",
       "    <tr>\n",
       "      <th>1</th>\n",
       "      <td>1</td>\n",
       "      <td>('#rt', '#breathe')</td>\n",
       "      <td>1</td>\n",
       "      <td>2</td>\n",
       "      <td>1</td>\n",
       "      <td>0</td>\n",
       "      <td>0</td>\n",
       "      <td>4</td>\n",
       "      <td>#rt</td>\n",
       "      <td>#breathe</td>\n",
       "      <td>209</td>\n",
       "      <td>1475</td>\n",
       "      <td>2</td>\n",
       "      <td>1</td>\n",
       "      <td>209</td>\n",
       "      <td>1475</td>\n",
       "      <td>0.000000</td>\n",
       "      <td>0.047619</td>\n",
       "      <td>0</td>\n",
       "      <td>0</td>\n",
       "    </tr>\n",
       "  </tbody>\n",
       "</table>\n",
       "</div>"
      ],
      "text/plain": [
       "   Unnamed: 0             vertices  neg  ne  po  m  rumor  not_rumor   v1  \\\n",
       "0           0  ('#rt', '#believe')    6   8   0  0      1         13  #rt   \n",
       "1           1  ('#rt', '#breathe')    1   2   1  0      0          4  #rt   \n",
       "\n",
       "         v2  key1  key2  max  max_label  key1.1  key2.1  rumorprob  \\\n",
       "0  #believe   209  1326    8          1     209    1326   0.071429   \n",
       "1  #breathe   209  1475    2          1     209    1475   0.000000   \n",
       "\n",
       "   positive_prob  sent_group  rumor_group  \n",
       "0       0.000000           0            1  \n",
       "1       0.047619           0            0  "
      ]
     },
     "execution_count": 674,
     "metadata": {},
     "output_type": "execute_result"
    }
   ],
   "source": [
    "dffull.head(2)"
   ]
  },
  {
   "cell_type": "code",
   "execution_count": 675,
   "metadata": {},
   "outputs": [],
   "source": [
    "dffull.drop('Unnamed: 0',axis=1,inplace=True)"
   ]
  },
  {
   "cell_type": "code",
   "execution_count": 676,
   "metadata": {},
   "outputs": [
    {
     "data": {
      "text/html": [
       "<div>\n",
       "<style scoped>\n",
       "    .dataframe tbody tr th:only-of-type {\n",
       "        vertical-align: middle;\n",
       "    }\n",
       "\n",
       "    .dataframe tbody tr th {\n",
       "        vertical-align: top;\n",
       "    }\n",
       "\n",
       "    .dataframe thead th {\n",
       "        text-align: right;\n",
       "    }\n",
       "</style>\n",
       "<table border=\"1\" class=\"dataframe\">\n",
       "  <thead>\n",
       "    <tr style=\"text-align: right;\">\n",
       "      <th></th>\n",
       "      <th>vertices</th>\n",
       "      <th>neg</th>\n",
       "      <th>ne</th>\n",
       "      <th>po</th>\n",
       "      <th>m</th>\n",
       "      <th>rumor</th>\n",
       "      <th>not_rumor</th>\n",
       "      <th>v1</th>\n",
       "      <th>v2</th>\n",
       "      <th>key1</th>\n",
       "      <th>key2</th>\n",
       "      <th>max</th>\n",
       "      <th>max_label</th>\n",
       "      <th>key1.1</th>\n",
       "      <th>key2.1</th>\n",
       "      <th>rumorprob</th>\n",
       "      <th>positive_prob</th>\n",
       "      <th>sent_group</th>\n",
       "      <th>rumor_group</th>\n",
       "    </tr>\n",
       "  </thead>\n",
       "  <tbody>\n",
       "    <tr>\n",
       "      <th>0</th>\n",
       "      <td>('#rt', '#believe')</td>\n",
       "      <td>6</td>\n",
       "      <td>8</td>\n",
       "      <td>0</td>\n",
       "      <td>0</td>\n",
       "      <td>1</td>\n",
       "      <td>13</td>\n",
       "      <td>#rt</td>\n",
       "      <td>#believe</td>\n",
       "      <td>209</td>\n",
       "      <td>1326</td>\n",
       "      <td>8</td>\n",
       "      <td>1</td>\n",
       "      <td>209</td>\n",
       "      <td>1326</td>\n",
       "      <td>0.071429</td>\n",
       "      <td>0.000000</td>\n",
       "      <td>0</td>\n",
       "      <td>1</td>\n",
       "    </tr>\n",
       "    <tr>\n",
       "      <th>1</th>\n",
       "      <td>('#rt', '#breathe')</td>\n",
       "      <td>1</td>\n",
       "      <td>2</td>\n",
       "      <td>1</td>\n",
       "      <td>0</td>\n",
       "      <td>0</td>\n",
       "      <td>4</td>\n",
       "      <td>#rt</td>\n",
       "      <td>#breathe</td>\n",
       "      <td>209</td>\n",
       "      <td>1475</td>\n",
       "      <td>2</td>\n",
       "      <td>1</td>\n",
       "      <td>209</td>\n",
       "      <td>1475</td>\n",
       "      <td>0.000000</td>\n",
       "      <td>0.047619</td>\n",
       "      <td>0</td>\n",
       "      <td>0</td>\n",
       "    </tr>\n",
       "  </tbody>\n",
       "</table>\n",
       "</div>"
      ],
      "text/plain": [
       "              vertices  neg  ne  po  m  rumor  not_rumor   v1        v2  key1  \\\n",
       "0  ('#rt', '#believe')    6   8   0  0      1         13  #rt  #believe   209   \n",
       "1  ('#rt', '#breathe')    1   2   1  0      0          4  #rt  #breathe   209   \n",
       "\n",
       "   key2  max  max_label  key1.1  key2.1  rumorprob  positive_prob  sent_group  \\\n",
       "0  1326    8          1     209    1326   0.071429       0.000000           0   \n",
       "1  1475    2          1     209    1475   0.000000       0.047619           0   \n",
       "\n",
       "   rumor_group  \n",
       "0            1  \n",
       "1            0  "
      ]
     },
     "execution_count": 676,
     "metadata": {},
     "output_type": "execute_result"
    }
   ],
   "source": [
    "dffull.head(2)"
   ]
  },
  {
   "cell_type": "code",
   "execution_count": 677,
   "metadata": {},
   "outputs": [
    {
     "data": {
      "text/plain": [
       "0.037905720720571266"
      ]
     },
     "execution_count": 677,
     "metadata": {},
     "output_type": "execute_result"
    }
   ],
   "source": [
    "LinkRumorMean=dffull['rumorprob'].mean()\n",
    "LinkRumorMean"
   ]
  },
  {
   "cell_type": "code",
   "execution_count": 678,
   "metadata": {},
   "outputs": [
    {
     "data": {
      "text/html": [
       "<div>\n",
       "<style scoped>\n",
       "    .dataframe tbody tr th:only-of-type {\n",
       "        vertical-align: middle;\n",
       "    }\n",
       "\n",
       "    .dataframe tbody tr th {\n",
       "        vertical-align: top;\n",
       "    }\n",
       "\n",
       "    .dataframe thead th {\n",
       "        text-align: right;\n",
       "    }\n",
       "</style>\n",
       "<table border=\"1\" class=\"dataframe\">\n",
       "  <thead>\n",
       "    <tr style=\"text-align: right;\">\n",
       "      <th></th>\n",
       "      <th>Unnamed: 0</th>\n",
       "      <th>vertices</th>\n",
       "      <th>neg</th>\n",
       "      <th>po</th>\n",
       "      <th>m</th>\n",
       "      <th>rumor</th>\n",
       "      <th>not_rumor</th>\n",
       "      <th>v1</th>\n",
       "      <th>v2</th>\n",
       "      <th>key1</th>\n",
       "      <th>key2</th>\n",
       "      <th>max</th>\n",
       "      <th>max_label</th>\n",
       "    </tr>\n",
       "  </thead>\n",
       "  <tbody>\n",
       "    <tr>\n",
       "      <th>0</th>\n",
       "      <td>0</td>\n",
       "      <td>('#rt', '#believe')</td>\n",
       "      <td>6</td>\n",
       "      <td>0</td>\n",
       "      <td>0</td>\n",
       "      <td>1</td>\n",
       "      <td>13</td>\n",
       "      <td>#rt</td>\n",
       "      <td>#believe</td>\n",
       "      <td>208</td>\n",
       "      <td>1325</td>\n",
       "      <td>8</td>\n",
       "      <td>1</td>\n",
       "    </tr>\n",
       "  </tbody>\n",
       "</table>\n",
       "</div>"
      ],
      "text/plain": [
       "   Unnamed: 0             vertices  neg  po  m  rumor  not_rumor   v1  \\\n",
       "0           0  ('#rt', '#believe')    6   0  0      1         13  #rt   \n",
       "\n",
       "         v2  key1  key2  max  max_label  \n",
       "0  #believe   208  1325    8          1  "
      ]
     },
     "execution_count": 678,
     "metadata": {},
     "output_type": "execute_result"
    }
   ],
   "source": [
    "dfhigh=pd.read_csv('Links_high.csv')\n",
    "dfhigh.head(1)"
   ]
  },
  {
   "cell_type": "code",
   "execution_count": 679,
   "metadata": {},
   "outputs": [],
   "source": [
    "dfhigh.drop(['key1','key2','Unnamed: 0'],axis=1,inplace=True)"
   ]
  },
  {
   "cell_type": "code",
   "execution_count": 680,
   "metadata": {},
   "outputs": [
    {
     "data": {
      "text/plain": [
       "(2074, 10)"
      ]
     },
     "execution_count": 680,
     "metadata": {},
     "output_type": "execute_result"
    }
   ],
   "source": [
    "dfhigh.shape"
   ]
  },
  {
   "cell_type": "code",
   "execution_count": 681,
   "metadata": {},
   "outputs": [
    {
     "data": {
      "text/plain": [
       "4148"
      ]
     },
     "execution_count": 681,
     "metadata": {},
     "output_type": "execute_result"
    }
   ],
   "source": [
    "l=list(dfhigh.v1)+list(dfhigh.v2)\n",
    "len(l)"
   ]
  },
  {
   "cell_type": "code",
   "execution_count": 682,
   "metadata": {},
   "outputs": [
    {
     "data": {
      "text/plain": [
       "409"
      ]
     },
     "execution_count": 682,
     "metadata": {},
     "output_type": "execute_result"
    }
   ],
   "source": [
    "s=set(l)\n",
    "l=list(s)\n",
    "len(l)"
   ]
  },
  {
   "cell_type": "code",
   "execution_count": 683,
   "metadata": {},
   "outputs": [],
   "source": [
    "dfnode=pd.DataFrame()"
   ]
  },
  {
   "cell_type": "code",
   "execution_count": 684,
   "metadata": {},
   "outputs": [],
   "source": [
    "dfnode['tag']=l"
   ]
  },
  {
   "cell_type": "code",
   "execution_count": 685,
   "metadata": {},
   "outputs": [
    {
     "data": {
      "text/plain": [
       "(409, 2)"
      ]
     },
     "execution_count": 685,
     "metadata": {},
     "output_type": "execute_result"
    }
   ],
   "source": [
    "dfnode['key']=[i for i in range(0,len(l))]\n",
    "dfnode.shape"
   ]
  },
  {
   "cell_type": "code",
   "execution_count": 686,
   "metadata": {},
   "outputs": [
    {
     "data": {
      "text/html": [
       "<div>\n",
       "<style scoped>\n",
       "    .dataframe tbody tr th:only-of-type {\n",
       "        vertical-align: middle;\n",
       "    }\n",
       "\n",
       "    .dataframe tbody tr th {\n",
       "        vertical-align: top;\n",
       "    }\n",
       "\n",
       "    .dataframe thead th {\n",
       "        text-align: right;\n",
       "    }\n",
       "</style>\n",
       "<table border=\"1\" class=\"dataframe\">\n",
       "  <thead>\n",
       "    <tr style=\"text-align: right;\">\n",
       "      <th></th>\n",
       "      <th>tag</th>\n",
       "      <th>key</th>\n",
       "    </tr>\n",
       "  </thead>\n",
       "  <tbody>\n",
       "    <tr>\n",
       "      <th>0</th>\n",
       "      <td>#everything</td>\n",
       "      <td>0</td>\n",
       "    </tr>\n",
       "  </tbody>\n",
       "</table>\n",
       "</div>"
      ],
      "text/plain": [
       "           tag  key\n",
       "0  #everything    0"
      ]
     },
     "execution_count": 686,
     "metadata": {},
     "output_type": "execute_result"
    }
   ],
   "source": [
    "dfnode.head(1)"
   ]
  },
  {
   "cell_type": "code",
   "execution_count": 687,
   "metadata": {},
   "outputs": [],
   "source": [
    "dfhigh=dfhigh.merge(dfnode,how='left',left_on='v1',right_on='tag')"
   ]
  },
  {
   "cell_type": "code",
   "execution_count": 688,
   "metadata": {},
   "outputs": [
    {
     "data": {
      "text/html": [
       "<div>\n",
       "<style scoped>\n",
       "    .dataframe tbody tr th:only-of-type {\n",
       "        vertical-align: middle;\n",
       "    }\n",
       "\n",
       "    .dataframe tbody tr th {\n",
       "        vertical-align: top;\n",
       "    }\n",
       "\n",
       "    .dataframe thead th {\n",
       "        text-align: right;\n",
       "    }\n",
       "</style>\n",
       "<table border=\"1\" class=\"dataframe\">\n",
       "  <thead>\n",
       "    <tr style=\"text-align: right;\">\n",
       "      <th></th>\n",
       "      <th>vertices</th>\n",
       "      <th>neg</th>\n",
       "      <th>po</th>\n",
       "      <th>m</th>\n",
       "      <th>rumor</th>\n",
       "      <th>not_rumor</th>\n",
       "      <th>v1</th>\n",
       "      <th>v2</th>\n",
       "      <th>max</th>\n",
       "      <th>max_label</th>\n",
       "      <th>tag</th>\n",
       "      <th>key</th>\n",
       "    </tr>\n",
       "  </thead>\n",
       "  <tbody>\n",
       "    <tr>\n",
       "      <th>0</th>\n",
       "      <td>('#rt', '#believe')</td>\n",
       "      <td>6</td>\n",
       "      <td>0</td>\n",
       "      <td>0</td>\n",
       "      <td>1</td>\n",
       "      <td>13</td>\n",
       "      <td>#rt</td>\n",
       "      <td>#believe</td>\n",
       "      <td>8</td>\n",
       "      <td>1</td>\n",
       "      <td>#rt</td>\n",
       "      <td>4</td>\n",
       "    </tr>\n",
       "  </tbody>\n",
       "</table>\n",
       "</div>"
      ],
      "text/plain": [
       "              vertices  neg  po  m  rumor  not_rumor   v1        v2  max  \\\n",
       "0  ('#rt', '#believe')    6   0  0      1         13  #rt  #believe    8   \n",
       "\n",
       "   max_label  tag  key  \n",
       "0          1  #rt    4  "
      ]
     },
     "execution_count": 688,
     "metadata": {},
     "output_type": "execute_result"
    }
   ],
   "source": [
    "dfhigh.head(1)"
   ]
  },
  {
   "cell_type": "code",
   "execution_count": 689,
   "metadata": {},
   "outputs": [
    {
     "data": {
      "text/plain": [
       "(2074, 12)"
      ]
     },
     "execution_count": 689,
     "metadata": {},
     "output_type": "execute_result"
    }
   ],
   "source": [
    "dfhigh.shape"
   ]
  },
  {
   "cell_type": "code",
   "execution_count": 690,
   "metadata": {},
   "outputs": [],
   "source": [
    "dfhigh.rename(columns={'key':'key1'},inplace=True)"
   ]
  },
  {
   "cell_type": "code",
   "execution_count": 691,
   "metadata": {},
   "outputs": [],
   "source": [
    "dfhigh=dfhigh.merge(dfnode,how='left',left_on='v2',right_on='tag')"
   ]
  },
  {
   "cell_type": "code",
   "execution_count": 692,
   "metadata": {},
   "outputs": [
    {
     "data": {
      "text/html": [
       "<div>\n",
       "<style scoped>\n",
       "    .dataframe tbody tr th:only-of-type {\n",
       "        vertical-align: middle;\n",
       "    }\n",
       "\n",
       "    .dataframe tbody tr th {\n",
       "        vertical-align: top;\n",
       "    }\n",
       "\n",
       "    .dataframe thead th {\n",
       "        text-align: right;\n",
       "    }\n",
       "</style>\n",
       "<table border=\"1\" class=\"dataframe\">\n",
       "  <thead>\n",
       "    <tr style=\"text-align: right;\">\n",
       "      <th></th>\n",
       "      <th>vertices</th>\n",
       "      <th>neg</th>\n",
       "      <th>po</th>\n",
       "      <th>m</th>\n",
       "      <th>rumor</th>\n",
       "      <th>not_rumor</th>\n",
       "      <th>v1</th>\n",
       "      <th>v2</th>\n",
       "      <th>max</th>\n",
       "      <th>max_label</th>\n",
       "      <th>tag_x</th>\n",
       "      <th>key1</th>\n",
       "      <th>tag_y</th>\n",
       "      <th>key2</th>\n",
       "    </tr>\n",
       "  </thead>\n",
       "  <tbody>\n",
       "    <tr>\n",
       "      <th>0</th>\n",
       "      <td>('#rt', '#believe')</td>\n",
       "      <td>6</td>\n",
       "      <td>0</td>\n",
       "      <td>0</td>\n",
       "      <td>1</td>\n",
       "      <td>13</td>\n",
       "      <td>#rt</td>\n",
       "      <td>#believe</td>\n",
       "      <td>8</td>\n",
       "      <td>1</td>\n",
       "      <td>#rt</td>\n",
       "      <td>4</td>\n",
       "      <td>#believe</td>\n",
       "      <td>307</td>\n",
       "    </tr>\n",
       "    <tr>\n",
       "      <th>1</th>\n",
       "      <td>('#one', '#survival')</td>\n",
       "      <td>6</td>\n",
       "      <td>0</td>\n",
       "      <td>0</td>\n",
       "      <td>1</td>\n",
       "      <td>5</td>\n",
       "      <td>#one</td>\n",
       "      <td>#survival</td>\n",
       "      <td>6</td>\n",
       "      <td>0</td>\n",
       "      <td>#one</td>\n",
       "      <td>71</td>\n",
       "      <td>#survival</td>\n",
       "      <td>17</td>\n",
       "    </tr>\n",
       "    <tr>\n",
       "      <th>2</th>\n",
       "      <td>('#rt', '#flu')</td>\n",
       "      <td>5</td>\n",
       "      <td>0</td>\n",
       "      <td>0</td>\n",
       "      <td>3</td>\n",
       "      <td>9</td>\n",
       "      <td>#rt</td>\n",
       "      <td>#flu</td>\n",
       "      <td>7</td>\n",
       "      <td>1</td>\n",
       "      <td>#rt</td>\n",
       "      <td>4</td>\n",
       "      <td>#flu</td>\n",
       "      <td>350</td>\n",
       "    </tr>\n",
       "    <tr>\n",
       "      <th>3</th>\n",
       "      <td>('#rt', '#season')</td>\n",
       "      <td>5</td>\n",
       "      <td>0</td>\n",
       "      <td>0</td>\n",
       "      <td>1</td>\n",
       "      <td>7</td>\n",
       "      <td>#rt</td>\n",
       "      <td>#season</td>\n",
       "      <td>5</td>\n",
       "      <td>0</td>\n",
       "      <td>#rt</td>\n",
       "      <td>4</td>\n",
       "      <td>#season</td>\n",
       "      <td>166</td>\n",
       "    </tr>\n",
       "    <tr>\n",
       "      <th>4</th>\n",
       "      <td>('#rt', '#corrupt')</td>\n",
       "      <td>1</td>\n",
       "      <td>0</td>\n",
       "      <td>0</td>\n",
       "      <td>1</td>\n",
       "      <td>0</td>\n",
       "      <td>#rt</td>\n",
       "      <td>#corrupt</td>\n",
       "      <td>1</td>\n",
       "      <td>0</td>\n",
       "      <td>#rt</td>\n",
       "      <td>4</td>\n",
       "      <td>#corrupt</td>\n",
       "      <td>89</td>\n",
       "    </tr>\n",
       "  </tbody>\n",
       "</table>\n",
       "</div>"
      ],
      "text/plain": [
       "                vertices  neg  po  m  rumor  not_rumor    v1         v2  max  \\\n",
       "0    ('#rt', '#believe')    6   0  0      1         13   #rt   #believe    8   \n",
       "1  ('#one', '#survival')    6   0  0      1          5  #one  #survival    6   \n",
       "2        ('#rt', '#flu')    5   0  0      3          9   #rt       #flu    7   \n",
       "3     ('#rt', '#season')    5   0  0      1          7   #rt    #season    5   \n",
       "4    ('#rt', '#corrupt')    1   0  0      1          0   #rt   #corrupt    1   \n",
       "\n",
       "   max_label tag_x  key1      tag_y  key2  \n",
       "0          1   #rt     4   #believe   307  \n",
       "1          0  #one    71  #survival    17  \n",
       "2          1   #rt     4       #flu   350  \n",
       "3          0   #rt     4    #season   166  \n",
       "4          0   #rt     4   #corrupt    89  "
      ]
     },
     "execution_count": 692,
     "metadata": {},
     "output_type": "execute_result"
    }
   ],
   "source": [
    "dfhigh.rename(columns={'key':'key2'},inplace=True)\n",
    "dfhigh.head(5)"
   ]
  },
  {
   "cell_type": "code",
   "execution_count": 693,
   "metadata": {},
   "outputs": [],
   "source": [
    "dfhigh.drop(['tag_x','tag_y'],axis=1,inplace=True)"
   ]
  },
  {
   "cell_type": "code",
   "execution_count": 694,
   "metadata": {},
   "outputs": [],
   "source": [
    "dfhigh['rumorprob']=dfhigh['rumor']/(dfhigh['rumor']+dfhigh['not_rumor'])"
   ]
  },
  {
   "cell_type": "code",
   "execution_count": 695,
   "metadata": {},
   "outputs": [],
   "source": [
    "dfhigh['rumor_group']=dfhigh['rumorprob'].apply(lambda x: rumor_group(x))\n",
    "dfhigh.reset_index(inplace=True)"
   ]
  },
  {
   "cell_type": "code",
   "execution_count": 696,
   "metadata": {},
   "outputs": [],
   "source": [
    "#Set Colors for links. for forcenetworkD3 graphing later.\n",
    "import pandas as pd\n",
    "dfLinks_highrumor=pd.read_csv('dfhigh.csv')\n",
    "def getcolor(rprob):\n",
    "    if rprob>0.5:\n",
    "        return 'hotpink'\n",
    "    else:\n",
    "        return'lightblue'\n",
    "dfhigh['color']=dfhigh['rumorprob'].apply(lambda x:getcolor(x))"
   ]
  },
  {
   "cell_type": "code",
   "execution_count": 697,
   "metadata": {
    "scrolled": true
   },
   "outputs": [
    {
     "data": {
      "text/html": [
       "<div>\n",
       "<style scoped>\n",
       "    .dataframe tbody tr th:only-of-type {\n",
       "        vertical-align: middle;\n",
       "    }\n",
       "\n",
       "    .dataframe tbody tr th {\n",
       "        vertical-align: top;\n",
       "    }\n",
       "\n",
       "    .dataframe thead th {\n",
       "        text-align: right;\n",
       "    }\n",
       "</style>\n",
       "<table border=\"1\" class=\"dataframe\">\n",
       "  <thead>\n",
       "    <tr style=\"text-align: right;\">\n",
       "      <th></th>\n",
       "      <th>index</th>\n",
       "      <th>vertices</th>\n",
       "      <th>neg</th>\n",
       "      <th>po</th>\n",
       "      <th>m</th>\n",
       "      <th>rumor</th>\n",
       "      <th>not_rumor</th>\n",
       "      <th>v1</th>\n",
       "      <th>v2</th>\n",
       "      <th>max</th>\n",
       "      <th>max_label</th>\n",
       "      <th>key1</th>\n",
       "      <th>key2</th>\n",
       "      <th>rumorprob</th>\n",
       "      <th>rumor_group</th>\n",
       "      <th>color</th>\n",
       "    </tr>\n",
       "  </thead>\n",
       "  <tbody>\n",
       "    <tr>\n",
       "      <th>0</th>\n",
       "      <td>0</td>\n",
       "      <td>('#rt', '#believe')</td>\n",
       "      <td>6</td>\n",
       "      <td>0</td>\n",
       "      <td>0</td>\n",
       "      <td>1</td>\n",
       "      <td>13</td>\n",
       "      <td>#rt</td>\n",
       "      <td>#believe</td>\n",
       "      <td>8</td>\n",
       "      <td>1</td>\n",
       "      <td>4</td>\n",
       "      <td>307</td>\n",
       "      <td>0.071429</td>\n",
       "      <td>1</td>\n",
       "      <td>lightblue</td>\n",
       "    </tr>\n",
       "    <tr>\n",
       "      <th>1</th>\n",
       "      <td>1</td>\n",
       "      <td>('#one', '#survival')</td>\n",
       "      <td>6</td>\n",
       "      <td>0</td>\n",
       "      <td>0</td>\n",
       "      <td>1</td>\n",
       "      <td>5</td>\n",
       "      <td>#one</td>\n",
       "      <td>#survival</td>\n",
       "      <td>6</td>\n",
       "      <td>0</td>\n",
       "      <td>71</td>\n",
       "      <td>17</td>\n",
       "      <td>0.166667</td>\n",
       "      <td>1</td>\n",
       "      <td>lightblue</td>\n",
       "    </tr>\n",
       "  </tbody>\n",
       "</table>\n",
       "</div>"
      ],
      "text/plain": [
       "   index               vertices  neg  po  m  rumor  not_rumor    v1  \\\n",
       "0      0    ('#rt', '#believe')    6   0  0      1         13   #rt   \n",
       "1      1  ('#one', '#survival')    6   0  0      1          5  #one   \n",
       "\n",
       "          v2  max  max_label  key1  key2  rumorprob  rumor_group      color  \n",
       "0   #believe    8          1     4   307   0.071429            1  lightblue  \n",
       "1  #survival    6          0    71    17   0.166667            1  lightblue  "
      ]
     },
     "execution_count": 697,
     "metadata": {},
     "output_type": "execute_result"
    }
   ],
   "source": [
    "dfhigh.head(2)"
   ]
  },
  {
   "cell_type": "code",
   "execution_count": 698,
   "metadata": {},
   "outputs": [],
   "source": [
    "dffullnode=pd.read_csv('nodeInfo2.csv')"
   ]
  },
  {
   "cell_type": "code",
   "execution_count": 699,
   "metadata": {},
   "outputs": [],
   "source": [
    "dffullnode.rename(columns={'Unnamed: 0':'tag'},inplace=True)"
   ]
  },
  {
   "cell_type": "code",
   "execution_count": 700,
   "metadata": {},
   "outputs": [
    {
     "data": {
      "text/html": [
       "<div>\n",
       "<style scoped>\n",
       "    .dataframe tbody tr th:only-of-type {\n",
       "        vertical-align: middle;\n",
       "    }\n",
       "\n",
       "    .dataframe tbody tr th {\n",
       "        vertical-align: top;\n",
       "    }\n",
       "\n",
       "    .dataframe thead th {\n",
       "        text-align: right;\n",
       "    }\n",
       "</style>\n",
       "<table border=\"1\" class=\"dataframe\">\n",
       "  <thead>\n",
       "    <tr style=\"text-align: right;\">\n",
       "      <th></th>\n",
       "      <th>tag</th>\n",
       "      <th>tag</th>\n",
       "      <th>tag.1</th>\n",
       "      <th>neg</th>\n",
       "      <th>ne</th>\n",
       "      <th>po</th>\n",
       "      <th>m</th>\n",
       "      <th>rumor</th>\n",
       "      <th>not_rumor</th>\n",
       "      <th>rumorprob</th>\n",
       "      <th>rumor_group</th>\n",
       "    </tr>\n",
       "  </thead>\n",
       "  <tbody>\n",
       "    <tr>\n",
       "      <th>0</th>\n",
       "      <td>0</td>\n",
       "      <td>0</td>\n",
       "      <td>#rt</td>\n",
       "      <td>1634</td>\n",
       "      <td>1764</td>\n",
       "      <td>237</td>\n",
       "      <td>4</td>\n",
       "      <td>71</td>\n",
       "      <td>3568</td>\n",
       "      <td>0.019511</td>\n",
       "      <td>0</td>\n",
       "    </tr>\n",
       "  </tbody>\n",
       "</table>\n",
       "</div>"
      ],
      "text/plain": [
       "   tag  tag tag.1   neg    ne   po  m  rumor  not_rumor  rumorprob  \\\n",
       "0    0    0   #rt  1634  1764  237  4     71       3568   0.019511   \n",
       "\n",
       "   rumor_group  \n",
       "0            0  "
      ]
     },
     "execution_count": 700,
     "metadata": {},
     "output_type": "execute_result"
    }
   ],
   "source": [
    "dffullnode['rumorprob']=dffullnode['rumor']/(dffullnode['rumor']+dffullnode['not_rumor'])\n",
    "dffullnode.head(1)"
   ]
  },
  {
   "cell_type": "code",
   "execution_count": 701,
   "metadata": {},
   "outputs": [
    {
     "data": {
      "text/plain": [
       "0.03691432435683804"
      ]
     },
     "execution_count": 701,
     "metadata": {},
     "output_type": "execute_result"
    }
   ],
   "source": [
    "NodeRumorMean=dffullnode['rumorprob'].mean()\n",
    "NodeRumorMean #Mean rumor prob of all nodes in dataset."
   ]
  },
  {
   "cell_type": "code",
   "execution_count": 702,
   "metadata": {},
   "outputs": [],
   "source": [
    "dffullnode['positive_prob']=dffullnode['po']/(dffullnode['po']+dffullnode['neg']+dffullnode['m'])"
   ]
  },
  {
   "cell_type": "code",
   "execution_count": 703,
   "metadata": {},
   "outputs": [
    {
     "data": {
      "text/plain": [
       "0.2284587620880507"
      ]
     },
     "execution_count": 703,
     "metadata": {},
     "output_type": "execute_result"
    }
   ],
   "source": [
    "NodePoMean=dffullnode['positive_prob'].mean()\n",
    "NodePoMean"
   ]
  },
  {
   "cell_type": "code",
   "execution_count": 704,
   "metadata": {},
   "outputs": [],
   "source": [
    "dffullnode['sent_group']=dffullnode['positive_prob'].apply(lambda x:node_rumor_group(x))"
   ]
  },
  {
   "cell_type": "code",
   "execution_count": 705,
   "metadata": {},
   "outputs": [],
   "source": [
    "def node_rumor_group(rumor_prob):\n",
    "    if rumor_prob>NodeRumorMean:\n",
    "        return 1  # high rumor prob\n",
    "    else:\n",
    "        return 0  # low rumor prob"
   ]
  },
  {
   "cell_type": "code",
   "execution_count": 706,
   "metadata": {},
   "outputs": [],
   "source": [
    "dffullnode['rumor_group']=dffullnode['rumorprob'].apply(lambda x:node_rumor_group(x))"
   ]
  },
  {
   "cell_type": "code",
   "execution_count": 707,
   "metadata": {
    "scrolled": true
   },
   "outputs": [
    {
     "data": {
      "text/html": [
       "<div>\n",
       "<style scoped>\n",
       "    .dataframe tbody tr th:only-of-type {\n",
       "        vertical-align: middle;\n",
       "    }\n",
       "\n",
       "    .dataframe tbody tr th {\n",
       "        vertical-align: top;\n",
       "    }\n",
       "\n",
       "    .dataframe thead th {\n",
       "        text-align: right;\n",
       "    }\n",
       "</style>\n",
       "<table border=\"1\" class=\"dataframe\">\n",
       "  <thead>\n",
       "    <tr style=\"text-align: right;\">\n",
       "      <th></th>\n",
       "      <th>tag</th>\n",
       "      <th>tag</th>\n",
       "      <th>tag.1</th>\n",
       "      <th>neg</th>\n",
       "      <th>ne</th>\n",
       "      <th>po</th>\n",
       "      <th>m</th>\n",
       "      <th>rumor</th>\n",
       "      <th>not_rumor</th>\n",
       "      <th>rumorprob</th>\n",
       "      <th>rumor_group</th>\n",
       "      <th>positive_prob</th>\n",
       "      <th>sent_group</th>\n",
       "    </tr>\n",
       "  </thead>\n",
       "  <tbody>\n",
       "    <tr>\n",
       "      <th>0</th>\n",
       "      <td>0</td>\n",
       "      <td>0</td>\n",
       "      <td>#rt</td>\n",
       "      <td>1634</td>\n",
       "      <td>1764</td>\n",
       "      <td>237</td>\n",
       "      <td>4</td>\n",
       "      <td>71</td>\n",
       "      <td>3568</td>\n",
       "      <td>0.019511</td>\n",
       "      <td>0</td>\n",
       "      <td>0.1264</td>\n",
       "      <td>1</td>\n",
       "    </tr>\n",
       "  </tbody>\n",
       "</table>\n",
       "</div>"
      ],
      "text/plain": [
       "   tag  tag tag.1   neg    ne   po  m  rumor  not_rumor  rumorprob  \\\n",
       "0    0    0   #rt  1634  1764  237  4     71       3568   0.019511   \n",
       "\n",
       "   rumor_group  positive_prob  sent_group  \n",
       "0            0         0.1264           1  "
      ]
     },
     "execution_count": 707,
     "metadata": {},
     "output_type": "execute_result"
    }
   ],
   "source": [
    "dffullnode.head(1)"
   ]
  },
  {
   "cell_type": "code",
   "execution_count": 708,
   "metadata": {
    "scrolled": true
   },
   "outputs": [],
   "source": [
    "dfnode =dfnode.merge(dffullnode, how='left',left_on='tag',right_on='tag.1')"
   ]
  },
  {
   "cell_type": "code",
   "execution_count": 709,
   "metadata": {},
   "outputs": [
    {
     "data": {
      "text/html": [
       "<div>\n",
       "<style scoped>\n",
       "    .dataframe tbody tr th:only-of-type {\n",
       "        vertical-align: middle;\n",
       "    }\n",
       "\n",
       "    .dataframe tbody tr th {\n",
       "        vertical-align: top;\n",
       "    }\n",
       "\n",
       "    .dataframe thead th {\n",
       "        text-align: right;\n",
       "    }\n",
       "</style>\n",
       "<table border=\"1\" class=\"dataframe\">\n",
       "  <thead>\n",
       "    <tr style=\"text-align: right;\">\n",
       "      <th></th>\n",
       "      <th>tag_x</th>\n",
       "      <th>key</th>\n",
       "      <th>tag_y</th>\n",
       "      <th>tag_y</th>\n",
       "      <th>tag.1</th>\n",
       "      <th>neg</th>\n",
       "      <th>ne</th>\n",
       "      <th>po</th>\n",
       "      <th>m</th>\n",
       "      <th>rumor</th>\n",
       "      <th>not_rumor</th>\n",
       "      <th>rumorprob</th>\n",
       "      <th>rumor_group</th>\n",
       "      <th>positive_prob</th>\n",
       "      <th>sent_group</th>\n",
       "    </tr>\n",
       "  </thead>\n",
       "  <tbody>\n",
       "    <tr>\n",
       "      <th>0</th>\n",
       "      <td>#everything</td>\n",
       "      <td>0</td>\n",
       "      <td>569</td>\n",
       "      <td>569</td>\n",
       "      <td>#everything</td>\n",
       "      <td>13</td>\n",
       "      <td>3</td>\n",
       "      <td>2</td>\n",
       "      <td>1</td>\n",
       "      <td>2</td>\n",
       "      <td>17</td>\n",
       "      <td>0.105263</td>\n",
       "      <td>1</td>\n",
       "      <td>0.125</td>\n",
       "      <td>1</td>\n",
       "    </tr>\n",
       "  </tbody>\n",
       "</table>\n",
       "</div>"
      ],
      "text/plain": [
       "         tag_x  key  tag_y  tag_y        tag.1  neg  ne  po  m  rumor  \\\n",
       "0  #everything    0    569    569  #everything   13   3   2  1      2   \n",
       "\n",
       "   not_rumor  rumorprob  rumor_group  positive_prob  sent_group  \n",
       "0         17   0.105263            1          0.125           1  "
      ]
     },
     "execution_count": 709,
     "metadata": {},
     "output_type": "execute_result"
    }
   ],
   "source": [
    "dfnode.head(1)"
   ]
  },
  {
   "cell_type": "code",
   "execution_count": 710,
   "metadata": {},
   "outputs": [],
   "source": [
    "dfnode.drop(['tag_x','tag_y'],axis=1,inplace=True)"
   ]
  },
  {
   "cell_type": "code",
   "execution_count": 711,
   "metadata": {},
   "outputs": [],
   "source": [
    "dfnode.rename(columns={'tag.1':'tag'},inplace=True)"
   ]
  },
  {
   "cell_type": "code",
   "execution_count": 712,
   "metadata": {},
   "outputs": [
    {
     "data": {
      "text/html": [
       "<div>\n",
       "<style scoped>\n",
       "    .dataframe tbody tr th:only-of-type {\n",
       "        vertical-align: middle;\n",
       "    }\n",
       "\n",
       "    .dataframe tbody tr th {\n",
       "        vertical-align: top;\n",
       "    }\n",
       "\n",
       "    .dataframe thead th {\n",
       "        text-align: right;\n",
       "    }\n",
       "</style>\n",
       "<table border=\"1\" class=\"dataframe\">\n",
       "  <thead>\n",
       "    <tr style=\"text-align: right;\">\n",
       "      <th></th>\n",
       "      <th>key</th>\n",
       "      <th>tag</th>\n",
       "      <th>neg</th>\n",
       "      <th>ne</th>\n",
       "      <th>po</th>\n",
       "      <th>m</th>\n",
       "      <th>rumor</th>\n",
       "      <th>not_rumor</th>\n",
       "      <th>rumorprob</th>\n",
       "      <th>rumor_group</th>\n",
       "      <th>positive_prob</th>\n",
       "      <th>sent_group</th>\n",
       "    </tr>\n",
       "  </thead>\n",
       "  <tbody>\n",
       "    <tr>\n",
       "      <th>0</th>\n",
       "      <td>0</td>\n",
       "      <td>#everything</td>\n",
       "      <td>13</td>\n",
       "      <td>3</td>\n",
       "      <td>2</td>\n",
       "      <td>1</td>\n",
       "      <td>2</td>\n",
       "      <td>17</td>\n",
       "      <td>0.105263</td>\n",
       "      <td>1</td>\n",
       "      <td>0.125</td>\n",
       "      <td>1</td>\n",
       "    </tr>\n",
       "  </tbody>\n",
       "</table>\n",
       "</div>"
      ],
      "text/plain": [
       "   key          tag  neg  ne  po  m  rumor  not_rumor  rumorprob  rumor_group  \\\n",
       "0    0  #everything   13   3   2  1      2         17   0.105263            1   \n",
       "\n",
       "   positive_prob  sent_group  \n",
       "0          0.125           1  "
      ]
     },
     "execution_count": 712,
     "metadata": {},
     "output_type": "execute_result"
    }
   ],
   "source": [
    "dfnode.head(1)"
   ]
  },
  {
   "cell_type": "code",
   "execution_count": 713,
   "metadata": {},
   "outputs": [],
   "source": [
    "dfhigh.to_csv('dfhigh.csv')"
   ]
  },
  {
   "cell_type": "code",
   "execution_count": 714,
   "metadata": {},
   "outputs": [],
   "source": [
    "dfnode.to_csv('dfnode.csv')"
   ]
  },
  {
   "cell_type": "code",
   "execution_count": 715,
   "metadata": {},
   "outputs": [],
   "source": [
    "dffullnode.to_csv('nodeInfo3.csv')"
   ]
  },
  {
   "cell_type": "code",
   "execution_count": 716,
   "metadata": {},
   "outputs": [],
   "source": [
    "dff=pd.read_csv('nodeInfo3.csv')"
   ]
  },
  {
   "cell_type": "code",
   "execution_count": 717,
   "metadata": {},
   "outputs": [
    {
     "data": {
      "text/html": [
       "<div>\n",
       "<style scoped>\n",
       "    .dataframe tbody tr th:only-of-type {\n",
       "        vertical-align: middle;\n",
       "    }\n",
       "\n",
       "    .dataframe tbody tr th {\n",
       "        vertical-align: top;\n",
       "    }\n",
       "\n",
       "    .dataframe thead th {\n",
       "        text-align: right;\n",
       "    }\n",
       "</style>\n",
       "<table border=\"1\" class=\"dataframe\">\n",
       "  <thead>\n",
       "    <tr style=\"text-align: right;\">\n",
       "      <th></th>\n",
       "      <th>Unnamed: 0</th>\n",
       "      <th>tag</th>\n",
       "      <th>tag.1</th>\n",
       "      <th>tag.1.1</th>\n",
       "      <th>neg</th>\n",
       "      <th>ne</th>\n",
       "      <th>po</th>\n",
       "      <th>m</th>\n",
       "      <th>rumor</th>\n",
       "      <th>not_rumor</th>\n",
       "      <th>rumorprob</th>\n",
       "      <th>rumor_group</th>\n",
       "      <th>positive_prob</th>\n",
       "      <th>sent_group</th>\n",
       "    </tr>\n",
       "  </thead>\n",
       "  <tbody>\n",
       "    <tr>\n",
       "      <th>0</th>\n",
       "      <td>0</td>\n",
       "      <td>0</td>\n",
       "      <td>0</td>\n",
       "      <td>#rt</td>\n",
       "      <td>1634</td>\n",
       "      <td>1764</td>\n",
       "      <td>237</td>\n",
       "      <td>4</td>\n",
       "      <td>71</td>\n",
       "      <td>3568</td>\n",
       "      <td>0.019511</td>\n",
       "      <td>0</td>\n",
       "      <td>0.1264</td>\n",
       "      <td>1</td>\n",
       "    </tr>\n",
       "    <tr>\n",
       "      <th>1</th>\n",
       "      <td>1</td>\n",
       "      <td>1</td>\n",
       "      <td>1</td>\n",
       "      <td>#believe</td>\n",
       "      <td>21</td>\n",
       "      <td>19</td>\n",
       "      <td>3</td>\n",
       "      <td>0</td>\n",
       "      <td>5</td>\n",
       "      <td>38</td>\n",
       "      <td>0.116279</td>\n",
       "      <td>1</td>\n",
       "      <td>0.1250</td>\n",
       "      <td>1</td>\n",
       "    </tr>\n",
       "    <tr>\n",
       "      <th>2</th>\n",
       "      <td>2</td>\n",
       "      <td>2</td>\n",
       "      <td>2</td>\n",
       "      <td>#breathe</td>\n",
       "      <td>2</td>\n",
       "      <td>3</td>\n",
       "      <td>2</td>\n",
       "      <td>0</td>\n",
       "      <td>0</td>\n",
       "      <td>7</td>\n",
       "      <td>0.000000</td>\n",
       "      <td>0</td>\n",
       "      <td>0.5000</td>\n",
       "      <td>1</td>\n",
       "    </tr>\n",
       "    <tr>\n",
       "      <th>3</th>\n",
       "      <td>3</td>\n",
       "      <td>3</td>\n",
       "      <td>3</td>\n",
       "      <td>#mind</td>\n",
       "      <td>1</td>\n",
       "      <td>4</td>\n",
       "      <td>0</td>\n",
       "      <td>0</td>\n",
       "      <td>0</td>\n",
       "      <td>5</td>\n",
       "      <td>0.000000</td>\n",
       "      <td>0</td>\n",
       "      <td>0.0000</td>\n",
       "      <td>0</td>\n",
       "    </tr>\n",
       "    <tr>\n",
       "      <th>4</th>\n",
       "      <td>4</td>\n",
       "      <td>4</td>\n",
       "      <td>4</td>\n",
       "      <td>#learning</td>\n",
       "      <td>3</td>\n",
       "      <td>14</td>\n",
       "      <td>1</td>\n",
       "      <td>0</td>\n",
       "      <td>1</td>\n",
       "      <td>17</td>\n",
       "      <td>0.055556</td>\n",
       "      <td>1</td>\n",
       "      <td>0.2500</td>\n",
       "      <td>1</td>\n",
       "    </tr>\n",
       "  </tbody>\n",
       "</table>\n",
       "</div>"
      ],
      "text/plain": [
       "   Unnamed: 0  tag  tag.1    tag.1.1   neg    ne   po  m  rumor  not_rumor  \\\n",
       "0           0    0      0        #rt  1634  1764  237  4     71       3568   \n",
       "1           1    1      1   #believe    21    19    3  0      5         38   \n",
       "2           2    2      2   #breathe     2     3    2  0      0          7   \n",
       "3           3    3      3      #mind     1     4    0  0      0          5   \n",
       "4           4    4      4  #learning     3    14    1  0      1         17   \n",
       "\n",
       "   rumorprob  rumor_group  positive_prob  sent_group  \n",
       "0   0.019511            0         0.1264           1  \n",
       "1   0.116279            1         0.1250           1  \n",
       "2   0.000000            0         0.5000           1  \n",
       "3   0.000000            0         0.0000           0  \n",
       "4   0.055556            1         0.2500           1  "
      ]
     },
     "execution_count": 717,
     "metadata": {},
     "output_type": "execute_result"
    }
   ],
   "source": [
    "dff.head()"
   ]
  },
  {
   "cell_type": "code",
   "execution_count": 718,
   "metadata": {},
   "outputs": [],
   "source": [
    "dff=dff[['tag.1.1','neg','ne','po','m','rumor','not_rumor','rumorprob','rumor_group','positive_prob','sent_group']]"
   ]
  },
  {
   "cell_type": "code",
   "execution_count": 719,
   "metadata": {
    "scrolled": true
   },
   "outputs": [],
   "source": [
    "dff.rename(columns={'tag.1.1':'tag'},inplace=True)"
   ]
  },
  {
   "cell_type": "code",
   "execution_count": 720,
   "metadata": {},
   "outputs": [
    {
     "data": {
      "text/html": [
       "<div>\n",
       "<style scoped>\n",
       "    .dataframe tbody tr th:only-of-type {\n",
       "        vertical-align: middle;\n",
       "    }\n",
       "\n",
       "    .dataframe tbody tr th {\n",
       "        vertical-align: top;\n",
       "    }\n",
       "\n",
       "    .dataframe thead th {\n",
       "        text-align: right;\n",
       "    }\n",
       "</style>\n",
       "<table border=\"1\" class=\"dataframe\">\n",
       "  <thead>\n",
       "    <tr style=\"text-align: right;\">\n",
       "      <th></th>\n",
       "      <th>tag</th>\n",
       "      <th>neg</th>\n",
       "      <th>ne</th>\n",
       "      <th>po</th>\n",
       "      <th>m</th>\n",
       "      <th>rumor</th>\n",
       "      <th>not_rumor</th>\n",
       "      <th>rumorprob</th>\n",
       "      <th>rumor_group</th>\n",
       "      <th>positive_prob</th>\n",
       "      <th>sent_group</th>\n",
       "    </tr>\n",
       "  </thead>\n",
       "  <tbody>\n",
       "    <tr>\n",
       "      <th>0</th>\n",
       "      <td>#rt</td>\n",
       "      <td>1634</td>\n",
       "      <td>1764</td>\n",
       "      <td>237</td>\n",
       "      <td>4</td>\n",
       "      <td>71</td>\n",
       "      <td>3568</td>\n",
       "      <td>0.019511</td>\n",
       "      <td>0</td>\n",
       "      <td>0.1264</td>\n",
       "      <td>1</td>\n",
       "    </tr>\n",
       "  </tbody>\n",
       "</table>\n",
       "</div>"
      ],
      "text/plain": [
       "   tag   neg    ne   po  m  rumor  not_rumor  rumorprob  rumor_group  \\\n",
       "0  #rt  1634  1764  237  4     71       3568   0.019511            0   \n",
       "\n",
       "   positive_prob  sent_group  \n",
       "0         0.1264           1  "
      ]
     },
     "execution_count": 720,
     "metadata": {},
     "output_type": "execute_result"
    }
   ],
   "source": [
    "dff.head(1)"
   ]
  },
  {
   "cell_type": "code",
   "execution_count": 721,
   "metadata": {},
   "outputs": [],
   "source": [
    "dff.to_csv('nodeInfo_wgroups.csv')"
   ]
  },
  {
   "cell_type": "code",
   "execution_count": 722,
   "metadata": {},
   "outputs": [],
   "source": [
    "dffull.to_csv('linkInfo_wgroups.csv')"
   ]
  }
 ],
 "metadata": {
  "kernelspec": {
   "display_name": "conda_python3",
   "language": "python",
   "name": "conda_python3"
  },
  "language_info": {
   "codemirror_mode": {
    "name": "ipython",
    "version": 3
   },
   "file_extension": ".py",
   "mimetype": "text/x-python",
   "name": "python",
   "nbconvert_exporter": "python",
   "pygments_lexer": "ipython3",
   "version": "3.6.10"
  }
 },
 "nbformat": 4,
 "nbformat_minor": 4
}
