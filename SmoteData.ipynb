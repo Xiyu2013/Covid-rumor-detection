{
 "cells": [
  {
   "cell_type": "code",
   "execution_count": 2,
   "metadata": {},
   "outputs": [
    {
     "name": "stdout",
     "output_type": "stream",
     "text": [
      "Collecting torchtext\n",
      "  Downloading torchtext-0.8.0-cp36-cp36m-manylinux1_x86_64.whl (6.9 MB)\n",
      "\u001b[K     |████████████████████████████████| 6.9 MB 20.4 MB/s eta 0:00:01\n",
      "\u001b[?25hRequirement already satisfied: numpy in /home/ec2-user/anaconda3/envs/pytorch_latest_p36/lib/python3.6/site-packages (from torchtext) (1.18.1)\n",
      "Requirement already satisfied: tqdm in /home/ec2-user/anaconda3/envs/pytorch_latest_p36/lib/python3.6/site-packages (from torchtext) (4.42.1)\n",
      "Requirement already satisfied: requests in /home/ec2-user/anaconda3/envs/pytorch_latest_p36/lib/python3.6/site-packages (from torchtext) (2.22.0)\n",
      "Requirement already satisfied: torch in /home/ec2-user/anaconda3/envs/pytorch_latest_p36/lib/python3.6/site-packages (from torchtext) (1.7.0)\n",
      "Requirement already satisfied: chardet<3.1.0,>=3.0.2 in /home/ec2-user/anaconda3/envs/pytorch_latest_p36/lib/python3.6/site-packages (from requests->torchtext) (3.0.4)\n",
      "Requirement already satisfied: urllib3!=1.25.0,!=1.25.1,<1.26,>=1.21.1 in /home/ec2-user/anaconda3/envs/pytorch_latest_p36/lib/python3.6/site-packages (from requests->torchtext) (1.25.10)\n",
      "Requirement already satisfied: idna<2.9,>=2.5 in /home/ec2-user/anaconda3/envs/pytorch_latest_p36/lib/python3.6/site-packages (from requests->torchtext) (2.8)\n",
      "Requirement already satisfied: certifi>=2017.4.17 in /home/ec2-user/anaconda3/envs/pytorch_latest_p36/lib/python3.6/site-packages (from requests->torchtext) (2020.6.20)\n",
      "Requirement already satisfied: future in /home/ec2-user/anaconda3/envs/pytorch_latest_p36/lib/python3.6/site-packages (from torch->torchtext) (0.18.2)\n",
      "Requirement already satisfied: typing_extensions in /home/ec2-user/anaconda3/envs/pytorch_latest_p36/lib/python3.6/site-packages (from torch->torchtext) (3.7.4.3)\n",
      "Requirement already satisfied: dataclasses in /home/ec2-user/anaconda3/envs/pytorch_latest_p36/lib/python3.6/site-packages (from torch->torchtext) (0.7)\n",
      "Installing collected packages: torchtext\n",
      "Successfully installed torchtext-0.8.0\n",
      "\u001b[33mWARNING: You are using pip version 20.0.2; however, version 20.3.1 is available.\n",
      "You should consider upgrading via the '/home/ec2-user/anaconda3/envs/pytorch_latest_p36/bin/python -m pip install --upgrade pip' command.\u001b[0m\n",
      "Collecting dgl\n",
      "  Downloading dgl-0.5.3-cp36-cp36m-manylinux1_x86_64.whl (3.6 MB)\n",
      "\u001b[K     |████████████████████████████████| 3.6 MB 17.8 MB/s eta 0:00:01\n",
      "\u001b[?25hRequirement already satisfied: requests>=2.19.0 in /home/ec2-user/anaconda3/envs/pytorch_latest_p36/lib/python3.6/site-packages (from dgl) (2.22.0)\n",
      "Requirement already satisfied: scipy>=1.1.0 in /home/ec2-user/anaconda3/envs/pytorch_latest_p36/lib/python3.6/site-packages (from dgl) (1.4.1)\n",
      "Requirement already satisfied: networkx>=2.1 in /home/ec2-user/anaconda3/envs/pytorch_latest_p36/lib/python3.6/site-packages (from dgl) (2.4)\n",
      "Requirement already satisfied: numpy>=1.14.0 in /home/ec2-user/anaconda3/envs/pytorch_latest_p36/lib/python3.6/site-packages (from dgl) (1.18.1)\n",
      "Requirement already satisfied: idna<2.9,>=2.5 in /home/ec2-user/anaconda3/envs/pytorch_latest_p36/lib/python3.6/site-packages (from requests>=2.19.0->dgl) (2.8)\n",
      "Requirement already satisfied: certifi>=2017.4.17 in /home/ec2-user/anaconda3/envs/pytorch_latest_p36/lib/python3.6/site-packages (from requests>=2.19.0->dgl) (2020.6.20)\n",
      "Requirement already satisfied: urllib3!=1.25.0,!=1.25.1,<1.26,>=1.21.1 in /home/ec2-user/anaconda3/envs/pytorch_latest_p36/lib/python3.6/site-packages (from requests>=2.19.0->dgl) (1.25.10)\n",
      "Requirement already satisfied: chardet<3.1.0,>=3.0.2 in /home/ec2-user/anaconda3/envs/pytorch_latest_p36/lib/python3.6/site-packages (from requests>=2.19.0->dgl) (3.0.4)\n",
      "Requirement already satisfied: decorator>=4.3.0 in /home/ec2-user/anaconda3/envs/pytorch_latest_p36/lib/python3.6/site-packages (from networkx>=2.1->dgl) (4.4.1)\n",
      "Installing collected packages: dgl\n",
      "Successfully installed dgl-0.5.3\n",
      "\u001b[33mWARNING: You are using pip version 20.0.2; however, version 20.3.1 is available.\n",
      "You should consider upgrading via the '/home/ec2-user/anaconda3/envs/pytorch_latest_p36/bin/python -m pip install --upgrade pip' command.\u001b[0m\n"
     ]
    },
    {
     "name": "stderr",
     "output_type": "stream",
     "text": [
      "DGL backend not selected or invalid.  Assuming PyTorch for now.\n",
      "Using backend: pytorch\n"
     ]
    },
    {
     "name": "stdout",
     "output_type": "stream",
     "text": [
      "Setting the default backend to \"pytorch\". You can change it in the ~/.dgl/config.json file or export the DGLBACKEND environment variable.  Valid options are: pytorch, mxnet, tensorflow (all lowercase)\n"
     ]
    }
   ],
   "source": [
    "!pip install torchtext\n",
    "!pip install dgl\n",
    "\n",
    "from IPython.core.interactiveshell import InteractiveShell\n",
    "InteractiveShell.ast_node_interactivity = \"all\"\n",
    "\n",
    "import pandas as pd\n",
    "\n",
    "pd.set_option('display.max_rows', 30000)\n",
    "pd.set_option('display.max_columns', 300)\n",
    "\n",
    "import torch\n",
    "import torchtext\n",
    "\n",
    "import dgl"
   ]
  },
  {
   "cell_type": "code",
   "execution_count": 3,
   "metadata": {},
   "outputs": [],
   "source": [
    "dflink=pd.read_csv('fulldfR.csv')"
   ]
  },
  {
   "cell_type": "code",
   "execution_count": 4,
   "metadata": {},
   "outputs": [],
   "source": [
    "dfnode=pd.read_csv('nodeInfo.csv')"
   ]
  },
  {
   "cell_type": "code",
   "execution_count": 5,
   "metadata": {},
   "outputs": [
    {
     "data": {
      "text/html": [
       "<div>\n",
       "<style scoped>\n",
       "    .dataframe tbody tr th:only-of-type {\n",
       "        vertical-align: middle;\n",
       "    }\n",
       "\n",
       "    .dataframe tbody tr th {\n",
       "        vertical-align: top;\n",
       "    }\n",
       "\n",
       "    .dataframe thead th {\n",
       "        text-align: right;\n",
       "    }\n",
       "</style>\n",
       "<table border=\"1\" class=\"dataframe\">\n",
       "  <thead>\n",
       "    <tr style=\"text-align: right;\">\n",
       "      <th></th>\n",
       "      <th>vertices</th>\n",
       "      <th>neg</th>\n",
       "      <th>ne</th>\n",
       "      <th>po</th>\n",
       "      <th>m</th>\n",
       "      <th>rumor</th>\n",
       "      <th>not_rumor</th>\n",
       "      <th>v1</th>\n",
       "      <th>v2</th>\n",
       "      <th>key1</th>\n",
       "      <th>key2</th>\n",
       "      <th>max</th>\n",
       "      <th>max_label</th>\n",
       "    </tr>\n",
       "  </thead>\n",
       "  <tbody>\n",
       "    <tr>\n",
       "      <th>0</th>\n",
       "      <td>('#rt', '#believe')</td>\n",
       "      <td>6</td>\n",
       "      <td>8</td>\n",
       "      <td>0</td>\n",
       "      <td>0</td>\n",
       "      <td>1</td>\n",
       "      <td>13</td>\n",
       "      <td>#rt</td>\n",
       "      <td>#believe</td>\n",
       "      <td>433</td>\n",
       "      <td>410</td>\n",
       "      <td>8</td>\n",
       "      <td>1</td>\n",
       "    </tr>\n",
       "  </tbody>\n",
       "</table>\n",
       "</div>"
      ],
      "text/plain": [
       "              vertices  neg  ne  po  m  rumor  not_rumor   v1        v2  key1  \\\n",
       "0  ('#rt', '#believe')    6   8   0  0      1         13  #rt  #believe   433   \n",
       "\n",
       "   key2  max  max_label  \n",
       "0   410    8          1  "
      ]
     },
     "execution_count": 5,
     "metadata": {},
     "output_type": "execute_result"
    },
    {
     "data": {
      "text/html": [
       "<div>\n",
       "<style scoped>\n",
       "    .dataframe tbody tr th:only-of-type {\n",
       "        vertical-align: middle;\n",
       "    }\n",
       "\n",
       "    .dataframe tbody tr th {\n",
       "        vertical-align: top;\n",
       "    }\n",
       "\n",
       "    .dataframe thead th {\n",
       "        text-align: right;\n",
       "    }\n",
       "</style>\n",
       "<table border=\"1\" class=\"dataframe\">\n",
       "  <thead>\n",
       "    <tr style=\"text-align: right;\">\n",
       "      <th></th>\n",
       "      <th>tag</th>\n",
       "      <th>neg</th>\n",
       "      <th>ne</th>\n",
       "      <th>po</th>\n",
       "      <th>m</th>\n",
       "      <th>rumor</th>\n",
       "      <th>not_rumor</th>\n",
       "    </tr>\n",
       "  </thead>\n",
       "  <tbody>\n",
       "    <tr>\n",
       "      <th>0</th>\n",
       "      <td>#rt</td>\n",
       "      <td>1634</td>\n",
       "      <td>1764</td>\n",
       "      <td>237</td>\n",
       "      <td>4</td>\n",
       "      <td>71</td>\n",
       "      <td>3568</td>\n",
       "    </tr>\n",
       "  </tbody>\n",
       "</table>\n",
       "</div>"
      ],
      "text/plain": [
       "   tag   neg    ne   po  m  rumor  not_rumor\n",
       "0  #rt  1634  1764  237  4     71       3568"
      ]
     },
     "execution_count": 5,
     "metadata": {},
     "output_type": "execute_result"
    }
   ],
   "source": [
    "dflink.drop(['Unnamed: 0'],axis=1,inplace=True)\n",
    "dfnode.rename(columns={'Unnamed: 0':'tag'},inplace=True)\n",
    "dflink.head(1)\n",
    "dfnode.head(1)"
   ]
  },
  {
   "cell_type": "code",
   "execution_count": 6,
   "metadata": {},
   "outputs": [
    {
     "data": {
      "text/plain": [
       "43004"
      ]
     },
     "execution_count": 6,
     "metadata": {},
     "output_type": "execute_result"
    },
    {
     "data": {
      "text/plain": [
       "2882"
      ]
     },
     "execution_count": 6,
     "metadata": {},
     "output_type": "execute_result"
    }
   ],
   "source": [
    "len(dflink)\n",
    "len(dfnode)"
   ]
  },
  {
   "cell_type": "code",
   "execution_count": 7,
   "metadata": {},
   "outputs": [],
   "source": [
    "glove=torchtext.vocab.GloVe(name='twitter.27B',dim=100)"
   ]
  },
  {
   "cell_type": "code",
   "execution_count": 8,
   "metadata": {},
   "outputs": [],
   "source": [
    "dfnode['word']=dfnode['tag'].apply(lambda x: x.replace('#',''))\n",
    "\n",
    "temp=[]\n",
    "for word in dfnode['word']:\n",
    "    em=glove[word].tolist()\n",
    "    temp.append(em)"
   ]
  },
  {
   "cell_type": "code",
   "execution_count": 9,
   "metadata": {},
   "outputs": [
    {
     "data": {
      "text/plain": [
       "2882"
      ]
     },
     "execution_count": 9,
     "metadata": {},
     "output_type": "execute_result"
    }
   ],
   "source": [
    "len(temp)"
   ]
  },
  {
   "cell_type": "code",
   "execution_count": 10,
   "metadata": {},
   "outputs": [],
   "source": [
    "dfnode['embeddings']=temp"
   ]
  },
  {
   "cell_type": "code",
   "execution_count": 11,
   "metadata": {},
   "outputs": [
    {
     "data": {
      "text/html": [
       "<div>\n",
       "<style scoped>\n",
       "    .dataframe tbody tr th:only-of-type {\n",
       "        vertical-align: middle;\n",
       "    }\n",
       "\n",
       "    .dataframe tbody tr th {\n",
       "        vertical-align: top;\n",
       "    }\n",
       "\n",
       "    .dataframe thead th {\n",
       "        text-align: right;\n",
       "    }\n",
       "</style>\n",
       "<table border=\"1\" class=\"dataframe\">\n",
       "  <thead>\n",
       "    <tr style=\"text-align: right;\">\n",
       "      <th></th>\n",
       "      <th>tag</th>\n",
       "      <th>neg</th>\n",
       "      <th>ne</th>\n",
       "      <th>po</th>\n",
       "      <th>m</th>\n",
       "      <th>rumor</th>\n",
       "      <th>not_rumor</th>\n",
       "      <th>word</th>\n",
       "      <th>embeddings</th>\n",
       "    </tr>\n",
       "  </thead>\n",
       "  <tbody>\n",
       "    <tr>\n",
       "      <th>0</th>\n",
       "      <td>#rt</td>\n",
       "      <td>1634</td>\n",
       "      <td>1764</td>\n",
       "      <td>237</td>\n",
       "      <td>4</td>\n",
       "      <td>71</td>\n",
       "      <td>3568</td>\n",
       "      <td>rt</td>\n",
       "      <td>[0.6047000288963318, 0.8954200148582458, 0.279...</td>\n",
       "    </tr>\n",
       "  </tbody>\n",
       "</table>\n",
       "</div>"
      ],
      "text/plain": [
       "   tag   neg    ne   po  m  rumor  not_rumor word  \\\n",
       "0  #rt  1634  1764  237  4     71       3568   rt   \n",
       "\n",
       "                                          embeddings  \n",
       "0  [0.6047000288963318, 0.8954200148582458, 0.279...  "
      ]
     },
     "execution_count": 11,
     "metadata": {},
     "output_type": "execute_result"
    }
   ],
   "source": [
    "dfnode.head(1)"
   ]
  },
  {
   "cell_type": "code",
   "execution_count": 12,
   "metadata": {},
   "outputs": [
    {
     "data": {
      "text/plain": [
       "2881"
      ]
     },
     "execution_count": 12,
     "metadata": {},
     "output_type": "execute_result"
    }
   ],
   "source": [
    "l=list(dflink.v1)+list(dflink.v2)\n",
    "s=set(l)\n",
    "len(s)\n",
    "l=list(s)"
   ]
  },
  {
   "cell_type": "code",
   "execution_count": 13,
   "metadata": {},
   "outputs": [],
   "source": [
    "dfkey=pd.DataFrame()\n",
    "dfkey['tag']=l"
   ]
  },
  {
   "cell_type": "code",
   "execution_count": 14,
   "metadata": {},
   "outputs": [
    {
     "data": {
      "text/html": [
       "<div>\n",
       "<style scoped>\n",
       "    .dataframe tbody tr th:only-of-type {\n",
       "        vertical-align: middle;\n",
       "    }\n",
       "\n",
       "    .dataframe tbody tr th {\n",
       "        vertical-align: top;\n",
       "    }\n",
       "\n",
       "    .dataframe thead th {\n",
       "        text-align: right;\n",
       "    }\n",
       "</style>\n",
       "<table border=\"1\" class=\"dataframe\">\n",
       "  <thead>\n",
       "    <tr style=\"text-align: right;\">\n",
       "      <th></th>\n",
       "      <th>tag</th>\n",
       "    </tr>\n",
       "  </thead>\n",
       "  <tbody>\n",
       "    <tr>\n",
       "      <th>0</th>\n",
       "      <td>#rapidtest</td>\n",
       "    </tr>\n",
       "  </tbody>\n",
       "</table>\n",
       "</div>"
      ],
      "text/plain": [
       "          tag\n",
       "0  #rapidtest"
      ]
     },
     "execution_count": 14,
     "metadata": {},
     "output_type": "execute_result"
    }
   ],
   "source": [
    "dfkey.head(1)\n",
    "dfkey['key']=[i for i in range(0,len(dfkey))]"
   ]
  },
  {
   "cell_type": "code",
   "execution_count": 15,
   "metadata": {},
   "outputs": [
    {
     "data": {
      "text/html": [
       "<div>\n",
       "<style scoped>\n",
       "    .dataframe tbody tr th:only-of-type {\n",
       "        vertical-align: middle;\n",
       "    }\n",
       "\n",
       "    .dataframe tbody tr th {\n",
       "        vertical-align: top;\n",
       "    }\n",
       "\n",
       "    .dataframe thead th {\n",
       "        text-align: right;\n",
       "    }\n",
       "</style>\n",
       "<table border=\"1\" class=\"dataframe\">\n",
       "  <thead>\n",
       "    <tr style=\"text-align: right;\">\n",
       "      <th></th>\n",
       "      <th>tag</th>\n",
       "      <th>key</th>\n",
       "    </tr>\n",
       "  </thead>\n",
       "  <tbody>\n",
       "    <tr>\n",
       "      <th>0</th>\n",
       "      <td>#rapidtest</td>\n",
       "      <td>0</td>\n",
       "    </tr>\n",
       "  </tbody>\n",
       "</table>\n",
       "</div>"
      ],
      "text/plain": [
       "          tag  key\n",
       "0  #rapidtest    0"
      ]
     },
     "execution_count": 15,
     "metadata": {},
     "output_type": "execute_result"
    },
    {
     "data": {
      "text/plain": [
       "2881"
      ]
     },
     "execution_count": 15,
     "metadata": {},
     "output_type": "execute_result"
    }
   ],
   "source": [
    "dfkey.head(1)\n",
    "len(dfkey)"
   ]
  },
  {
   "cell_type": "code",
   "execution_count": 16,
   "metadata": {},
   "outputs": [],
   "source": [
    "a=dfkey.merge(dfnode)"
   ]
  },
  {
   "cell_type": "code",
   "execution_count": 17,
   "metadata": {},
   "outputs": [
    {
     "data": {
      "text/html": [
       "<div>\n",
       "<style scoped>\n",
       "    .dataframe tbody tr th:only-of-type {\n",
       "        vertical-align: middle;\n",
       "    }\n",
       "\n",
       "    .dataframe tbody tr th {\n",
       "        vertical-align: top;\n",
       "    }\n",
       "\n",
       "    .dataframe thead th {\n",
       "        text-align: right;\n",
       "    }\n",
       "</style>\n",
       "<table border=\"1\" class=\"dataframe\">\n",
       "  <thead>\n",
       "    <tr style=\"text-align: right;\">\n",
       "      <th></th>\n",
       "      <th>tag</th>\n",
       "      <th>key</th>\n",
       "      <th>neg</th>\n",
       "      <th>ne</th>\n",
       "      <th>po</th>\n",
       "      <th>m</th>\n",
       "      <th>rumor</th>\n",
       "      <th>not_rumor</th>\n",
       "      <th>word</th>\n",
       "      <th>embeddings</th>\n",
       "    </tr>\n",
       "  </thead>\n",
       "  <tbody>\n",
       "    <tr>\n",
       "      <th>0</th>\n",
       "      <td>#rapidtest</td>\n",
       "      <td>0</td>\n",
       "      <td>0</td>\n",
       "      <td>1</td>\n",
       "      <td>0</td>\n",
       "      <td>0</td>\n",
       "      <td>0</td>\n",
       "      <td>1</td>\n",
       "      <td>rapidtest</td>\n",
       "      <td>[0.0, 0.0, 0.0, 0.0, 0.0, 0.0, 0.0, 0.0, 0.0, ...</td>\n",
       "    </tr>\n",
       "  </tbody>\n",
       "</table>\n",
       "</div>"
      ],
      "text/plain": [
       "          tag  key  neg  ne  po  m  rumor  not_rumor       word  \\\n",
       "0  #rapidtest    0    0   1   0  0      0          1  rapidtest   \n",
       "\n",
       "                                          embeddings  \n",
       "0  [0.0, 0.0, 0.0, 0.0, 0.0, 0.0, 0.0, 0.0, 0.0, ...  "
      ]
     },
     "execution_count": 17,
     "metadata": {},
     "output_type": "execute_result"
    },
    {
     "data": {
      "text/plain": [
       "2877"
      ]
     },
     "execution_count": 17,
     "metadata": {},
     "output_type": "execute_result"
    }
   ],
   "source": [
    "a.head(1)\n",
    "len(a)"
   ]
  },
  {
   "cell_type": "code",
   "execution_count": 18,
   "metadata": {},
   "outputs": [
    {
     "data": {
      "text/html": [
       "<div>\n",
       "<style scoped>\n",
       "    .dataframe tbody tr th:only-of-type {\n",
       "        vertical-align: middle;\n",
       "    }\n",
       "\n",
       "    .dataframe tbody tr th {\n",
       "        vertical-align: top;\n",
       "    }\n",
       "\n",
       "    .dataframe thead th {\n",
       "        text-align: right;\n",
       "    }\n",
       "</style>\n",
       "<table border=\"1\" class=\"dataframe\">\n",
       "  <thead>\n",
       "    <tr style=\"text-align: right;\">\n",
       "      <th></th>\n",
       "      <th>vertices</th>\n",
       "      <th>neg</th>\n",
       "      <th>ne</th>\n",
       "      <th>po</th>\n",
       "      <th>m</th>\n",
       "      <th>rumor</th>\n",
       "      <th>not_rumor</th>\n",
       "      <th>v1</th>\n",
       "      <th>v2</th>\n",
       "      <th>key1</th>\n",
       "      <th>key2</th>\n",
       "      <th>max</th>\n",
       "      <th>max_label</th>\n",
       "    </tr>\n",
       "  </thead>\n",
       "  <tbody>\n",
       "    <tr>\n",
       "      <th>0</th>\n",
       "      <td>('#rt', '#believe')</td>\n",
       "      <td>6</td>\n",
       "      <td>8</td>\n",
       "      <td>0</td>\n",
       "      <td>0</td>\n",
       "      <td>1</td>\n",
       "      <td>13</td>\n",
       "      <td>#rt</td>\n",
       "      <td>#believe</td>\n",
       "      <td>433</td>\n",
       "      <td>410</td>\n",
       "      <td>8</td>\n",
       "      <td>1</td>\n",
       "    </tr>\n",
       "  </tbody>\n",
       "</table>\n",
       "</div>"
      ],
      "text/plain": [
       "              vertices  neg  ne  po  m  rumor  not_rumor   v1        v2  key1  \\\n",
       "0  ('#rt', '#believe')    6   8   0  0      1         13  #rt  #believe   433   \n",
       "\n",
       "   key2  max  max_label  \n",
       "0   410    8          1  "
      ]
     },
     "execution_count": 18,
     "metadata": {},
     "output_type": "execute_result"
    }
   ],
   "source": [
    "dflink.head(1)"
   ]
  },
  {
   "cell_type": "code",
   "execution_count": 19,
   "metadata": {},
   "outputs": [
    {
     "data": {
      "text/plain": [
       "43004"
      ]
     },
     "execution_count": 19,
     "metadata": {},
     "output_type": "execute_result"
    },
    {
     "data": {
      "text/plain": [
       "42998"
      ]
     },
     "execution_count": 19,
     "metadata": {},
     "output_type": "execute_result"
    }
   ],
   "source": [
    "len(dflink)\n",
    "dflink=dflink.merge(a,left_on='v1',right_on='tag')\n",
    "len(dflink)"
   ]
  },
  {
   "cell_type": "code",
   "execution_count": 20,
   "metadata": {},
   "outputs": [
    {
     "data": {
      "text/plain": [
       "42998"
      ]
     },
     "execution_count": 20,
     "metadata": {},
     "output_type": "execute_result"
    },
    {
     "data": {
      "text/plain": [
       "42991"
      ]
     },
     "execution_count": 20,
     "metadata": {},
     "output_type": "execute_result"
    }
   ],
   "source": [
    "len(dflink)\n",
    "dflink=dflink.merge(a,left_on='v2',right_on='tag')\n",
    "len(dflink)"
   ]
  },
  {
   "cell_type": "code",
   "execution_count": 21,
   "metadata": {},
   "outputs": [
    {
     "data": {
      "text/html": [
       "<div>\n",
       "<style scoped>\n",
       "    .dataframe tbody tr th:only-of-type {\n",
       "        vertical-align: middle;\n",
       "    }\n",
       "\n",
       "    .dataframe tbody tr th {\n",
       "        vertical-align: top;\n",
       "    }\n",
       "\n",
       "    .dataframe thead th {\n",
       "        text-align: right;\n",
       "    }\n",
       "</style>\n",
       "<table border=\"1\" class=\"dataframe\">\n",
       "  <thead>\n",
       "    <tr style=\"text-align: right;\">\n",
       "      <th></th>\n",
       "      <th>tag</th>\n",
       "      <th>key</th>\n",
       "      <th>neg</th>\n",
       "      <th>ne</th>\n",
       "      <th>po</th>\n",
       "      <th>m</th>\n",
       "      <th>rumor</th>\n",
       "      <th>not_rumor</th>\n",
       "      <th>word</th>\n",
       "      <th>embeddings</th>\n",
       "    </tr>\n",
       "  </thead>\n",
       "  <tbody>\n",
       "    <tr>\n",
       "      <th>0</th>\n",
       "      <td>#rapidtest</td>\n",
       "      <td>0</td>\n",
       "      <td>0</td>\n",
       "      <td>1</td>\n",
       "      <td>0</td>\n",
       "      <td>0</td>\n",
       "      <td>0</td>\n",
       "      <td>1</td>\n",
       "      <td>rapidtest</td>\n",
       "      <td>[0.0, 0.0, 0.0, 0.0, 0.0, 0.0, 0.0, 0.0, 0.0, ...</td>\n",
       "    </tr>\n",
       "  </tbody>\n",
       "</table>\n",
       "</div>"
      ],
      "text/plain": [
       "          tag  key  neg  ne  po  m  rumor  not_rumor       word  \\\n",
       "0  #rapidtest    0    0   1   0  0      0          1  rapidtest   \n",
       "\n",
       "                                          embeddings  \n",
       "0  [0.0, 0.0, 0.0, 0.0, 0.0, 0.0, 0.0, 0.0, 0.0, ...  "
      ]
     },
     "execution_count": 21,
     "metadata": {},
     "output_type": "execute_result"
    }
   ],
   "source": [
    "# the tags in dflink are the same with the tags in a \n",
    "a.head(1)"
   ]
  },
  {
   "cell_type": "code",
   "execution_count": 22,
   "metadata": {},
   "outputs": [
    {
     "data": {
      "text/html": [
       "<div>\n",
       "<style scoped>\n",
       "    .dataframe tbody tr th:only-of-type {\n",
       "        vertical-align: middle;\n",
       "    }\n",
       "\n",
       "    .dataframe tbody tr th {\n",
       "        vertical-align: top;\n",
       "    }\n",
       "\n",
       "    .dataframe thead th {\n",
       "        text-align: right;\n",
       "    }\n",
       "</style>\n",
       "<table border=\"1\" class=\"dataframe\">\n",
       "  <thead>\n",
       "    <tr style=\"text-align: right;\">\n",
       "      <th></th>\n",
       "      <th>v1</th>\n",
       "      <th>embeddings_x</th>\n",
       "      <th>v2</th>\n",
       "      <th>embeddings_y</th>\n",
       "      <th>rumor_x</th>\n",
       "      <th>not_rumor_x</th>\n",
       "    </tr>\n",
       "  </thead>\n",
       "  <tbody>\n",
       "    <tr>\n",
       "      <th>0</th>\n",
       "      <td>#rt</td>\n",
       "      <td>[0.6047000288963318, 0.8954200148582458, 0.279...</td>\n",
       "      <td>#believe</td>\n",
       "      <td>[0.195250004529953, 0.8961700201034546, 0.2282...</td>\n",
       "      <td>1</td>\n",
       "      <td>13</td>\n",
       "    </tr>\n",
       "  </tbody>\n",
       "</table>\n",
       "</div>"
      ],
      "text/plain": [
       "    v1                                       embeddings_x        v2  \\\n",
       "0  #rt  [0.6047000288963318, 0.8954200148582458, 0.279...  #believe   \n",
       "\n",
       "                                        embeddings_y  rumor_x  not_rumor_x  \n",
       "0  [0.195250004529953, 0.8961700201034546, 0.2282...        1           13  "
      ]
     },
     "execution_count": 22,
     "metadata": {},
     "output_type": "execute_result"
    }
   ],
   "source": [
    "dflinks=dflink[['v1','embeddings_x','v2','embeddings_y',\\\n",
    "                'rumor_x','not_rumor_x']].copy()\n",
    "dflinks.head(1)"
   ]
  },
  {
   "cell_type": "code",
   "execution_count": 23,
   "metadata": {},
   "outputs": [
    {
     "data": {
      "text/html": [
       "<div>\n",
       "<style scoped>\n",
       "    .dataframe tbody tr th:only-of-type {\n",
       "        vertical-align: middle;\n",
       "    }\n",
       "\n",
       "    .dataframe tbody tr th {\n",
       "        vertical-align: top;\n",
       "    }\n",
       "\n",
       "    .dataframe thead th {\n",
       "        text-align: right;\n",
       "    }\n",
       "</style>\n",
       "<table border=\"1\" class=\"dataframe\">\n",
       "  <thead>\n",
       "    <tr style=\"text-align: right;\">\n",
       "      <th></th>\n",
       "      <th>v1</th>\n",
       "      <th>em_v1</th>\n",
       "      <th>v2</th>\n",
       "      <th>em_v2</th>\n",
       "      <th>rumor_link</th>\n",
       "      <th>not_rumor_link</th>\n",
       "    </tr>\n",
       "  </thead>\n",
       "  <tbody>\n",
       "    <tr>\n",
       "      <th>0</th>\n",
       "      <td>#rt</td>\n",
       "      <td>[0.6047000288963318, 0.8954200148582458, 0.279...</td>\n",
       "      <td>#believe</td>\n",
       "      <td>[0.195250004529953, 0.8961700201034546, 0.2282...</td>\n",
       "      <td>1</td>\n",
       "      <td>13</td>\n",
       "    </tr>\n",
       "  </tbody>\n",
       "</table>\n",
       "</div>"
      ],
      "text/plain": [
       "    v1                                              em_v1        v2  \\\n",
       "0  #rt  [0.6047000288963318, 0.8954200148582458, 0.279...  #believe   \n",
       "\n",
       "                                               em_v2  rumor_link  \\\n",
       "0  [0.195250004529953, 0.8961700201034546, 0.2282...           1   \n",
       "\n",
       "   not_rumor_link  \n",
       "0              13  "
      ]
     },
     "execution_count": 23,
     "metadata": {},
     "output_type": "execute_result"
    }
   ],
   "source": [
    "dflinks.rename(columns={'embeddings_x':'em_v1','embeddings_y':'em_v2',\\\n",
    "                       'rumor_x':'rumor_link','not_rumor_x':'not_rumor_link'},\\\n",
    "              inplace=True)\n",
    "dflinks.head(1)"
   ]
  },
  {
   "cell_type": "code",
   "execution_count": 24,
   "metadata": {},
   "outputs": [],
   "source": [
    "temp=[]\n",
    "for i in range(0,len(dflinks)):\n",
    "    t1=dflinks['rumor_link'][i]\n",
    "    t2=dflinks['not_rumor_link'][i]\n",
    "    t3=t1/(t1+t2)\n",
    "    temp.append(t3)\n",
    "    \n",
    "dflinks['rate']=temp"
   ]
  },
  {
   "cell_type": "code",
   "execution_count": 25,
   "metadata": {},
   "outputs": [
    {
     "data": {
      "text/html": [
       "<div>\n",
       "<style scoped>\n",
       "    .dataframe tbody tr th:only-of-type {\n",
       "        vertical-align: middle;\n",
       "    }\n",
       "\n",
       "    .dataframe tbody tr th {\n",
       "        vertical-align: top;\n",
       "    }\n",
       "\n",
       "    .dataframe thead th {\n",
       "        text-align: right;\n",
       "    }\n",
       "</style>\n",
       "<table border=\"1\" class=\"dataframe\">\n",
       "  <thead>\n",
       "    <tr style=\"text-align: right;\">\n",
       "      <th></th>\n",
       "      <th>v1</th>\n",
       "      <th>em_v1</th>\n",
       "      <th>v2</th>\n",
       "      <th>em_v2</th>\n",
       "      <th>rumor_link</th>\n",
       "      <th>not_rumor_link</th>\n",
       "      <th>rate</th>\n",
       "    </tr>\n",
       "  </thead>\n",
       "  <tbody>\n",
       "    <tr>\n",
       "      <th>0</th>\n",
       "      <td>#rt</td>\n",
       "      <td>[0.6047000288963318, 0.8954200148582458, 0.279...</td>\n",
       "      <td>#believe</td>\n",
       "      <td>[0.195250004529953, 0.8961700201034546, 0.2282...</td>\n",
       "      <td>1</td>\n",
       "      <td>13</td>\n",
       "      <td>0.071429</td>\n",
       "    </tr>\n",
       "  </tbody>\n",
       "</table>\n",
       "</div>"
      ],
      "text/plain": [
       "    v1                                              em_v1        v2  \\\n",
       "0  #rt  [0.6047000288963318, 0.8954200148582458, 0.279...  #believe   \n",
       "\n",
       "                                               em_v2  rumor_link  \\\n",
       "0  [0.195250004529953, 0.8961700201034546, 0.2282...           1   \n",
       "\n",
       "   not_rumor_link      rate  \n",
       "0              13  0.071429  "
      ]
     },
     "execution_count": 25,
     "metadata": {},
     "output_type": "execute_result"
    }
   ],
   "source": [
    "dflinks.head(1)"
   ]
  },
  {
   "cell_type": "code",
   "execution_count": 26,
   "metadata": {},
   "outputs": [
    {
     "data": {
      "text/plain": [
       "0.037917182988705694"
      ]
     },
     "execution_count": 26,
     "metadata": {},
     "output_type": "execute_result"
    }
   ],
   "source": [
    "dflinks.rate.mean()"
   ]
  },
  {
   "cell_type": "code",
   "execution_count": 27,
   "metadata": {},
   "outputs": [],
   "source": [
    "dflinks['label']=dflinks['rate'].apply(lambda x: 1 if x>0.038 else 0)"
   ]
  },
  {
   "cell_type": "code",
   "execution_count": 28,
   "metadata": {},
   "outputs": [
    {
     "data": {
      "text/plain": [
       "Counter({1: 2105, 0: 40886})"
      ]
     },
     "execution_count": 28,
     "metadata": {},
     "output_type": "execute_result"
    }
   ],
   "source": [
    "from collections import Counter\n",
    "Counter(dflinks.label)"
   ]
  },
  {
   "cell_type": "code",
   "execution_count": 30,
   "metadata": {},
   "outputs": [
    {
     "name": "stdout",
     "output_type": "stream",
     "text": [
      "Collecting imbalanced-learn\n",
      "  Downloading imbalanced_learn-0.7.0-py3-none-any.whl (167 kB)\n",
      "\u001b[K     |████████████████████████████████| 167 kB 20.3 MB/s eta 0:00:01\n",
      "\u001b[?25hRequirement already satisfied: scipy>=0.19.1 in /home/ec2-user/anaconda3/envs/pytorch_latest_p36/lib/python3.6/site-packages (from imbalanced-learn) (1.4.1)\n",
      "Requirement already satisfied: joblib>=0.11 in /home/ec2-user/anaconda3/envs/pytorch_latest_p36/lib/python3.6/site-packages (from imbalanced-learn) (0.14.1)\n",
      "Collecting scikit-learn>=0.23\n",
      "  Using cached scikit_learn-0.23.2-cp36-cp36m-manylinux1_x86_64.whl (6.8 MB)\n",
      "Requirement already satisfied: numpy>=1.13.3 in /home/ec2-user/anaconda3/envs/pytorch_latest_p36/lib/python3.6/site-packages (from imbalanced-learn) (1.18.1)\n",
      "Collecting threadpoolctl>=2.0.0\n",
      "  Using cached threadpoolctl-2.1.0-py3-none-any.whl (12 kB)\n",
      "Installing collected packages: threadpoolctl, scikit-learn, imbalanced-learn\n",
      "  Attempting uninstall: scikit-learn\n",
      "    Found existing installation: scikit-learn 0.22.1\n",
      "    Uninstalling scikit-learn-0.22.1:\n",
      "      Successfully uninstalled scikit-learn-0.22.1\n",
      "Successfully installed imbalanced-learn-0.7.0 scikit-learn-0.23.2 threadpoolctl-2.1.0\n",
      "\u001b[33mWARNING: You are using pip version 20.0.2; however, version 20.3.1 is available.\n",
      "You should consider upgrading via the '/home/ec2-user/anaconda3/envs/pytorch_latest_p36/bin/python -m pip install --upgrade pip' command.\u001b[0m\n"
     ]
    }
   ],
   "source": [
    "!pip install imbalanced-learn\n",
    "import imblearn\n",
    "from imblearn.over_sampling import SMOTE"
   ]
  },
  {
   "cell_type": "code",
   "execution_count": 31,
   "metadata": {},
   "outputs": [],
   "source": [
    "A=list(dflinks.em_v1)\n",
    "A=pd.DataFrame(A)"
   ]
  },
  {
   "cell_type": "code",
   "execution_count": 32,
   "metadata": {},
   "outputs": [],
   "source": [
    "B=list(dflinks.em_v2)\n",
    "B=pd.DataFrame(B)\n",
    "B.columns=list(range(100,200))"
   ]
  },
  {
   "cell_type": "code",
   "execution_count": 33,
   "metadata": {},
   "outputs": [
    {
     "data": {
      "text/plain": [
       "(42991, 100)"
      ]
     },
     "execution_count": 33,
     "metadata": {},
     "output_type": "execute_result"
    }
   ],
   "source": [
    "A.shape"
   ]
  },
  {
   "cell_type": "code",
   "execution_count": 34,
   "metadata": {},
   "outputs": [],
   "source": [
    "Smote2B=dflinks[['v1','v2','label']]"
   ]
  },
  {
   "cell_type": "code",
   "execution_count": 35,
   "metadata": {},
   "outputs": [
    {
     "data": {
      "text/html": [
       "<div>\n",
       "<style scoped>\n",
       "    .dataframe tbody tr th:only-of-type {\n",
       "        vertical-align: middle;\n",
       "    }\n",
       "\n",
       "    .dataframe tbody tr th {\n",
       "        vertical-align: top;\n",
       "    }\n",
       "\n",
       "    .dataframe thead th {\n",
       "        text-align: right;\n",
       "    }\n",
       "</style>\n",
       "<table border=\"1\" class=\"dataframe\">\n",
       "  <thead>\n",
       "    <tr style=\"text-align: right;\">\n",
       "      <th></th>\n",
       "      <th>v1</th>\n",
       "      <th>v2</th>\n",
       "      <th>label</th>\n",
       "    </tr>\n",
       "  </thead>\n",
       "  <tbody>\n",
       "    <tr>\n",
       "      <th>0</th>\n",
       "      <td>#rt</td>\n",
       "      <td>#believe</td>\n",
       "      <td>1</td>\n",
       "    </tr>\n",
       "  </tbody>\n",
       "</table>\n",
       "</div>"
      ],
      "text/plain": [
       "    v1        v2  label\n",
       "0  #rt  #believe      1"
      ]
     },
     "execution_count": 35,
     "metadata": {},
     "output_type": "execute_result"
    }
   ],
   "source": [
    "Smote2B.head(1)"
   ]
  },
  {
   "cell_type": "code",
   "execution_count": 36,
   "metadata": {},
   "outputs": [
    {
     "data": {
      "text/plain": [
       "(42991, 103)"
      ]
     },
     "execution_count": 36,
     "metadata": {},
     "output_type": "execute_result"
    }
   ],
   "source": [
    "Smote2B=pd.concat([Smote2B,A],axis=1)\n",
    "Smote2B.shape"
   ]
  },
  {
   "cell_type": "code",
   "execution_count": 37,
   "metadata": {},
   "outputs": [
    {
     "data": {
      "text/html": [
       "<div>\n",
       "<style scoped>\n",
       "    .dataframe tbody tr th:only-of-type {\n",
       "        vertical-align: middle;\n",
       "    }\n",
       "\n",
       "    .dataframe tbody tr th {\n",
       "        vertical-align: top;\n",
       "    }\n",
       "\n",
       "    .dataframe thead th {\n",
       "        text-align: right;\n",
       "    }\n",
       "</style>\n",
       "<table border=\"1\" class=\"dataframe\">\n",
       "  <thead>\n",
       "    <tr style=\"text-align: right;\">\n",
       "      <th></th>\n",
       "      <th>v1</th>\n",
       "      <th>v2</th>\n",
       "      <th>label</th>\n",
       "      <th>0</th>\n",
       "      <th>1</th>\n",
       "      <th>2</th>\n",
       "      <th>3</th>\n",
       "      <th>4</th>\n",
       "      <th>5</th>\n",
       "      <th>6</th>\n",
       "      <th>7</th>\n",
       "      <th>8</th>\n",
       "      <th>9</th>\n",
       "      <th>10</th>\n",
       "      <th>11</th>\n",
       "      <th>12</th>\n",
       "      <th>13</th>\n",
       "      <th>14</th>\n",
       "      <th>15</th>\n",
       "      <th>16</th>\n",
       "      <th>17</th>\n",
       "      <th>18</th>\n",
       "      <th>19</th>\n",
       "      <th>20</th>\n",
       "      <th>21</th>\n",
       "      <th>22</th>\n",
       "      <th>23</th>\n",
       "      <th>24</th>\n",
       "      <th>25</th>\n",
       "      <th>26</th>\n",
       "      <th>27</th>\n",
       "      <th>28</th>\n",
       "      <th>29</th>\n",
       "      <th>30</th>\n",
       "      <th>31</th>\n",
       "      <th>32</th>\n",
       "      <th>33</th>\n",
       "      <th>34</th>\n",
       "      <th>35</th>\n",
       "      <th>36</th>\n",
       "      <th>37</th>\n",
       "      <th>38</th>\n",
       "      <th>39</th>\n",
       "      <th>40</th>\n",
       "      <th>41</th>\n",
       "      <th>42</th>\n",
       "      <th>43</th>\n",
       "      <th>44</th>\n",
       "      <th>45</th>\n",
       "      <th>46</th>\n",
       "      <th>47</th>\n",
       "      <th>48</th>\n",
       "      <th>49</th>\n",
       "      <th>50</th>\n",
       "      <th>51</th>\n",
       "      <th>52</th>\n",
       "      <th>53</th>\n",
       "      <th>54</th>\n",
       "      <th>55</th>\n",
       "      <th>56</th>\n",
       "      <th>57</th>\n",
       "      <th>58</th>\n",
       "      <th>59</th>\n",
       "      <th>60</th>\n",
       "      <th>61</th>\n",
       "      <th>62</th>\n",
       "      <th>63</th>\n",
       "      <th>64</th>\n",
       "      <th>65</th>\n",
       "      <th>66</th>\n",
       "      <th>67</th>\n",
       "      <th>68</th>\n",
       "      <th>69</th>\n",
       "      <th>70</th>\n",
       "      <th>71</th>\n",
       "      <th>72</th>\n",
       "      <th>73</th>\n",
       "      <th>74</th>\n",
       "      <th>75</th>\n",
       "      <th>76</th>\n",
       "      <th>77</th>\n",
       "      <th>78</th>\n",
       "      <th>79</th>\n",
       "      <th>80</th>\n",
       "      <th>81</th>\n",
       "      <th>82</th>\n",
       "      <th>83</th>\n",
       "      <th>84</th>\n",
       "      <th>85</th>\n",
       "      <th>86</th>\n",
       "      <th>87</th>\n",
       "      <th>88</th>\n",
       "      <th>89</th>\n",
       "      <th>90</th>\n",
       "      <th>91</th>\n",
       "      <th>92</th>\n",
       "      <th>93</th>\n",
       "      <th>94</th>\n",
       "      <th>95</th>\n",
       "      <th>96</th>\n",
       "      <th>97</th>\n",
       "      <th>98</th>\n",
       "      <th>99</th>\n",
       "    </tr>\n",
       "  </thead>\n",
       "  <tbody>\n",
       "    <tr>\n",
       "      <th>0</th>\n",
       "      <td>#rt</td>\n",
       "      <td>#believe</td>\n",
       "      <td>1</td>\n",
       "      <td>0.6047</td>\n",
       "      <td>0.89542</td>\n",
       "      <td>0.27923</td>\n",
       "      <td>0.033489</td>\n",
       "      <td>0.15873</td>\n",
       "      <td>0.18522</td>\n",
       "      <td>0.30722</td>\n",
       "      <td>0.47445</td>\n",
       "      <td>0.44484</td>\n",
       "      <td>0.7045</td>\n",
       "      <td>0.39528</td>\n",
       "      <td>-0.19818</td>\n",
       "      <td>-2.3884</td>\n",
       "      <td>0.095433</td>\n",
       "      <td>0.10782</td>\n",
       "      <td>0.26263</td>\n",
       "      <td>0.36582</td>\n",
       "      <td>-0.6385</td>\n",
       "      <td>-0.22938</td>\n",
       "      <td>-0.34722</td>\n",
       "      <td>0.10977</td>\n",
       "      <td>0.37367</td>\n",
       "      <td>-0.068053</td>\n",
       "      <td>-0.39421</td>\n",
       "      <td>0.43471</td>\n",
       "      <td>-2.1794</td>\n",
       "      <td>-0.47111</td>\n",
       "      <td>0.087237</td>\n",
       "      <td>0.57989</td>\n",
       "      <td>-0.020883</td>\n",
       "      <td>-0.0695</td>\n",
       "      <td>0.25771</td>\n",
       "      <td>-0.5019</td>\n",
       "      <td>0.41154</td>\n",
       "      <td>1.2178</td>\n",
       "      <td>0.47976</td>\n",
       "      <td>-0.31574</td>\n",
       "      <td>0.52983</td>\n",
       "      <td>0.041575</td>\n",
       "      <td>0.44973</td>\n",
       "      <td>-1.5363</td>\n",
       "      <td>-0.096062</td>\n",
       "      <td>-0.27531</td>\n",
       "      <td>0.52771</td>\n",
       "      <td>0.028587</td>\n",
       "      <td>0.047935</td>\n",
       "      <td>-0.5973</td>\n",
       "      <td>-0.051772</td>\n",
       "      <td>0.11377</td>\n",
       "      <td>-0.4049</td>\n",
       "      <td>-0.54857</td>\n",
       "      <td>-0.65916</td>\n",
       "      <td>-0.38132</td>\n",
       "      <td>-0.39519</td>\n",
       "      <td>0.42961</td>\n",
       "      <td>0.74531</td>\n",
       "      <td>-0.50838</td>\n",
       "      <td>0.40392</td>\n",
       "      <td>0.62699</td>\n",
       "      <td>-0.24798</td>\n",
       "      <td>-0.25386</td>\n",
       "      <td>0.21867</td>\n",
       "      <td>-0.072132</td>\n",
       "      <td>-0.51783</td>\n",
       "      <td>-0.054186</td>\n",
       "      <td>-0.66391</td>\n",
       "      <td>-0.58224</td>\n",
       "      <td>0.060621</td>\n",
       "      <td>-0.54001</td>\n",
       "      <td>0.72242</td>\n",
       "      <td>0.13349</td>\n",
       "      <td>-0.070261</td>\n",
       "      <td>-0.059061</td>\n",
       "      <td>-0.035474</td>\n",
       "      <td>-0.53649</td>\n",
       "      <td>-0.3755</td>\n",
       "      <td>0.11234</td>\n",
       "      <td>-0.3409</td>\n",
       "      <td>-0.13406</td>\n",
       "      <td>0.007887</td>\n",
       "      <td>0.81973</td>\n",
       "      <td>-0.075774</td>\n",
       "      <td>0.10947</td>\n",
       "      <td>0.26919</td>\n",
       "      <td>-0.069167</td>\n",
       "      <td>0.27475</td>\n",
       "      <td>-0.90546</td>\n",
       "      <td>0.54632</td>\n",
       "      <td>-0.6847</td>\n",
       "      <td>0.35787</td>\n",
       "      <td>-0.015019</td>\n",
       "      <td>0.42209</td>\n",
       "      <td>-0.06252</td>\n",
       "      <td>-0.33265</td>\n",
       "      <td>-0.60945</td>\n",
       "      <td>-0.23269</td>\n",
       "      <td>-0.40932</td>\n",
       "      <td>0.51566</td>\n",
       "      <td>0.84726</td>\n",
       "      <td>0.020946</td>\n",
       "    </tr>\n",
       "  </tbody>\n",
       "</table>\n",
       "</div>"
      ],
      "text/plain": [
       "    v1        v2  label       0        1        2         3        4        5  \\\n",
       "0  #rt  #believe      1  0.6047  0.89542  0.27923  0.033489  0.15873  0.18522   \n",
       "\n",
       "         6        7        8       9       10       11      12        13  \\\n",
       "0  0.30722  0.47445  0.44484  0.7045  0.39528 -0.19818 -2.3884  0.095433   \n",
       "\n",
       "        14       15       16      17       18       19       20       21  \\\n",
       "0  0.10782  0.26263  0.36582 -0.6385 -0.22938 -0.34722  0.10977  0.37367   \n",
       "\n",
       "         22       23       24      25       26        27       28        29  \\\n",
       "0 -0.068053 -0.39421  0.43471 -2.1794 -0.47111  0.087237  0.57989 -0.020883   \n",
       "\n",
       "       30       31      32       33      34       35       36       37  \\\n",
       "0 -0.0695  0.25771 -0.5019  0.41154  1.2178  0.47976 -0.31574  0.52983   \n",
       "\n",
       "         38       39      40        41       42       43        44        45  \\\n",
       "0  0.041575  0.44973 -1.5363 -0.096062 -0.27531  0.52771  0.028587  0.047935   \n",
       "\n",
       "       46        47       48      49       50       51       52       53  \\\n",
       "0 -0.5973 -0.051772  0.11377 -0.4049 -0.54857 -0.65916 -0.38132 -0.39519   \n",
       "\n",
       "        54       55       56       57       58       59       60       61  \\\n",
       "0  0.42961  0.74531 -0.50838  0.40392  0.62699 -0.24798 -0.25386  0.21867   \n",
       "\n",
       "         62       63        64       65       66        67       68       69  \\\n",
       "0 -0.072132 -0.51783 -0.054186 -0.66391 -0.58224  0.060621 -0.54001  0.72242   \n",
       "\n",
       "        70        71        72        73       74      75       76      77  \\\n",
       "0  0.13349 -0.070261 -0.059061 -0.035474 -0.53649 -0.3755  0.11234 -0.3409   \n",
       "\n",
       "        78        79       80        81       82       83        84       85  \\\n",
       "0 -0.13406  0.007887  0.81973 -0.075774  0.10947  0.26919 -0.069167  0.27475   \n",
       "\n",
       "        86       87      88       89        90       91       92       93  \\\n",
       "0 -0.90546  0.54632 -0.6847  0.35787 -0.015019  0.42209 -0.06252 -0.33265   \n",
       "\n",
       "        94       95       96       97       98        99  \n",
       "0 -0.60945 -0.23269 -0.40932  0.51566  0.84726  0.020946  "
      ]
     },
     "execution_count": 37,
     "metadata": {},
     "output_type": "execute_result"
    }
   ],
   "source": [
    "Smote2B.head(1)"
   ]
  },
  {
   "cell_type": "code",
   "execution_count": 38,
   "metadata": {},
   "outputs": [],
   "source": [
    "Smote2B=pd.concat([Smote2B,B],axis=1)"
   ]
  },
  {
   "cell_type": "code",
   "execution_count": 39,
   "metadata": {},
   "outputs": [
    {
     "data": {
      "text/html": [
       "<div>\n",
       "<style scoped>\n",
       "    .dataframe tbody tr th:only-of-type {\n",
       "        vertical-align: middle;\n",
       "    }\n",
       "\n",
       "    .dataframe tbody tr th {\n",
       "        vertical-align: top;\n",
       "    }\n",
       "\n",
       "    .dataframe thead th {\n",
       "        text-align: right;\n",
       "    }\n",
       "</style>\n",
       "<table border=\"1\" class=\"dataframe\">\n",
       "  <thead>\n",
       "    <tr style=\"text-align: right;\">\n",
       "      <th></th>\n",
       "      <th>v1</th>\n",
       "      <th>v2</th>\n",
       "      <th>label</th>\n",
       "      <th>0</th>\n",
       "      <th>1</th>\n",
       "      <th>2</th>\n",
       "      <th>3</th>\n",
       "      <th>4</th>\n",
       "      <th>5</th>\n",
       "      <th>6</th>\n",
       "      <th>7</th>\n",
       "      <th>8</th>\n",
       "      <th>9</th>\n",
       "      <th>10</th>\n",
       "      <th>11</th>\n",
       "      <th>12</th>\n",
       "      <th>13</th>\n",
       "      <th>14</th>\n",
       "      <th>15</th>\n",
       "      <th>16</th>\n",
       "      <th>17</th>\n",
       "      <th>18</th>\n",
       "      <th>19</th>\n",
       "      <th>20</th>\n",
       "      <th>21</th>\n",
       "      <th>22</th>\n",
       "      <th>23</th>\n",
       "      <th>24</th>\n",
       "      <th>25</th>\n",
       "      <th>26</th>\n",
       "      <th>27</th>\n",
       "      <th>28</th>\n",
       "      <th>29</th>\n",
       "      <th>30</th>\n",
       "      <th>31</th>\n",
       "      <th>32</th>\n",
       "      <th>33</th>\n",
       "      <th>34</th>\n",
       "      <th>35</th>\n",
       "      <th>36</th>\n",
       "      <th>37</th>\n",
       "      <th>38</th>\n",
       "      <th>39</th>\n",
       "      <th>40</th>\n",
       "      <th>41</th>\n",
       "      <th>42</th>\n",
       "      <th>43</th>\n",
       "      <th>44</th>\n",
       "      <th>45</th>\n",
       "      <th>46</th>\n",
       "      <th>47</th>\n",
       "      <th>48</th>\n",
       "      <th>49</th>\n",
       "      <th>50</th>\n",
       "      <th>51</th>\n",
       "      <th>52</th>\n",
       "      <th>53</th>\n",
       "      <th>54</th>\n",
       "      <th>55</th>\n",
       "      <th>56</th>\n",
       "      <th>57</th>\n",
       "      <th>58</th>\n",
       "      <th>59</th>\n",
       "      <th>60</th>\n",
       "      <th>61</th>\n",
       "      <th>62</th>\n",
       "      <th>63</th>\n",
       "      <th>64</th>\n",
       "      <th>65</th>\n",
       "      <th>66</th>\n",
       "      <th>67</th>\n",
       "      <th>68</th>\n",
       "      <th>69</th>\n",
       "      <th>70</th>\n",
       "      <th>71</th>\n",
       "      <th>72</th>\n",
       "      <th>73</th>\n",
       "      <th>74</th>\n",
       "      <th>75</th>\n",
       "      <th>76</th>\n",
       "      <th>77</th>\n",
       "      <th>78</th>\n",
       "      <th>79</th>\n",
       "      <th>80</th>\n",
       "      <th>81</th>\n",
       "      <th>82</th>\n",
       "      <th>83</th>\n",
       "      <th>84</th>\n",
       "      <th>85</th>\n",
       "      <th>86</th>\n",
       "      <th>87</th>\n",
       "      <th>88</th>\n",
       "      <th>89</th>\n",
       "      <th>90</th>\n",
       "      <th>91</th>\n",
       "      <th>92</th>\n",
       "      <th>93</th>\n",
       "      <th>94</th>\n",
       "      <th>95</th>\n",
       "      <th>96</th>\n",
       "      <th>97</th>\n",
       "      <th>98</th>\n",
       "      <th>99</th>\n",
       "      <th>100</th>\n",
       "      <th>101</th>\n",
       "      <th>102</th>\n",
       "      <th>103</th>\n",
       "      <th>104</th>\n",
       "      <th>105</th>\n",
       "      <th>106</th>\n",
       "      <th>107</th>\n",
       "      <th>108</th>\n",
       "      <th>109</th>\n",
       "      <th>110</th>\n",
       "      <th>111</th>\n",
       "      <th>112</th>\n",
       "      <th>113</th>\n",
       "      <th>114</th>\n",
       "      <th>115</th>\n",
       "      <th>116</th>\n",
       "      <th>117</th>\n",
       "      <th>118</th>\n",
       "      <th>119</th>\n",
       "      <th>120</th>\n",
       "      <th>121</th>\n",
       "      <th>122</th>\n",
       "      <th>123</th>\n",
       "      <th>124</th>\n",
       "      <th>125</th>\n",
       "      <th>126</th>\n",
       "      <th>127</th>\n",
       "      <th>128</th>\n",
       "      <th>129</th>\n",
       "      <th>130</th>\n",
       "      <th>131</th>\n",
       "      <th>132</th>\n",
       "      <th>133</th>\n",
       "      <th>134</th>\n",
       "      <th>135</th>\n",
       "      <th>136</th>\n",
       "      <th>137</th>\n",
       "      <th>138</th>\n",
       "      <th>139</th>\n",
       "      <th>140</th>\n",
       "      <th>141</th>\n",
       "      <th>142</th>\n",
       "      <th>143</th>\n",
       "      <th>144</th>\n",
       "      <th>145</th>\n",
       "      <th>146</th>\n",
       "      <th>147</th>\n",
       "      <th>148</th>\n",
       "      <th>149</th>\n",
       "      <th>150</th>\n",
       "      <th>151</th>\n",
       "      <th>152</th>\n",
       "      <th>153</th>\n",
       "      <th>154</th>\n",
       "      <th>155</th>\n",
       "      <th>156</th>\n",
       "      <th>157</th>\n",
       "      <th>158</th>\n",
       "      <th>159</th>\n",
       "      <th>160</th>\n",
       "      <th>161</th>\n",
       "      <th>162</th>\n",
       "      <th>163</th>\n",
       "      <th>164</th>\n",
       "      <th>165</th>\n",
       "      <th>166</th>\n",
       "      <th>167</th>\n",
       "      <th>168</th>\n",
       "      <th>169</th>\n",
       "      <th>170</th>\n",
       "      <th>171</th>\n",
       "      <th>172</th>\n",
       "      <th>173</th>\n",
       "      <th>174</th>\n",
       "      <th>175</th>\n",
       "      <th>176</th>\n",
       "      <th>177</th>\n",
       "      <th>178</th>\n",
       "      <th>179</th>\n",
       "      <th>180</th>\n",
       "      <th>181</th>\n",
       "      <th>182</th>\n",
       "      <th>183</th>\n",
       "      <th>184</th>\n",
       "      <th>185</th>\n",
       "      <th>186</th>\n",
       "      <th>187</th>\n",
       "      <th>188</th>\n",
       "      <th>189</th>\n",
       "      <th>190</th>\n",
       "      <th>191</th>\n",
       "      <th>192</th>\n",
       "      <th>193</th>\n",
       "      <th>194</th>\n",
       "      <th>195</th>\n",
       "      <th>196</th>\n",
       "      <th>197</th>\n",
       "      <th>198</th>\n",
       "      <th>199</th>\n",
       "    </tr>\n",
       "  </thead>\n",
       "  <tbody>\n",
       "    <tr>\n",
       "      <th>0</th>\n",
       "      <td>#rt</td>\n",
       "      <td>#believe</td>\n",
       "      <td>1</td>\n",
       "      <td>0.6047</td>\n",
       "      <td>0.89542</td>\n",
       "      <td>0.27923</td>\n",
       "      <td>0.033489</td>\n",
       "      <td>0.15873</td>\n",
       "      <td>0.18522</td>\n",
       "      <td>0.30722</td>\n",
       "      <td>0.47445</td>\n",
       "      <td>0.44484</td>\n",
       "      <td>0.7045</td>\n",
       "      <td>0.39528</td>\n",
       "      <td>-0.19818</td>\n",
       "      <td>-2.3884</td>\n",
       "      <td>0.095433</td>\n",
       "      <td>0.10782</td>\n",
       "      <td>0.26263</td>\n",
       "      <td>0.36582</td>\n",
       "      <td>-0.6385</td>\n",
       "      <td>-0.22938</td>\n",
       "      <td>-0.34722</td>\n",
       "      <td>0.10977</td>\n",
       "      <td>0.37367</td>\n",
       "      <td>-0.068053</td>\n",
       "      <td>-0.39421</td>\n",
       "      <td>0.43471</td>\n",
       "      <td>-2.1794</td>\n",
       "      <td>-0.47111</td>\n",
       "      <td>0.087237</td>\n",
       "      <td>0.57989</td>\n",
       "      <td>-0.020883</td>\n",
       "      <td>-0.0695</td>\n",
       "      <td>0.25771</td>\n",
       "      <td>-0.5019</td>\n",
       "      <td>0.41154</td>\n",
       "      <td>1.2178</td>\n",
       "      <td>0.47976</td>\n",
       "      <td>-0.31574</td>\n",
       "      <td>0.52983</td>\n",
       "      <td>0.041575</td>\n",
       "      <td>0.44973</td>\n",
       "      <td>-1.5363</td>\n",
       "      <td>-0.096062</td>\n",
       "      <td>-0.27531</td>\n",
       "      <td>0.52771</td>\n",
       "      <td>0.028587</td>\n",
       "      <td>0.047935</td>\n",
       "      <td>-0.5973</td>\n",
       "      <td>-0.051772</td>\n",
       "      <td>0.11377</td>\n",
       "      <td>-0.4049</td>\n",
       "      <td>-0.54857</td>\n",
       "      <td>-0.65916</td>\n",
       "      <td>-0.38132</td>\n",
       "      <td>-0.39519</td>\n",
       "      <td>0.42961</td>\n",
       "      <td>0.74531</td>\n",
       "      <td>-0.50838</td>\n",
       "      <td>0.40392</td>\n",
       "      <td>0.62699</td>\n",
       "      <td>-0.24798</td>\n",
       "      <td>-0.25386</td>\n",
       "      <td>0.21867</td>\n",
       "      <td>-0.072132</td>\n",
       "      <td>-0.51783</td>\n",
       "      <td>-0.054186</td>\n",
       "      <td>-0.66391</td>\n",
       "      <td>-0.58224</td>\n",
       "      <td>0.060621</td>\n",
       "      <td>-0.54001</td>\n",
       "      <td>0.72242</td>\n",
       "      <td>0.13349</td>\n",
       "      <td>-0.070261</td>\n",
       "      <td>-0.059061</td>\n",
       "      <td>-0.035474</td>\n",
       "      <td>-0.53649</td>\n",
       "      <td>-0.3755</td>\n",
       "      <td>0.11234</td>\n",
       "      <td>-0.3409</td>\n",
       "      <td>-0.13406</td>\n",
       "      <td>0.007887</td>\n",
       "      <td>0.81973</td>\n",
       "      <td>-0.075774</td>\n",
       "      <td>0.10947</td>\n",
       "      <td>0.26919</td>\n",
       "      <td>-0.069167</td>\n",
       "      <td>0.27475</td>\n",
       "      <td>-0.90546</td>\n",
       "      <td>0.54632</td>\n",
       "      <td>-0.6847</td>\n",
       "      <td>0.35787</td>\n",
       "      <td>-0.015019</td>\n",
       "      <td>0.42209</td>\n",
       "      <td>-0.06252</td>\n",
       "      <td>-0.33265</td>\n",
       "      <td>-0.60945</td>\n",
       "      <td>-0.23269</td>\n",
       "      <td>-0.40932</td>\n",
       "      <td>0.51566</td>\n",
       "      <td>0.84726</td>\n",
       "      <td>0.020946</td>\n",
       "      <td>0.19525</td>\n",
       "      <td>0.89617</td>\n",
       "      <td>0.22821</td>\n",
       "      <td>0.63518</td>\n",
       "      <td>-0.70839</td>\n",
       "      <td>-0.011323</td>\n",
       "      <td>0.92501</td>\n",
       "      <td>-0.17742</td>\n",
       "      <td>-0.020288</td>\n",
       "      <td>0.49284</td>\n",
       "      <td>0.41775</td>\n",
       "      <td>-0.52065</td>\n",
       "      <td>-4.2043</td>\n",
       "      <td>0.84009</td>\n",
       "      <td>-0.24335</td>\n",
       "      <td>-0.06989</td>\n",
       "      <td>-0.31298</td>\n",
       "      <td>0.36754</td>\n",
       "      <td>0.47112</td>\n",
       "      <td>0.57206</td>\n",
       "      <td>0.59132</td>\n",
       "      <td>-0.17664</td>\n",
       "      <td>0.42564</td>\n",
       "      <td>0.48229</td>\n",
       "      <td>0.40946</td>\n",
       "      <td>-0.83646</td>\n",
       "      <td>0.36686</td>\n",
       "      <td>-0.24538</td>\n",
       "      <td>0.13244</td>\n",
       "      <td>-0.29066</td>\n",
       "      <td>-0.38602</td>\n",
       "      <td>-0.55822</td>\n",
       "      <td>0.10684</td>\n",
       "      <td>0.19424</td>\n",
       "      <td>0.069472</td>\n",
       "      <td>0.42863</td>\n",
       "      <td>0.25874</td>\n",
       "      <td>-0.27356</td>\n",
       "      <td>-0.57201</td>\n",
       "      <td>0.27914</td>\n",
       "      <td>-0.69152</td>\n",
       "      <td>-0.20337</td>\n",
       "      <td>0.48979</td>\n",
       "      <td>-0.33717</td>\n",
       "      <td>0.40298</td>\n",
       "      <td>-0.020644</td>\n",
       "      <td>0.10159</td>\n",
       "      <td>-0.77235</td>\n",
       "      <td>-0.23793</td>\n",
       "      <td>-0.26272</td>\n",
       "      <td>-0.57054</td>\n",
       "      <td>0.85216</td>\n",
       "      <td>0.66403</td>\n",
       "      <td>0.009447</td>\n",
       "      <td>0.27247</td>\n",
       "      <td>-0.53516</td>\n",
       "      <td>-0.47101</td>\n",
       "      <td>0.29318</td>\n",
       "      <td>-0.35322</td>\n",
       "      <td>-0.57052</td>\n",
       "      <td>0.64503</td>\n",
       "      <td>0.15509</td>\n",
       "      <td>-0.16464</td>\n",
       "      <td>0.20202</td>\n",
       "      <td>0.39058</td>\n",
       "      <td>0.53661</td>\n",
       "      <td>-0.35763</td>\n",
       "      <td>0.34521</td>\n",
       "      <td>-0.29123</td>\n",
       "      <td>-0.082283</td>\n",
       "      <td>-0.27913</td>\n",
       "      <td>0.1491</td>\n",
       "      <td>0.25813</td>\n",
       "      <td>0.23189</td>\n",
       "      <td>0.17817</td>\n",
       "      <td>-0.34999</td>\n",
       "      <td>-0.43301</td>\n",
       "      <td>-0.081137</td>\n",
       "      <td>0.12282</td>\n",
       "      <td>0.53281</td>\n",
       "      <td>1.2064</td>\n",
       "      <td>0.043001</td>\n",
       "      <td>0.21776</td>\n",
       "      <td>0.52524</td>\n",
       "      <td>0.17676</td>\n",
       "      <td>0.49993</td>\n",
       "      <td>-0.27142</td>\n",
       "      <td>0.034736</td>\n",
       "      <td>-0.30927</td>\n",
       "      <td>0.25019</td>\n",
       "      <td>-0.20913</td>\n",
       "      <td>0.39588</td>\n",
       "      <td>0.57821</td>\n",
       "      <td>0.0866</td>\n",
       "      <td>-0.66691</td>\n",
       "      <td>0.76625</td>\n",
       "      <td>-0.26714</td>\n",
       "      <td>-0.33894</td>\n",
       "      <td>0.5566</td>\n",
       "      <td>-0.37453</td>\n",
       "    </tr>\n",
       "  </tbody>\n",
       "</table>\n",
       "</div>"
      ],
      "text/plain": [
       "    v1        v2  label       0        1        2         3        4        5  \\\n",
       "0  #rt  #believe      1  0.6047  0.89542  0.27923  0.033489  0.15873  0.18522   \n",
       "\n",
       "         6        7        8       9       10       11      12        13  \\\n",
       "0  0.30722  0.47445  0.44484  0.7045  0.39528 -0.19818 -2.3884  0.095433   \n",
       "\n",
       "        14       15       16      17       18       19       20       21  \\\n",
       "0  0.10782  0.26263  0.36582 -0.6385 -0.22938 -0.34722  0.10977  0.37367   \n",
       "\n",
       "         22       23       24      25       26        27       28        29  \\\n",
       "0 -0.068053 -0.39421  0.43471 -2.1794 -0.47111  0.087237  0.57989 -0.020883   \n",
       "\n",
       "       30       31      32       33      34       35       36       37  \\\n",
       "0 -0.0695  0.25771 -0.5019  0.41154  1.2178  0.47976 -0.31574  0.52983   \n",
       "\n",
       "         38       39      40        41       42       43        44        45  \\\n",
       "0  0.041575  0.44973 -1.5363 -0.096062 -0.27531  0.52771  0.028587  0.047935   \n",
       "\n",
       "       46        47       48      49       50       51       52       53  \\\n",
       "0 -0.5973 -0.051772  0.11377 -0.4049 -0.54857 -0.65916 -0.38132 -0.39519   \n",
       "\n",
       "        54       55       56       57       58       59       60       61  \\\n",
       "0  0.42961  0.74531 -0.50838  0.40392  0.62699 -0.24798 -0.25386  0.21867   \n",
       "\n",
       "         62       63        64       65       66        67       68       69  \\\n",
       "0 -0.072132 -0.51783 -0.054186 -0.66391 -0.58224  0.060621 -0.54001  0.72242   \n",
       "\n",
       "        70        71        72        73       74      75       76      77  \\\n",
       "0  0.13349 -0.070261 -0.059061 -0.035474 -0.53649 -0.3755  0.11234 -0.3409   \n",
       "\n",
       "        78        79       80        81       82       83        84       85  \\\n",
       "0 -0.13406  0.007887  0.81973 -0.075774  0.10947  0.26919 -0.069167  0.27475   \n",
       "\n",
       "        86       87      88       89        90       91       92       93  \\\n",
       "0 -0.90546  0.54632 -0.6847  0.35787 -0.015019  0.42209 -0.06252 -0.33265   \n",
       "\n",
       "        94       95       96       97       98        99      100      101  \\\n",
       "0 -0.60945 -0.23269 -0.40932  0.51566  0.84726  0.020946  0.19525  0.89617   \n",
       "\n",
       "       102      103      104       105      106      107       108      109  \\\n",
       "0  0.22821  0.63518 -0.70839 -0.011323  0.92501 -0.17742 -0.020288  0.49284   \n",
       "\n",
       "       110      111     112      113      114      115      116      117  \\\n",
       "0  0.41775 -0.52065 -4.2043  0.84009 -0.24335 -0.06989 -0.31298  0.36754   \n",
       "\n",
       "       118      119      120      121      122      123      124      125  \\\n",
       "0  0.47112  0.57206  0.59132 -0.17664  0.42564  0.48229  0.40946 -0.83646   \n",
       "\n",
       "       126      127      128      129      130      131      132      133  \\\n",
       "0  0.36686 -0.24538  0.13244 -0.29066 -0.38602 -0.55822  0.10684  0.19424   \n",
       "\n",
       "        134      135      136      137      138      139      140      141  \\\n",
       "0  0.069472  0.42863  0.25874 -0.27356 -0.57201  0.27914 -0.69152 -0.20337   \n",
       "\n",
       "       142      143      144       145      146      147      148      149  \\\n",
       "0  0.48979 -0.33717  0.40298 -0.020644  0.10159 -0.77235 -0.23793 -0.26272   \n",
       "\n",
       "       150      151      152       153      154      155      156      157  \\\n",
       "0 -0.57054  0.85216  0.66403  0.009447  0.27247 -0.53516 -0.47101  0.29318   \n",
       "\n",
       "       158      159      160      161      162      163      164      165  \\\n",
       "0 -0.35322 -0.57052  0.64503  0.15509 -0.16464  0.20202  0.39058  0.53661   \n",
       "\n",
       "       166      167      168       169      170     171      172      173  \\\n",
       "0 -0.35763  0.34521 -0.29123 -0.082283 -0.27913  0.1491  0.25813  0.23189   \n",
       "\n",
       "       174      175      176       177      178      179     180       181  \\\n",
       "0  0.17817 -0.34999 -0.43301 -0.081137  0.12282  0.53281  1.2064  0.043001   \n",
       "\n",
       "       182      183      184      185      186       187      188      189  \\\n",
       "0  0.21776  0.52524  0.17676  0.49993 -0.27142  0.034736 -0.30927  0.25019   \n",
       "\n",
       "       190      191      192     193      194      195      196      197  \\\n",
       "0 -0.20913  0.39588  0.57821  0.0866 -0.66691  0.76625 -0.26714 -0.33894   \n",
       "\n",
       "      198      199  \n",
       "0  0.5566 -0.37453  "
      ]
     },
     "execution_count": 39,
     "metadata": {},
     "output_type": "execute_result"
    }
   ],
   "source": [
    "Smote2B.head(1)"
   ]
  },
  {
   "cell_type": "code",
   "execution_count": 40,
   "metadata": {},
   "outputs": [],
   "source": [
    "name1=list(range(0,100))\n",
    "name2=list(range(100,200))"
   ]
  },
  {
   "cell_type": "code",
   "execution_count": 41,
   "metadata": {},
   "outputs": [
    {
     "data": {
      "text/plain": [
       "(42991, 200)"
      ]
     },
     "execution_count": 41,
     "metadata": {},
     "output_type": "execute_result"
    },
    {
     "data": {
      "text/plain": [
       "Counter({1: 2105, 0: 40886})"
      ]
     },
     "execution_count": 41,
     "metadata": {},
     "output_type": "execute_result"
    }
   ],
   "source": [
    "x=Smote2B[name1+name2]\n",
    "x.shape\n",
    "y=Smote2B['label']\n",
    "Counter(y)"
   ]
  },
  {
   "cell_type": "code",
   "execution_count": 42,
   "metadata": {},
   "outputs": [],
   "source": [
    "smo=SMOTE(random_state=1,sampling_strategy=0.07)\n",
    "x_smote,y_smote=smo.fit_sample(x,y)"
   ]
  },
  {
   "cell_type": "code",
   "execution_count": 43,
   "metadata": {},
   "outputs": [
    {
     "data": {
      "text/plain": [
       "2877"
      ]
     },
     "execution_count": 43,
     "metadata": {},
     "output_type": "execute_result"
    },
    {
     "data": {
      "text/html": [
       "<div>\n",
       "<style scoped>\n",
       "    .dataframe tbody tr th:only-of-type {\n",
       "        vertical-align: middle;\n",
       "    }\n",
       "\n",
       "    .dataframe tbody tr th {\n",
       "        vertical-align: top;\n",
       "    }\n",
       "\n",
       "    .dataframe thead th {\n",
       "        text-align: right;\n",
       "    }\n",
       "</style>\n",
       "<table border=\"1\" class=\"dataframe\">\n",
       "  <thead>\n",
       "    <tr style=\"text-align: right;\">\n",
       "      <th></th>\n",
       "      <th>tag</th>\n",
       "      <th>key</th>\n",
       "      <th>neg</th>\n",
       "      <th>ne</th>\n",
       "      <th>po</th>\n",
       "      <th>m</th>\n",
       "      <th>rumor</th>\n",
       "      <th>not_rumor</th>\n",
       "      <th>word</th>\n",
       "      <th>embeddings</th>\n",
       "    </tr>\n",
       "  </thead>\n",
       "  <tbody>\n",
       "    <tr>\n",
       "      <th>0</th>\n",
       "      <td>#rapidtest</td>\n",
       "      <td>0</td>\n",
       "      <td>0</td>\n",
       "      <td>1</td>\n",
       "      <td>0</td>\n",
       "      <td>0</td>\n",
       "      <td>0</td>\n",
       "      <td>1</td>\n",
       "      <td>rapidtest</td>\n",
       "      <td>[0.0, 0.0, 0.0, 0.0, 0.0, 0.0, 0.0, 0.0, 0.0, ...</td>\n",
       "    </tr>\n",
       "  </tbody>\n",
       "</table>\n",
       "</div>"
      ],
      "text/plain": [
       "          tag  key  neg  ne  po  m  rumor  not_rumor       word  \\\n",
       "0  #rapidtest    0    0   1   0  0      0          1  rapidtest   \n",
       "\n",
       "                                          embeddings  \n",
       "0  [0.0, 0.0, 0.0, 0.0, 0.0, 0.0, 0.0, 0.0, 0.0, ...  "
      ]
     },
     "execution_count": 43,
     "metadata": {},
     "output_type": "execute_result"
    },
    {
     "data": {
      "text/plain": [
       "0.03663089426361042"
      ]
     },
     "execution_count": 43,
     "metadata": {},
     "output_type": "execute_result"
    }
   ],
   "source": [
    "len(a)\n",
    "a.head(1)\n",
    "temp=[]\n",
    "for i in range(0,len(a)):\n",
    "    t1=a.rumor[i]\n",
    "    t2=a.not_rumor[i]\n",
    "    t3=t1/(t1+t2)\n",
    "    temp.append(t3)\n",
    "a['rate']=temp\n",
    "a.rate.mean()"
   ]
  },
  {
   "cell_type": "code",
   "execution_count": 44,
   "metadata": {},
   "outputs": [],
   "source": [
    "a['label']=a['rate'].apply(lambda x: 1 if x>0.037 else 0)"
   ]
  },
  {
   "cell_type": "code",
   "execution_count": 45,
   "metadata": {},
   "outputs": [
    {
     "data": {
      "text/plain": [
       "Counter({1: 2862, 0: 40886})"
      ]
     },
     "execution_count": 45,
     "metadata": {},
     "output_type": "execute_result"
    },
    {
     "data": {
      "text/plain": [
       "Counter({0: 2552, 1: 325})"
      ]
     },
     "execution_count": 45,
     "metadata": {},
     "output_type": "execute_result"
    }
   ],
   "source": [
    "Counter(y_smote)\n",
    "Counter(a.label)"
   ]
  },
  {
   "cell_type": "code",
   "execution_count": 46,
   "metadata": {},
   "outputs": [
    {
     "data": {
      "text/html": [
       "<div>\n",
       "<style scoped>\n",
       "    .dataframe tbody tr th:only-of-type {\n",
       "        vertical-align: middle;\n",
       "    }\n",
       "\n",
       "    .dataframe tbody tr th {\n",
       "        vertical-align: top;\n",
       "    }\n",
       "\n",
       "    .dataframe thead th {\n",
       "        text-align: right;\n",
       "    }\n",
       "</style>\n",
       "<table border=\"1\" class=\"dataframe\">\n",
       "  <thead>\n",
       "    <tr style=\"text-align: right;\">\n",
       "      <th></th>\n",
       "      <th>tag</th>\n",
       "      <th>key</th>\n",
       "      <th>neg</th>\n",
       "      <th>ne</th>\n",
       "      <th>po</th>\n",
       "      <th>m</th>\n",
       "      <th>rumor</th>\n",
       "      <th>not_rumor</th>\n",
       "      <th>word</th>\n",
       "      <th>embeddings</th>\n",
       "      <th>rate</th>\n",
       "      <th>label</th>\n",
       "    </tr>\n",
       "  </thead>\n",
       "  <tbody>\n",
       "    <tr>\n",
       "      <th>0</th>\n",
       "      <td>#rapidtest</td>\n",
       "      <td>0</td>\n",
       "      <td>0</td>\n",
       "      <td>1</td>\n",
       "      <td>0</td>\n",
       "      <td>0</td>\n",
       "      <td>0</td>\n",
       "      <td>1</td>\n",
       "      <td>rapidtest</td>\n",
       "      <td>[0.0, 0.0, 0.0, 0.0, 0.0, 0.0, 0.0, 0.0, 0.0, ...</td>\n",
       "      <td>0.0</td>\n",
       "      <td>0</td>\n",
       "    </tr>\n",
       "  </tbody>\n",
       "</table>\n",
       "</div>"
      ],
      "text/plain": [
       "          tag  key  neg  ne  po  m  rumor  not_rumor       word  \\\n",
       "0  #rapidtest    0    0   1   0  0      0          1  rapidtest   \n",
       "\n",
       "                                          embeddings  rate  label  \n",
       "0  [0.0, 0.0, 0.0, 0.0, 0.0, 0.0, 0.0, 0.0, 0.0, ...   0.0      0  "
      ]
     },
     "execution_count": 46,
     "metadata": {},
     "output_type": "execute_result"
    }
   ],
   "source": [
    "temp=[i for i in range(0,len(a))]\n",
    "a['key']=temp\n",
    "a.head(1)"
   ]
  },
  {
   "cell_type": "code",
   "execution_count": 47,
   "metadata": {},
   "outputs": [
    {
     "data": {
      "text/plain": [
       "0"
      ]
     },
     "execution_count": 47,
     "metadata": {},
     "output_type": "execute_result"
    },
    {
     "data": {
      "text/plain": [
       "2876"
      ]
     },
     "execution_count": 47,
     "metadata": {},
     "output_type": "execute_result"
    },
    {
     "data": {
      "text/plain": [
       "2877"
      ]
     },
     "execution_count": 47,
     "metadata": {},
     "output_type": "execute_result"
    },
    {
     "data": {
      "text/html": [
       "<div>\n",
       "<style scoped>\n",
       "    .dataframe tbody tr th:only-of-type {\n",
       "        vertical-align: middle;\n",
       "    }\n",
       "\n",
       "    .dataframe tbody tr th {\n",
       "        vertical-align: top;\n",
       "    }\n",
       "\n",
       "    .dataframe thead th {\n",
       "        text-align: right;\n",
       "    }\n",
       "</style>\n",
       "<table border=\"1\" class=\"dataframe\">\n",
       "  <thead>\n",
       "    <tr style=\"text-align: right;\">\n",
       "      <th></th>\n",
       "      <th>v1</th>\n",
       "      <th>em_v1</th>\n",
       "      <th>v2</th>\n",
       "      <th>em_v2</th>\n",
       "      <th>rumor_link</th>\n",
       "      <th>not_rumor_link</th>\n",
       "      <th>rate</th>\n",
       "      <th>label</th>\n",
       "    </tr>\n",
       "  </thead>\n",
       "  <tbody>\n",
       "    <tr>\n",
       "      <th>0</th>\n",
       "      <td>#rt</td>\n",
       "      <td>[0.6047000288963318, 0.8954200148582458, 0.279...</td>\n",
       "      <td>#believe</td>\n",
       "      <td>[0.195250004529953, 0.8961700201034546, 0.2282...</td>\n",
       "      <td>1</td>\n",
       "      <td>13</td>\n",
       "      <td>0.071429</td>\n",
       "      <td>1</td>\n",
       "    </tr>\n",
       "  </tbody>\n",
       "</table>\n",
       "</div>"
      ],
      "text/plain": [
       "    v1                                              em_v1        v2  \\\n",
       "0  #rt  [0.6047000288963318, 0.8954200148582458, 0.279...  #believe   \n",
       "\n",
       "                                               em_v2  rumor_link  \\\n",
       "0  [0.195250004529953, 0.8961700201034546, 0.2282...           1   \n",
       "\n",
       "   not_rumor_link      rate  label  \n",
       "0              13  0.071429      1  "
      ]
     },
     "execution_count": 47,
     "metadata": {},
     "output_type": "execute_result"
    },
    {
     "data": {
      "text/html": [
       "<div>\n",
       "<style scoped>\n",
       "    .dataframe tbody tr th:only-of-type {\n",
       "        vertical-align: middle;\n",
       "    }\n",
       "\n",
       "    .dataframe tbody tr th {\n",
       "        vertical-align: top;\n",
       "    }\n",
       "\n",
       "    .dataframe thead th {\n",
       "        text-align: right;\n",
       "    }\n",
       "</style>\n",
       "<table border=\"1\" class=\"dataframe\">\n",
       "  <thead>\n",
       "    <tr style=\"text-align: right;\">\n",
       "      <th></th>\n",
       "      <th>vertices</th>\n",
       "      <th>neg_x</th>\n",
       "      <th>ne_x</th>\n",
       "      <th>po_x</th>\n",
       "      <th>m_x</th>\n",
       "      <th>rumor_x</th>\n",
       "      <th>not_rumor_x</th>\n",
       "      <th>v1</th>\n",
       "      <th>v2</th>\n",
       "      <th>key1</th>\n",
       "      <th>key2</th>\n",
       "      <th>max</th>\n",
       "      <th>max_label</th>\n",
       "      <th>tag_x</th>\n",
       "      <th>key_x</th>\n",
       "      <th>neg_y</th>\n",
       "      <th>ne_y</th>\n",
       "      <th>po_y</th>\n",
       "      <th>m_y</th>\n",
       "      <th>rumor_y</th>\n",
       "      <th>not_rumor_y</th>\n",
       "      <th>word_x</th>\n",
       "      <th>embeddings_x</th>\n",
       "      <th>tag_y</th>\n",
       "      <th>key_y</th>\n",
       "      <th>neg</th>\n",
       "      <th>ne</th>\n",
       "      <th>po</th>\n",
       "      <th>m</th>\n",
       "      <th>rumor</th>\n",
       "      <th>not_rumor</th>\n",
       "      <th>word_y</th>\n",
       "      <th>embeddings_y</th>\n",
       "    </tr>\n",
       "  </thead>\n",
       "  <tbody>\n",
       "    <tr>\n",
       "      <th>0</th>\n",
       "      <td>('#rt', '#believe')</td>\n",
       "      <td>6</td>\n",
       "      <td>8</td>\n",
       "      <td>0</td>\n",
       "      <td>0</td>\n",
       "      <td>1</td>\n",
       "      <td>13</td>\n",
       "      <td>#rt</td>\n",
       "      <td>#believe</td>\n",
       "      <td>433</td>\n",
       "      <td>410</td>\n",
       "      <td>8</td>\n",
       "      <td>1</td>\n",
       "      <td>#rt</td>\n",
       "      <td>2251</td>\n",
       "      <td>1634</td>\n",
       "      <td>1764</td>\n",
       "      <td>237</td>\n",
       "      <td>4</td>\n",
       "      <td>71</td>\n",
       "      <td>3568</td>\n",
       "      <td>rt</td>\n",
       "      <td>[0.6047000288963318, 0.8954200148582458, 0.279...</td>\n",
       "      <td>#believe</td>\n",
       "      <td>94</td>\n",
       "      <td>21</td>\n",
       "      <td>19</td>\n",
       "      <td>3</td>\n",
       "      <td>0</td>\n",
       "      <td>5</td>\n",
       "      <td>38</td>\n",
       "      <td>believe</td>\n",
       "      <td>[0.195250004529953, 0.8961700201034546, 0.2282...</td>\n",
       "    </tr>\n",
       "  </tbody>\n",
       "</table>\n",
       "</div>"
      ],
      "text/plain": [
       "              vertices  neg_x  ne_x  po_x  m_x  rumor_x  not_rumor_x   v1  \\\n",
       "0  ('#rt', '#believe')      6     8     0    0        1           13  #rt   \n",
       "\n",
       "         v2  key1  key2  max  max_label tag_x  key_x  neg_y  ne_y  po_y  m_y  \\\n",
       "0  #believe   433   410    8          1   #rt   2251   1634  1764   237    4   \n",
       "\n",
       "   rumor_y  not_rumor_y word_x  \\\n",
       "0       71         3568     rt   \n",
       "\n",
       "                                        embeddings_x     tag_y  key_y  neg  \\\n",
       "0  [0.6047000288963318, 0.8954200148582458, 0.279...  #believe     94   21   \n",
       "\n",
       "   ne  po  m  rumor  not_rumor   word_y  \\\n",
       "0  19   3  0      5         38  believe   \n",
       "\n",
       "                                        embeddings_y  \n",
       "0  [0.195250004529953, 0.8961700201034546, 0.2282...  "
      ]
     },
     "execution_count": 47,
     "metadata": {},
     "output_type": "execute_result"
    }
   ],
   "source": [
    "a.key.min()\n",
    "a.key.max()\n",
    "len(a)\n",
    "dflinks.head(1)\n",
    "dflink.head(1)"
   ]
  },
  {
   "cell_type": "code",
   "execution_count": 48,
   "metadata": {},
   "outputs": [],
   "source": [
    "smotedf=pd.concat([x_smote,y_smote],axis=1)"
   ]
  },
  {
   "cell_type": "code",
   "execution_count": 49,
   "metadata": {},
   "outputs": [
    {
     "data": {
      "text/html": [
       "<div>\n",
       "<style scoped>\n",
       "    .dataframe tbody tr th:only-of-type {\n",
       "        vertical-align: middle;\n",
       "    }\n",
       "\n",
       "    .dataframe tbody tr th {\n",
       "        vertical-align: top;\n",
       "    }\n",
       "\n",
       "    .dataframe thead th {\n",
       "        text-align: right;\n",
       "    }\n",
       "</style>\n",
       "<table border=\"1\" class=\"dataframe\">\n",
       "  <thead>\n",
       "    <tr style=\"text-align: right;\">\n",
       "      <th></th>\n",
       "      <th>0</th>\n",
       "      <th>1</th>\n",
       "      <th>2</th>\n",
       "      <th>3</th>\n",
       "      <th>4</th>\n",
       "      <th>5</th>\n",
       "      <th>6</th>\n",
       "      <th>7</th>\n",
       "      <th>8</th>\n",
       "      <th>9</th>\n",
       "      <th>10</th>\n",
       "      <th>11</th>\n",
       "      <th>12</th>\n",
       "      <th>13</th>\n",
       "      <th>14</th>\n",
       "      <th>15</th>\n",
       "      <th>16</th>\n",
       "      <th>17</th>\n",
       "      <th>18</th>\n",
       "      <th>19</th>\n",
       "      <th>20</th>\n",
       "      <th>21</th>\n",
       "      <th>22</th>\n",
       "      <th>23</th>\n",
       "      <th>24</th>\n",
       "      <th>25</th>\n",
       "      <th>26</th>\n",
       "      <th>27</th>\n",
       "      <th>28</th>\n",
       "      <th>29</th>\n",
       "      <th>30</th>\n",
       "      <th>31</th>\n",
       "      <th>32</th>\n",
       "      <th>33</th>\n",
       "      <th>34</th>\n",
       "      <th>35</th>\n",
       "      <th>36</th>\n",
       "      <th>37</th>\n",
       "      <th>38</th>\n",
       "      <th>39</th>\n",
       "      <th>40</th>\n",
       "      <th>41</th>\n",
       "      <th>42</th>\n",
       "      <th>43</th>\n",
       "      <th>44</th>\n",
       "      <th>45</th>\n",
       "      <th>46</th>\n",
       "      <th>47</th>\n",
       "      <th>48</th>\n",
       "      <th>49</th>\n",
       "      <th>50</th>\n",
       "      <th>51</th>\n",
       "      <th>52</th>\n",
       "      <th>53</th>\n",
       "      <th>54</th>\n",
       "      <th>55</th>\n",
       "      <th>56</th>\n",
       "      <th>57</th>\n",
       "      <th>58</th>\n",
       "      <th>59</th>\n",
       "      <th>60</th>\n",
       "      <th>61</th>\n",
       "      <th>62</th>\n",
       "      <th>63</th>\n",
       "      <th>64</th>\n",
       "      <th>65</th>\n",
       "      <th>66</th>\n",
       "      <th>67</th>\n",
       "      <th>68</th>\n",
       "      <th>69</th>\n",
       "      <th>70</th>\n",
       "      <th>71</th>\n",
       "      <th>72</th>\n",
       "      <th>73</th>\n",
       "      <th>74</th>\n",
       "      <th>75</th>\n",
       "      <th>76</th>\n",
       "      <th>77</th>\n",
       "      <th>78</th>\n",
       "      <th>79</th>\n",
       "      <th>80</th>\n",
       "      <th>81</th>\n",
       "      <th>82</th>\n",
       "      <th>83</th>\n",
       "      <th>84</th>\n",
       "      <th>85</th>\n",
       "      <th>86</th>\n",
       "      <th>87</th>\n",
       "      <th>88</th>\n",
       "      <th>89</th>\n",
       "      <th>90</th>\n",
       "      <th>91</th>\n",
       "      <th>92</th>\n",
       "      <th>93</th>\n",
       "      <th>94</th>\n",
       "      <th>95</th>\n",
       "      <th>96</th>\n",
       "      <th>97</th>\n",
       "      <th>98</th>\n",
       "      <th>99</th>\n",
       "      <th>100</th>\n",
       "      <th>101</th>\n",
       "      <th>102</th>\n",
       "      <th>103</th>\n",
       "      <th>104</th>\n",
       "      <th>105</th>\n",
       "      <th>106</th>\n",
       "      <th>107</th>\n",
       "      <th>108</th>\n",
       "      <th>109</th>\n",
       "      <th>110</th>\n",
       "      <th>111</th>\n",
       "      <th>112</th>\n",
       "      <th>113</th>\n",
       "      <th>114</th>\n",
       "      <th>115</th>\n",
       "      <th>116</th>\n",
       "      <th>117</th>\n",
       "      <th>118</th>\n",
       "      <th>119</th>\n",
       "      <th>120</th>\n",
       "      <th>121</th>\n",
       "      <th>122</th>\n",
       "      <th>123</th>\n",
       "      <th>124</th>\n",
       "      <th>125</th>\n",
       "      <th>126</th>\n",
       "      <th>127</th>\n",
       "      <th>128</th>\n",
       "      <th>129</th>\n",
       "      <th>130</th>\n",
       "      <th>131</th>\n",
       "      <th>132</th>\n",
       "      <th>133</th>\n",
       "      <th>134</th>\n",
       "      <th>135</th>\n",
       "      <th>136</th>\n",
       "      <th>137</th>\n",
       "      <th>138</th>\n",
       "      <th>139</th>\n",
       "      <th>140</th>\n",
       "      <th>141</th>\n",
       "      <th>142</th>\n",
       "      <th>143</th>\n",
       "      <th>144</th>\n",
       "      <th>145</th>\n",
       "      <th>146</th>\n",
       "      <th>147</th>\n",
       "      <th>148</th>\n",
       "      <th>149</th>\n",
       "      <th>150</th>\n",
       "      <th>151</th>\n",
       "      <th>152</th>\n",
       "      <th>153</th>\n",
       "      <th>154</th>\n",
       "      <th>155</th>\n",
       "      <th>156</th>\n",
       "      <th>157</th>\n",
       "      <th>158</th>\n",
       "      <th>159</th>\n",
       "      <th>160</th>\n",
       "      <th>161</th>\n",
       "      <th>162</th>\n",
       "      <th>163</th>\n",
       "      <th>164</th>\n",
       "      <th>165</th>\n",
       "      <th>166</th>\n",
       "      <th>167</th>\n",
       "      <th>168</th>\n",
       "      <th>169</th>\n",
       "      <th>170</th>\n",
       "      <th>171</th>\n",
       "      <th>172</th>\n",
       "      <th>173</th>\n",
       "      <th>174</th>\n",
       "      <th>175</th>\n",
       "      <th>176</th>\n",
       "      <th>177</th>\n",
       "      <th>178</th>\n",
       "      <th>179</th>\n",
       "      <th>180</th>\n",
       "      <th>181</th>\n",
       "      <th>182</th>\n",
       "      <th>183</th>\n",
       "      <th>184</th>\n",
       "      <th>185</th>\n",
       "      <th>186</th>\n",
       "      <th>187</th>\n",
       "      <th>188</th>\n",
       "      <th>189</th>\n",
       "      <th>190</th>\n",
       "      <th>191</th>\n",
       "      <th>192</th>\n",
       "      <th>193</th>\n",
       "      <th>194</th>\n",
       "      <th>195</th>\n",
       "      <th>196</th>\n",
       "      <th>197</th>\n",
       "      <th>198</th>\n",
       "      <th>199</th>\n",
       "      <th>label</th>\n",
       "    </tr>\n",
       "  </thead>\n",
       "  <tbody>\n",
       "    <tr>\n",
       "      <th>0</th>\n",
       "      <td>0.6047</td>\n",
       "      <td>0.89542</td>\n",
       "      <td>0.27923</td>\n",
       "      <td>0.033489</td>\n",
       "      <td>0.15873</td>\n",
       "      <td>0.18522</td>\n",
       "      <td>0.30722</td>\n",
       "      <td>0.47445</td>\n",
       "      <td>0.44484</td>\n",
       "      <td>0.7045</td>\n",
       "      <td>0.39528</td>\n",
       "      <td>-0.19818</td>\n",
       "      <td>-2.3884</td>\n",
       "      <td>0.095433</td>\n",
       "      <td>0.10782</td>\n",
       "      <td>0.26263</td>\n",
       "      <td>0.36582</td>\n",
       "      <td>-0.6385</td>\n",
       "      <td>-0.22938</td>\n",
       "      <td>-0.34722</td>\n",
       "      <td>0.10977</td>\n",
       "      <td>0.37367</td>\n",
       "      <td>-0.068053</td>\n",
       "      <td>-0.39421</td>\n",
       "      <td>0.43471</td>\n",
       "      <td>-2.1794</td>\n",
       "      <td>-0.47111</td>\n",
       "      <td>0.087237</td>\n",
       "      <td>0.57989</td>\n",
       "      <td>-0.020883</td>\n",
       "      <td>-0.0695</td>\n",
       "      <td>0.25771</td>\n",
       "      <td>-0.5019</td>\n",
       "      <td>0.41154</td>\n",
       "      <td>1.2178</td>\n",
       "      <td>0.47976</td>\n",
       "      <td>-0.31574</td>\n",
       "      <td>0.52983</td>\n",
       "      <td>0.041575</td>\n",
       "      <td>0.44973</td>\n",
       "      <td>-1.5363</td>\n",
       "      <td>-0.096062</td>\n",
       "      <td>-0.27531</td>\n",
       "      <td>0.52771</td>\n",
       "      <td>0.028587</td>\n",
       "      <td>0.047935</td>\n",
       "      <td>-0.5973</td>\n",
       "      <td>-0.051772</td>\n",
       "      <td>0.11377</td>\n",
       "      <td>-0.4049</td>\n",
       "      <td>-0.54857</td>\n",
       "      <td>-0.65916</td>\n",
       "      <td>-0.38132</td>\n",
       "      <td>-0.39519</td>\n",
       "      <td>0.42961</td>\n",
       "      <td>0.74531</td>\n",
       "      <td>-0.50838</td>\n",
       "      <td>0.40392</td>\n",
       "      <td>0.62699</td>\n",
       "      <td>-0.24798</td>\n",
       "      <td>-0.25386</td>\n",
       "      <td>0.21867</td>\n",
       "      <td>-0.072132</td>\n",
       "      <td>-0.51783</td>\n",
       "      <td>-0.054186</td>\n",
       "      <td>-0.66391</td>\n",
       "      <td>-0.58224</td>\n",
       "      <td>0.060621</td>\n",
       "      <td>-0.54001</td>\n",
       "      <td>0.72242</td>\n",
       "      <td>0.13349</td>\n",
       "      <td>-0.070261</td>\n",
       "      <td>-0.059061</td>\n",
       "      <td>-0.035474</td>\n",
       "      <td>-0.53649</td>\n",
       "      <td>-0.3755</td>\n",
       "      <td>0.11234</td>\n",
       "      <td>-0.3409</td>\n",
       "      <td>-0.13406</td>\n",
       "      <td>0.007887</td>\n",
       "      <td>0.81973</td>\n",
       "      <td>-0.075774</td>\n",
       "      <td>0.10947</td>\n",
       "      <td>0.26919</td>\n",
       "      <td>-0.069167</td>\n",
       "      <td>0.27475</td>\n",
       "      <td>-0.90546</td>\n",
       "      <td>0.54632</td>\n",
       "      <td>-0.6847</td>\n",
       "      <td>0.35787</td>\n",
       "      <td>-0.015019</td>\n",
       "      <td>0.42209</td>\n",
       "      <td>-0.06252</td>\n",
       "      <td>-0.33265</td>\n",
       "      <td>-0.60945</td>\n",
       "      <td>-0.23269</td>\n",
       "      <td>-0.40932</td>\n",
       "      <td>0.51566</td>\n",
       "      <td>0.84726</td>\n",
       "      <td>0.020946</td>\n",
       "      <td>0.19525</td>\n",
       "      <td>0.89617</td>\n",
       "      <td>0.22821</td>\n",
       "      <td>0.63518</td>\n",
       "      <td>-0.70839</td>\n",
       "      <td>-0.011323</td>\n",
       "      <td>0.92501</td>\n",
       "      <td>-0.17742</td>\n",
       "      <td>-0.020288</td>\n",
       "      <td>0.49284</td>\n",
       "      <td>0.41775</td>\n",
       "      <td>-0.52065</td>\n",
       "      <td>-4.2043</td>\n",
       "      <td>0.84009</td>\n",
       "      <td>-0.24335</td>\n",
       "      <td>-0.06989</td>\n",
       "      <td>-0.31298</td>\n",
       "      <td>0.36754</td>\n",
       "      <td>0.47112</td>\n",
       "      <td>0.57206</td>\n",
       "      <td>0.59132</td>\n",
       "      <td>-0.17664</td>\n",
       "      <td>0.42564</td>\n",
       "      <td>0.48229</td>\n",
       "      <td>0.40946</td>\n",
       "      <td>-0.83646</td>\n",
       "      <td>0.36686</td>\n",
       "      <td>-0.24538</td>\n",
       "      <td>0.13244</td>\n",
       "      <td>-0.29066</td>\n",
       "      <td>-0.38602</td>\n",
       "      <td>-0.55822</td>\n",
       "      <td>0.10684</td>\n",
       "      <td>0.19424</td>\n",
       "      <td>0.069472</td>\n",
       "      <td>0.42863</td>\n",
       "      <td>0.25874</td>\n",
       "      <td>-0.27356</td>\n",
       "      <td>-0.57201</td>\n",
       "      <td>0.27914</td>\n",
       "      <td>-0.69152</td>\n",
       "      <td>-0.20337</td>\n",
       "      <td>0.48979</td>\n",
       "      <td>-0.33717</td>\n",
       "      <td>0.40298</td>\n",
       "      <td>-0.020644</td>\n",
       "      <td>0.10159</td>\n",
       "      <td>-0.77235</td>\n",
       "      <td>-0.23793</td>\n",
       "      <td>-0.26272</td>\n",
       "      <td>-0.57054</td>\n",
       "      <td>0.85216</td>\n",
       "      <td>0.66403</td>\n",
       "      <td>0.009447</td>\n",
       "      <td>0.27247</td>\n",
       "      <td>-0.53516</td>\n",
       "      <td>-0.47101</td>\n",
       "      <td>0.29318</td>\n",
       "      <td>-0.35322</td>\n",
       "      <td>-0.57052</td>\n",
       "      <td>0.64503</td>\n",
       "      <td>0.15509</td>\n",
       "      <td>-0.16464</td>\n",
       "      <td>0.20202</td>\n",
       "      <td>0.39058</td>\n",
       "      <td>0.53661</td>\n",
       "      <td>-0.35763</td>\n",
       "      <td>0.34521</td>\n",
       "      <td>-0.29123</td>\n",
       "      <td>-0.082283</td>\n",
       "      <td>-0.27913</td>\n",
       "      <td>0.1491</td>\n",
       "      <td>0.25813</td>\n",
       "      <td>0.23189</td>\n",
       "      <td>0.17817</td>\n",
       "      <td>-0.34999</td>\n",
       "      <td>-0.43301</td>\n",
       "      <td>-0.081137</td>\n",
       "      <td>0.12282</td>\n",
       "      <td>0.53281</td>\n",
       "      <td>1.2064</td>\n",
       "      <td>0.043001</td>\n",
       "      <td>0.21776</td>\n",
       "      <td>0.52524</td>\n",
       "      <td>0.17676</td>\n",
       "      <td>0.49993</td>\n",
       "      <td>-0.27142</td>\n",
       "      <td>0.034736</td>\n",
       "      <td>-0.30927</td>\n",
       "      <td>0.25019</td>\n",
       "      <td>-0.20913</td>\n",
       "      <td>0.39588</td>\n",
       "      <td>0.57821</td>\n",
       "      <td>0.0866</td>\n",
       "      <td>-0.66691</td>\n",
       "      <td>0.76625</td>\n",
       "      <td>-0.26714</td>\n",
       "      <td>-0.33894</td>\n",
       "      <td>0.5566</td>\n",
       "      <td>-0.37453</td>\n",
       "      <td>1</td>\n",
       "    </tr>\n",
       "  </tbody>\n",
       "</table>\n",
       "</div>"
      ],
      "text/plain": [
       "        0        1        2         3        4        5        6        7  \\\n",
       "0  0.6047  0.89542  0.27923  0.033489  0.15873  0.18522  0.30722  0.47445   \n",
       "\n",
       "         8       9       10       11      12        13       14       15  \\\n",
       "0  0.44484  0.7045  0.39528 -0.19818 -2.3884  0.095433  0.10782  0.26263   \n",
       "\n",
       "        16      17       18       19       20       21        22       23  \\\n",
       "0  0.36582 -0.6385 -0.22938 -0.34722  0.10977  0.37367 -0.068053 -0.39421   \n",
       "\n",
       "        24      25       26        27       28        29      30       31  \\\n",
       "0  0.43471 -2.1794 -0.47111  0.087237  0.57989 -0.020883 -0.0695  0.25771   \n",
       "\n",
       "       32       33      34       35       36       37        38       39  \\\n",
       "0 -0.5019  0.41154  1.2178  0.47976 -0.31574  0.52983  0.041575  0.44973   \n",
       "\n",
       "       40        41       42       43        44        45      46        47  \\\n",
       "0 -1.5363 -0.096062 -0.27531  0.52771  0.028587  0.047935 -0.5973 -0.051772   \n",
       "\n",
       "        48      49       50       51       52       53       54       55  \\\n",
       "0  0.11377 -0.4049 -0.54857 -0.65916 -0.38132 -0.39519  0.42961  0.74531   \n",
       "\n",
       "        56       57       58       59       60       61        62       63  \\\n",
       "0 -0.50838  0.40392  0.62699 -0.24798 -0.25386  0.21867 -0.072132 -0.51783   \n",
       "\n",
       "         64       65       66        67       68       69       70        71  \\\n",
       "0 -0.054186 -0.66391 -0.58224  0.060621 -0.54001  0.72242  0.13349 -0.070261   \n",
       "\n",
       "         72        73       74      75       76      77       78        79  \\\n",
       "0 -0.059061 -0.035474 -0.53649 -0.3755  0.11234 -0.3409 -0.13406  0.007887   \n",
       "\n",
       "        80        81       82       83        84       85       86       87  \\\n",
       "0  0.81973 -0.075774  0.10947  0.26919 -0.069167  0.27475 -0.90546  0.54632   \n",
       "\n",
       "       88       89        90       91       92       93       94       95  \\\n",
       "0 -0.6847  0.35787 -0.015019  0.42209 -0.06252 -0.33265 -0.60945 -0.23269   \n",
       "\n",
       "        96       97       98        99      100      101      102      103  \\\n",
       "0 -0.40932  0.51566  0.84726  0.020946  0.19525  0.89617  0.22821  0.63518   \n",
       "\n",
       "       104       105      106      107       108      109      110      111  \\\n",
       "0 -0.70839 -0.011323  0.92501 -0.17742 -0.020288  0.49284  0.41775 -0.52065   \n",
       "\n",
       "      112      113      114      115      116      117      118      119  \\\n",
       "0 -4.2043  0.84009 -0.24335 -0.06989 -0.31298  0.36754  0.47112  0.57206   \n",
       "\n",
       "       120      121      122      123      124      125      126      127  \\\n",
       "0  0.59132 -0.17664  0.42564  0.48229  0.40946 -0.83646  0.36686 -0.24538   \n",
       "\n",
       "       128      129      130      131      132      133       134      135  \\\n",
       "0  0.13244 -0.29066 -0.38602 -0.55822  0.10684  0.19424  0.069472  0.42863   \n",
       "\n",
       "       136      137      138      139      140      141      142      143  \\\n",
       "0  0.25874 -0.27356 -0.57201  0.27914 -0.69152 -0.20337  0.48979 -0.33717   \n",
       "\n",
       "       144       145      146      147      148      149      150      151  \\\n",
       "0  0.40298 -0.020644  0.10159 -0.77235 -0.23793 -0.26272 -0.57054  0.85216   \n",
       "\n",
       "       152       153      154      155      156      157      158      159  \\\n",
       "0  0.66403  0.009447  0.27247 -0.53516 -0.47101  0.29318 -0.35322 -0.57052   \n",
       "\n",
       "       160      161      162      163      164      165      166      167  \\\n",
       "0  0.64503  0.15509 -0.16464  0.20202  0.39058  0.53661 -0.35763  0.34521   \n",
       "\n",
       "       168       169      170     171      172      173      174      175  \\\n",
       "0 -0.29123 -0.082283 -0.27913  0.1491  0.25813  0.23189  0.17817 -0.34999   \n",
       "\n",
       "       176       177      178      179     180       181      182      183  \\\n",
       "0 -0.43301 -0.081137  0.12282  0.53281  1.2064  0.043001  0.21776  0.52524   \n",
       "\n",
       "       184      185      186       187      188      189      190      191  \\\n",
       "0  0.17676  0.49993 -0.27142  0.034736 -0.30927  0.25019 -0.20913  0.39588   \n",
       "\n",
       "       192     193      194      195      196      197     198      199  label  \n",
       "0  0.57821  0.0866 -0.66691  0.76625 -0.26714 -0.33894  0.5566 -0.37453      1  "
      ]
     },
     "execution_count": 49,
     "metadata": {},
     "output_type": "execute_result"
    },
    {
     "data": {
      "text/plain": [
       "43748"
      ]
     },
     "execution_count": 49,
     "metadata": {},
     "output_type": "execute_result"
    }
   ],
   "source": [
    "smotedf.head(1)\n",
    "len(smotedf)"
   ]
  },
  {
   "cell_type": "code",
   "execution_count": 50,
   "metadata": {},
   "outputs": [],
   "source": [
    "em1=smotedf[name1]\n",
    "em2=smotedf[name2]"
   ]
  },
  {
   "cell_type": "code",
   "execution_count": 51,
   "metadata": {},
   "outputs": [
    {
     "data": {
      "text/html": [
       "<div>\n",
       "<style scoped>\n",
       "    .dataframe tbody tr th:only-of-type {\n",
       "        vertical-align: middle;\n",
       "    }\n",
       "\n",
       "    .dataframe tbody tr th {\n",
       "        vertical-align: top;\n",
       "    }\n",
       "\n",
       "    .dataframe thead th {\n",
       "        text-align: right;\n",
       "    }\n",
       "</style>\n",
       "<table border=\"1\" class=\"dataframe\">\n",
       "  <thead>\n",
       "    <tr style=\"text-align: right;\">\n",
       "      <th></th>\n",
       "      <th>0</th>\n",
       "      <th>1</th>\n",
       "      <th>2</th>\n",
       "      <th>3</th>\n",
       "      <th>4</th>\n",
       "      <th>5</th>\n",
       "      <th>6</th>\n",
       "      <th>7</th>\n",
       "      <th>8</th>\n",
       "      <th>9</th>\n",
       "      <th>10</th>\n",
       "      <th>11</th>\n",
       "      <th>12</th>\n",
       "      <th>13</th>\n",
       "      <th>14</th>\n",
       "      <th>15</th>\n",
       "      <th>16</th>\n",
       "      <th>17</th>\n",
       "      <th>18</th>\n",
       "      <th>19</th>\n",
       "      <th>20</th>\n",
       "      <th>21</th>\n",
       "      <th>22</th>\n",
       "      <th>23</th>\n",
       "      <th>24</th>\n",
       "      <th>25</th>\n",
       "      <th>26</th>\n",
       "      <th>27</th>\n",
       "      <th>28</th>\n",
       "      <th>29</th>\n",
       "      <th>30</th>\n",
       "      <th>31</th>\n",
       "      <th>32</th>\n",
       "      <th>33</th>\n",
       "      <th>34</th>\n",
       "      <th>35</th>\n",
       "      <th>36</th>\n",
       "      <th>37</th>\n",
       "      <th>38</th>\n",
       "      <th>39</th>\n",
       "      <th>40</th>\n",
       "      <th>41</th>\n",
       "      <th>42</th>\n",
       "      <th>43</th>\n",
       "      <th>44</th>\n",
       "      <th>45</th>\n",
       "      <th>46</th>\n",
       "      <th>47</th>\n",
       "      <th>48</th>\n",
       "      <th>49</th>\n",
       "      <th>50</th>\n",
       "      <th>51</th>\n",
       "      <th>52</th>\n",
       "      <th>53</th>\n",
       "      <th>54</th>\n",
       "      <th>55</th>\n",
       "      <th>56</th>\n",
       "      <th>57</th>\n",
       "      <th>58</th>\n",
       "      <th>59</th>\n",
       "      <th>60</th>\n",
       "      <th>61</th>\n",
       "      <th>62</th>\n",
       "      <th>63</th>\n",
       "      <th>64</th>\n",
       "      <th>65</th>\n",
       "      <th>66</th>\n",
       "      <th>67</th>\n",
       "      <th>68</th>\n",
       "      <th>69</th>\n",
       "      <th>70</th>\n",
       "      <th>71</th>\n",
       "      <th>72</th>\n",
       "      <th>73</th>\n",
       "      <th>74</th>\n",
       "      <th>75</th>\n",
       "      <th>76</th>\n",
       "      <th>77</th>\n",
       "      <th>78</th>\n",
       "      <th>79</th>\n",
       "      <th>80</th>\n",
       "      <th>81</th>\n",
       "      <th>82</th>\n",
       "      <th>83</th>\n",
       "      <th>84</th>\n",
       "      <th>85</th>\n",
       "      <th>86</th>\n",
       "      <th>87</th>\n",
       "      <th>88</th>\n",
       "      <th>89</th>\n",
       "      <th>90</th>\n",
       "      <th>91</th>\n",
       "      <th>92</th>\n",
       "      <th>93</th>\n",
       "      <th>94</th>\n",
       "      <th>95</th>\n",
       "      <th>96</th>\n",
       "      <th>97</th>\n",
       "      <th>98</th>\n",
       "      <th>99</th>\n",
       "    </tr>\n",
       "  </thead>\n",
       "  <tbody>\n",
       "    <tr>\n",
       "      <th>0</th>\n",
       "      <td>0.6047</td>\n",
       "      <td>0.89542</td>\n",
       "      <td>0.27923</td>\n",
       "      <td>0.033489</td>\n",
       "      <td>0.15873</td>\n",
       "      <td>0.18522</td>\n",
       "      <td>0.30722</td>\n",
       "      <td>0.47445</td>\n",
       "      <td>0.44484</td>\n",
       "      <td>0.7045</td>\n",
       "      <td>0.39528</td>\n",
       "      <td>-0.19818</td>\n",
       "      <td>-2.3884</td>\n",
       "      <td>0.095433</td>\n",
       "      <td>0.10782</td>\n",
       "      <td>0.26263</td>\n",
       "      <td>0.36582</td>\n",
       "      <td>-0.6385</td>\n",
       "      <td>-0.22938</td>\n",
       "      <td>-0.34722</td>\n",
       "      <td>0.10977</td>\n",
       "      <td>0.37367</td>\n",
       "      <td>-0.068053</td>\n",
       "      <td>-0.39421</td>\n",
       "      <td>0.43471</td>\n",
       "      <td>-2.1794</td>\n",
       "      <td>-0.47111</td>\n",
       "      <td>0.087237</td>\n",
       "      <td>0.57989</td>\n",
       "      <td>-0.020883</td>\n",
       "      <td>-0.0695</td>\n",
       "      <td>0.25771</td>\n",
       "      <td>-0.5019</td>\n",
       "      <td>0.41154</td>\n",
       "      <td>1.2178</td>\n",
       "      <td>0.47976</td>\n",
       "      <td>-0.31574</td>\n",
       "      <td>0.52983</td>\n",
       "      <td>0.041575</td>\n",
       "      <td>0.44973</td>\n",
       "      <td>-1.5363</td>\n",
       "      <td>-0.096062</td>\n",
       "      <td>-0.27531</td>\n",
       "      <td>0.52771</td>\n",
       "      <td>0.028587</td>\n",
       "      <td>0.047935</td>\n",
       "      <td>-0.5973</td>\n",
       "      <td>-0.051772</td>\n",
       "      <td>0.11377</td>\n",
       "      <td>-0.4049</td>\n",
       "      <td>-0.54857</td>\n",
       "      <td>-0.65916</td>\n",
       "      <td>-0.38132</td>\n",
       "      <td>-0.39519</td>\n",
       "      <td>0.42961</td>\n",
       "      <td>0.74531</td>\n",
       "      <td>-0.50838</td>\n",
       "      <td>0.40392</td>\n",
       "      <td>0.62699</td>\n",
       "      <td>-0.24798</td>\n",
       "      <td>-0.25386</td>\n",
       "      <td>0.21867</td>\n",
       "      <td>-0.072132</td>\n",
       "      <td>-0.51783</td>\n",
       "      <td>-0.054186</td>\n",
       "      <td>-0.66391</td>\n",
       "      <td>-0.58224</td>\n",
       "      <td>0.060621</td>\n",
       "      <td>-0.54001</td>\n",
       "      <td>0.72242</td>\n",
       "      <td>0.13349</td>\n",
       "      <td>-0.070261</td>\n",
       "      <td>-0.059061</td>\n",
       "      <td>-0.035474</td>\n",
       "      <td>-0.53649</td>\n",
       "      <td>-0.3755</td>\n",
       "      <td>0.11234</td>\n",
       "      <td>-0.3409</td>\n",
       "      <td>-0.13406</td>\n",
       "      <td>0.007887</td>\n",
       "      <td>0.81973</td>\n",
       "      <td>-0.075774</td>\n",
       "      <td>0.10947</td>\n",
       "      <td>0.26919</td>\n",
       "      <td>-0.069167</td>\n",
       "      <td>0.27475</td>\n",
       "      <td>-0.90546</td>\n",
       "      <td>0.54632</td>\n",
       "      <td>-0.6847</td>\n",
       "      <td>0.35787</td>\n",
       "      <td>-0.015019</td>\n",
       "      <td>0.42209</td>\n",
       "      <td>-0.06252</td>\n",
       "      <td>-0.33265</td>\n",
       "      <td>-0.60945</td>\n",
       "      <td>-0.23269</td>\n",
       "      <td>-0.40932</td>\n",
       "      <td>0.51566</td>\n",
       "      <td>0.84726</td>\n",
       "      <td>0.020946</td>\n",
       "    </tr>\n",
       "  </tbody>\n",
       "</table>\n",
       "</div>"
      ],
      "text/plain": [
       "       0        1        2         3        4        5        6        7   \\\n",
       "0  0.6047  0.89542  0.27923  0.033489  0.15873  0.18522  0.30722  0.47445   \n",
       "\n",
       "        8       9        10       11      12        13       14       15  \\\n",
       "0  0.44484  0.7045  0.39528 -0.19818 -2.3884  0.095433  0.10782  0.26263   \n",
       "\n",
       "        16      17       18       19       20       21        22       23  \\\n",
       "0  0.36582 -0.6385 -0.22938 -0.34722  0.10977  0.37367 -0.068053 -0.39421   \n",
       "\n",
       "        24      25       26        27       28        29      30       31  \\\n",
       "0  0.43471 -2.1794 -0.47111  0.087237  0.57989 -0.020883 -0.0695  0.25771   \n",
       "\n",
       "       32       33      34       35       36       37        38       39  \\\n",
       "0 -0.5019  0.41154  1.2178  0.47976 -0.31574  0.52983  0.041575  0.44973   \n",
       "\n",
       "       40        41       42       43        44        45      46        47  \\\n",
       "0 -1.5363 -0.096062 -0.27531  0.52771  0.028587  0.047935 -0.5973 -0.051772   \n",
       "\n",
       "        48      49       50       51       52       53       54       55  \\\n",
       "0  0.11377 -0.4049 -0.54857 -0.65916 -0.38132 -0.39519  0.42961  0.74531   \n",
       "\n",
       "        56       57       58       59       60       61        62       63  \\\n",
       "0 -0.50838  0.40392  0.62699 -0.24798 -0.25386  0.21867 -0.072132 -0.51783   \n",
       "\n",
       "         64       65       66        67       68       69       70        71  \\\n",
       "0 -0.054186 -0.66391 -0.58224  0.060621 -0.54001  0.72242  0.13349 -0.070261   \n",
       "\n",
       "         72        73       74      75       76      77       78        79  \\\n",
       "0 -0.059061 -0.035474 -0.53649 -0.3755  0.11234 -0.3409 -0.13406  0.007887   \n",
       "\n",
       "        80        81       82       83        84       85       86       87  \\\n",
       "0  0.81973 -0.075774  0.10947  0.26919 -0.069167  0.27475 -0.90546  0.54632   \n",
       "\n",
       "       88       89        90       91       92       93       94       95  \\\n",
       "0 -0.6847  0.35787 -0.015019  0.42209 -0.06252 -0.33265 -0.60945 -0.23269   \n",
       "\n",
       "        96       97       98        99  \n",
       "0 -0.40932  0.51566  0.84726  0.020946  "
      ]
     },
     "execution_count": 51,
     "metadata": {},
     "output_type": "execute_result"
    },
    {
     "data": {
      "text/html": [
       "<div>\n",
       "<style scoped>\n",
       "    .dataframe tbody tr th:only-of-type {\n",
       "        vertical-align: middle;\n",
       "    }\n",
       "\n",
       "    .dataframe tbody tr th {\n",
       "        vertical-align: top;\n",
       "    }\n",
       "\n",
       "    .dataframe thead th {\n",
       "        text-align: right;\n",
       "    }\n",
       "</style>\n",
       "<table border=\"1\" class=\"dataframe\">\n",
       "  <thead>\n",
       "    <tr style=\"text-align: right;\">\n",
       "      <th></th>\n",
       "      <th>100</th>\n",
       "      <th>101</th>\n",
       "      <th>102</th>\n",
       "      <th>103</th>\n",
       "      <th>104</th>\n",
       "      <th>105</th>\n",
       "      <th>106</th>\n",
       "      <th>107</th>\n",
       "      <th>108</th>\n",
       "      <th>109</th>\n",
       "      <th>110</th>\n",
       "      <th>111</th>\n",
       "      <th>112</th>\n",
       "      <th>113</th>\n",
       "      <th>114</th>\n",
       "      <th>115</th>\n",
       "      <th>116</th>\n",
       "      <th>117</th>\n",
       "      <th>118</th>\n",
       "      <th>119</th>\n",
       "      <th>120</th>\n",
       "      <th>121</th>\n",
       "      <th>122</th>\n",
       "      <th>123</th>\n",
       "      <th>124</th>\n",
       "      <th>125</th>\n",
       "      <th>126</th>\n",
       "      <th>127</th>\n",
       "      <th>128</th>\n",
       "      <th>129</th>\n",
       "      <th>130</th>\n",
       "      <th>131</th>\n",
       "      <th>132</th>\n",
       "      <th>133</th>\n",
       "      <th>134</th>\n",
       "      <th>135</th>\n",
       "      <th>136</th>\n",
       "      <th>137</th>\n",
       "      <th>138</th>\n",
       "      <th>139</th>\n",
       "      <th>140</th>\n",
       "      <th>141</th>\n",
       "      <th>142</th>\n",
       "      <th>143</th>\n",
       "      <th>144</th>\n",
       "      <th>145</th>\n",
       "      <th>146</th>\n",
       "      <th>147</th>\n",
       "      <th>148</th>\n",
       "      <th>149</th>\n",
       "      <th>150</th>\n",
       "      <th>151</th>\n",
       "      <th>152</th>\n",
       "      <th>153</th>\n",
       "      <th>154</th>\n",
       "      <th>155</th>\n",
       "      <th>156</th>\n",
       "      <th>157</th>\n",
       "      <th>158</th>\n",
       "      <th>159</th>\n",
       "      <th>160</th>\n",
       "      <th>161</th>\n",
       "      <th>162</th>\n",
       "      <th>163</th>\n",
       "      <th>164</th>\n",
       "      <th>165</th>\n",
       "      <th>166</th>\n",
       "      <th>167</th>\n",
       "      <th>168</th>\n",
       "      <th>169</th>\n",
       "      <th>170</th>\n",
       "      <th>171</th>\n",
       "      <th>172</th>\n",
       "      <th>173</th>\n",
       "      <th>174</th>\n",
       "      <th>175</th>\n",
       "      <th>176</th>\n",
       "      <th>177</th>\n",
       "      <th>178</th>\n",
       "      <th>179</th>\n",
       "      <th>180</th>\n",
       "      <th>181</th>\n",
       "      <th>182</th>\n",
       "      <th>183</th>\n",
       "      <th>184</th>\n",
       "      <th>185</th>\n",
       "      <th>186</th>\n",
       "      <th>187</th>\n",
       "      <th>188</th>\n",
       "      <th>189</th>\n",
       "      <th>190</th>\n",
       "      <th>191</th>\n",
       "      <th>192</th>\n",
       "      <th>193</th>\n",
       "      <th>194</th>\n",
       "      <th>195</th>\n",
       "      <th>196</th>\n",
       "      <th>197</th>\n",
       "      <th>198</th>\n",
       "      <th>199</th>\n",
       "    </tr>\n",
       "  </thead>\n",
       "  <tbody>\n",
       "    <tr>\n",
       "      <th>0</th>\n",
       "      <td>0.19525</td>\n",
       "      <td>0.89617</td>\n",
       "      <td>0.22821</td>\n",
       "      <td>0.63518</td>\n",
       "      <td>-0.70839</td>\n",
       "      <td>-0.011323</td>\n",
       "      <td>0.92501</td>\n",
       "      <td>-0.17742</td>\n",
       "      <td>-0.020288</td>\n",
       "      <td>0.49284</td>\n",
       "      <td>0.41775</td>\n",
       "      <td>-0.52065</td>\n",
       "      <td>-4.2043</td>\n",
       "      <td>0.84009</td>\n",
       "      <td>-0.24335</td>\n",
       "      <td>-0.06989</td>\n",
       "      <td>-0.31298</td>\n",
       "      <td>0.36754</td>\n",
       "      <td>0.47112</td>\n",
       "      <td>0.57206</td>\n",
       "      <td>0.59132</td>\n",
       "      <td>-0.17664</td>\n",
       "      <td>0.42564</td>\n",
       "      <td>0.48229</td>\n",
       "      <td>0.40946</td>\n",
       "      <td>-0.83646</td>\n",
       "      <td>0.36686</td>\n",
       "      <td>-0.24538</td>\n",
       "      <td>0.13244</td>\n",
       "      <td>-0.29066</td>\n",
       "      <td>-0.38602</td>\n",
       "      <td>-0.55822</td>\n",
       "      <td>0.10684</td>\n",
       "      <td>0.19424</td>\n",
       "      <td>0.069472</td>\n",
       "      <td>0.42863</td>\n",
       "      <td>0.25874</td>\n",
       "      <td>-0.27356</td>\n",
       "      <td>-0.57201</td>\n",
       "      <td>0.27914</td>\n",
       "      <td>-0.69152</td>\n",
       "      <td>-0.20337</td>\n",
       "      <td>0.48979</td>\n",
       "      <td>-0.33717</td>\n",
       "      <td>0.40298</td>\n",
       "      <td>-0.020644</td>\n",
       "      <td>0.10159</td>\n",
       "      <td>-0.77235</td>\n",
       "      <td>-0.23793</td>\n",
       "      <td>-0.26272</td>\n",
       "      <td>-0.57054</td>\n",
       "      <td>0.85216</td>\n",
       "      <td>0.66403</td>\n",
       "      <td>0.009447</td>\n",
       "      <td>0.27247</td>\n",
       "      <td>-0.53516</td>\n",
       "      <td>-0.47101</td>\n",
       "      <td>0.29318</td>\n",
       "      <td>-0.35322</td>\n",
       "      <td>-0.57052</td>\n",
       "      <td>0.64503</td>\n",
       "      <td>0.15509</td>\n",
       "      <td>-0.16464</td>\n",
       "      <td>0.20202</td>\n",
       "      <td>0.39058</td>\n",
       "      <td>0.53661</td>\n",
       "      <td>-0.35763</td>\n",
       "      <td>0.34521</td>\n",
       "      <td>-0.29123</td>\n",
       "      <td>-0.082283</td>\n",
       "      <td>-0.27913</td>\n",
       "      <td>0.1491</td>\n",
       "      <td>0.25813</td>\n",
       "      <td>0.23189</td>\n",
       "      <td>0.17817</td>\n",
       "      <td>-0.34999</td>\n",
       "      <td>-0.43301</td>\n",
       "      <td>-0.081137</td>\n",
       "      <td>0.12282</td>\n",
       "      <td>0.53281</td>\n",
       "      <td>1.2064</td>\n",
       "      <td>0.043001</td>\n",
       "      <td>0.21776</td>\n",
       "      <td>0.52524</td>\n",
       "      <td>0.17676</td>\n",
       "      <td>0.49993</td>\n",
       "      <td>-0.27142</td>\n",
       "      <td>0.034736</td>\n",
       "      <td>-0.30927</td>\n",
       "      <td>0.25019</td>\n",
       "      <td>-0.20913</td>\n",
       "      <td>0.39588</td>\n",
       "      <td>0.57821</td>\n",
       "      <td>0.0866</td>\n",
       "      <td>-0.66691</td>\n",
       "      <td>0.76625</td>\n",
       "      <td>-0.26714</td>\n",
       "      <td>-0.33894</td>\n",
       "      <td>0.5566</td>\n",
       "      <td>-0.37453</td>\n",
       "    </tr>\n",
       "  </tbody>\n",
       "</table>\n",
       "</div>"
      ],
      "text/plain": [
       "       100      101      102      103      104       105      106      107  \\\n",
       "0  0.19525  0.89617  0.22821  0.63518 -0.70839 -0.011323  0.92501 -0.17742   \n",
       "\n",
       "        108      109      110      111     112      113      114      115  \\\n",
       "0 -0.020288  0.49284  0.41775 -0.52065 -4.2043  0.84009 -0.24335 -0.06989   \n",
       "\n",
       "       116      117      118      119      120      121      122      123  \\\n",
       "0 -0.31298  0.36754  0.47112  0.57206  0.59132 -0.17664  0.42564  0.48229   \n",
       "\n",
       "       124      125      126      127      128      129      130      131  \\\n",
       "0  0.40946 -0.83646  0.36686 -0.24538  0.13244 -0.29066 -0.38602 -0.55822   \n",
       "\n",
       "       132      133       134      135      136      137      138      139  \\\n",
       "0  0.10684  0.19424  0.069472  0.42863  0.25874 -0.27356 -0.57201  0.27914   \n",
       "\n",
       "       140      141      142      143      144       145      146      147  \\\n",
       "0 -0.69152 -0.20337  0.48979 -0.33717  0.40298 -0.020644  0.10159 -0.77235   \n",
       "\n",
       "       148      149      150      151      152       153      154      155  \\\n",
       "0 -0.23793 -0.26272 -0.57054  0.85216  0.66403  0.009447  0.27247 -0.53516   \n",
       "\n",
       "       156      157      158      159      160      161      162      163  \\\n",
       "0 -0.47101  0.29318 -0.35322 -0.57052  0.64503  0.15509 -0.16464  0.20202   \n",
       "\n",
       "       164      165      166      167      168       169      170     171  \\\n",
       "0  0.39058  0.53661 -0.35763  0.34521 -0.29123 -0.082283 -0.27913  0.1491   \n",
       "\n",
       "       172      173      174      175      176       177      178      179  \\\n",
       "0  0.25813  0.23189  0.17817 -0.34999 -0.43301 -0.081137  0.12282  0.53281   \n",
       "\n",
       "      180       181      182      183      184      185      186       187  \\\n",
       "0  1.2064  0.043001  0.21776  0.52524  0.17676  0.49993 -0.27142  0.034736   \n",
       "\n",
       "       188      189      190      191      192     193      194      195  \\\n",
       "0 -0.30927  0.25019 -0.20913  0.39588  0.57821  0.0866 -0.66691  0.76625   \n",
       "\n",
       "       196      197     198      199  \n",
       "0 -0.26714 -0.33894  0.5566 -0.37453  "
      ]
     },
     "execution_count": 51,
     "metadata": {},
     "output_type": "execute_result"
    }
   ],
   "source": [
    "# emlist1 and emlist2 is the embeddings after smote\n",
    "em1.head(1)\n",
    "temp=em1.values\n",
    "emlist1=temp.tolist()\n",
    "\n",
    "em2.head(1)\n",
    "temp=em2.values\n",
    "emlist2=temp.tolist()"
   ]
  },
  {
   "cell_type": "code",
   "execution_count": 52,
   "metadata": {},
   "outputs": [
    {
     "data": {
      "text/plain": [
       "43748"
      ]
     },
     "execution_count": 52,
     "metadata": {},
     "output_type": "execute_result"
    },
    {
     "data": {
      "text/plain": [
       "43748"
      ]
     },
     "execution_count": 52,
     "metadata": {},
     "output_type": "execute_result"
    },
    {
     "data": {
      "text/plain": [
       "list"
      ]
     },
     "execution_count": 52,
     "metadata": {},
     "output_type": "execute_result"
    },
    {
     "data": {
      "text/plain": [
       "list"
      ]
     },
     "execution_count": 52,
     "metadata": {},
     "output_type": "execute_result"
    },
    {
     "data": {
      "text/html": [
       "<div>\n",
       "<style scoped>\n",
       "    .dataframe tbody tr th:only-of-type {\n",
       "        vertical-align: middle;\n",
       "    }\n",
       "\n",
       "    .dataframe tbody tr th {\n",
       "        vertical-align: top;\n",
       "    }\n",
       "\n",
       "    .dataframe thead th {\n",
       "        text-align: right;\n",
       "    }\n",
       "</style>\n",
       "<table border=\"1\" class=\"dataframe\">\n",
       "  <thead>\n",
       "    <tr style=\"text-align: right;\">\n",
       "      <th></th>\n",
       "      <th>tag</th>\n",
       "      <th>key</th>\n",
       "      <th>neg</th>\n",
       "      <th>ne</th>\n",
       "      <th>po</th>\n",
       "      <th>m</th>\n",
       "      <th>rumor</th>\n",
       "      <th>not_rumor</th>\n",
       "      <th>word</th>\n",
       "      <th>embeddings</th>\n",
       "      <th>rate</th>\n",
       "      <th>label</th>\n",
       "    </tr>\n",
       "  </thead>\n",
       "  <tbody>\n",
       "    <tr>\n",
       "      <th>0</th>\n",
       "      <td>#rapidtest</td>\n",
       "      <td>0</td>\n",
       "      <td>0</td>\n",
       "      <td>1</td>\n",
       "      <td>0</td>\n",
       "      <td>0</td>\n",
       "      <td>0</td>\n",
       "      <td>1</td>\n",
       "      <td>rapidtest</td>\n",
       "      <td>[0.0, 0.0, 0.0, 0.0, 0.0, 0.0, 0.0, 0.0, 0.0, ...</td>\n",
       "      <td>0.0</td>\n",
       "      <td>0</td>\n",
       "    </tr>\n",
       "  </tbody>\n",
       "</table>\n",
       "</div>"
      ],
      "text/plain": [
       "          tag  key  neg  ne  po  m  rumor  not_rumor       word  \\\n",
       "0  #rapidtest    0    0   1   0  0      0          1  rapidtest   \n",
       "\n",
       "                                          embeddings  rate  label  \n",
       "0  [0.0, 0.0, 0.0, 0.0, 0.0, 0.0, 0.0, 0.0, 0.0, ...   0.0      0  "
      ]
     },
     "execution_count": 52,
     "metadata": {},
     "output_type": "execute_result"
    }
   ],
   "source": [
    "len(emlist1)\n",
    "len(emlist2)\n",
    "type(emlist1[0])\n",
    "type(emlist2[0])\n",
    "a.head(1)"
   ]
  },
  {
   "cell_type": "code",
   "execution_count": 53,
   "metadata": {},
   "outputs": [],
   "source": [
    "emlist=list(a.embeddings)"
   ]
  },
  {
   "cell_type": "code",
   "execution_count": 54,
   "metadata": {},
   "outputs": [
    {
     "data": {
      "text/plain": [
       "2877"
      ]
     },
     "execution_count": 54,
     "metadata": {},
     "output_type": "execute_result"
    }
   ],
   "source": [
    "len(emlist)"
   ]
  },
  {
   "cell_type": "code",
   "execution_count": 55,
   "metadata": {},
   "outputs": [
    {
     "name": "stdout",
     "output_type": "stream",
     "text": [
      "0\n",
      "10000\n",
      "20000\n",
      "30000\n",
      "40000\n",
      "\n",
      "\n"
     ]
    },
    {
     "data": {
      "text/plain": [
       "295"
      ]
     },
     "execution_count": 55,
     "metadata": {},
     "output_type": "execute_result"
    },
    {
     "data": {
      "text/plain": [
       "323"
      ]
     },
     "execution_count": 55,
     "metadata": {},
     "output_type": "execute_result"
    }
   ],
   "source": [
    "NewWordEm=[]\n",
    "ini=2877\n",
    "src=[]\n",
    "dst=[]\n",
    "f1=0\n",
    "f2=0\n",
    "for i in range(0,len(emlist1)):\n",
    "    if emlist1[i] not in NewWordEm and emlist2[i] not in NewWordEm:\n",
    "        if emlist1[i] not in emlist and emlist2[i] not in emlist:\n",
    "            NewWordEm.append(emlist1[i])\n",
    "            NewWordEm.append(emlist2[i])\n",
    "            t1=ini+NewWordEm.index(emlist1[i])\n",
    "            t2=ini+NewWordEm.index(emlist2[i])\n",
    "            src.append(t1)\n",
    "            dst.append(t2)\n",
    "         \n",
    "        if emlist1[i] not in emlist and emlist2[i] in emlist:\n",
    "            NewWordEm.append(emlist1[i])\n",
    "            t1=ini+NewWordEm.index(emlist1[i])\n",
    "            t2=emlist.index(emlist2[i])\n",
    "            src.append(t1)\n",
    "            dst.append(t2)\n",
    "            f1=f1+1\n",
    "            \n",
    "        if emlist1[i] in emlist and emlist2[i] not in emlist:\n",
    "            NewWordEm.append(emlist2[i])\n",
    "            t1=emlist.index(emlist1[i])\n",
    "            t2=ini+NewWordEm.index(emlist2[i])\n",
    "            src.append(t1)\n",
    "            dst.append(t2)\n",
    "            f2=f2+1\n",
    "        \n",
    "        \n",
    "        \n",
    "        if i%10000==0:\n",
    "            print(i)\n",
    "print('\\n')\n",
    "f1\n",
    "f2"
   ]
  },
  {
   "cell_type": "code",
   "execution_count": 56,
   "metadata": {},
   "outputs": [
    {
     "data": {
      "text/plain": [
       "667"
      ]
     },
     "execution_count": 56,
     "metadata": {},
     "output_type": "execute_result"
    },
    {
     "data": {
      "text/plain": [
       "667"
      ]
     },
     "execution_count": 56,
     "metadata": {},
     "output_type": "execute_result"
    },
    {
     "data": {
      "text/plain": [
       "716"
      ]
     },
     "execution_count": 56,
     "metadata": {},
     "output_type": "execute_result"
    },
    {
     "data": {
      "text/plain": [
       "2877"
      ]
     },
     "execution_count": 56,
     "metadata": {},
     "output_type": "execute_result"
    },
    {
     "data": {
      "text/plain": [
       "42991"
      ]
     },
     "execution_count": 56,
     "metadata": {},
     "output_type": "execute_result"
    }
   ],
   "source": [
    "len(src)\n",
    "len(dst)\n",
    "len(NewWordEm)\n",
    "len(emlist)\n",
    "len(dflink)"
   ]
  },
  {
   "cell_type": "code",
   "execution_count": null,
   "metadata": {},
   "outputs": [],
   "source": []
  },
  {
   "cell_type": "code",
   "execution_count": null,
   "metadata": {},
   "outputs": [],
   "source": [
    "295\n",
    "323"
   ]
  },
  {
   "cell_type": "code",
   "execution_count": 57,
   "metadata": {},
   "outputs": [
    {
     "data": {
      "text/html": [
       "<div>\n",
       "<style scoped>\n",
       "    .dataframe tbody tr th:only-of-type {\n",
       "        vertical-align: middle;\n",
       "    }\n",
       "\n",
       "    .dataframe tbody tr th {\n",
       "        vertical-align: top;\n",
       "    }\n",
       "\n",
       "    .dataframe thead th {\n",
       "        text-align: right;\n",
       "    }\n",
       "</style>\n",
       "<table border=\"1\" class=\"dataframe\">\n",
       "  <thead>\n",
       "    <tr style=\"text-align: right;\">\n",
       "      <th></th>\n",
       "      <th>v1</th>\n",
       "      <th>v2</th>\n",
       "      <th>label</th>\n",
       "      <th>0</th>\n",
       "      <th>1</th>\n",
       "      <th>2</th>\n",
       "      <th>3</th>\n",
       "      <th>4</th>\n",
       "      <th>5</th>\n",
       "      <th>6</th>\n",
       "      <th>7</th>\n",
       "      <th>8</th>\n",
       "      <th>9</th>\n",
       "      <th>10</th>\n",
       "      <th>11</th>\n",
       "      <th>12</th>\n",
       "      <th>13</th>\n",
       "      <th>14</th>\n",
       "      <th>15</th>\n",
       "      <th>16</th>\n",
       "      <th>17</th>\n",
       "      <th>18</th>\n",
       "      <th>19</th>\n",
       "      <th>20</th>\n",
       "      <th>21</th>\n",
       "      <th>22</th>\n",
       "      <th>23</th>\n",
       "      <th>24</th>\n",
       "      <th>25</th>\n",
       "      <th>26</th>\n",
       "      <th>27</th>\n",
       "      <th>28</th>\n",
       "      <th>29</th>\n",
       "      <th>30</th>\n",
       "      <th>31</th>\n",
       "      <th>32</th>\n",
       "      <th>33</th>\n",
       "      <th>34</th>\n",
       "      <th>35</th>\n",
       "      <th>36</th>\n",
       "      <th>37</th>\n",
       "      <th>38</th>\n",
       "      <th>39</th>\n",
       "      <th>40</th>\n",
       "      <th>41</th>\n",
       "      <th>42</th>\n",
       "      <th>43</th>\n",
       "      <th>44</th>\n",
       "      <th>45</th>\n",
       "      <th>46</th>\n",
       "      <th>47</th>\n",
       "      <th>48</th>\n",
       "      <th>49</th>\n",
       "      <th>50</th>\n",
       "      <th>51</th>\n",
       "      <th>52</th>\n",
       "      <th>53</th>\n",
       "      <th>54</th>\n",
       "      <th>55</th>\n",
       "      <th>56</th>\n",
       "      <th>57</th>\n",
       "      <th>58</th>\n",
       "      <th>59</th>\n",
       "      <th>60</th>\n",
       "      <th>61</th>\n",
       "      <th>62</th>\n",
       "      <th>63</th>\n",
       "      <th>64</th>\n",
       "      <th>65</th>\n",
       "      <th>66</th>\n",
       "      <th>67</th>\n",
       "      <th>68</th>\n",
       "      <th>69</th>\n",
       "      <th>70</th>\n",
       "      <th>71</th>\n",
       "      <th>72</th>\n",
       "      <th>73</th>\n",
       "      <th>74</th>\n",
       "      <th>75</th>\n",
       "      <th>76</th>\n",
       "      <th>77</th>\n",
       "      <th>78</th>\n",
       "      <th>79</th>\n",
       "      <th>80</th>\n",
       "      <th>81</th>\n",
       "      <th>82</th>\n",
       "      <th>83</th>\n",
       "      <th>84</th>\n",
       "      <th>85</th>\n",
       "      <th>86</th>\n",
       "      <th>87</th>\n",
       "      <th>88</th>\n",
       "      <th>89</th>\n",
       "      <th>90</th>\n",
       "      <th>91</th>\n",
       "      <th>92</th>\n",
       "      <th>93</th>\n",
       "      <th>94</th>\n",
       "      <th>95</th>\n",
       "      <th>96</th>\n",
       "      <th>97</th>\n",
       "      <th>98</th>\n",
       "      <th>99</th>\n",
       "      <th>100</th>\n",
       "      <th>101</th>\n",
       "      <th>102</th>\n",
       "      <th>103</th>\n",
       "      <th>104</th>\n",
       "      <th>105</th>\n",
       "      <th>106</th>\n",
       "      <th>107</th>\n",
       "      <th>108</th>\n",
       "      <th>109</th>\n",
       "      <th>110</th>\n",
       "      <th>111</th>\n",
       "      <th>112</th>\n",
       "      <th>113</th>\n",
       "      <th>114</th>\n",
       "      <th>115</th>\n",
       "      <th>116</th>\n",
       "      <th>117</th>\n",
       "      <th>118</th>\n",
       "      <th>119</th>\n",
       "      <th>120</th>\n",
       "      <th>121</th>\n",
       "      <th>122</th>\n",
       "      <th>123</th>\n",
       "      <th>124</th>\n",
       "      <th>125</th>\n",
       "      <th>126</th>\n",
       "      <th>127</th>\n",
       "      <th>128</th>\n",
       "      <th>129</th>\n",
       "      <th>130</th>\n",
       "      <th>131</th>\n",
       "      <th>132</th>\n",
       "      <th>133</th>\n",
       "      <th>134</th>\n",
       "      <th>135</th>\n",
       "      <th>136</th>\n",
       "      <th>137</th>\n",
       "      <th>138</th>\n",
       "      <th>139</th>\n",
       "      <th>140</th>\n",
       "      <th>141</th>\n",
       "      <th>142</th>\n",
       "      <th>143</th>\n",
       "      <th>144</th>\n",
       "      <th>145</th>\n",
       "      <th>146</th>\n",
       "      <th>147</th>\n",
       "      <th>148</th>\n",
       "      <th>149</th>\n",
       "      <th>150</th>\n",
       "      <th>151</th>\n",
       "      <th>152</th>\n",
       "      <th>153</th>\n",
       "      <th>154</th>\n",
       "      <th>155</th>\n",
       "      <th>156</th>\n",
       "      <th>157</th>\n",
       "      <th>158</th>\n",
       "      <th>159</th>\n",
       "      <th>160</th>\n",
       "      <th>161</th>\n",
       "      <th>162</th>\n",
       "      <th>163</th>\n",
       "      <th>164</th>\n",
       "      <th>165</th>\n",
       "      <th>166</th>\n",
       "      <th>167</th>\n",
       "      <th>168</th>\n",
       "      <th>169</th>\n",
       "      <th>170</th>\n",
       "      <th>171</th>\n",
       "      <th>172</th>\n",
       "      <th>173</th>\n",
       "      <th>174</th>\n",
       "      <th>175</th>\n",
       "      <th>176</th>\n",
       "      <th>177</th>\n",
       "      <th>178</th>\n",
       "      <th>179</th>\n",
       "      <th>180</th>\n",
       "      <th>181</th>\n",
       "      <th>182</th>\n",
       "      <th>183</th>\n",
       "      <th>184</th>\n",
       "      <th>185</th>\n",
       "      <th>186</th>\n",
       "      <th>187</th>\n",
       "      <th>188</th>\n",
       "      <th>189</th>\n",
       "      <th>190</th>\n",
       "      <th>191</th>\n",
       "      <th>192</th>\n",
       "      <th>193</th>\n",
       "      <th>194</th>\n",
       "      <th>195</th>\n",
       "      <th>196</th>\n",
       "      <th>197</th>\n",
       "      <th>198</th>\n",
       "      <th>199</th>\n",
       "    </tr>\n",
       "  </thead>\n",
       "  <tbody>\n",
       "    <tr>\n",
       "      <th>0</th>\n",
       "      <td>#rt</td>\n",
       "      <td>#believe</td>\n",
       "      <td>1</td>\n",
       "      <td>0.6047</td>\n",
       "      <td>0.89542</td>\n",
       "      <td>0.27923</td>\n",
       "      <td>0.033489</td>\n",
       "      <td>0.15873</td>\n",
       "      <td>0.18522</td>\n",
       "      <td>0.30722</td>\n",
       "      <td>0.47445</td>\n",
       "      <td>0.44484</td>\n",
       "      <td>0.7045</td>\n",
       "      <td>0.39528</td>\n",
       "      <td>-0.19818</td>\n",
       "      <td>-2.3884</td>\n",
       "      <td>0.095433</td>\n",
       "      <td>0.10782</td>\n",
       "      <td>0.26263</td>\n",
       "      <td>0.36582</td>\n",
       "      <td>-0.6385</td>\n",
       "      <td>-0.22938</td>\n",
       "      <td>-0.34722</td>\n",
       "      <td>0.10977</td>\n",
       "      <td>0.37367</td>\n",
       "      <td>-0.068053</td>\n",
       "      <td>-0.39421</td>\n",
       "      <td>0.43471</td>\n",
       "      <td>-2.1794</td>\n",
       "      <td>-0.47111</td>\n",
       "      <td>0.087237</td>\n",
       "      <td>0.57989</td>\n",
       "      <td>-0.020883</td>\n",
       "      <td>-0.0695</td>\n",
       "      <td>0.25771</td>\n",
       "      <td>-0.5019</td>\n",
       "      <td>0.41154</td>\n",
       "      <td>1.2178</td>\n",
       "      <td>0.47976</td>\n",
       "      <td>-0.31574</td>\n",
       "      <td>0.52983</td>\n",
       "      <td>0.041575</td>\n",
       "      <td>0.44973</td>\n",
       "      <td>-1.5363</td>\n",
       "      <td>-0.096062</td>\n",
       "      <td>-0.27531</td>\n",
       "      <td>0.52771</td>\n",
       "      <td>0.028587</td>\n",
       "      <td>0.047935</td>\n",
       "      <td>-0.5973</td>\n",
       "      <td>-0.051772</td>\n",
       "      <td>0.11377</td>\n",
       "      <td>-0.4049</td>\n",
       "      <td>-0.54857</td>\n",
       "      <td>-0.65916</td>\n",
       "      <td>-0.38132</td>\n",
       "      <td>-0.39519</td>\n",
       "      <td>0.42961</td>\n",
       "      <td>0.74531</td>\n",
       "      <td>-0.50838</td>\n",
       "      <td>0.40392</td>\n",
       "      <td>0.62699</td>\n",
       "      <td>-0.24798</td>\n",
       "      <td>-0.25386</td>\n",
       "      <td>0.21867</td>\n",
       "      <td>-0.072132</td>\n",
       "      <td>-0.51783</td>\n",
       "      <td>-0.054186</td>\n",
       "      <td>-0.66391</td>\n",
       "      <td>-0.58224</td>\n",
       "      <td>0.060621</td>\n",
       "      <td>-0.54001</td>\n",
       "      <td>0.72242</td>\n",
       "      <td>0.13349</td>\n",
       "      <td>-0.070261</td>\n",
       "      <td>-0.059061</td>\n",
       "      <td>-0.035474</td>\n",
       "      <td>-0.53649</td>\n",
       "      <td>-0.3755</td>\n",
       "      <td>0.11234</td>\n",
       "      <td>-0.3409</td>\n",
       "      <td>-0.13406</td>\n",
       "      <td>0.007887</td>\n",
       "      <td>0.81973</td>\n",
       "      <td>-0.075774</td>\n",
       "      <td>0.10947</td>\n",
       "      <td>0.26919</td>\n",
       "      <td>-0.069167</td>\n",
       "      <td>0.27475</td>\n",
       "      <td>-0.90546</td>\n",
       "      <td>0.54632</td>\n",
       "      <td>-0.6847</td>\n",
       "      <td>0.35787</td>\n",
       "      <td>-0.015019</td>\n",
       "      <td>0.42209</td>\n",
       "      <td>-0.06252</td>\n",
       "      <td>-0.33265</td>\n",
       "      <td>-0.60945</td>\n",
       "      <td>-0.23269</td>\n",
       "      <td>-0.40932</td>\n",
       "      <td>0.51566</td>\n",
       "      <td>0.84726</td>\n",
       "      <td>0.020946</td>\n",
       "      <td>0.19525</td>\n",
       "      <td>0.89617</td>\n",
       "      <td>0.22821</td>\n",
       "      <td>0.63518</td>\n",
       "      <td>-0.70839</td>\n",
       "      <td>-0.011323</td>\n",
       "      <td>0.92501</td>\n",
       "      <td>-0.17742</td>\n",
       "      <td>-0.020288</td>\n",
       "      <td>0.49284</td>\n",
       "      <td>0.41775</td>\n",
       "      <td>-0.52065</td>\n",
       "      <td>-4.2043</td>\n",
       "      <td>0.84009</td>\n",
       "      <td>-0.24335</td>\n",
       "      <td>-0.06989</td>\n",
       "      <td>-0.31298</td>\n",
       "      <td>0.36754</td>\n",
       "      <td>0.47112</td>\n",
       "      <td>0.57206</td>\n",
       "      <td>0.59132</td>\n",
       "      <td>-0.17664</td>\n",
       "      <td>0.42564</td>\n",
       "      <td>0.48229</td>\n",
       "      <td>0.40946</td>\n",
       "      <td>-0.83646</td>\n",
       "      <td>0.36686</td>\n",
       "      <td>-0.24538</td>\n",
       "      <td>0.13244</td>\n",
       "      <td>-0.29066</td>\n",
       "      <td>-0.38602</td>\n",
       "      <td>-0.55822</td>\n",
       "      <td>0.10684</td>\n",
       "      <td>0.19424</td>\n",
       "      <td>0.069472</td>\n",
       "      <td>0.42863</td>\n",
       "      <td>0.25874</td>\n",
       "      <td>-0.27356</td>\n",
       "      <td>-0.57201</td>\n",
       "      <td>0.27914</td>\n",
       "      <td>-0.69152</td>\n",
       "      <td>-0.20337</td>\n",
       "      <td>0.48979</td>\n",
       "      <td>-0.33717</td>\n",
       "      <td>0.40298</td>\n",
       "      <td>-0.020644</td>\n",
       "      <td>0.10159</td>\n",
       "      <td>-0.77235</td>\n",
       "      <td>-0.23793</td>\n",
       "      <td>-0.26272</td>\n",
       "      <td>-0.57054</td>\n",
       "      <td>0.85216</td>\n",
       "      <td>0.66403</td>\n",
       "      <td>0.009447</td>\n",
       "      <td>0.27247</td>\n",
       "      <td>-0.53516</td>\n",
       "      <td>-0.47101</td>\n",
       "      <td>0.29318</td>\n",
       "      <td>-0.35322</td>\n",
       "      <td>-0.57052</td>\n",
       "      <td>0.64503</td>\n",
       "      <td>0.15509</td>\n",
       "      <td>-0.16464</td>\n",
       "      <td>0.20202</td>\n",
       "      <td>0.39058</td>\n",
       "      <td>0.53661</td>\n",
       "      <td>-0.35763</td>\n",
       "      <td>0.34521</td>\n",
       "      <td>-0.29123</td>\n",
       "      <td>-0.082283</td>\n",
       "      <td>-0.27913</td>\n",
       "      <td>0.1491</td>\n",
       "      <td>0.25813</td>\n",
       "      <td>0.23189</td>\n",
       "      <td>0.17817</td>\n",
       "      <td>-0.34999</td>\n",
       "      <td>-0.43301</td>\n",
       "      <td>-0.081137</td>\n",
       "      <td>0.12282</td>\n",
       "      <td>0.53281</td>\n",
       "      <td>1.2064</td>\n",
       "      <td>0.043001</td>\n",
       "      <td>0.21776</td>\n",
       "      <td>0.52524</td>\n",
       "      <td>0.17676</td>\n",
       "      <td>0.49993</td>\n",
       "      <td>-0.27142</td>\n",
       "      <td>0.034736</td>\n",
       "      <td>-0.30927</td>\n",
       "      <td>0.25019</td>\n",
       "      <td>-0.20913</td>\n",
       "      <td>0.39588</td>\n",
       "      <td>0.57821</td>\n",
       "      <td>0.0866</td>\n",
       "      <td>-0.66691</td>\n",
       "      <td>0.76625</td>\n",
       "      <td>-0.26714</td>\n",
       "      <td>-0.33894</td>\n",
       "      <td>0.5566</td>\n",
       "      <td>-0.37453</td>\n",
       "    </tr>\n",
       "  </tbody>\n",
       "</table>\n",
       "</div>"
      ],
      "text/plain": [
       "    v1        v2  label       0        1        2         3        4        5  \\\n",
       "0  #rt  #believe      1  0.6047  0.89542  0.27923  0.033489  0.15873  0.18522   \n",
       "\n",
       "         6        7        8       9       10       11      12        13  \\\n",
       "0  0.30722  0.47445  0.44484  0.7045  0.39528 -0.19818 -2.3884  0.095433   \n",
       "\n",
       "        14       15       16      17       18       19       20       21  \\\n",
       "0  0.10782  0.26263  0.36582 -0.6385 -0.22938 -0.34722  0.10977  0.37367   \n",
       "\n",
       "         22       23       24      25       26        27       28        29  \\\n",
       "0 -0.068053 -0.39421  0.43471 -2.1794 -0.47111  0.087237  0.57989 -0.020883   \n",
       "\n",
       "       30       31      32       33      34       35       36       37  \\\n",
       "0 -0.0695  0.25771 -0.5019  0.41154  1.2178  0.47976 -0.31574  0.52983   \n",
       "\n",
       "         38       39      40        41       42       43        44        45  \\\n",
       "0  0.041575  0.44973 -1.5363 -0.096062 -0.27531  0.52771  0.028587  0.047935   \n",
       "\n",
       "       46        47       48      49       50       51       52       53  \\\n",
       "0 -0.5973 -0.051772  0.11377 -0.4049 -0.54857 -0.65916 -0.38132 -0.39519   \n",
       "\n",
       "        54       55       56       57       58       59       60       61  \\\n",
       "0  0.42961  0.74531 -0.50838  0.40392  0.62699 -0.24798 -0.25386  0.21867   \n",
       "\n",
       "         62       63        64       65       66        67       68       69  \\\n",
       "0 -0.072132 -0.51783 -0.054186 -0.66391 -0.58224  0.060621 -0.54001  0.72242   \n",
       "\n",
       "        70        71        72        73       74      75       76      77  \\\n",
       "0  0.13349 -0.070261 -0.059061 -0.035474 -0.53649 -0.3755  0.11234 -0.3409   \n",
       "\n",
       "        78        79       80        81       82       83        84       85  \\\n",
       "0 -0.13406  0.007887  0.81973 -0.075774  0.10947  0.26919 -0.069167  0.27475   \n",
       "\n",
       "        86       87      88       89        90       91       92       93  \\\n",
       "0 -0.90546  0.54632 -0.6847  0.35787 -0.015019  0.42209 -0.06252 -0.33265   \n",
       "\n",
       "        94       95       96       97       98        99      100      101  \\\n",
       "0 -0.60945 -0.23269 -0.40932  0.51566  0.84726  0.020946  0.19525  0.89617   \n",
       "\n",
       "       102      103      104       105      106      107       108      109  \\\n",
       "0  0.22821  0.63518 -0.70839 -0.011323  0.92501 -0.17742 -0.020288  0.49284   \n",
       "\n",
       "       110      111     112      113      114      115      116      117  \\\n",
       "0  0.41775 -0.52065 -4.2043  0.84009 -0.24335 -0.06989 -0.31298  0.36754   \n",
       "\n",
       "       118      119      120      121      122      123      124      125  \\\n",
       "0  0.47112  0.57206  0.59132 -0.17664  0.42564  0.48229  0.40946 -0.83646   \n",
       "\n",
       "       126      127      128      129      130      131      132      133  \\\n",
       "0  0.36686 -0.24538  0.13244 -0.29066 -0.38602 -0.55822  0.10684  0.19424   \n",
       "\n",
       "        134      135      136      137      138      139      140      141  \\\n",
       "0  0.069472  0.42863  0.25874 -0.27356 -0.57201  0.27914 -0.69152 -0.20337   \n",
       "\n",
       "       142      143      144       145      146      147      148      149  \\\n",
       "0  0.48979 -0.33717  0.40298 -0.020644  0.10159 -0.77235 -0.23793 -0.26272   \n",
       "\n",
       "       150      151      152       153      154      155      156      157  \\\n",
       "0 -0.57054  0.85216  0.66403  0.009447  0.27247 -0.53516 -0.47101  0.29318   \n",
       "\n",
       "       158      159      160      161      162      163      164      165  \\\n",
       "0 -0.35322 -0.57052  0.64503  0.15509 -0.16464  0.20202  0.39058  0.53661   \n",
       "\n",
       "       166      167      168       169      170     171      172      173  \\\n",
       "0 -0.35763  0.34521 -0.29123 -0.082283 -0.27913  0.1491  0.25813  0.23189   \n",
       "\n",
       "       174      175      176       177      178      179     180       181  \\\n",
       "0  0.17817 -0.34999 -0.43301 -0.081137  0.12282  0.53281  1.2064  0.043001   \n",
       "\n",
       "       182      183      184      185      186       187      188      189  \\\n",
       "0  0.21776  0.52524  0.17676  0.49993 -0.27142  0.034736 -0.30927  0.25019   \n",
       "\n",
       "       190      191      192     193      194      195      196      197  \\\n",
       "0 -0.20913  0.39588  0.57821  0.0866 -0.66691  0.76625 -0.26714 -0.33894   \n",
       "\n",
       "      198      199  \n",
       "0  0.5566 -0.37453  "
      ]
     },
     "execution_count": 57,
     "metadata": {},
     "output_type": "execute_result"
    },
    {
     "data": {
      "text/html": [
       "<div>\n",
       "<style scoped>\n",
       "    .dataframe tbody tr th:only-of-type {\n",
       "        vertical-align: middle;\n",
       "    }\n",
       "\n",
       "    .dataframe tbody tr th {\n",
       "        vertical-align: top;\n",
       "    }\n",
       "\n",
       "    .dataframe thead th {\n",
       "        text-align: right;\n",
       "    }\n",
       "</style>\n",
       "<table border=\"1\" class=\"dataframe\">\n",
       "  <thead>\n",
       "    <tr style=\"text-align: right;\">\n",
       "      <th></th>\n",
       "      <th>tag</th>\n",
       "      <th>key</th>\n",
       "      <th>neg</th>\n",
       "      <th>ne</th>\n",
       "      <th>po</th>\n",
       "      <th>m</th>\n",
       "      <th>rumor</th>\n",
       "      <th>not_rumor</th>\n",
       "      <th>word</th>\n",
       "      <th>embeddings</th>\n",
       "      <th>rate</th>\n",
       "      <th>label</th>\n",
       "    </tr>\n",
       "  </thead>\n",
       "  <tbody>\n",
       "    <tr>\n",
       "      <th>0</th>\n",
       "      <td>#rapidtest</td>\n",
       "      <td>0</td>\n",
       "      <td>0</td>\n",
       "      <td>1</td>\n",
       "      <td>0</td>\n",
       "      <td>0</td>\n",
       "      <td>0</td>\n",
       "      <td>1</td>\n",
       "      <td>rapidtest</td>\n",
       "      <td>[0.0, 0.0, 0.0, 0.0, 0.0, 0.0, 0.0, 0.0, 0.0, ...</td>\n",
       "      <td>0.0</td>\n",
       "      <td>0</td>\n",
       "    </tr>\n",
       "  </tbody>\n",
       "</table>\n",
       "</div>"
      ],
      "text/plain": [
       "          tag  key  neg  ne  po  m  rumor  not_rumor       word  \\\n",
       "0  #rapidtest    0    0   1   0  0      0          1  rapidtest   \n",
       "\n",
       "                                          embeddings  rate  label  \n",
       "0  [0.0, 0.0, 0.0, 0.0, 0.0, 0.0, 0.0, 0.0, 0.0, ...   0.0      0  "
      ]
     },
     "execution_count": 57,
     "metadata": {},
     "output_type": "execute_result"
    },
    {
     "data": {
      "text/plain": [
       "42991"
      ]
     },
     "execution_count": 57,
     "metadata": {},
     "output_type": "execute_result"
    },
    {
     "data": {
      "text/plain": [
       "2877"
      ]
     },
     "execution_count": 57,
     "metadata": {},
     "output_type": "execute_result"
    }
   ],
   "source": [
    "Smote2B.head(1)\n",
    "a.head(1)\n",
    "len(Smote2B)\n",
    "len(a)"
   ]
  },
  {
   "cell_type": "code",
   "execution_count": 58,
   "metadata": {},
   "outputs": [],
   "source": [
    "df=Smote2B[['v1','v2']]"
   ]
  },
  {
   "cell_type": "code",
   "execution_count": 59,
   "metadata": {},
   "outputs": [
    {
     "data": {
      "text/html": [
       "<div>\n",
       "<style scoped>\n",
       "    .dataframe tbody tr th:only-of-type {\n",
       "        vertical-align: middle;\n",
       "    }\n",
       "\n",
       "    .dataframe tbody tr th {\n",
       "        vertical-align: top;\n",
       "    }\n",
       "\n",
       "    .dataframe thead th {\n",
       "        text-align: right;\n",
       "    }\n",
       "</style>\n",
       "<table border=\"1\" class=\"dataframe\">\n",
       "  <thead>\n",
       "    <tr style=\"text-align: right;\">\n",
       "      <th></th>\n",
       "      <th>v1</th>\n",
       "      <th>v2</th>\n",
       "      <th>tag</th>\n",
       "      <th>key</th>\n",
       "      <th>neg</th>\n",
       "      <th>ne</th>\n",
       "      <th>po</th>\n",
       "      <th>m</th>\n",
       "      <th>rumor</th>\n",
       "      <th>not_rumor</th>\n",
       "      <th>word</th>\n",
       "      <th>embeddings</th>\n",
       "      <th>rate</th>\n",
       "      <th>label</th>\n",
       "    </tr>\n",
       "  </thead>\n",
       "  <tbody>\n",
       "    <tr>\n",
       "      <th>0</th>\n",
       "      <td>#rt</td>\n",
       "      <td>#believe</td>\n",
       "      <td>#rt</td>\n",
       "      <td>2249</td>\n",
       "      <td>1634</td>\n",
       "      <td>1764</td>\n",
       "      <td>237</td>\n",
       "      <td>4</td>\n",
       "      <td>71</td>\n",
       "      <td>3568</td>\n",
       "      <td>rt</td>\n",
       "      <td>[0.6047000288963318, 0.8954200148582458, 0.279...</td>\n",
       "      <td>0.019511</td>\n",
       "      <td>0</td>\n",
       "    </tr>\n",
       "  </tbody>\n",
       "</table>\n",
       "</div>"
      ],
      "text/plain": [
       "    v1        v2  tag   key   neg    ne   po  m  rumor  not_rumor word  \\\n",
       "0  #rt  #believe  #rt  2249  1634  1764  237  4     71       3568   rt   \n",
       "\n",
       "                                          embeddings      rate  label  \n",
       "0  [0.6047000288963318, 0.8954200148582458, 0.279...  0.019511      0  "
      ]
     },
     "execution_count": 59,
     "metadata": {},
     "output_type": "execute_result"
    }
   ],
   "source": [
    "df=df.merge(a,left_on='v1',right_on='tag')\n",
    "df.head(1)"
   ]
  },
  {
   "cell_type": "code",
   "execution_count": 60,
   "metadata": {},
   "outputs": [
    {
     "data": {
      "text/html": [
       "<div>\n",
       "<style scoped>\n",
       "    .dataframe tbody tr th:only-of-type {\n",
       "        vertical-align: middle;\n",
       "    }\n",
       "\n",
       "    .dataframe tbody tr th {\n",
       "        vertical-align: top;\n",
       "    }\n",
       "\n",
       "    .dataframe thead th {\n",
       "        text-align: right;\n",
       "    }\n",
       "</style>\n",
       "<table border=\"1\" class=\"dataframe\">\n",
       "  <thead>\n",
       "    <tr style=\"text-align: right;\">\n",
       "      <th></th>\n",
       "      <th>v1</th>\n",
       "      <th>v2</th>\n",
       "      <th>key1</th>\n",
       "    </tr>\n",
       "  </thead>\n",
       "  <tbody>\n",
       "    <tr>\n",
       "      <th>0</th>\n",
       "      <td>#rt</td>\n",
       "      <td>#believe</td>\n",
       "      <td>2249</td>\n",
       "    </tr>\n",
       "  </tbody>\n",
       "</table>\n",
       "</div>"
      ],
      "text/plain": [
       "    v1        v2  key1\n",
       "0  #rt  #believe  2249"
      ]
     },
     "execution_count": 60,
     "metadata": {},
     "output_type": "execute_result"
    }
   ],
   "source": [
    "df=df[['v1','v2','key']]\n",
    "df.rename(columns={'key':'key1'},inplace=True)\n",
    "df.head(1)"
   ]
  },
  {
   "cell_type": "code",
   "execution_count": 61,
   "metadata": {},
   "outputs": [
    {
     "data": {
      "text/html": [
       "<div>\n",
       "<style scoped>\n",
       "    .dataframe tbody tr th:only-of-type {\n",
       "        vertical-align: middle;\n",
       "    }\n",
       "\n",
       "    .dataframe tbody tr th {\n",
       "        vertical-align: top;\n",
       "    }\n",
       "\n",
       "    .dataframe thead th {\n",
       "        text-align: right;\n",
       "    }\n",
       "</style>\n",
       "<table border=\"1\" class=\"dataframe\">\n",
       "  <thead>\n",
       "    <tr style=\"text-align: right;\">\n",
       "      <th></th>\n",
       "      <th>v1</th>\n",
       "      <th>v2</th>\n",
       "      <th>key1</th>\n",
       "      <th>key2</th>\n",
       "    </tr>\n",
       "  </thead>\n",
       "  <tbody>\n",
       "    <tr>\n",
       "      <th>0</th>\n",
       "      <td>#rt</td>\n",
       "      <td>#believe</td>\n",
       "      <td>2249</td>\n",
       "      <td>94</td>\n",
       "    </tr>\n",
       "  </tbody>\n",
       "</table>\n",
       "</div>"
      ],
      "text/plain": [
       "    v1        v2  key1  key2\n",
       "0  #rt  #believe  2249    94"
      ]
     },
     "execution_count": 61,
     "metadata": {},
     "output_type": "execute_result"
    }
   ],
   "source": [
    "df=df.merge(a,left_on='v2',right_on='tag')\n",
    "df=df[['v1','v2','key1','key']]\n",
    "df.rename(columns={'key':'key2'},inplace=True)\n",
    "df.head(1)"
   ]
  },
  {
   "cell_type": "code",
   "execution_count": 62,
   "metadata": {},
   "outputs": [
    {
     "data": {
      "text/plain": [
       "42991"
      ]
     },
     "execution_count": 62,
     "metadata": {},
     "output_type": "execute_result"
    }
   ],
   "source": [
    "len(df)"
   ]
  },
  {
   "cell_type": "code",
   "execution_count": null,
   "metadata": {},
   "outputs": [],
   "source": []
  },
  {
   "cell_type": "markdown",
   "metadata": {},
   "source": [
    "## smoted graph data"
   ]
  },
  {
   "cell_type": "code",
   "execution_count": 63,
   "metadata": {},
   "outputs": [
    {
     "data": {
      "text/plain": [
       "667"
      ]
     },
     "execution_count": 63,
     "metadata": {},
     "output_type": "execute_result"
    },
    {
     "data": {
      "text/plain": [
       "667"
      ]
     },
     "execution_count": 63,
     "metadata": {},
     "output_type": "execute_result"
    },
    {
     "data": {
      "text/plain": [
       "43658"
      ]
     },
     "execution_count": 63,
     "metadata": {},
     "output_type": "execute_result"
    },
    {
     "data": {
      "text/plain": [
       "43658"
      ]
     },
     "execution_count": 63,
     "metadata": {},
     "output_type": "execute_result"
    }
   ],
   "source": [
    "len(src)\n",
    "len(dst)\n",
    "# sorce of graph; destination of graph\n",
    "newsrc=list(df.key1)+src\n",
    "newdst=list(df.key2)+dst\n",
    "len(newsrc)\n",
    "len(newdst)"
   ]
  },
  {
   "cell_type": "code",
   "execution_count": 64,
   "metadata": {},
   "outputs": [
    {
     "data": {
      "text/html": [
       "<div>\n",
       "<style scoped>\n",
       "    .dataframe tbody tr th:only-of-type {\n",
       "        vertical-align: middle;\n",
       "    }\n",
       "\n",
       "    .dataframe tbody tr th {\n",
       "        vertical-align: top;\n",
       "    }\n",
       "\n",
       "    .dataframe thead th {\n",
       "        text-align: right;\n",
       "    }\n",
       "</style>\n",
       "<table border=\"1\" class=\"dataframe\">\n",
       "  <thead>\n",
       "    <tr style=\"text-align: right;\">\n",
       "      <th></th>\n",
       "      <th>tag</th>\n",
       "      <th>key</th>\n",
       "      <th>neg</th>\n",
       "      <th>ne</th>\n",
       "      <th>po</th>\n",
       "      <th>m</th>\n",
       "      <th>rumor</th>\n",
       "      <th>not_rumor</th>\n",
       "      <th>word</th>\n",
       "      <th>embeddings</th>\n",
       "      <th>rate</th>\n",
       "      <th>label</th>\n",
       "    </tr>\n",
       "  </thead>\n",
       "  <tbody>\n",
       "    <tr>\n",
       "      <th>0</th>\n",
       "      <td>#rapidtest</td>\n",
       "      <td>0</td>\n",
       "      <td>0</td>\n",
       "      <td>1</td>\n",
       "      <td>0</td>\n",
       "      <td>0</td>\n",
       "      <td>0</td>\n",
       "      <td>1</td>\n",
       "      <td>rapidtest</td>\n",
       "      <td>[0.0, 0.0, 0.0, 0.0, 0.0, 0.0, 0.0, 0.0, 0.0, ...</td>\n",
       "      <td>0.0</td>\n",
       "      <td>0</td>\n",
       "    </tr>\n",
       "  </tbody>\n",
       "</table>\n",
       "</div>"
      ],
      "text/plain": [
       "          tag  key  neg  ne  po  m  rumor  not_rumor       word  \\\n",
       "0  #rapidtest    0    0   1   0  0      0          1  rapidtest   \n",
       "\n",
       "                                          embeddings  rate  label  \n",
       "0  [0.0, 0.0, 0.0, 0.0, 0.0, 0.0, 0.0, 0.0, 0.0, ...   0.0      0  "
      ]
     },
     "execution_count": 64,
     "metadata": {},
     "output_type": "execute_result"
    },
    {
     "data": {
      "text/plain": [
       "2877"
      ]
     },
     "execution_count": 64,
     "metadata": {},
     "output_type": "execute_result"
    },
    {
     "data": {
      "text/html": [
       "<div>\n",
       "<style scoped>\n",
       "    .dataframe tbody tr th:only-of-type {\n",
       "        vertical-align: middle;\n",
       "    }\n",
       "\n",
       "    .dataframe tbody tr th {\n",
       "        vertical-align: top;\n",
       "    }\n",
       "\n",
       "    .dataframe thead th {\n",
       "        text-align: right;\n",
       "    }\n",
       "</style>\n",
       "<table border=\"1\" class=\"dataframe\">\n",
       "  <thead>\n",
       "    <tr style=\"text-align: right;\">\n",
       "      <th></th>\n",
       "      <th>tag</th>\n",
       "      <th>key</th>\n",
       "      <th>neg</th>\n",
       "      <th>ne</th>\n",
       "      <th>po</th>\n",
       "      <th>m</th>\n",
       "      <th>rumor</th>\n",
       "      <th>not_rumor</th>\n",
       "      <th>word</th>\n",
       "      <th>embeddings</th>\n",
       "      <th>rate</th>\n",
       "      <th>label</th>\n",
       "    </tr>\n",
       "  </thead>\n",
       "  <tbody>\n",
       "    <tr>\n",
       "      <th>2876</th>\n",
       "      <td>#save</td>\n",
       "      <td>2876</td>\n",
       "      <td>17</td>\n",
       "      <td>10</td>\n",
       "      <td>3</td>\n",
       "      <td>1</td>\n",
       "      <td>0</td>\n",
       "      <td>31</td>\n",
       "      <td>save</td>\n",
       "      <td>[-0.1809999942779541, 0.5803099870681763, 0.13...</td>\n",
       "      <td>0.0</td>\n",
       "      <td>0</td>\n",
       "    </tr>\n",
       "  </tbody>\n",
       "</table>\n",
       "</div>"
      ],
      "text/plain": [
       "        tag   key  neg  ne  po  m  rumor  not_rumor  word  \\\n",
       "2876  #save  2876   17  10   3  1      0         31  save   \n",
       "\n",
       "                                             embeddings  rate  label  \n",
       "2876  [-0.1809999942779541, 0.5803099870681763, 0.13...   0.0      0  "
      ]
     },
     "execution_count": 64,
     "metadata": {},
     "output_type": "execute_result"
    }
   ],
   "source": [
    "a.head(1)\n",
    "len(a)\n",
    "a.tail(1)"
   ]
  },
  {
   "cell_type": "code",
   "execution_count": 65,
   "metadata": {},
   "outputs": [
    {
     "data": {
      "text/plain": [
       "716"
      ]
     },
     "execution_count": 65,
     "metadata": {},
     "output_type": "execute_result"
    },
    {
     "data": {
      "text/plain": [
       "2877"
      ]
     },
     "execution_count": 65,
     "metadata": {},
     "output_type": "execute_result"
    }
   ],
   "source": [
    "len(NewWordEm)\n",
    "len(a)"
   ]
  },
  {
   "cell_type": "code",
   "execution_count": 66,
   "metadata": {},
   "outputs": [],
   "source": [
    "wordEm=list(a.embeddings)+NewWordEm"
   ]
  },
  {
   "cell_type": "code",
   "execution_count": 67,
   "metadata": {},
   "outputs": [
    {
     "data": {
      "text/plain": [
       "3593"
      ]
     },
     "execution_count": 67,
     "metadata": {},
     "output_type": "execute_result"
    }
   ],
   "source": [
    "len(wordEm)"
   ]
  },
  {
   "cell_type": "code",
   "execution_count": 68,
   "metadata": {},
   "outputs": [],
   "source": [
    "src_tensor=torch.tensor(newsrc)\n",
    "dst_tensor=torch.tensor(newdst)"
   ]
  },
  {
   "cell_type": "code",
   "execution_count": 69,
   "metadata": {},
   "outputs": [],
   "source": [
    "g=dgl.graph((src_tensor,dst_tensor))"
   ]
  },
  {
   "cell_type": "code",
   "execution_count": 70,
   "metadata": {},
   "outputs": [
    {
     "data": {
      "text/plain": [
       "Graph(num_nodes=3593, num_edges=43658,\n",
       "      ndata_schemes={}\n",
       "      edata_schemes={})"
      ]
     },
     "execution_count": 70,
     "metadata": {},
     "output_type": "execute_result"
    }
   ],
   "source": [
    "g"
   ]
  },
  {
   "cell_type": "code",
   "execution_count": 71,
   "metadata": {},
   "outputs": [],
   "source": [
    "bg=dgl.to_bidirected(g)"
   ]
  },
  {
   "cell_type": "code",
   "execution_count": 72,
   "metadata": {},
   "outputs": [
    {
     "data": {
      "text/plain": [
       "Graph(num_nodes=3593, num_edges=87316,\n",
       "      ndata_schemes={}\n",
       "      edata_schemes={})"
      ]
     },
     "execution_count": 72,
     "metadata": {},
     "output_type": "execute_result"
    },
    {
     "data": {
      "text/plain": [
       "Graph(num_nodes=3593, num_edges=87316,\n",
       "      ndata_schemes={}\n",
       "      edata_schemes={})"
      ]
     },
     "execution_count": 72,
     "metadata": {},
     "output_type": "execute_result"
    }
   ],
   "source": [
    "bg\n",
    "bg=dgl.remove_self_loop(bg)\n",
    "bg"
   ]
  },
  {
   "cell_type": "code",
   "execution_count": 73,
   "metadata": {},
   "outputs": [
    {
     "data": {
      "text/plain": [
       "torch.Size([3593, 100])"
      ]
     },
     "execution_count": 73,
     "metadata": {},
     "output_type": "execute_result"
    }
   ],
   "source": [
    "t=torch.tensor(wordEm)\n",
    "t.size()"
   ]
  },
  {
   "cell_type": "code",
   "execution_count": 74,
   "metadata": {},
   "outputs": [],
   "source": [
    "bg.ndata['feat']=t"
   ]
  },
  {
   "cell_type": "code",
   "execution_count": 75,
   "metadata": {},
   "outputs": [
    {
     "data": {
      "text/html": [
       "<div>\n",
       "<style scoped>\n",
       "    .dataframe tbody tr th:only-of-type {\n",
       "        vertical-align: middle;\n",
       "    }\n",
       "\n",
       "    .dataframe tbody tr th {\n",
       "        vertical-align: top;\n",
       "    }\n",
       "\n",
       "    .dataframe thead th {\n",
       "        text-align: right;\n",
       "    }\n",
       "</style>\n",
       "<table border=\"1\" class=\"dataframe\">\n",
       "  <thead>\n",
       "    <tr style=\"text-align: right;\">\n",
       "      <th></th>\n",
       "      <th>tag</th>\n",
       "      <th>key</th>\n",
       "      <th>neg</th>\n",
       "      <th>ne</th>\n",
       "      <th>po</th>\n",
       "      <th>m</th>\n",
       "      <th>rumor</th>\n",
       "      <th>not_rumor</th>\n",
       "      <th>word</th>\n",
       "      <th>embeddings</th>\n",
       "      <th>rate</th>\n",
       "      <th>label</th>\n",
       "    </tr>\n",
       "  </thead>\n",
       "  <tbody>\n",
       "    <tr>\n",
       "      <th>0</th>\n",
       "      <td>#rapidtest</td>\n",
       "      <td>0</td>\n",
       "      <td>0</td>\n",
       "      <td>1</td>\n",
       "      <td>0</td>\n",
       "      <td>0</td>\n",
       "      <td>0</td>\n",
       "      <td>1</td>\n",
       "      <td>rapidtest</td>\n",
       "      <td>[0.0, 0.0, 0.0, 0.0, 0.0, 0.0, 0.0, 0.0, 0.0, ...</td>\n",
       "      <td>0.0</td>\n",
       "      <td>0</td>\n",
       "    </tr>\n",
       "  </tbody>\n",
       "</table>\n",
       "</div>"
      ],
      "text/plain": [
       "          tag  key  neg  ne  po  m  rumor  not_rumor       word  \\\n",
       "0  #rapidtest    0    0   1   0  0      0          1  rapidtest   \n",
       "\n",
       "                                          embeddings  rate  label  \n",
       "0  [0.0, 0.0, 0.0, 0.0, 0.0, 0.0, 0.0, 0.0, 0.0, ...   0.0      0  "
      ]
     },
     "execution_count": 75,
     "metadata": {},
     "output_type": "execute_result"
    },
    {
     "data": {
      "text/plain": [
       "716"
      ]
     },
     "execution_count": 75,
     "metadata": {},
     "output_type": "execute_result"
    }
   ],
   "source": [
    "a.head(1)\n",
    "len(NewWordEm)"
   ]
  },
  {
   "cell_type": "code",
   "execution_count": 76,
   "metadata": {},
   "outputs": [
    {
     "data": {
      "text/plain": [
       "716"
      ]
     },
     "execution_count": 76,
     "metadata": {},
     "output_type": "execute_result"
    }
   ],
   "source": [
    "L=[1]*716\n",
    "len(L)"
   ]
  },
  {
   "cell_type": "code",
   "execution_count": 77,
   "metadata": {},
   "outputs": [
    {
     "data": {
      "text/plain": [
       "3593"
      ]
     },
     "execution_count": 77,
     "metadata": {},
     "output_type": "execute_result"
    },
    {
     "data": {
      "text/plain": [
       "Counter({0: 2552, 1: 1041})"
      ]
     },
     "execution_count": 77,
     "metadata": {},
     "output_type": "execute_result"
    }
   ],
   "source": [
    "label=list(a.label)+L\n",
    "len(label)\n",
    "Counter(label)"
   ]
  },
  {
   "cell_type": "code",
   "execution_count": 78,
   "metadata": {},
   "outputs": [],
   "source": [
    "bg.ndata['label']=torch.tensor(label)"
   ]
  },
  {
   "cell_type": "code",
   "execution_count": null,
   "metadata": {},
   "outputs": [],
   "source": [
    "import random\n",
    "train=[]\n",
    "validation=[]\n",
    "test=[]\n",
    "sample=[]\n",
    "#Create percentage for train & validation set, you are able to change the percentage\n",
    "def shuffle(train_per,validation_per):\n",
    "    train_percentage = int(train_per * )\n",
    "    validation_percentage = int(validation_per * len(dfkey))\n",
    "    for i in range(0,len(dfkey)):\n",
    "        if i<train_percentage:\n",
    "            sample.append(1)\n",
    "        if i>=train_percentage and i<validation_percentage:\n",
    "            sample.append(2)\n",
    "        if i>=validation_percentage:\n",
    "            sample.append(3)\n",
    "    random.shuffle(sample)\n",
    "    for i in sample:\n",
    "        if i==1:\n",
    "            train.append(True)\n",
    "            validation.append(False)\n",
    "            test.append(False)\n",
    "        if i==2:\n",
    "            train.append(False)\n",
    "            validation.append(True)\n",
    "            test.append(False)\n",
    "        if i==3:\n",
    "            train.append(False)\n",
    "            validation.append(False)\n",
    "            test.append(True)\n",
    "\n",
    "shuffle(0.3,0.7)"
   ]
  },
  {
   "cell_type": "code",
   "execution_count": 79,
   "metadata": {},
   "outputs": [],
   "source": [
    "train=[]\n",
    "validation=[]\n",
    "test=[]\n",
    "for i in range(0,3593):\n",
    "    if i<1500 or i>=3100:\n",
    "        train.append(True)\n",
    "        validation.append(False)\n",
    "        test.append(False)\n",
    "    if i>=2000 and i<3100:\n",
    "        train.append(False)\n",
    "        validation.append(True)\n",
    "        test.append(False)\n",
    "    if i>=1500 and i<2000:\n",
    "        train.append(False)\n",
    "        validation.append(False)\n",
    "        test.append(True)"
   ]
  },
  {
   "cell_type": "code",
   "execution_count": 80,
   "metadata": {},
   "outputs": [
    {
     "data": {
      "text/plain": [
       "3593"
      ]
     },
     "execution_count": 80,
     "metadata": {},
     "output_type": "execute_result"
    },
    {
     "data": {
      "text/plain": [
       "3593"
      ]
     },
     "execution_count": 80,
     "metadata": {},
     "output_type": "execute_result"
    },
    {
     "data": {
      "text/plain": [
       "3593"
      ]
     },
     "execution_count": 80,
     "metadata": {},
     "output_type": "execute_result"
    }
   ],
   "source": [
    "len(train)\n",
    "len(validation)\n",
    "len(test)"
   ]
  },
  {
   "cell_type": "code",
   "execution_count": 81,
   "metadata": {},
   "outputs": [],
   "source": [
    "bg.ndata['train_mask']=torch.tensor(train)\n",
    "bg.ndata['val_mask']=torch.tensor(validation)\n",
    "bg.ndata['test_mask']=torch.tensor(test)"
   ]
  },
  {
   "cell_type": "code",
   "execution_count": 82,
   "metadata": {},
   "outputs": [],
   "source": [
    "node_features=bg.ndata['feat']\n",
    "node_labels=bg.ndata['label']\n",
    "train_mask=bg.ndata['train_mask']\n",
    "valid_mask=bg.ndata['val_mask']\n",
    "test_mask=bg.ndata['test_mask']"
   ]
  },
  {
   "cell_type": "code",
   "execution_count": 83,
   "metadata": {},
   "outputs": [],
   "source": [
    "n_features=node_features.shape[1]\n",
    "n_labels=2"
   ]
  },
  {
   "cell_type": "code",
   "execution_count": 84,
   "metadata": {},
   "outputs": [],
   "source": [
    "import dgl.nn as dglnn \n",
    "import dgl \n",
    "import torch \n",
    "import torch.nn as nn \n",
    "import torch.nn.functional as F \n",
    "from dgl.data import * "
   ]
  },
  {
   "cell_type": "code",
   "execution_count": 85,
   "metadata": {},
   "outputs": [],
   "source": [
    "class SAGE(nn.Module):\n",
    "    def __init__(self, in_feats, hid_feats, out_feats, dropout=0.2):\n",
    "        super().__init__()\n",
    "        self.conv1 = dglnn.SAGEConv( \n",
    "            in_feats=in_feats, out_feats=hid_feats, feat_drop=0.2, aggregator_type='gcn')\n",
    "        self.conv2 = dglnn.SAGEConv(\n",
    "            in_feats=hid_feats, out_feats=out_feats, feat_drop=0.2, aggregator_type='gcn')\n",
    "        #self.conv3 = dglnn.SAGEConv(\n",
    "        #    in_feats=hid_feats, out_feats=hid_feats, feat_drop=0.2, aggregator_type='gcn')\n",
    "        #self.conv4 = dglnn.SAGEConv(\n",
    "        #    in_feats=hid_feats, out_feats=out_feats, feat_drop=0.2, aggregator_type='mean')\n",
    "        self.dropout =  nn.Dropout(dropout)\n",
    "    \n",
    "    def forward(self, graph, inputs):\n",
    "        # inputs 是节点的特征 [N, in_feas]\n",
    "        h = self.conv1(graph, inputs)\n",
    "        h = self.dropout(F.relu(h))\n",
    "        h = self.conv2(graph, h)\n",
    "      #  h = self.dropout(F.relu(h))\n",
    "      #  h = self.conv3(graph, h)\n",
    "      #  h = self.dropout(F.relu(h))\n",
    "      #  h = self.conv4(graph, h)\n",
    "        return h "
   ]
  },
  {
   "cell_type": "code",
   "execution_count": 86,
   "metadata": {},
   "outputs": [],
   "source": [
    "def evaluate(model, graph, features, labels, mask):\n",
    "    model.eval()\n",
    "    with torch.no_grad():\n",
    "        logits = model(graph, features)\n",
    "        logits = logits[mask]\n",
    "        labels = labels[mask]\n",
    "        _, indices = torch.max(logits, dim=1)\n",
    "        correct = torch.sum(indices == labels)\n",
    "        return correct.item() * 1.0 / len(labels)\n",
    "\n"
   ]
  },
  {
   "cell_type": "code",
   "execution_count": 138,
   "metadata": {},
   "outputs": [],
   "source": [
    "model = SAGE(in_feats=n_features, hid_feats=128, out_feats=n_labels) \n",
    "opt = torch.optim.Adam(model.parameters())"
   ]
  },
  {
   "cell_type": "code",
   "execution_count": 124,
   "metadata": {},
   "outputs": [],
   "source": [
    "from sklearn.metrics import f1_score\n",
    "from sklearn.metrics import precision_score\n",
    "from sklearn.metrics import recall_score"
   ]
  },
  {
   "cell_type": "code",
   "execution_count": 135,
   "metadata": {},
   "outputs": [],
   "source": [
    "def f1Score(tensor,label):\n",
    "    T=F.softmax(tensor,dim=1)\n",
    "    pre=[]\n",
    "    for i in range(0,len(tensor)):\n",
    "        if T[i][0]>=T[i][1]:\n",
    "            pre.append(0)\n",
    "        else:\n",
    "            pre.append(1)\n",
    "    nodeList=label.numpy().tolist()\n",
    "    f1score=f1_score(pre,nodeList,average='micro')\n",
    "    return f1score"
   ]
  },
  {
   "cell_type": "code",
   "execution_count": 139,
   "metadata": {},
   "outputs": [
    {
     "name": "stdout",
     "output_type": "stream",
     "text": [
      "Epoch 0\n"
     ]
    },
    {
     "data": {
      "text/plain": [
       "SAGE(\n",
       "  (conv1): SAGEConv(\n",
       "    (feat_drop): Dropout(p=0.2, inplace=False)\n",
       "    (fc_neigh): Linear(in_features=100, out_features=128, bias=True)\n",
       "  )\n",
       "  (conv2): SAGEConv(\n",
       "    (feat_drop): Dropout(p=0.2, inplace=False)\n",
       "    (fc_neigh): Linear(in_features=128, out_features=2, bias=True)\n",
       "  )\n",
       "  (dropout): Dropout(p=0.2, inplace=False)\n",
       ")"
      ]
     },
     "execution_count": 139,
     "metadata": {},
     "output_type": "execute_result"
    },
    {
     "name": "stdout",
     "output_type": "stream",
     "text": [
      "Epoch 1\n"
     ]
    },
    {
     "data": {
      "text/plain": [
       "SAGE(\n",
       "  (conv1): SAGEConv(\n",
       "    (feat_drop): Dropout(p=0.2, inplace=False)\n",
       "    (fc_neigh): Linear(in_features=100, out_features=128, bias=True)\n",
       "  )\n",
       "  (conv2): SAGEConv(\n",
       "    (feat_drop): Dropout(p=0.2, inplace=False)\n",
       "    (fc_neigh): Linear(in_features=128, out_features=2, bias=True)\n",
       "  )\n",
       "  (dropout): Dropout(p=0.2, inplace=False)\n",
       ")"
      ]
     },
     "execution_count": 139,
     "metadata": {},
     "output_type": "execute_result"
    },
    {
     "name": "stdout",
     "output_type": "stream",
     "text": [
      "Epoch 2\n"
     ]
    },
    {
     "data": {
      "text/plain": [
       "SAGE(\n",
       "  (conv1): SAGEConv(\n",
       "    (feat_drop): Dropout(p=0.2, inplace=False)\n",
       "    (fc_neigh): Linear(in_features=100, out_features=128, bias=True)\n",
       "  )\n",
       "  (conv2): SAGEConv(\n",
       "    (feat_drop): Dropout(p=0.2, inplace=False)\n",
       "    (fc_neigh): Linear(in_features=128, out_features=2, bias=True)\n",
       "  )\n",
       "  (dropout): Dropout(p=0.2, inplace=False)\n",
       ")"
      ]
     },
     "execution_count": 139,
     "metadata": {},
     "output_type": "execute_result"
    },
    {
     "name": "stdout",
     "output_type": "stream",
     "text": [
      "Epoch 3\n"
     ]
    },
    {
     "data": {
      "text/plain": [
       "SAGE(\n",
       "  (conv1): SAGEConv(\n",
       "    (feat_drop): Dropout(p=0.2, inplace=False)\n",
       "    (fc_neigh): Linear(in_features=100, out_features=128, bias=True)\n",
       "  )\n",
       "  (conv2): SAGEConv(\n",
       "    (feat_drop): Dropout(p=0.2, inplace=False)\n",
       "    (fc_neigh): Linear(in_features=128, out_features=2, bias=True)\n",
       "  )\n",
       "  (dropout): Dropout(p=0.2, inplace=False)\n",
       ")"
      ]
     },
     "execution_count": 139,
     "metadata": {},
     "output_type": "execute_result"
    },
    {
     "name": "stdout",
     "output_type": "stream",
     "text": [
      "Epoch 4\n"
     ]
    },
    {
     "data": {
      "text/plain": [
       "SAGE(\n",
       "  (conv1): SAGEConv(\n",
       "    (feat_drop): Dropout(p=0.2, inplace=False)\n",
       "    (fc_neigh): Linear(in_features=100, out_features=128, bias=True)\n",
       "  )\n",
       "  (conv2): SAGEConv(\n",
       "    (feat_drop): Dropout(p=0.2, inplace=False)\n",
       "    (fc_neigh): Linear(in_features=128, out_features=2, bias=True)\n",
       "  )\n",
       "  (dropout): Dropout(p=0.2, inplace=False)\n",
       ")"
      ]
     },
     "execution_count": 139,
     "metadata": {},
     "output_type": "execute_result"
    },
    {
     "name": "stdout",
     "output_type": "stream",
     "text": [
      "Epoch 5\n"
     ]
    },
    {
     "data": {
      "text/plain": [
       "SAGE(\n",
       "  (conv1): SAGEConv(\n",
       "    (feat_drop): Dropout(p=0.2, inplace=False)\n",
       "    (fc_neigh): Linear(in_features=100, out_features=128, bias=True)\n",
       "  )\n",
       "  (conv2): SAGEConv(\n",
       "    (feat_drop): Dropout(p=0.2, inplace=False)\n",
       "    (fc_neigh): Linear(in_features=128, out_features=2, bias=True)\n",
       "  )\n",
       "  (dropout): Dropout(p=0.2, inplace=False)\n",
       ")"
      ]
     },
     "execution_count": 139,
     "metadata": {},
     "output_type": "execute_result"
    },
    {
     "name": "stdout",
     "output_type": "stream",
     "text": [
      "Epoch 6\n"
     ]
    },
    {
     "data": {
      "text/plain": [
       "SAGE(\n",
       "  (conv1): SAGEConv(\n",
       "    (feat_drop): Dropout(p=0.2, inplace=False)\n",
       "    (fc_neigh): Linear(in_features=100, out_features=128, bias=True)\n",
       "  )\n",
       "  (conv2): SAGEConv(\n",
       "    (feat_drop): Dropout(p=0.2, inplace=False)\n",
       "    (fc_neigh): Linear(in_features=128, out_features=2, bias=True)\n",
       "  )\n",
       "  (dropout): Dropout(p=0.2, inplace=False)\n",
       ")"
      ]
     },
     "execution_count": 139,
     "metadata": {},
     "output_type": "execute_result"
    },
    {
     "name": "stdout",
     "output_type": "stream",
     "text": [
      "Epoch 7\n"
     ]
    },
    {
     "data": {
      "text/plain": [
       "SAGE(\n",
       "  (conv1): SAGEConv(\n",
       "    (feat_drop): Dropout(p=0.2, inplace=False)\n",
       "    (fc_neigh): Linear(in_features=100, out_features=128, bias=True)\n",
       "  )\n",
       "  (conv2): SAGEConv(\n",
       "    (feat_drop): Dropout(p=0.2, inplace=False)\n",
       "    (fc_neigh): Linear(in_features=128, out_features=2, bias=True)\n",
       "  )\n",
       "  (dropout): Dropout(p=0.2, inplace=False)\n",
       ")"
      ]
     },
     "execution_count": 139,
     "metadata": {},
     "output_type": "execute_result"
    },
    {
     "name": "stdout",
     "output_type": "stream",
     "text": [
      "Epoch 8\n"
     ]
    },
    {
     "data": {
      "text/plain": [
       "SAGE(\n",
       "  (conv1): SAGEConv(\n",
       "    (feat_drop): Dropout(p=0.2, inplace=False)\n",
       "    (fc_neigh): Linear(in_features=100, out_features=128, bias=True)\n",
       "  )\n",
       "  (conv2): SAGEConv(\n",
       "    (feat_drop): Dropout(p=0.2, inplace=False)\n",
       "    (fc_neigh): Linear(in_features=128, out_features=2, bias=True)\n",
       "  )\n",
       "  (dropout): Dropout(p=0.2, inplace=False)\n",
       ")"
      ]
     },
     "execution_count": 139,
     "metadata": {},
     "output_type": "execute_result"
    },
    {
     "name": "stdout",
     "output_type": "stream",
     "text": [
      "Epoch 9\n"
     ]
    },
    {
     "data": {
      "text/plain": [
       "SAGE(\n",
       "  (conv1): SAGEConv(\n",
       "    (feat_drop): Dropout(p=0.2, inplace=False)\n",
       "    (fc_neigh): Linear(in_features=100, out_features=128, bias=True)\n",
       "  )\n",
       "  (conv2): SAGEConv(\n",
       "    (feat_drop): Dropout(p=0.2, inplace=False)\n",
       "    (fc_neigh): Linear(in_features=128, out_features=2, bias=True)\n",
       "  )\n",
       "  (dropout): Dropout(p=0.2, inplace=False)\n",
       ")"
      ]
     },
     "execution_count": 139,
     "metadata": {},
     "output_type": "execute_result"
    },
    {
     "name": "stdout",
     "output_type": "stream",
     "text": [
      "Epoch 10\n"
     ]
    },
    {
     "data": {
      "text/plain": [
       "SAGE(\n",
       "  (conv1): SAGEConv(\n",
       "    (feat_drop): Dropout(p=0.2, inplace=False)\n",
       "    (fc_neigh): Linear(in_features=100, out_features=128, bias=True)\n",
       "  )\n",
       "  (conv2): SAGEConv(\n",
       "    (feat_drop): Dropout(p=0.2, inplace=False)\n",
       "    (fc_neigh): Linear(in_features=128, out_features=2, bias=True)\n",
       "  )\n",
       "  (dropout): Dropout(p=0.2, inplace=False)\n",
       ")"
      ]
     },
     "execution_count": 139,
     "metadata": {},
     "output_type": "execute_result"
    },
    {
     "name": "stdout",
     "output_type": "stream",
     "text": [
      "Epoch 11\n"
     ]
    },
    {
     "data": {
      "text/plain": [
       "SAGE(\n",
       "  (conv1): SAGEConv(\n",
       "    (feat_drop): Dropout(p=0.2, inplace=False)\n",
       "    (fc_neigh): Linear(in_features=100, out_features=128, bias=True)\n",
       "  )\n",
       "  (conv2): SAGEConv(\n",
       "    (feat_drop): Dropout(p=0.2, inplace=False)\n",
       "    (fc_neigh): Linear(in_features=128, out_features=2, bias=True)\n",
       "  )\n",
       "  (dropout): Dropout(p=0.2, inplace=False)\n",
       ")"
      ]
     },
     "execution_count": 139,
     "metadata": {},
     "output_type": "execute_result"
    },
    {
     "name": "stdout",
     "output_type": "stream",
     "text": [
      "Epoch 12\n"
     ]
    },
    {
     "data": {
      "text/plain": [
       "SAGE(\n",
       "  (conv1): SAGEConv(\n",
       "    (feat_drop): Dropout(p=0.2, inplace=False)\n",
       "    (fc_neigh): Linear(in_features=100, out_features=128, bias=True)\n",
       "  )\n",
       "  (conv2): SAGEConv(\n",
       "    (feat_drop): Dropout(p=0.2, inplace=False)\n",
       "    (fc_neigh): Linear(in_features=128, out_features=2, bias=True)\n",
       "  )\n",
       "  (dropout): Dropout(p=0.2, inplace=False)\n",
       ")"
      ]
     },
     "execution_count": 139,
     "metadata": {},
     "output_type": "execute_result"
    },
    {
     "name": "stdout",
     "output_type": "stream",
     "text": [
      "Epoch 13\n"
     ]
    },
    {
     "data": {
      "text/plain": [
       "SAGE(\n",
       "  (conv1): SAGEConv(\n",
       "    (feat_drop): Dropout(p=0.2, inplace=False)\n",
       "    (fc_neigh): Linear(in_features=100, out_features=128, bias=True)\n",
       "  )\n",
       "  (conv2): SAGEConv(\n",
       "    (feat_drop): Dropout(p=0.2, inplace=False)\n",
       "    (fc_neigh): Linear(in_features=128, out_features=2, bias=True)\n",
       "  )\n",
       "  (dropout): Dropout(p=0.2, inplace=False)\n",
       ")"
      ]
     },
     "execution_count": 139,
     "metadata": {},
     "output_type": "execute_result"
    },
    {
     "name": "stdout",
     "output_type": "stream",
     "text": [
      "Epoch 14\n"
     ]
    },
    {
     "data": {
      "text/plain": [
       "SAGE(\n",
       "  (conv1): SAGEConv(\n",
       "    (feat_drop): Dropout(p=0.2, inplace=False)\n",
       "    (fc_neigh): Linear(in_features=100, out_features=128, bias=True)\n",
       "  )\n",
       "  (conv2): SAGEConv(\n",
       "    (feat_drop): Dropout(p=0.2, inplace=False)\n",
       "    (fc_neigh): Linear(in_features=128, out_features=2, bias=True)\n",
       "  )\n",
       "  (dropout): Dropout(p=0.2, inplace=False)\n",
       ")"
      ]
     },
     "execution_count": 139,
     "metadata": {},
     "output_type": "execute_result"
    },
    {
     "name": "stdout",
     "output_type": "stream",
     "text": [
      "Epoch 15\n"
     ]
    },
    {
     "data": {
      "text/plain": [
       "SAGE(\n",
       "  (conv1): SAGEConv(\n",
       "    (feat_drop): Dropout(p=0.2, inplace=False)\n",
       "    (fc_neigh): Linear(in_features=100, out_features=128, bias=True)\n",
       "  )\n",
       "  (conv2): SAGEConv(\n",
       "    (feat_drop): Dropout(p=0.2, inplace=False)\n",
       "    (fc_neigh): Linear(in_features=128, out_features=2, bias=True)\n",
       "  )\n",
       "  (dropout): Dropout(p=0.2, inplace=False)\n",
       ")"
      ]
     },
     "execution_count": 139,
     "metadata": {},
     "output_type": "execute_result"
    },
    {
     "name": "stdout",
     "output_type": "stream",
     "text": [
      "Epoch 16\n"
     ]
    },
    {
     "data": {
      "text/plain": [
       "SAGE(\n",
       "  (conv1): SAGEConv(\n",
       "    (feat_drop): Dropout(p=0.2, inplace=False)\n",
       "    (fc_neigh): Linear(in_features=100, out_features=128, bias=True)\n",
       "  )\n",
       "  (conv2): SAGEConv(\n",
       "    (feat_drop): Dropout(p=0.2, inplace=False)\n",
       "    (fc_neigh): Linear(in_features=128, out_features=2, bias=True)\n",
       "  )\n",
       "  (dropout): Dropout(p=0.2, inplace=False)\n",
       ")"
      ]
     },
     "execution_count": 139,
     "metadata": {},
     "output_type": "execute_result"
    },
    {
     "name": "stdout",
     "output_type": "stream",
     "text": [
      "Epoch 17\n"
     ]
    },
    {
     "data": {
      "text/plain": [
       "SAGE(\n",
       "  (conv1): SAGEConv(\n",
       "    (feat_drop): Dropout(p=0.2, inplace=False)\n",
       "    (fc_neigh): Linear(in_features=100, out_features=128, bias=True)\n",
       "  )\n",
       "  (conv2): SAGEConv(\n",
       "    (feat_drop): Dropout(p=0.2, inplace=False)\n",
       "    (fc_neigh): Linear(in_features=128, out_features=2, bias=True)\n",
       "  )\n",
       "  (dropout): Dropout(p=0.2, inplace=False)\n",
       ")"
      ]
     },
     "execution_count": 139,
     "metadata": {},
     "output_type": "execute_result"
    },
    {
     "name": "stdout",
     "output_type": "stream",
     "text": [
      "Epoch 18\n"
     ]
    },
    {
     "data": {
      "text/plain": [
       "SAGE(\n",
       "  (conv1): SAGEConv(\n",
       "    (feat_drop): Dropout(p=0.2, inplace=False)\n",
       "    (fc_neigh): Linear(in_features=100, out_features=128, bias=True)\n",
       "  )\n",
       "  (conv2): SAGEConv(\n",
       "    (feat_drop): Dropout(p=0.2, inplace=False)\n",
       "    (fc_neigh): Linear(in_features=128, out_features=2, bias=True)\n",
       "  )\n",
       "  (dropout): Dropout(p=0.2, inplace=False)\n",
       ")"
      ]
     },
     "execution_count": 139,
     "metadata": {},
     "output_type": "execute_result"
    },
    {
     "name": "stdout",
     "output_type": "stream",
     "text": [
      "Epoch 19\n"
     ]
    },
    {
     "data": {
      "text/plain": [
       "SAGE(\n",
       "  (conv1): SAGEConv(\n",
       "    (feat_drop): Dropout(p=0.2, inplace=False)\n",
       "    (fc_neigh): Linear(in_features=100, out_features=128, bias=True)\n",
       "  )\n",
       "  (conv2): SAGEConv(\n",
       "    (feat_drop): Dropout(p=0.2, inplace=False)\n",
       "    (fc_neigh): Linear(in_features=128, out_features=2, bias=True)\n",
       "  )\n",
       "  (dropout): Dropout(p=0.2, inplace=False)\n",
       ")"
      ]
     },
     "execution_count": 139,
     "metadata": {},
     "output_type": "execute_result"
    },
    {
     "name": "stdout",
     "output_type": "stream",
     "text": [
      "Epoch 20\n"
     ]
    },
    {
     "data": {
      "text/plain": [
       "SAGE(\n",
       "  (conv1): SAGEConv(\n",
       "    (feat_drop): Dropout(p=0.2, inplace=False)\n",
       "    (fc_neigh): Linear(in_features=100, out_features=128, bias=True)\n",
       "  )\n",
       "  (conv2): SAGEConv(\n",
       "    (feat_drop): Dropout(p=0.2, inplace=False)\n",
       "    (fc_neigh): Linear(in_features=128, out_features=2, bias=True)\n",
       "  )\n",
       "  (dropout): Dropout(p=0.2, inplace=False)\n",
       ")"
      ]
     },
     "execution_count": 139,
     "metadata": {},
     "output_type": "execute_result"
    },
    {
     "name": "stdout",
     "output_type": "stream",
     "text": [
      "Epoch 21\n"
     ]
    },
    {
     "data": {
      "text/plain": [
       "SAGE(\n",
       "  (conv1): SAGEConv(\n",
       "    (feat_drop): Dropout(p=0.2, inplace=False)\n",
       "    (fc_neigh): Linear(in_features=100, out_features=128, bias=True)\n",
       "  )\n",
       "  (conv2): SAGEConv(\n",
       "    (feat_drop): Dropout(p=0.2, inplace=False)\n",
       "    (fc_neigh): Linear(in_features=128, out_features=2, bias=True)\n",
       "  )\n",
       "  (dropout): Dropout(p=0.2, inplace=False)\n",
       ")"
      ]
     },
     "execution_count": 139,
     "metadata": {},
     "output_type": "execute_result"
    },
    {
     "name": "stdout",
     "output_type": "stream",
     "text": [
      "Epoch 22\n"
     ]
    },
    {
     "data": {
      "text/plain": [
       "SAGE(\n",
       "  (conv1): SAGEConv(\n",
       "    (feat_drop): Dropout(p=0.2, inplace=False)\n",
       "    (fc_neigh): Linear(in_features=100, out_features=128, bias=True)\n",
       "  )\n",
       "  (conv2): SAGEConv(\n",
       "    (feat_drop): Dropout(p=0.2, inplace=False)\n",
       "    (fc_neigh): Linear(in_features=128, out_features=2, bias=True)\n",
       "  )\n",
       "  (dropout): Dropout(p=0.2, inplace=False)\n",
       ")"
      ]
     },
     "execution_count": 139,
     "metadata": {},
     "output_type": "execute_result"
    },
    {
     "name": "stdout",
     "output_type": "stream",
     "text": [
      "Epoch 23\n"
     ]
    },
    {
     "data": {
      "text/plain": [
       "SAGE(\n",
       "  (conv1): SAGEConv(\n",
       "    (feat_drop): Dropout(p=0.2, inplace=False)\n",
       "    (fc_neigh): Linear(in_features=100, out_features=128, bias=True)\n",
       "  )\n",
       "  (conv2): SAGEConv(\n",
       "    (feat_drop): Dropout(p=0.2, inplace=False)\n",
       "    (fc_neigh): Linear(in_features=128, out_features=2, bias=True)\n",
       "  )\n",
       "  (dropout): Dropout(p=0.2, inplace=False)\n",
       ")"
      ]
     },
     "execution_count": 139,
     "metadata": {},
     "output_type": "execute_result"
    },
    {
     "name": "stdout",
     "output_type": "stream",
     "text": [
      "Epoch 24\n"
     ]
    },
    {
     "data": {
      "text/plain": [
       "SAGE(\n",
       "  (conv1): SAGEConv(\n",
       "    (feat_drop): Dropout(p=0.2, inplace=False)\n",
       "    (fc_neigh): Linear(in_features=100, out_features=128, bias=True)\n",
       "  )\n",
       "  (conv2): SAGEConv(\n",
       "    (feat_drop): Dropout(p=0.2, inplace=False)\n",
       "    (fc_neigh): Linear(in_features=128, out_features=2, bias=True)\n",
       "  )\n",
       "  (dropout): Dropout(p=0.2, inplace=False)\n",
       ")"
      ]
     },
     "execution_count": 139,
     "metadata": {},
     "output_type": "execute_result"
    },
    {
     "name": "stdout",
     "output_type": "stream",
     "text": [
      "Epoch 25\n"
     ]
    },
    {
     "data": {
      "text/plain": [
       "SAGE(\n",
       "  (conv1): SAGEConv(\n",
       "    (feat_drop): Dropout(p=0.2, inplace=False)\n",
       "    (fc_neigh): Linear(in_features=100, out_features=128, bias=True)\n",
       "  )\n",
       "  (conv2): SAGEConv(\n",
       "    (feat_drop): Dropout(p=0.2, inplace=False)\n",
       "    (fc_neigh): Linear(in_features=128, out_features=2, bias=True)\n",
       "  )\n",
       "  (dropout): Dropout(p=0.2, inplace=False)\n",
       ")"
      ]
     },
     "execution_count": 139,
     "metadata": {},
     "output_type": "execute_result"
    },
    {
     "name": "stdout",
     "output_type": "stream",
     "text": [
      "Epoch 26\n"
     ]
    },
    {
     "data": {
      "text/plain": [
       "SAGE(\n",
       "  (conv1): SAGEConv(\n",
       "    (feat_drop): Dropout(p=0.2, inplace=False)\n",
       "    (fc_neigh): Linear(in_features=100, out_features=128, bias=True)\n",
       "  )\n",
       "  (conv2): SAGEConv(\n",
       "    (feat_drop): Dropout(p=0.2, inplace=False)\n",
       "    (fc_neigh): Linear(in_features=128, out_features=2, bias=True)\n",
       "  )\n",
       "  (dropout): Dropout(p=0.2, inplace=False)\n",
       ")"
      ]
     },
     "execution_count": 139,
     "metadata": {},
     "output_type": "execute_result"
    },
    {
     "name": "stdout",
     "output_type": "stream",
     "text": [
      "Epoch 27\n"
     ]
    },
    {
     "data": {
      "text/plain": [
       "SAGE(\n",
       "  (conv1): SAGEConv(\n",
       "    (feat_drop): Dropout(p=0.2, inplace=False)\n",
       "    (fc_neigh): Linear(in_features=100, out_features=128, bias=True)\n",
       "  )\n",
       "  (conv2): SAGEConv(\n",
       "    (feat_drop): Dropout(p=0.2, inplace=False)\n",
       "    (fc_neigh): Linear(in_features=128, out_features=2, bias=True)\n",
       "  )\n",
       "  (dropout): Dropout(p=0.2, inplace=False)\n",
       ")"
      ]
     },
     "execution_count": 139,
     "metadata": {},
     "output_type": "execute_result"
    },
    {
     "name": "stdout",
     "output_type": "stream",
     "text": [
      "Epoch 28\n"
     ]
    },
    {
     "data": {
      "text/plain": [
       "SAGE(\n",
       "  (conv1): SAGEConv(\n",
       "    (feat_drop): Dropout(p=0.2, inplace=False)\n",
       "    (fc_neigh): Linear(in_features=100, out_features=128, bias=True)\n",
       "  )\n",
       "  (conv2): SAGEConv(\n",
       "    (feat_drop): Dropout(p=0.2, inplace=False)\n",
       "    (fc_neigh): Linear(in_features=128, out_features=2, bias=True)\n",
       "  )\n",
       "  (dropout): Dropout(p=0.2, inplace=False)\n",
       ")"
      ]
     },
     "execution_count": 139,
     "metadata": {},
     "output_type": "execute_result"
    },
    {
     "name": "stdout",
     "output_type": "stream",
     "text": [
      "Epoch 29\n"
     ]
    },
    {
     "data": {
      "text/plain": [
       "SAGE(\n",
       "  (conv1): SAGEConv(\n",
       "    (feat_drop): Dropout(p=0.2, inplace=False)\n",
       "    (fc_neigh): Linear(in_features=100, out_features=128, bias=True)\n",
       "  )\n",
       "  (conv2): SAGEConv(\n",
       "    (feat_drop): Dropout(p=0.2, inplace=False)\n",
       "    (fc_neigh): Linear(in_features=128, out_features=2, bias=True)\n",
       "  )\n",
       "  (dropout): Dropout(p=0.2, inplace=False)\n",
       ")"
      ]
     },
     "execution_count": 139,
     "metadata": {},
     "output_type": "execute_result"
    },
    {
     "name": "stdout",
     "output_type": "stream",
     "text": [
      "Epoch 30\n"
     ]
    },
    {
     "data": {
      "text/plain": [
       "SAGE(\n",
       "  (conv1): SAGEConv(\n",
       "    (feat_drop): Dropout(p=0.2, inplace=False)\n",
       "    (fc_neigh): Linear(in_features=100, out_features=128, bias=True)\n",
       "  )\n",
       "  (conv2): SAGEConv(\n",
       "    (feat_drop): Dropout(p=0.2, inplace=False)\n",
       "    (fc_neigh): Linear(in_features=128, out_features=2, bias=True)\n",
       "  )\n",
       "  (dropout): Dropout(p=0.2, inplace=False)\n",
       ")"
      ]
     },
     "execution_count": 139,
     "metadata": {},
     "output_type": "execute_result"
    },
    {
     "name": "stdout",
     "output_type": "stream",
     "text": [
      "Epoch 31\n"
     ]
    },
    {
     "data": {
      "text/plain": [
       "SAGE(\n",
       "  (conv1): SAGEConv(\n",
       "    (feat_drop): Dropout(p=0.2, inplace=False)\n",
       "    (fc_neigh): Linear(in_features=100, out_features=128, bias=True)\n",
       "  )\n",
       "  (conv2): SAGEConv(\n",
       "    (feat_drop): Dropout(p=0.2, inplace=False)\n",
       "    (fc_neigh): Linear(in_features=128, out_features=2, bias=True)\n",
       "  )\n",
       "  (dropout): Dropout(p=0.2, inplace=False)\n",
       ")"
      ]
     },
     "execution_count": 139,
     "metadata": {},
     "output_type": "execute_result"
    },
    {
     "name": "stdout",
     "output_type": "stream",
     "text": [
      "Epoch 32\n"
     ]
    },
    {
     "data": {
      "text/plain": [
       "SAGE(\n",
       "  (conv1): SAGEConv(\n",
       "    (feat_drop): Dropout(p=0.2, inplace=False)\n",
       "    (fc_neigh): Linear(in_features=100, out_features=128, bias=True)\n",
       "  )\n",
       "  (conv2): SAGEConv(\n",
       "    (feat_drop): Dropout(p=0.2, inplace=False)\n",
       "    (fc_neigh): Linear(in_features=128, out_features=2, bias=True)\n",
       "  )\n",
       "  (dropout): Dropout(p=0.2, inplace=False)\n",
       ")"
      ]
     },
     "execution_count": 139,
     "metadata": {},
     "output_type": "execute_result"
    },
    {
     "name": "stdout",
     "output_type": "stream",
     "text": [
      "Epoch 33\n"
     ]
    },
    {
     "data": {
      "text/plain": [
       "SAGE(\n",
       "  (conv1): SAGEConv(\n",
       "    (feat_drop): Dropout(p=0.2, inplace=False)\n",
       "    (fc_neigh): Linear(in_features=100, out_features=128, bias=True)\n",
       "  )\n",
       "  (conv2): SAGEConv(\n",
       "    (feat_drop): Dropout(p=0.2, inplace=False)\n",
       "    (fc_neigh): Linear(in_features=128, out_features=2, bias=True)\n",
       "  )\n",
       "  (dropout): Dropout(p=0.2, inplace=False)\n",
       ")"
      ]
     },
     "execution_count": 139,
     "metadata": {},
     "output_type": "execute_result"
    },
    {
     "name": "stdout",
     "output_type": "stream",
     "text": [
      "Epoch 34\n"
     ]
    },
    {
     "data": {
      "text/plain": [
       "SAGE(\n",
       "  (conv1): SAGEConv(\n",
       "    (feat_drop): Dropout(p=0.2, inplace=False)\n",
       "    (fc_neigh): Linear(in_features=100, out_features=128, bias=True)\n",
       "  )\n",
       "  (conv2): SAGEConv(\n",
       "    (feat_drop): Dropout(p=0.2, inplace=False)\n",
       "    (fc_neigh): Linear(in_features=128, out_features=2, bias=True)\n",
       "  )\n",
       "  (dropout): Dropout(p=0.2, inplace=False)\n",
       ")"
      ]
     },
     "execution_count": 139,
     "metadata": {},
     "output_type": "execute_result"
    },
    {
     "name": "stdout",
     "output_type": "stream",
     "text": [
      "Epoch 35\n"
     ]
    },
    {
     "data": {
      "text/plain": [
       "SAGE(\n",
       "  (conv1): SAGEConv(\n",
       "    (feat_drop): Dropout(p=0.2, inplace=False)\n",
       "    (fc_neigh): Linear(in_features=100, out_features=128, bias=True)\n",
       "  )\n",
       "  (conv2): SAGEConv(\n",
       "    (feat_drop): Dropout(p=0.2, inplace=False)\n",
       "    (fc_neigh): Linear(in_features=128, out_features=2, bias=True)\n",
       "  )\n",
       "  (dropout): Dropout(p=0.2, inplace=False)\n",
       ")"
      ]
     },
     "execution_count": 139,
     "metadata": {},
     "output_type": "execute_result"
    },
    {
     "name": "stdout",
     "output_type": "stream",
     "text": [
      "Epoch 36\n"
     ]
    },
    {
     "data": {
      "text/plain": [
       "SAGE(\n",
       "  (conv1): SAGEConv(\n",
       "    (feat_drop): Dropout(p=0.2, inplace=False)\n",
       "    (fc_neigh): Linear(in_features=100, out_features=128, bias=True)\n",
       "  )\n",
       "  (conv2): SAGEConv(\n",
       "    (feat_drop): Dropout(p=0.2, inplace=False)\n",
       "    (fc_neigh): Linear(in_features=128, out_features=2, bias=True)\n",
       "  )\n",
       "  (dropout): Dropout(p=0.2, inplace=False)\n",
       ")"
      ]
     },
     "execution_count": 139,
     "metadata": {},
     "output_type": "execute_result"
    },
    {
     "name": "stdout",
     "output_type": "stream",
     "text": [
      "Epoch 37\n"
     ]
    },
    {
     "data": {
      "text/plain": [
       "SAGE(\n",
       "  (conv1): SAGEConv(\n",
       "    (feat_drop): Dropout(p=0.2, inplace=False)\n",
       "    (fc_neigh): Linear(in_features=100, out_features=128, bias=True)\n",
       "  )\n",
       "  (conv2): SAGEConv(\n",
       "    (feat_drop): Dropout(p=0.2, inplace=False)\n",
       "    (fc_neigh): Linear(in_features=128, out_features=2, bias=True)\n",
       "  )\n",
       "  (dropout): Dropout(p=0.2, inplace=False)\n",
       ")"
      ]
     },
     "execution_count": 139,
     "metadata": {},
     "output_type": "execute_result"
    },
    {
     "name": "stdout",
     "output_type": "stream",
     "text": [
      "Epoch 38\n"
     ]
    },
    {
     "data": {
      "text/plain": [
       "SAGE(\n",
       "  (conv1): SAGEConv(\n",
       "    (feat_drop): Dropout(p=0.2, inplace=False)\n",
       "    (fc_neigh): Linear(in_features=100, out_features=128, bias=True)\n",
       "  )\n",
       "  (conv2): SAGEConv(\n",
       "    (feat_drop): Dropout(p=0.2, inplace=False)\n",
       "    (fc_neigh): Linear(in_features=128, out_features=2, bias=True)\n",
       "  )\n",
       "  (dropout): Dropout(p=0.2, inplace=False)\n",
       ")"
      ]
     },
     "execution_count": 139,
     "metadata": {},
     "output_type": "execute_result"
    },
    {
     "name": "stdout",
     "output_type": "stream",
     "text": [
      "Epoch 39\n"
     ]
    },
    {
     "data": {
      "text/plain": [
       "SAGE(\n",
       "  (conv1): SAGEConv(\n",
       "    (feat_drop): Dropout(p=0.2, inplace=False)\n",
       "    (fc_neigh): Linear(in_features=100, out_features=128, bias=True)\n",
       "  )\n",
       "  (conv2): SAGEConv(\n",
       "    (feat_drop): Dropout(p=0.2, inplace=False)\n",
       "    (fc_neigh): Linear(in_features=128, out_features=2, bias=True)\n",
       "  )\n",
       "  (dropout): Dropout(p=0.2, inplace=False)\n",
       ")"
      ]
     },
     "execution_count": 139,
     "metadata": {},
     "output_type": "execute_result"
    },
    {
     "name": "stdout",
     "output_type": "stream",
     "text": [
      "Epoch 40\n"
     ]
    },
    {
     "data": {
      "text/plain": [
       "SAGE(\n",
       "  (conv1): SAGEConv(\n",
       "    (feat_drop): Dropout(p=0.2, inplace=False)\n",
       "    (fc_neigh): Linear(in_features=100, out_features=128, bias=True)\n",
       "  )\n",
       "  (conv2): SAGEConv(\n",
       "    (feat_drop): Dropout(p=0.2, inplace=False)\n",
       "    (fc_neigh): Linear(in_features=128, out_features=2, bias=True)\n",
       "  )\n",
       "  (dropout): Dropout(p=0.2, inplace=False)\n",
       ")"
      ]
     },
     "execution_count": 139,
     "metadata": {},
     "output_type": "execute_result"
    },
    {
     "name": "stdout",
     "output_type": "stream",
     "text": [
      "Epoch 41\n"
     ]
    },
    {
     "data": {
      "text/plain": [
       "SAGE(\n",
       "  (conv1): SAGEConv(\n",
       "    (feat_drop): Dropout(p=0.2, inplace=False)\n",
       "    (fc_neigh): Linear(in_features=100, out_features=128, bias=True)\n",
       "  )\n",
       "  (conv2): SAGEConv(\n",
       "    (feat_drop): Dropout(p=0.2, inplace=False)\n",
       "    (fc_neigh): Linear(in_features=128, out_features=2, bias=True)\n",
       "  )\n",
       "  (dropout): Dropout(p=0.2, inplace=False)\n",
       ")"
      ]
     },
     "execution_count": 139,
     "metadata": {},
     "output_type": "execute_result"
    },
    {
     "name": "stdout",
     "output_type": "stream",
     "text": [
      "Epoch 42\n"
     ]
    },
    {
     "data": {
      "text/plain": [
       "SAGE(\n",
       "  (conv1): SAGEConv(\n",
       "    (feat_drop): Dropout(p=0.2, inplace=False)\n",
       "    (fc_neigh): Linear(in_features=100, out_features=128, bias=True)\n",
       "  )\n",
       "  (conv2): SAGEConv(\n",
       "    (feat_drop): Dropout(p=0.2, inplace=False)\n",
       "    (fc_neigh): Linear(in_features=128, out_features=2, bias=True)\n",
       "  )\n",
       "  (dropout): Dropout(p=0.2, inplace=False)\n",
       ")"
      ]
     },
     "execution_count": 139,
     "metadata": {},
     "output_type": "execute_result"
    },
    {
     "name": "stdout",
     "output_type": "stream",
     "text": [
      "Epoch 43\n"
     ]
    },
    {
     "data": {
      "text/plain": [
       "SAGE(\n",
       "  (conv1): SAGEConv(\n",
       "    (feat_drop): Dropout(p=0.2, inplace=False)\n",
       "    (fc_neigh): Linear(in_features=100, out_features=128, bias=True)\n",
       "  )\n",
       "  (conv2): SAGEConv(\n",
       "    (feat_drop): Dropout(p=0.2, inplace=False)\n",
       "    (fc_neigh): Linear(in_features=128, out_features=2, bias=True)\n",
       "  )\n",
       "  (dropout): Dropout(p=0.2, inplace=False)\n",
       ")"
      ]
     },
     "execution_count": 139,
     "metadata": {},
     "output_type": "execute_result"
    },
    {
     "name": "stdout",
     "output_type": "stream",
     "text": [
      "Epoch 44\n"
     ]
    },
    {
     "data": {
      "text/plain": [
       "SAGE(\n",
       "  (conv1): SAGEConv(\n",
       "    (feat_drop): Dropout(p=0.2, inplace=False)\n",
       "    (fc_neigh): Linear(in_features=100, out_features=128, bias=True)\n",
       "  )\n",
       "  (conv2): SAGEConv(\n",
       "    (feat_drop): Dropout(p=0.2, inplace=False)\n",
       "    (fc_neigh): Linear(in_features=128, out_features=2, bias=True)\n",
       "  )\n",
       "  (dropout): Dropout(p=0.2, inplace=False)\n",
       ")"
      ]
     },
     "execution_count": 139,
     "metadata": {},
     "output_type": "execute_result"
    },
    {
     "name": "stdout",
     "output_type": "stream",
     "text": [
      "Epoch 45\n"
     ]
    },
    {
     "data": {
      "text/plain": [
       "SAGE(\n",
       "  (conv1): SAGEConv(\n",
       "    (feat_drop): Dropout(p=0.2, inplace=False)\n",
       "    (fc_neigh): Linear(in_features=100, out_features=128, bias=True)\n",
       "  )\n",
       "  (conv2): SAGEConv(\n",
       "    (feat_drop): Dropout(p=0.2, inplace=False)\n",
       "    (fc_neigh): Linear(in_features=128, out_features=2, bias=True)\n",
       "  )\n",
       "  (dropout): Dropout(p=0.2, inplace=False)\n",
       ")"
      ]
     },
     "execution_count": 139,
     "metadata": {},
     "output_type": "execute_result"
    },
    {
     "name": "stdout",
     "output_type": "stream",
     "text": [
      "Epoch 46\n"
     ]
    },
    {
     "data": {
      "text/plain": [
       "SAGE(\n",
       "  (conv1): SAGEConv(\n",
       "    (feat_drop): Dropout(p=0.2, inplace=False)\n",
       "    (fc_neigh): Linear(in_features=100, out_features=128, bias=True)\n",
       "  )\n",
       "  (conv2): SAGEConv(\n",
       "    (feat_drop): Dropout(p=0.2, inplace=False)\n",
       "    (fc_neigh): Linear(in_features=128, out_features=2, bias=True)\n",
       "  )\n",
       "  (dropout): Dropout(p=0.2, inplace=False)\n",
       ")"
      ]
     },
     "execution_count": 139,
     "metadata": {},
     "output_type": "execute_result"
    },
    {
     "name": "stdout",
     "output_type": "stream",
     "text": [
      "Epoch 47\n"
     ]
    },
    {
     "data": {
      "text/plain": [
       "SAGE(\n",
       "  (conv1): SAGEConv(\n",
       "    (feat_drop): Dropout(p=0.2, inplace=False)\n",
       "    (fc_neigh): Linear(in_features=100, out_features=128, bias=True)\n",
       "  )\n",
       "  (conv2): SAGEConv(\n",
       "    (feat_drop): Dropout(p=0.2, inplace=False)\n",
       "    (fc_neigh): Linear(in_features=128, out_features=2, bias=True)\n",
       "  )\n",
       "  (dropout): Dropout(p=0.2, inplace=False)\n",
       ")"
      ]
     },
     "execution_count": 139,
     "metadata": {},
     "output_type": "execute_result"
    },
    {
     "name": "stdout",
     "output_type": "stream",
     "text": [
      "Epoch 48\n"
     ]
    },
    {
     "data": {
      "text/plain": [
       "SAGE(\n",
       "  (conv1): SAGEConv(\n",
       "    (feat_drop): Dropout(p=0.2, inplace=False)\n",
       "    (fc_neigh): Linear(in_features=100, out_features=128, bias=True)\n",
       "  )\n",
       "  (conv2): SAGEConv(\n",
       "    (feat_drop): Dropout(p=0.2, inplace=False)\n",
       "    (fc_neigh): Linear(in_features=128, out_features=2, bias=True)\n",
       "  )\n",
       "  (dropout): Dropout(p=0.2, inplace=False)\n",
       ")"
      ]
     },
     "execution_count": 139,
     "metadata": {},
     "output_type": "execute_result"
    },
    {
     "name": "stdout",
     "output_type": "stream",
     "text": [
      "Epoch 49\n"
     ]
    },
    {
     "data": {
      "text/plain": [
       "SAGE(\n",
       "  (conv1): SAGEConv(\n",
       "    (feat_drop): Dropout(p=0.2, inplace=False)\n",
       "    (fc_neigh): Linear(in_features=100, out_features=128, bias=True)\n",
       "  )\n",
       "  (conv2): SAGEConv(\n",
       "    (feat_drop): Dropout(p=0.2, inplace=False)\n",
       "    (fc_neigh): Linear(in_features=128, out_features=2, bias=True)\n",
       "  )\n",
       "  (dropout): Dropout(p=0.2, inplace=False)\n",
       ")"
      ]
     },
     "execution_count": 139,
     "metadata": {},
     "output_type": "execute_result"
    },
    {
     "name": "stdout",
     "output_type": "stream",
     "text": [
      "Epoch 50\n"
     ]
    },
    {
     "data": {
      "text/plain": [
       "SAGE(\n",
       "  (conv1): SAGEConv(\n",
       "    (feat_drop): Dropout(p=0.2, inplace=False)\n",
       "    (fc_neigh): Linear(in_features=100, out_features=128, bias=True)\n",
       "  )\n",
       "  (conv2): SAGEConv(\n",
       "    (feat_drop): Dropout(p=0.2, inplace=False)\n",
       "    (fc_neigh): Linear(in_features=128, out_features=2, bias=True)\n",
       "  )\n",
       "  (dropout): Dropout(p=0.2, inplace=False)\n",
       ")"
      ]
     },
     "execution_count": 139,
     "metadata": {},
     "output_type": "execute_result"
    },
    {
     "name": "stdout",
     "output_type": "stream",
     "text": [
      "Epoch 51\n"
     ]
    },
    {
     "data": {
      "text/plain": [
       "SAGE(\n",
       "  (conv1): SAGEConv(\n",
       "    (feat_drop): Dropout(p=0.2, inplace=False)\n",
       "    (fc_neigh): Linear(in_features=100, out_features=128, bias=True)\n",
       "  )\n",
       "  (conv2): SAGEConv(\n",
       "    (feat_drop): Dropout(p=0.2, inplace=False)\n",
       "    (fc_neigh): Linear(in_features=128, out_features=2, bias=True)\n",
       "  )\n",
       "  (dropout): Dropout(p=0.2, inplace=False)\n",
       ")"
      ]
     },
     "execution_count": 139,
     "metadata": {},
     "output_type": "execute_result"
    },
    {
     "name": "stdout",
     "output_type": "stream",
     "text": [
      "Epoch 52\n"
     ]
    },
    {
     "data": {
      "text/plain": [
       "SAGE(\n",
       "  (conv1): SAGEConv(\n",
       "    (feat_drop): Dropout(p=0.2, inplace=False)\n",
       "    (fc_neigh): Linear(in_features=100, out_features=128, bias=True)\n",
       "  )\n",
       "  (conv2): SAGEConv(\n",
       "    (feat_drop): Dropout(p=0.2, inplace=False)\n",
       "    (fc_neigh): Linear(in_features=128, out_features=2, bias=True)\n",
       "  )\n",
       "  (dropout): Dropout(p=0.2, inplace=False)\n",
       ")"
      ]
     },
     "execution_count": 139,
     "metadata": {},
     "output_type": "execute_result"
    },
    {
     "name": "stdout",
     "output_type": "stream",
     "text": [
      "Epoch 53\n"
     ]
    },
    {
     "data": {
      "text/plain": [
       "SAGE(\n",
       "  (conv1): SAGEConv(\n",
       "    (feat_drop): Dropout(p=0.2, inplace=False)\n",
       "    (fc_neigh): Linear(in_features=100, out_features=128, bias=True)\n",
       "  )\n",
       "  (conv2): SAGEConv(\n",
       "    (feat_drop): Dropout(p=0.2, inplace=False)\n",
       "    (fc_neigh): Linear(in_features=128, out_features=2, bias=True)\n",
       "  )\n",
       "  (dropout): Dropout(p=0.2, inplace=False)\n",
       ")"
      ]
     },
     "execution_count": 139,
     "metadata": {},
     "output_type": "execute_result"
    },
    {
     "name": "stdout",
     "output_type": "stream",
     "text": [
      "Epoch 54\n"
     ]
    },
    {
     "data": {
      "text/plain": [
       "SAGE(\n",
       "  (conv1): SAGEConv(\n",
       "    (feat_drop): Dropout(p=0.2, inplace=False)\n",
       "    (fc_neigh): Linear(in_features=100, out_features=128, bias=True)\n",
       "  )\n",
       "  (conv2): SAGEConv(\n",
       "    (feat_drop): Dropout(p=0.2, inplace=False)\n",
       "    (fc_neigh): Linear(in_features=128, out_features=2, bias=True)\n",
       "  )\n",
       "  (dropout): Dropout(p=0.2, inplace=False)\n",
       ")"
      ]
     },
     "execution_count": 139,
     "metadata": {},
     "output_type": "execute_result"
    },
    {
     "name": "stdout",
     "output_type": "stream",
     "text": [
      "Epoch 55\n"
     ]
    },
    {
     "data": {
      "text/plain": [
       "SAGE(\n",
       "  (conv1): SAGEConv(\n",
       "    (feat_drop): Dropout(p=0.2, inplace=False)\n",
       "    (fc_neigh): Linear(in_features=100, out_features=128, bias=True)\n",
       "  )\n",
       "  (conv2): SAGEConv(\n",
       "    (feat_drop): Dropout(p=0.2, inplace=False)\n",
       "    (fc_neigh): Linear(in_features=128, out_features=2, bias=True)\n",
       "  )\n",
       "  (dropout): Dropout(p=0.2, inplace=False)\n",
       ")"
      ]
     },
     "execution_count": 139,
     "metadata": {},
     "output_type": "execute_result"
    },
    {
     "name": "stdout",
     "output_type": "stream",
     "text": [
      "Epoch 56\n"
     ]
    },
    {
     "data": {
      "text/plain": [
       "SAGE(\n",
       "  (conv1): SAGEConv(\n",
       "    (feat_drop): Dropout(p=0.2, inplace=False)\n",
       "    (fc_neigh): Linear(in_features=100, out_features=128, bias=True)\n",
       "  )\n",
       "  (conv2): SAGEConv(\n",
       "    (feat_drop): Dropout(p=0.2, inplace=False)\n",
       "    (fc_neigh): Linear(in_features=128, out_features=2, bias=True)\n",
       "  )\n",
       "  (dropout): Dropout(p=0.2, inplace=False)\n",
       ")"
      ]
     },
     "execution_count": 139,
     "metadata": {},
     "output_type": "execute_result"
    },
    {
     "name": "stdout",
     "output_type": "stream",
     "text": [
      "Epoch 57\n"
     ]
    },
    {
     "data": {
      "text/plain": [
       "SAGE(\n",
       "  (conv1): SAGEConv(\n",
       "    (feat_drop): Dropout(p=0.2, inplace=False)\n",
       "    (fc_neigh): Linear(in_features=100, out_features=128, bias=True)\n",
       "  )\n",
       "  (conv2): SAGEConv(\n",
       "    (feat_drop): Dropout(p=0.2, inplace=False)\n",
       "    (fc_neigh): Linear(in_features=128, out_features=2, bias=True)\n",
       "  )\n",
       "  (dropout): Dropout(p=0.2, inplace=False)\n",
       ")"
      ]
     },
     "execution_count": 139,
     "metadata": {},
     "output_type": "execute_result"
    },
    {
     "name": "stdout",
     "output_type": "stream",
     "text": [
      "Epoch 58\n"
     ]
    },
    {
     "data": {
      "text/plain": [
       "SAGE(\n",
       "  (conv1): SAGEConv(\n",
       "    (feat_drop): Dropout(p=0.2, inplace=False)\n",
       "    (fc_neigh): Linear(in_features=100, out_features=128, bias=True)\n",
       "  )\n",
       "  (conv2): SAGEConv(\n",
       "    (feat_drop): Dropout(p=0.2, inplace=False)\n",
       "    (fc_neigh): Linear(in_features=128, out_features=2, bias=True)\n",
       "  )\n",
       "  (dropout): Dropout(p=0.2, inplace=False)\n",
       ")"
      ]
     },
     "execution_count": 139,
     "metadata": {},
     "output_type": "execute_result"
    },
    {
     "name": "stdout",
     "output_type": "stream",
     "text": [
      "Epoch 59\n"
     ]
    },
    {
     "data": {
      "text/plain": [
       "SAGE(\n",
       "  (conv1): SAGEConv(\n",
       "    (feat_drop): Dropout(p=0.2, inplace=False)\n",
       "    (fc_neigh): Linear(in_features=100, out_features=128, bias=True)\n",
       "  )\n",
       "  (conv2): SAGEConv(\n",
       "    (feat_drop): Dropout(p=0.2, inplace=False)\n",
       "    (fc_neigh): Linear(in_features=128, out_features=2, bias=True)\n",
       "  )\n",
       "  (dropout): Dropout(p=0.2, inplace=False)\n",
       ")"
      ]
     },
     "execution_count": 139,
     "metadata": {},
     "output_type": "execute_result"
    },
    {
     "name": "stdout",
     "output_type": "stream",
     "text": [
      "Epoch 60\n"
     ]
    },
    {
     "data": {
      "text/plain": [
       "SAGE(\n",
       "  (conv1): SAGEConv(\n",
       "    (feat_drop): Dropout(p=0.2, inplace=False)\n",
       "    (fc_neigh): Linear(in_features=100, out_features=128, bias=True)\n",
       "  )\n",
       "  (conv2): SAGEConv(\n",
       "    (feat_drop): Dropout(p=0.2, inplace=False)\n",
       "    (fc_neigh): Linear(in_features=128, out_features=2, bias=True)\n",
       "  )\n",
       "  (dropout): Dropout(p=0.2, inplace=False)\n",
       ")"
      ]
     },
     "execution_count": 139,
     "metadata": {},
     "output_type": "execute_result"
    },
    {
     "name": "stdout",
     "output_type": "stream",
     "text": [
      "Epoch 61\n"
     ]
    },
    {
     "data": {
      "text/plain": [
       "SAGE(\n",
       "  (conv1): SAGEConv(\n",
       "    (feat_drop): Dropout(p=0.2, inplace=False)\n",
       "    (fc_neigh): Linear(in_features=100, out_features=128, bias=True)\n",
       "  )\n",
       "  (conv2): SAGEConv(\n",
       "    (feat_drop): Dropout(p=0.2, inplace=False)\n",
       "    (fc_neigh): Linear(in_features=128, out_features=2, bias=True)\n",
       "  )\n",
       "  (dropout): Dropout(p=0.2, inplace=False)\n",
       ")"
      ]
     },
     "execution_count": 139,
     "metadata": {},
     "output_type": "execute_result"
    },
    {
     "name": "stdout",
     "output_type": "stream",
     "text": [
      "Epoch 62\n"
     ]
    },
    {
     "data": {
      "text/plain": [
       "SAGE(\n",
       "  (conv1): SAGEConv(\n",
       "    (feat_drop): Dropout(p=0.2, inplace=False)\n",
       "    (fc_neigh): Linear(in_features=100, out_features=128, bias=True)\n",
       "  )\n",
       "  (conv2): SAGEConv(\n",
       "    (feat_drop): Dropout(p=0.2, inplace=False)\n",
       "    (fc_neigh): Linear(in_features=128, out_features=2, bias=True)\n",
       "  )\n",
       "  (dropout): Dropout(p=0.2, inplace=False)\n",
       ")"
      ]
     },
     "execution_count": 139,
     "metadata": {},
     "output_type": "execute_result"
    },
    {
     "name": "stdout",
     "output_type": "stream",
     "text": [
      "Epoch 63\n"
     ]
    },
    {
     "data": {
      "text/plain": [
       "SAGE(\n",
       "  (conv1): SAGEConv(\n",
       "    (feat_drop): Dropout(p=0.2, inplace=False)\n",
       "    (fc_neigh): Linear(in_features=100, out_features=128, bias=True)\n",
       "  )\n",
       "  (conv2): SAGEConv(\n",
       "    (feat_drop): Dropout(p=0.2, inplace=False)\n",
       "    (fc_neigh): Linear(in_features=128, out_features=2, bias=True)\n",
       "  )\n",
       "  (dropout): Dropout(p=0.2, inplace=False)\n",
       ")"
      ]
     },
     "execution_count": 139,
     "metadata": {},
     "output_type": "execute_result"
    },
    {
     "name": "stdout",
     "output_type": "stream",
     "text": [
      "Epoch 64\n"
     ]
    },
    {
     "data": {
      "text/plain": [
       "SAGE(\n",
       "  (conv1): SAGEConv(\n",
       "    (feat_drop): Dropout(p=0.2, inplace=False)\n",
       "    (fc_neigh): Linear(in_features=100, out_features=128, bias=True)\n",
       "  )\n",
       "  (conv2): SAGEConv(\n",
       "    (feat_drop): Dropout(p=0.2, inplace=False)\n",
       "    (fc_neigh): Linear(in_features=128, out_features=2, bias=True)\n",
       "  )\n",
       "  (dropout): Dropout(p=0.2, inplace=False)\n",
       ")"
      ]
     },
     "execution_count": 139,
     "metadata": {},
     "output_type": "execute_result"
    },
    {
     "name": "stdout",
     "output_type": "stream",
     "text": [
      "Epoch 65\n"
     ]
    },
    {
     "data": {
      "text/plain": [
       "SAGE(\n",
       "  (conv1): SAGEConv(\n",
       "    (feat_drop): Dropout(p=0.2, inplace=False)\n",
       "    (fc_neigh): Linear(in_features=100, out_features=128, bias=True)\n",
       "  )\n",
       "  (conv2): SAGEConv(\n",
       "    (feat_drop): Dropout(p=0.2, inplace=False)\n",
       "    (fc_neigh): Linear(in_features=128, out_features=2, bias=True)\n",
       "  )\n",
       "  (dropout): Dropout(p=0.2, inplace=False)\n",
       ")"
      ]
     },
     "execution_count": 139,
     "metadata": {},
     "output_type": "execute_result"
    },
    {
     "name": "stdout",
     "output_type": "stream",
     "text": [
      "Epoch 66\n"
     ]
    },
    {
     "data": {
      "text/plain": [
       "SAGE(\n",
       "  (conv1): SAGEConv(\n",
       "    (feat_drop): Dropout(p=0.2, inplace=False)\n",
       "    (fc_neigh): Linear(in_features=100, out_features=128, bias=True)\n",
       "  )\n",
       "  (conv2): SAGEConv(\n",
       "    (feat_drop): Dropout(p=0.2, inplace=False)\n",
       "    (fc_neigh): Linear(in_features=128, out_features=2, bias=True)\n",
       "  )\n",
       "  (dropout): Dropout(p=0.2, inplace=False)\n",
       ")"
      ]
     },
     "execution_count": 139,
     "metadata": {},
     "output_type": "execute_result"
    },
    {
     "name": "stdout",
     "output_type": "stream",
     "text": [
      "Epoch 67\n"
     ]
    },
    {
     "data": {
      "text/plain": [
       "SAGE(\n",
       "  (conv1): SAGEConv(\n",
       "    (feat_drop): Dropout(p=0.2, inplace=False)\n",
       "    (fc_neigh): Linear(in_features=100, out_features=128, bias=True)\n",
       "  )\n",
       "  (conv2): SAGEConv(\n",
       "    (feat_drop): Dropout(p=0.2, inplace=False)\n",
       "    (fc_neigh): Linear(in_features=128, out_features=2, bias=True)\n",
       "  )\n",
       "  (dropout): Dropout(p=0.2, inplace=False)\n",
       ")"
      ]
     },
     "execution_count": 139,
     "metadata": {},
     "output_type": "execute_result"
    },
    {
     "name": "stdout",
     "output_type": "stream",
     "text": [
      "Epoch 68\n"
     ]
    },
    {
     "data": {
      "text/plain": [
       "SAGE(\n",
       "  (conv1): SAGEConv(\n",
       "    (feat_drop): Dropout(p=0.2, inplace=False)\n",
       "    (fc_neigh): Linear(in_features=100, out_features=128, bias=True)\n",
       "  )\n",
       "  (conv2): SAGEConv(\n",
       "    (feat_drop): Dropout(p=0.2, inplace=False)\n",
       "    (fc_neigh): Linear(in_features=128, out_features=2, bias=True)\n",
       "  )\n",
       "  (dropout): Dropout(p=0.2, inplace=False)\n",
       ")"
      ]
     },
     "execution_count": 139,
     "metadata": {},
     "output_type": "execute_result"
    },
    {
     "name": "stdout",
     "output_type": "stream",
     "text": [
      "Epoch 69\n"
     ]
    },
    {
     "data": {
      "text/plain": [
       "SAGE(\n",
       "  (conv1): SAGEConv(\n",
       "    (feat_drop): Dropout(p=0.2, inplace=False)\n",
       "    (fc_neigh): Linear(in_features=100, out_features=128, bias=True)\n",
       "  )\n",
       "  (conv2): SAGEConv(\n",
       "    (feat_drop): Dropout(p=0.2, inplace=False)\n",
       "    (fc_neigh): Linear(in_features=128, out_features=2, bias=True)\n",
       "  )\n",
       "  (dropout): Dropout(p=0.2, inplace=False)\n",
       ")"
      ]
     },
     "execution_count": 139,
     "metadata": {},
     "output_type": "execute_result"
    },
    {
     "name": "stdout",
     "output_type": "stream",
     "text": [
      "Epoch 70\n"
     ]
    },
    {
     "data": {
      "text/plain": [
       "SAGE(\n",
       "  (conv1): SAGEConv(\n",
       "    (feat_drop): Dropout(p=0.2, inplace=False)\n",
       "    (fc_neigh): Linear(in_features=100, out_features=128, bias=True)\n",
       "  )\n",
       "  (conv2): SAGEConv(\n",
       "    (feat_drop): Dropout(p=0.2, inplace=False)\n",
       "    (fc_neigh): Linear(in_features=128, out_features=2, bias=True)\n",
       "  )\n",
       "  (dropout): Dropout(p=0.2, inplace=False)\n",
       ")"
      ]
     },
     "execution_count": 139,
     "metadata": {},
     "output_type": "execute_result"
    },
    {
     "name": "stdout",
     "output_type": "stream",
     "text": [
      "Epoch 71\n"
     ]
    },
    {
     "data": {
      "text/plain": [
       "SAGE(\n",
       "  (conv1): SAGEConv(\n",
       "    (feat_drop): Dropout(p=0.2, inplace=False)\n",
       "    (fc_neigh): Linear(in_features=100, out_features=128, bias=True)\n",
       "  )\n",
       "  (conv2): SAGEConv(\n",
       "    (feat_drop): Dropout(p=0.2, inplace=False)\n",
       "    (fc_neigh): Linear(in_features=128, out_features=2, bias=True)\n",
       "  )\n",
       "  (dropout): Dropout(p=0.2, inplace=False)\n",
       ")"
      ]
     },
     "execution_count": 139,
     "metadata": {},
     "output_type": "execute_result"
    },
    {
     "name": "stdout",
     "output_type": "stream",
     "text": [
      "Epoch 72\n"
     ]
    },
    {
     "data": {
      "text/plain": [
       "SAGE(\n",
       "  (conv1): SAGEConv(\n",
       "    (feat_drop): Dropout(p=0.2, inplace=False)\n",
       "    (fc_neigh): Linear(in_features=100, out_features=128, bias=True)\n",
       "  )\n",
       "  (conv2): SAGEConv(\n",
       "    (feat_drop): Dropout(p=0.2, inplace=False)\n",
       "    (fc_neigh): Linear(in_features=128, out_features=2, bias=True)\n",
       "  )\n",
       "  (dropout): Dropout(p=0.2, inplace=False)\n",
       ")"
      ]
     },
     "execution_count": 139,
     "metadata": {},
     "output_type": "execute_result"
    },
    {
     "name": "stdout",
     "output_type": "stream",
     "text": [
      "Epoch 73\n"
     ]
    },
    {
     "data": {
      "text/plain": [
       "SAGE(\n",
       "  (conv1): SAGEConv(\n",
       "    (feat_drop): Dropout(p=0.2, inplace=False)\n",
       "    (fc_neigh): Linear(in_features=100, out_features=128, bias=True)\n",
       "  )\n",
       "  (conv2): SAGEConv(\n",
       "    (feat_drop): Dropout(p=0.2, inplace=False)\n",
       "    (fc_neigh): Linear(in_features=128, out_features=2, bias=True)\n",
       "  )\n",
       "  (dropout): Dropout(p=0.2, inplace=False)\n",
       ")"
      ]
     },
     "execution_count": 139,
     "metadata": {},
     "output_type": "execute_result"
    },
    {
     "name": "stdout",
     "output_type": "stream",
     "text": [
      "Epoch 74\n"
     ]
    },
    {
     "data": {
      "text/plain": [
       "SAGE(\n",
       "  (conv1): SAGEConv(\n",
       "    (feat_drop): Dropout(p=0.2, inplace=False)\n",
       "    (fc_neigh): Linear(in_features=100, out_features=128, bias=True)\n",
       "  )\n",
       "  (conv2): SAGEConv(\n",
       "    (feat_drop): Dropout(p=0.2, inplace=False)\n",
       "    (fc_neigh): Linear(in_features=128, out_features=2, bias=True)\n",
       "  )\n",
       "  (dropout): Dropout(p=0.2, inplace=False)\n",
       ")"
      ]
     },
     "execution_count": 139,
     "metadata": {},
     "output_type": "execute_result"
    },
    {
     "name": "stdout",
     "output_type": "stream",
     "text": [
      "Epoch 75\n"
     ]
    },
    {
     "data": {
      "text/plain": [
       "SAGE(\n",
       "  (conv1): SAGEConv(\n",
       "    (feat_drop): Dropout(p=0.2, inplace=False)\n",
       "    (fc_neigh): Linear(in_features=100, out_features=128, bias=True)\n",
       "  )\n",
       "  (conv2): SAGEConv(\n",
       "    (feat_drop): Dropout(p=0.2, inplace=False)\n",
       "    (fc_neigh): Linear(in_features=128, out_features=2, bias=True)\n",
       "  )\n",
       "  (dropout): Dropout(p=0.2, inplace=False)\n",
       ")"
      ]
     },
     "execution_count": 139,
     "metadata": {},
     "output_type": "execute_result"
    },
    {
     "name": "stdout",
     "output_type": "stream",
     "text": [
      "Epoch 76\n"
     ]
    },
    {
     "data": {
      "text/plain": [
       "SAGE(\n",
       "  (conv1): SAGEConv(\n",
       "    (feat_drop): Dropout(p=0.2, inplace=False)\n",
       "    (fc_neigh): Linear(in_features=100, out_features=128, bias=True)\n",
       "  )\n",
       "  (conv2): SAGEConv(\n",
       "    (feat_drop): Dropout(p=0.2, inplace=False)\n",
       "    (fc_neigh): Linear(in_features=128, out_features=2, bias=True)\n",
       "  )\n",
       "  (dropout): Dropout(p=0.2, inplace=False)\n",
       ")"
      ]
     },
     "execution_count": 139,
     "metadata": {},
     "output_type": "execute_result"
    },
    {
     "name": "stdout",
     "output_type": "stream",
     "text": [
      "Epoch 77\n"
     ]
    },
    {
     "data": {
      "text/plain": [
       "SAGE(\n",
       "  (conv1): SAGEConv(\n",
       "    (feat_drop): Dropout(p=0.2, inplace=False)\n",
       "    (fc_neigh): Linear(in_features=100, out_features=128, bias=True)\n",
       "  )\n",
       "  (conv2): SAGEConv(\n",
       "    (feat_drop): Dropout(p=0.2, inplace=False)\n",
       "    (fc_neigh): Linear(in_features=128, out_features=2, bias=True)\n",
       "  )\n",
       "  (dropout): Dropout(p=0.2, inplace=False)\n",
       ")"
      ]
     },
     "execution_count": 139,
     "metadata": {},
     "output_type": "execute_result"
    },
    {
     "name": "stdout",
     "output_type": "stream",
     "text": [
      "Epoch 78\n"
     ]
    },
    {
     "data": {
      "text/plain": [
       "SAGE(\n",
       "  (conv1): SAGEConv(\n",
       "    (feat_drop): Dropout(p=0.2, inplace=False)\n",
       "    (fc_neigh): Linear(in_features=100, out_features=128, bias=True)\n",
       "  )\n",
       "  (conv2): SAGEConv(\n",
       "    (feat_drop): Dropout(p=0.2, inplace=False)\n",
       "    (fc_neigh): Linear(in_features=128, out_features=2, bias=True)\n",
       "  )\n",
       "  (dropout): Dropout(p=0.2, inplace=False)\n",
       ")"
      ]
     },
     "execution_count": 139,
     "metadata": {},
     "output_type": "execute_result"
    },
    {
     "name": "stdout",
     "output_type": "stream",
     "text": [
      "Epoch 79\n"
     ]
    },
    {
     "data": {
      "text/plain": [
       "SAGE(\n",
       "  (conv1): SAGEConv(\n",
       "    (feat_drop): Dropout(p=0.2, inplace=False)\n",
       "    (fc_neigh): Linear(in_features=100, out_features=128, bias=True)\n",
       "  )\n",
       "  (conv2): SAGEConv(\n",
       "    (feat_drop): Dropout(p=0.2, inplace=False)\n",
       "    (fc_neigh): Linear(in_features=128, out_features=2, bias=True)\n",
       "  )\n",
       "  (dropout): Dropout(p=0.2, inplace=False)\n",
       ")"
      ]
     },
     "execution_count": 139,
     "metadata": {},
     "output_type": "execute_result"
    },
    {
     "name": "stdout",
     "output_type": "stream",
     "text": [
      "Epoch 80\n"
     ]
    },
    {
     "data": {
      "text/plain": [
       "SAGE(\n",
       "  (conv1): SAGEConv(\n",
       "    (feat_drop): Dropout(p=0.2, inplace=False)\n",
       "    (fc_neigh): Linear(in_features=100, out_features=128, bias=True)\n",
       "  )\n",
       "  (conv2): SAGEConv(\n",
       "    (feat_drop): Dropout(p=0.2, inplace=False)\n",
       "    (fc_neigh): Linear(in_features=128, out_features=2, bias=True)\n",
       "  )\n",
       "  (dropout): Dropout(p=0.2, inplace=False)\n",
       ")"
      ]
     },
     "execution_count": 139,
     "metadata": {},
     "output_type": "execute_result"
    },
    {
     "name": "stdout",
     "output_type": "stream",
     "text": [
      "Epoch 81\n"
     ]
    },
    {
     "data": {
      "text/plain": [
       "SAGE(\n",
       "  (conv1): SAGEConv(\n",
       "    (feat_drop): Dropout(p=0.2, inplace=False)\n",
       "    (fc_neigh): Linear(in_features=100, out_features=128, bias=True)\n",
       "  )\n",
       "  (conv2): SAGEConv(\n",
       "    (feat_drop): Dropout(p=0.2, inplace=False)\n",
       "    (fc_neigh): Linear(in_features=128, out_features=2, bias=True)\n",
       "  )\n",
       "  (dropout): Dropout(p=0.2, inplace=False)\n",
       ")"
      ]
     },
     "execution_count": 139,
     "metadata": {},
     "output_type": "execute_result"
    },
    {
     "name": "stdout",
     "output_type": "stream",
     "text": [
      "Epoch 82\n"
     ]
    },
    {
     "data": {
      "text/plain": [
       "SAGE(\n",
       "  (conv1): SAGEConv(\n",
       "    (feat_drop): Dropout(p=0.2, inplace=False)\n",
       "    (fc_neigh): Linear(in_features=100, out_features=128, bias=True)\n",
       "  )\n",
       "  (conv2): SAGEConv(\n",
       "    (feat_drop): Dropout(p=0.2, inplace=False)\n",
       "    (fc_neigh): Linear(in_features=128, out_features=2, bias=True)\n",
       "  )\n",
       "  (dropout): Dropout(p=0.2, inplace=False)\n",
       ")"
      ]
     },
     "execution_count": 139,
     "metadata": {},
     "output_type": "execute_result"
    },
    {
     "name": "stdout",
     "output_type": "stream",
     "text": [
      "Epoch 83\n"
     ]
    },
    {
     "data": {
      "text/plain": [
       "SAGE(\n",
       "  (conv1): SAGEConv(\n",
       "    (feat_drop): Dropout(p=0.2, inplace=False)\n",
       "    (fc_neigh): Linear(in_features=100, out_features=128, bias=True)\n",
       "  )\n",
       "  (conv2): SAGEConv(\n",
       "    (feat_drop): Dropout(p=0.2, inplace=False)\n",
       "    (fc_neigh): Linear(in_features=128, out_features=2, bias=True)\n",
       "  )\n",
       "  (dropout): Dropout(p=0.2, inplace=False)\n",
       ")"
      ]
     },
     "execution_count": 139,
     "metadata": {},
     "output_type": "execute_result"
    },
    {
     "name": "stdout",
     "output_type": "stream",
     "text": [
      "Epoch 84\n"
     ]
    },
    {
     "data": {
      "text/plain": [
       "SAGE(\n",
       "  (conv1): SAGEConv(\n",
       "    (feat_drop): Dropout(p=0.2, inplace=False)\n",
       "    (fc_neigh): Linear(in_features=100, out_features=128, bias=True)\n",
       "  )\n",
       "  (conv2): SAGEConv(\n",
       "    (feat_drop): Dropout(p=0.2, inplace=False)\n",
       "    (fc_neigh): Linear(in_features=128, out_features=2, bias=True)\n",
       "  )\n",
       "  (dropout): Dropout(p=0.2, inplace=False)\n",
       ")"
      ]
     },
     "execution_count": 139,
     "metadata": {},
     "output_type": "execute_result"
    },
    {
     "name": "stdout",
     "output_type": "stream",
     "text": [
      "Epoch 85\n"
     ]
    },
    {
     "data": {
      "text/plain": [
       "SAGE(\n",
       "  (conv1): SAGEConv(\n",
       "    (feat_drop): Dropout(p=0.2, inplace=False)\n",
       "    (fc_neigh): Linear(in_features=100, out_features=128, bias=True)\n",
       "  )\n",
       "  (conv2): SAGEConv(\n",
       "    (feat_drop): Dropout(p=0.2, inplace=False)\n",
       "    (fc_neigh): Linear(in_features=128, out_features=2, bias=True)\n",
       "  )\n",
       "  (dropout): Dropout(p=0.2, inplace=False)\n",
       ")"
      ]
     },
     "execution_count": 139,
     "metadata": {},
     "output_type": "execute_result"
    },
    {
     "name": "stdout",
     "output_type": "stream",
     "text": [
      "Epoch 86\n"
     ]
    },
    {
     "data": {
      "text/plain": [
       "SAGE(\n",
       "  (conv1): SAGEConv(\n",
       "    (feat_drop): Dropout(p=0.2, inplace=False)\n",
       "    (fc_neigh): Linear(in_features=100, out_features=128, bias=True)\n",
       "  )\n",
       "  (conv2): SAGEConv(\n",
       "    (feat_drop): Dropout(p=0.2, inplace=False)\n",
       "    (fc_neigh): Linear(in_features=128, out_features=2, bias=True)\n",
       "  )\n",
       "  (dropout): Dropout(p=0.2, inplace=False)\n",
       ")"
      ]
     },
     "execution_count": 139,
     "metadata": {},
     "output_type": "execute_result"
    },
    {
     "name": "stdout",
     "output_type": "stream",
     "text": [
      "Epoch 87\n"
     ]
    },
    {
     "data": {
      "text/plain": [
       "SAGE(\n",
       "  (conv1): SAGEConv(\n",
       "    (feat_drop): Dropout(p=0.2, inplace=False)\n",
       "    (fc_neigh): Linear(in_features=100, out_features=128, bias=True)\n",
       "  )\n",
       "  (conv2): SAGEConv(\n",
       "    (feat_drop): Dropout(p=0.2, inplace=False)\n",
       "    (fc_neigh): Linear(in_features=128, out_features=2, bias=True)\n",
       "  )\n",
       "  (dropout): Dropout(p=0.2, inplace=False)\n",
       ")"
      ]
     },
     "execution_count": 139,
     "metadata": {},
     "output_type": "execute_result"
    },
    {
     "name": "stdout",
     "output_type": "stream",
     "text": [
      "Epoch 88\n"
     ]
    },
    {
     "data": {
      "text/plain": [
       "SAGE(\n",
       "  (conv1): SAGEConv(\n",
       "    (feat_drop): Dropout(p=0.2, inplace=False)\n",
       "    (fc_neigh): Linear(in_features=100, out_features=128, bias=True)\n",
       "  )\n",
       "  (conv2): SAGEConv(\n",
       "    (feat_drop): Dropout(p=0.2, inplace=False)\n",
       "    (fc_neigh): Linear(in_features=128, out_features=2, bias=True)\n",
       "  )\n",
       "  (dropout): Dropout(p=0.2, inplace=False)\n",
       ")"
      ]
     },
     "execution_count": 139,
     "metadata": {},
     "output_type": "execute_result"
    },
    {
     "name": "stdout",
     "output_type": "stream",
     "text": [
      "Epoch 89\n"
     ]
    },
    {
     "data": {
      "text/plain": [
       "SAGE(\n",
       "  (conv1): SAGEConv(\n",
       "    (feat_drop): Dropout(p=0.2, inplace=False)\n",
       "    (fc_neigh): Linear(in_features=100, out_features=128, bias=True)\n",
       "  )\n",
       "  (conv2): SAGEConv(\n",
       "    (feat_drop): Dropout(p=0.2, inplace=False)\n",
       "    (fc_neigh): Linear(in_features=128, out_features=2, bias=True)\n",
       "  )\n",
       "  (dropout): Dropout(p=0.2, inplace=False)\n",
       ")"
      ]
     },
     "execution_count": 139,
     "metadata": {},
     "output_type": "execute_result"
    },
    {
     "name": "stdout",
     "output_type": "stream",
     "text": [
      "Epoch 90\n"
     ]
    },
    {
     "data": {
      "text/plain": [
       "SAGE(\n",
       "  (conv1): SAGEConv(\n",
       "    (feat_drop): Dropout(p=0.2, inplace=False)\n",
       "    (fc_neigh): Linear(in_features=100, out_features=128, bias=True)\n",
       "  )\n",
       "  (conv2): SAGEConv(\n",
       "    (feat_drop): Dropout(p=0.2, inplace=False)\n",
       "    (fc_neigh): Linear(in_features=128, out_features=2, bias=True)\n",
       "  )\n",
       "  (dropout): Dropout(p=0.2, inplace=False)\n",
       ")"
      ]
     },
     "execution_count": 139,
     "metadata": {},
     "output_type": "execute_result"
    },
    {
     "name": "stdout",
     "output_type": "stream",
     "text": [
      "Epoch 91\n"
     ]
    },
    {
     "data": {
      "text/plain": [
       "SAGE(\n",
       "  (conv1): SAGEConv(\n",
       "    (feat_drop): Dropout(p=0.2, inplace=False)\n",
       "    (fc_neigh): Linear(in_features=100, out_features=128, bias=True)\n",
       "  )\n",
       "  (conv2): SAGEConv(\n",
       "    (feat_drop): Dropout(p=0.2, inplace=False)\n",
       "    (fc_neigh): Linear(in_features=128, out_features=2, bias=True)\n",
       "  )\n",
       "  (dropout): Dropout(p=0.2, inplace=False)\n",
       ")"
      ]
     },
     "execution_count": 139,
     "metadata": {},
     "output_type": "execute_result"
    },
    {
     "name": "stdout",
     "output_type": "stream",
     "text": [
      "Epoch 92\n"
     ]
    },
    {
     "data": {
      "text/plain": [
       "SAGE(\n",
       "  (conv1): SAGEConv(\n",
       "    (feat_drop): Dropout(p=0.2, inplace=False)\n",
       "    (fc_neigh): Linear(in_features=100, out_features=128, bias=True)\n",
       "  )\n",
       "  (conv2): SAGEConv(\n",
       "    (feat_drop): Dropout(p=0.2, inplace=False)\n",
       "    (fc_neigh): Linear(in_features=128, out_features=2, bias=True)\n",
       "  )\n",
       "  (dropout): Dropout(p=0.2, inplace=False)\n",
       ")"
      ]
     },
     "execution_count": 139,
     "metadata": {},
     "output_type": "execute_result"
    },
    {
     "name": "stdout",
     "output_type": "stream",
     "text": [
      "Epoch 93\n"
     ]
    },
    {
     "data": {
      "text/plain": [
       "SAGE(\n",
       "  (conv1): SAGEConv(\n",
       "    (feat_drop): Dropout(p=0.2, inplace=False)\n",
       "    (fc_neigh): Linear(in_features=100, out_features=128, bias=True)\n",
       "  )\n",
       "  (conv2): SAGEConv(\n",
       "    (feat_drop): Dropout(p=0.2, inplace=False)\n",
       "    (fc_neigh): Linear(in_features=128, out_features=2, bias=True)\n",
       "  )\n",
       "  (dropout): Dropout(p=0.2, inplace=False)\n",
       ")"
      ]
     },
     "execution_count": 139,
     "metadata": {},
     "output_type": "execute_result"
    },
    {
     "name": "stdout",
     "output_type": "stream",
     "text": [
      "Epoch 94\n"
     ]
    },
    {
     "data": {
      "text/plain": [
       "SAGE(\n",
       "  (conv1): SAGEConv(\n",
       "    (feat_drop): Dropout(p=0.2, inplace=False)\n",
       "    (fc_neigh): Linear(in_features=100, out_features=128, bias=True)\n",
       "  )\n",
       "  (conv2): SAGEConv(\n",
       "    (feat_drop): Dropout(p=0.2, inplace=False)\n",
       "    (fc_neigh): Linear(in_features=128, out_features=2, bias=True)\n",
       "  )\n",
       "  (dropout): Dropout(p=0.2, inplace=False)\n",
       ")"
      ]
     },
     "execution_count": 139,
     "metadata": {},
     "output_type": "execute_result"
    },
    {
     "name": "stdout",
     "output_type": "stream",
     "text": [
      "Epoch 95\n"
     ]
    },
    {
     "data": {
      "text/plain": [
       "SAGE(\n",
       "  (conv1): SAGEConv(\n",
       "    (feat_drop): Dropout(p=0.2, inplace=False)\n",
       "    (fc_neigh): Linear(in_features=100, out_features=128, bias=True)\n",
       "  )\n",
       "  (conv2): SAGEConv(\n",
       "    (feat_drop): Dropout(p=0.2, inplace=False)\n",
       "    (fc_neigh): Linear(in_features=128, out_features=2, bias=True)\n",
       "  )\n",
       "  (dropout): Dropout(p=0.2, inplace=False)\n",
       ")"
      ]
     },
     "execution_count": 139,
     "metadata": {},
     "output_type": "execute_result"
    },
    {
     "name": "stdout",
     "output_type": "stream",
     "text": [
      "Epoch 96\n"
     ]
    },
    {
     "data": {
      "text/plain": [
       "SAGE(\n",
       "  (conv1): SAGEConv(\n",
       "    (feat_drop): Dropout(p=0.2, inplace=False)\n",
       "    (fc_neigh): Linear(in_features=100, out_features=128, bias=True)\n",
       "  )\n",
       "  (conv2): SAGEConv(\n",
       "    (feat_drop): Dropout(p=0.2, inplace=False)\n",
       "    (fc_neigh): Linear(in_features=128, out_features=2, bias=True)\n",
       "  )\n",
       "  (dropout): Dropout(p=0.2, inplace=False)\n",
       ")"
      ]
     },
     "execution_count": 139,
     "metadata": {},
     "output_type": "execute_result"
    },
    {
     "name": "stdout",
     "output_type": "stream",
     "text": [
      "Epoch 97\n"
     ]
    },
    {
     "data": {
      "text/plain": [
       "SAGE(\n",
       "  (conv1): SAGEConv(\n",
       "    (feat_drop): Dropout(p=0.2, inplace=False)\n",
       "    (fc_neigh): Linear(in_features=100, out_features=128, bias=True)\n",
       "  )\n",
       "  (conv2): SAGEConv(\n",
       "    (feat_drop): Dropout(p=0.2, inplace=False)\n",
       "    (fc_neigh): Linear(in_features=128, out_features=2, bias=True)\n",
       "  )\n",
       "  (dropout): Dropout(p=0.2, inplace=False)\n",
       ")"
      ]
     },
     "execution_count": 139,
     "metadata": {},
     "output_type": "execute_result"
    },
    {
     "name": "stdout",
     "output_type": "stream",
     "text": [
      "Epoch 98\n"
     ]
    },
    {
     "data": {
      "text/plain": [
       "SAGE(\n",
       "  (conv1): SAGEConv(\n",
       "    (feat_drop): Dropout(p=0.2, inplace=False)\n",
       "    (fc_neigh): Linear(in_features=100, out_features=128, bias=True)\n",
       "  )\n",
       "  (conv2): SAGEConv(\n",
       "    (feat_drop): Dropout(p=0.2, inplace=False)\n",
       "    (fc_neigh): Linear(in_features=128, out_features=2, bias=True)\n",
       "  )\n",
       "  (dropout): Dropout(p=0.2, inplace=False)\n",
       ")"
      ]
     },
     "execution_count": 139,
     "metadata": {},
     "output_type": "execute_result"
    },
    {
     "name": "stdout",
     "output_type": "stream",
     "text": [
      "Epoch 99\n"
     ]
    },
    {
     "data": {
      "text/plain": [
       "SAGE(\n",
       "  (conv1): SAGEConv(\n",
       "    (feat_drop): Dropout(p=0.2, inplace=False)\n",
       "    (fc_neigh): Linear(in_features=100, out_features=128, bias=True)\n",
       "  )\n",
       "  (conv2): SAGEConv(\n",
       "    (feat_drop): Dropout(p=0.2, inplace=False)\n",
       "    (fc_neigh): Linear(in_features=128, out_features=2, bias=True)\n",
       "  )\n",
       "  (dropout): Dropout(p=0.2, inplace=False)\n",
       ")"
      ]
     },
     "execution_count": 139,
     "metadata": {},
     "output_type": "execute_result"
    },
    {
     "name": "stdout",
     "output_type": "stream",
     "text": [
      "Epoch 100\n"
     ]
    },
    {
     "data": {
      "text/plain": [
       "SAGE(\n",
       "  (conv1): SAGEConv(\n",
       "    (feat_drop): Dropout(p=0.2, inplace=False)\n",
       "    (fc_neigh): Linear(in_features=100, out_features=128, bias=True)\n",
       "  )\n",
       "  (conv2): SAGEConv(\n",
       "    (feat_drop): Dropout(p=0.2, inplace=False)\n",
       "    (fc_neigh): Linear(in_features=128, out_features=2, bias=True)\n",
       "  )\n",
       "  (dropout): Dropout(p=0.2, inplace=False)\n",
       ")"
      ]
     },
     "execution_count": 139,
     "metadata": {},
     "output_type": "execute_result"
    },
    {
     "name": "stdout",
     "output_type": "stream",
     "text": [
      "Epoch 101\n"
     ]
    },
    {
     "data": {
      "text/plain": [
       "SAGE(\n",
       "  (conv1): SAGEConv(\n",
       "    (feat_drop): Dropout(p=0.2, inplace=False)\n",
       "    (fc_neigh): Linear(in_features=100, out_features=128, bias=True)\n",
       "  )\n",
       "  (conv2): SAGEConv(\n",
       "    (feat_drop): Dropout(p=0.2, inplace=False)\n",
       "    (fc_neigh): Linear(in_features=128, out_features=2, bias=True)\n",
       "  )\n",
       "  (dropout): Dropout(p=0.2, inplace=False)\n",
       ")"
      ]
     },
     "execution_count": 139,
     "metadata": {},
     "output_type": "execute_result"
    },
    {
     "name": "stdout",
     "output_type": "stream",
     "text": [
      "Epoch 102\n"
     ]
    },
    {
     "data": {
      "text/plain": [
       "SAGE(\n",
       "  (conv1): SAGEConv(\n",
       "    (feat_drop): Dropout(p=0.2, inplace=False)\n",
       "    (fc_neigh): Linear(in_features=100, out_features=128, bias=True)\n",
       "  )\n",
       "  (conv2): SAGEConv(\n",
       "    (feat_drop): Dropout(p=0.2, inplace=False)\n",
       "    (fc_neigh): Linear(in_features=128, out_features=2, bias=True)\n",
       "  )\n",
       "  (dropout): Dropout(p=0.2, inplace=False)\n",
       ")"
      ]
     },
     "execution_count": 139,
     "metadata": {},
     "output_type": "execute_result"
    },
    {
     "name": "stdout",
     "output_type": "stream",
     "text": [
      "Epoch 103\n"
     ]
    },
    {
     "data": {
      "text/plain": [
       "SAGE(\n",
       "  (conv1): SAGEConv(\n",
       "    (feat_drop): Dropout(p=0.2, inplace=False)\n",
       "    (fc_neigh): Linear(in_features=100, out_features=128, bias=True)\n",
       "  )\n",
       "  (conv2): SAGEConv(\n",
       "    (feat_drop): Dropout(p=0.2, inplace=False)\n",
       "    (fc_neigh): Linear(in_features=128, out_features=2, bias=True)\n",
       "  )\n",
       "  (dropout): Dropout(p=0.2, inplace=False)\n",
       ")"
      ]
     },
     "execution_count": 139,
     "metadata": {},
     "output_type": "execute_result"
    },
    {
     "name": "stdout",
     "output_type": "stream",
     "text": [
      "Epoch 104\n"
     ]
    },
    {
     "data": {
      "text/plain": [
       "SAGE(\n",
       "  (conv1): SAGEConv(\n",
       "    (feat_drop): Dropout(p=0.2, inplace=False)\n",
       "    (fc_neigh): Linear(in_features=100, out_features=128, bias=True)\n",
       "  )\n",
       "  (conv2): SAGEConv(\n",
       "    (feat_drop): Dropout(p=0.2, inplace=False)\n",
       "    (fc_neigh): Linear(in_features=128, out_features=2, bias=True)\n",
       "  )\n",
       "  (dropout): Dropout(p=0.2, inplace=False)\n",
       ")"
      ]
     },
     "execution_count": 139,
     "metadata": {},
     "output_type": "execute_result"
    },
    {
     "name": "stdout",
     "output_type": "stream",
     "text": [
      "Epoch 105\n"
     ]
    },
    {
     "data": {
      "text/plain": [
       "SAGE(\n",
       "  (conv1): SAGEConv(\n",
       "    (feat_drop): Dropout(p=0.2, inplace=False)\n",
       "    (fc_neigh): Linear(in_features=100, out_features=128, bias=True)\n",
       "  )\n",
       "  (conv2): SAGEConv(\n",
       "    (feat_drop): Dropout(p=0.2, inplace=False)\n",
       "    (fc_neigh): Linear(in_features=128, out_features=2, bias=True)\n",
       "  )\n",
       "  (dropout): Dropout(p=0.2, inplace=False)\n",
       ")"
      ]
     },
     "execution_count": 139,
     "metadata": {},
     "output_type": "execute_result"
    },
    {
     "name": "stdout",
     "output_type": "stream",
     "text": [
      "Epoch 106\n"
     ]
    },
    {
     "data": {
      "text/plain": [
       "SAGE(\n",
       "  (conv1): SAGEConv(\n",
       "    (feat_drop): Dropout(p=0.2, inplace=False)\n",
       "    (fc_neigh): Linear(in_features=100, out_features=128, bias=True)\n",
       "  )\n",
       "  (conv2): SAGEConv(\n",
       "    (feat_drop): Dropout(p=0.2, inplace=False)\n",
       "    (fc_neigh): Linear(in_features=128, out_features=2, bias=True)\n",
       "  )\n",
       "  (dropout): Dropout(p=0.2, inplace=False)\n",
       ")"
      ]
     },
     "execution_count": 139,
     "metadata": {},
     "output_type": "execute_result"
    },
    {
     "name": "stdout",
     "output_type": "stream",
     "text": [
      "Epoch 107\n"
     ]
    },
    {
     "data": {
      "text/plain": [
       "SAGE(\n",
       "  (conv1): SAGEConv(\n",
       "    (feat_drop): Dropout(p=0.2, inplace=False)\n",
       "    (fc_neigh): Linear(in_features=100, out_features=128, bias=True)\n",
       "  )\n",
       "  (conv2): SAGEConv(\n",
       "    (feat_drop): Dropout(p=0.2, inplace=False)\n",
       "    (fc_neigh): Linear(in_features=128, out_features=2, bias=True)\n",
       "  )\n",
       "  (dropout): Dropout(p=0.2, inplace=False)\n",
       ")"
      ]
     },
     "execution_count": 139,
     "metadata": {},
     "output_type": "execute_result"
    },
    {
     "name": "stdout",
     "output_type": "stream",
     "text": [
      "Epoch 108\n"
     ]
    },
    {
     "data": {
      "text/plain": [
       "SAGE(\n",
       "  (conv1): SAGEConv(\n",
       "    (feat_drop): Dropout(p=0.2, inplace=False)\n",
       "    (fc_neigh): Linear(in_features=100, out_features=128, bias=True)\n",
       "  )\n",
       "  (conv2): SAGEConv(\n",
       "    (feat_drop): Dropout(p=0.2, inplace=False)\n",
       "    (fc_neigh): Linear(in_features=128, out_features=2, bias=True)\n",
       "  )\n",
       "  (dropout): Dropout(p=0.2, inplace=False)\n",
       ")"
      ]
     },
     "execution_count": 139,
     "metadata": {},
     "output_type": "execute_result"
    },
    {
     "name": "stdout",
     "output_type": "stream",
     "text": [
      "Epoch 109\n"
     ]
    },
    {
     "data": {
      "text/plain": [
       "SAGE(\n",
       "  (conv1): SAGEConv(\n",
       "    (feat_drop): Dropout(p=0.2, inplace=False)\n",
       "    (fc_neigh): Linear(in_features=100, out_features=128, bias=True)\n",
       "  )\n",
       "  (conv2): SAGEConv(\n",
       "    (feat_drop): Dropout(p=0.2, inplace=False)\n",
       "    (fc_neigh): Linear(in_features=128, out_features=2, bias=True)\n",
       "  )\n",
       "  (dropout): Dropout(p=0.2, inplace=False)\n",
       ")"
      ]
     },
     "execution_count": 139,
     "metadata": {},
     "output_type": "execute_result"
    },
    {
     "name": "stdout",
     "output_type": "stream",
     "text": [
      "Epoch 110\n"
     ]
    },
    {
     "data": {
      "text/plain": [
       "SAGE(\n",
       "  (conv1): SAGEConv(\n",
       "    (feat_drop): Dropout(p=0.2, inplace=False)\n",
       "    (fc_neigh): Linear(in_features=100, out_features=128, bias=True)\n",
       "  )\n",
       "  (conv2): SAGEConv(\n",
       "    (feat_drop): Dropout(p=0.2, inplace=False)\n",
       "    (fc_neigh): Linear(in_features=128, out_features=2, bias=True)\n",
       "  )\n",
       "  (dropout): Dropout(p=0.2, inplace=False)\n",
       ")"
      ]
     },
     "execution_count": 139,
     "metadata": {},
     "output_type": "execute_result"
    },
    {
     "name": "stdout",
     "output_type": "stream",
     "text": [
      "Epoch 111\n"
     ]
    },
    {
     "data": {
      "text/plain": [
       "SAGE(\n",
       "  (conv1): SAGEConv(\n",
       "    (feat_drop): Dropout(p=0.2, inplace=False)\n",
       "    (fc_neigh): Linear(in_features=100, out_features=128, bias=True)\n",
       "  )\n",
       "  (conv2): SAGEConv(\n",
       "    (feat_drop): Dropout(p=0.2, inplace=False)\n",
       "    (fc_neigh): Linear(in_features=128, out_features=2, bias=True)\n",
       "  )\n",
       "  (dropout): Dropout(p=0.2, inplace=False)\n",
       ")"
      ]
     },
     "execution_count": 139,
     "metadata": {},
     "output_type": "execute_result"
    },
    {
     "name": "stdout",
     "output_type": "stream",
     "text": [
      "Epoch 112\n"
     ]
    },
    {
     "data": {
      "text/plain": [
       "SAGE(\n",
       "  (conv1): SAGEConv(\n",
       "    (feat_drop): Dropout(p=0.2, inplace=False)\n",
       "    (fc_neigh): Linear(in_features=100, out_features=128, bias=True)\n",
       "  )\n",
       "  (conv2): SAGEConv(\n",
       "    (feat_drop): Dropout(p=0.2, inplace=False)\n",
       "    (fc_neigh): Linear(in_features=128, out_features=2, bias=True)\n",
       "  )\n",
       "  (dropout): Dropout(p=0.2, inplace=False)\n",
       ")"
      ]
     },
     "execution_count": 139,
     "metadata": {},
     "output_type": "execute_result"
    },
    {
     "name": "stdout",
     "output_type": "stream",
     "text": [
      "Epoch 113\n"
     ]
    },
    {
     "data": {
      "text/plain": [
       "SAGE(\n",
       "  (conv1): SAGEConv(\n",
       "    (feat_drop): Dropout(p=0.2, inplace=False)\n",
       "    (fc_neigh): Linear(in_features=100, out_features=128, bias=True)\n",
       "  )\n",
       "  (conv2): SAGEConv(\n",
       "    (feat_drop): Dropout(p=0.2, inplace=False)\n",
       "    (fc_neigh): Linear(in_features=128, out_features=2, bias=True)\n",
       "  )\n",
       "  (dropout): Dropout(p=0.2, inplace=False)\n",
       ")"
      ]
     },
     "execution_count": 139,
     "metadata": {},
     "output_type": "execute_result"
    },
    {
     "name": "stdout",
     "output_type": "stream",
     "text": [
      "Epoch 114\n"
     ]
    },
    {
     "data": {
      "text/plain": [
       "SAGE(\n",
       "  (conv1): SAGEConv(\n",
       "    (feat_drop): Dropout(p=0.2, inplace=False)\n",
       "    (fc_neigh): Linear(in_features=100, out_features=128, bias=True)\n",
       "  )\n",
       "  (conv2): SAGEConv(\n",
       "    (feat_drop): Dropout(p=0.2, inplace=False)\n",
       "    (fc_neigh): Linear(in_features=128, out_features=2, bias=True)\n",
       "  )\n",
       "  (dropout): Dropout(p=0.2, inplace=False)\n",
       ")"
      ]
     },
     "execution_count": 139,
     "metadata": {},
     "output_type": "execute_result"
    },
    {
     "name": "stdout",
     "output_type": "stream",
     "text": [
      "Epoch 115\n"
     ]
    },
    {
     "data": {
      "text/plain": [
       "SAGE(\n",
       "  (conv1): SAGEConv(\n",
       "    (feat_drop): Dropout(p=0.2, inplace=False)\n",
       "    (fc_neigh): Linear(in_features=100, out_features=128, bias=True)\n",
       "  )\n",
       "  (conv2): SAGEConv(\n",
       "    (feat_drop): Dropout(p=0.2, inplace=False)\n",
       "    (fc_neigh): Linear(in_features=128, out_features=2, bias=True)\n",
       "  )\n",
       "  (dropout): Dropout(p=0.2, inplace=False)\n",
       ")"
      ]
     },
     "execution_count": 139,
     "metadata": {},
     "output_type": "execute_result"
    },
    {
     "name": "stdout",
     "output_type": "stream",
     "text": [
      "Epoch 116\n"
     ]
    },
    {
     "data": {
      "text/plain": [
       "SAGE(\n",
       "  (conv1): SAGEConv(\n",
       "    (feat_drop): Dropout(p=0.2, inplace=False)\n",
       "    (fc_neigh): Linear(in_features=100, out_features=128, bias=True)\n",
       "  )\n",
       "  (conv2): SAGEConv(\n",
       "    (feat_drop): Dropout(p=0.2, inplace=False)\n",
       "    (fc_neigh): Linear(in_features=128, out_features=2, bias=True)\n",
       "  )\n",
       "  (dropout): Dropout(p=0.2, inplace=False)\n",
       ")"
      ]
     },
     "execution_count": 139,
     "metadata": {},
     "output_type": "execute_result"
    },
    {
     "name": "stdout",
     "output_type": "stream",
     "text": [
      "Epoch 117\n"
     ]
    },
    {
     "data": {
      "text/plain": [
       "SAGE(\n",
       "  (conv1): SAGEConv(\n",
       "    (feat_drop): Dropout(p=0.2, inplace=False)\n",
       "    (fc_neigh): Linear(in_features=100, out_features=128, bias=True)\n",
       "  )\n",
       "  (conv2): SAGEConv(\n",
       "    (feat_drop): Dropout(p=0.2, inplace=False)\n",
       "    (fc_neigh): Linear(in_features=128, out_features=2, bias=True)\n",
       "  )\n",
       "  (dropout): Dropout(p=0.2, inplace=False)\n",
       ")"
      ]
     },
     "execution_count": 139,
     "metadata": {},
     "output_type": "execute_result"
    },
    {
     "name": "stdout",
     "output_type": "stream",
     "text": [
      "Epoch 118\n"
     ]
    },
    {
     "data": {
      "text/plain": [
       "SAGE(\n",
       "  (conv1): SAGEConv(\n",
       "    (feat_drop): Dropout(p=0.2, inplace=False)\n",
       "    (fc_neigh): Linear(in_features=100, out_features=128, bias=True)\n",
       "  )\n",
       "  (conv2): SAGEConv(\n",
       "    (feat_drop): Dropout(p=0.2, inplace=False)\n",
       "    (fc_neigh): Linear(in_features=128, out_features=2, bias=True)\n",
       "  )\n",
       "  (dropout): Dropout(p=0.2, inplace=False)\n",
       ")"
      ]
     },
     "execution_count": 139,
     "metadata": {},
     "output_type": "execute_result"
    },
    {
     "name": "stdout",
     "output_type": "stream",
     "text": [
      "Epoch 119\n"
     ]
    },
    {
     "data": {
      "text/plain": [
       "SAGE(\n",
       "  (conv1): SAGEConv(\n",
       "    (feat_drop): Dropout(p=0.2, inplace=False)\n",
       "    (fc_neigh): Linear(in_features=100, out_features=128, bias=True)\n",
       "  )\n",
       "  (conv2): SAGEConv(\n",
       "    (feat_drop): Dropout(p=0.2, inplace=False)\n",
       "    (fc_neigh): Linear(in_features=128, out_features=2, bias=True)\n",
       "  )\n",
       "  (dropout): Dropout(p=0.2, inplace=False)\n",
       ")"
      ]
     },
     "execution_count": 139,
     "metadata": {},
     "output_type": "execute_result"
    },
    {
     "name": "stdout",
     "output_type": "stream",
     "text": [
      "Epoch 120\n"
     ]
    },
    {
     "data": {
      "text/plain": [
       "SAGE(\n",
       "  (conv1): SAGEConv(\n",
       "    (feat_drop): Dropout(p=0.2, inplace=False)\n",
       "    (fc_neigh): Linear(in_features=100, out_features=128, bias=True)\n",
       "  )\n",
       "  (conv2): SAGEConv(\n",
       "    (feat_drop): Dropout(p=0.2, inplace=False)\n",
       "    (fc_neigh): Linear(in_features=128, out_features=2, bias=True)\n",
       "  )\n",
       "  (dropout): Dropout(p=0.2, inplace=False)\n",
       ")"
      ]
     },
     "execution_count": 139,
     "metadata": {},
     "output_type": "execute_result"
    },
    {
     "name": "stdout",
     "output_type": "stream",
     "text": [
      "Epoch 121\n"
     ]
    },
    {
     "data": {
      "text/plain": [
       "SAGE(\n",
       "  (conv1): SAGEConv(\n",
       "    (feat_drop): Dropout(p=0.2, inplace=False)\n",
       "    (fc_neigh): Linear(in_features=100, out_features=128, bias=True)\n",
       "  )\n",
       "  (conv2): SAGEConv(\n",
       "    (feat_drop): Dropout(p=0.2, inplace=False)\n",
       "    (fc_neigh): Linear(in_features=128, out_features=2, bias=True)\n",
       "  )\n",
       "  (dropout): Dropout(p=0.2, inplace=False)\n",
       ")"
      ]
     },
     "execution_count": 139,
     "metadata": {},
     "output_type": "execute_result"
    },
    {
     "name": "stdout",
     "output_type": "stream",
     "text": [
      "Epoch 122\n"
     ]
    },
    {
     "data": {
      "text/plain": [
       "SAGE(\n",
       "  (conv1): SAGEConv(\n",
       "    (feat_drop): Dropout(p=0.2, inplace=False)\n",
       "    (fc_neigh): Linear(in_features=100, out_features=128, bias=True)\n",
       "  )\n",
       "  (conv2): SAGEConv(\n",
       "    (feat_drop): Dropout(p=0.2, inplace=False)\n",
       "    (fc_neigh): Linear(in_features=128, out_features=2, bias=True)\n",
       "  )\n",
       "  (dropout): Dropout(p=0.2, inplace=False)\n",
       ")"
      ]
     },
     "execution_count": 139,
     "metadata": {},
     "output_type": "execute_result"
    },
    {
     "name": "stdout",
     "output_type": "stream",
     "text": [
      "Epoch 123\n"
     ]
    },
    {
     "data": {
      "text/plain": [
       "SAGE(\n",
       "  (conv1): SAGEConv(\n",
       "    (feat_drop): Dropout(p=0.2, inplace=False)\n",
       "    (fc_neigh): Linear(in_features=100, out_features=128, bias=True)\n",
       "  )\n",
       "  (conv2): SAGEConv(\n",
       "    (feat_drop): Dropout(p=0.2, inplace=False)\n",
       "    (fc_neigh): Linear(in_features=128, out_features=2, bias=True)\n",
       "  )\n",
       "  (dropout): Dropout(p=0.2, inplace=False)\n",
       ")"
      ]
     },
     "execution_count": 139,
     "metadata": {},
     "output_type": "execute_result"
    },
    {
     "name": "stdout",
     "output_type": "stream",
     "text": [
      "Epoch 124\n"
     ]
    },
    {
     "data": {
      "text/plain": [
       "SAGE(\n",
       "  (conv1): SAGEConv(\n",
       "    (feat_drop): Dropout(p=0.2, inplace=False)\n",
       "    (fc_neigh): Linear(in_features=100, out_features=128, bias=True)\n",
       "  )\n",
       "  (conv2): SAGEConv(\n",
       "    (feat_drop): Dropout(p=0.2, inplace=False)\n",
       "    (fc_neigh): Linear(in_features=128, out_features=2, bias=True)\n",
       "  )\n",
       "  (dropout): Dropout(p=0.2, inplace=False)\n",
       ")"
      ]
     },
     "execution_count": 139,
     "metadata": {},
     "output_type": "execute_result"
    },
    {
     "name": "stdout",
     "output_type": "stream",
     "text": [
      "Epoch 125\n"
     ]
    },
    {
     "data": {
      "text/plain": [
       "SAGE(\n",
       "  (conv1): SAGEConv(\n",
       "    (feat_drop): Dropout(p=0.2, inplace=False)\n",
       "    (fc_neigh): Linear(in_features=100, out_features=128, bias=True)\n",
       "  )\n",
       "  (conv2): SAGEConv(\n",
       "    (feat_drop): Dropout(p=0.2, inplace=False)\n",
       "    (fc_neigh): Linear(in_features=128, out_features=2, bias=True)\n",
       "  )\n",
       "  (dropout): Dropout(p=0.2, inplace=False)\n",
       ")"
      ]
     },
     "execution_count": 139,
     "metadata": {},
     "output_type": "execute_result"
    },
    {
     "name": "stdout",
     "output_type": "stream",
     "text": [
      "Epoch 126\n"
     ]
    },
    {
     "data": {
      "text/plain": [
       "SAGE(\n",
       "  (conv1): SAGEConv(\n",
       "    (feat_drop): Dropout(p=0.2, inplace=False)\n",
       "    (fc_neigh): Linear(in_features=100, out_features=128, bias=True)\n",
       "  )\n",
       "  (conv2): SAGEConv(\n",
       "    (feat_drop): Dropout(p=0.2, inplace=False)\n",
       "    (fc_neigh): Linear(in_features=128, out_features=2, bias=True)\n",
       "  )\n",
       "  (dropout): Dropout(p=0.2, inplace=False)\n",
       ")"
      ]
     },
     "execution_count": 139,
     "metadata": {},
     "output_type": "execute_result"
    },
    {
     "name": "stdout",
     "output_type": "stream",
     "text": [
      "Epoch 127\n"
     ]
    },
    {
     "data": {
      "text/plain": [
       "SAGE(\n",
       "  (conv1): SAGEConv(\n",
       "    (feat_drop): Dropout(p=0.2, inplace=False)\n",
       "    (fc_neigh): Linear(in_features=100, out_features=128, bias=True)\n",
       "  )\n",
       "  (conv2): SAGEConv(\n",
       "    (feat_drop): Dropout(p=0.2, inplace=False)\n",
       "    (fc_neigh): Linear(in_features=128, out_features=2, bias=True)\n",
       "  )\n",
       "  (dropout): Dropout(p=0.2, inplace=False)\n",
       ")"
      ]
     },
     "execution_count": 139,
     "metadata": {},
     "output_type": "execute_result"
    },
    {
     "name": "stdout",
     "output_type": "stream",
     "text": [
      "Epoch 128\n"
     ]
    },
    {
     "data": {
      "text/plain": [
       "SAGE(\n",
       "  (conv1): SAGEConv(\n",
       "    (feat_drop): Dropout(p=0.2, inplace=False)\n",
       "    (fc_neigh): Linear(in_features=100, out_features=128, bias=True)\n",
       "  )\n",
       "  (conv2): SAGEConv(\n",
       "    (feat_drop): Dropout(p=0.2, inplace=False)\n",
       "    (fc_neigh): Linear(in_features=128, out_features=2, bias=True)\n",
       "  )\n",
       "  (dropout): Dropout(p=0.2, inplace=False)\n",
       ")"
      ]
     },
     "execution_count": 139,
     "metadata": {},
     "output_type": "execute_result"
    },
    {
     "name": "stdout",
     "output_type": "stream",
     "text": [
      "Epoch 129\n"
     ]
    },
    {
     "data": {
      "text/plain": [
       "SAGE(\n",
       "  (conv1): SAGEConv(\n",
       "    (feat_drop): Dropout(p=0.2, inplace=False)\n",
       "    (fc_neigh): Linear(in_features=100, out_features=128, bias=True)\n",
       "  )\n",
       "  (conv2): SAGEConv(\n",
       "    (feat_drop): Dropout(p=0.2, inplace=False)\n",
       "    (fc_neigh): Linear(in_features=128, out_features=2, bias=True)\n",
       "  )\n",
       "  (dropout): Dropout(p=0.2, inplace=False)\n",
       ")"
      ]
     },
     "execution_count": 139,
     "metadata": {},
     "output_type": "execute_result"
    },
    {
     "name": "stdout",
     "output_type": "stream",
     "text": [
      "Epoch 130\n"
     ]
    },
    {
     "data": {
      "text/plain": [
       "SAGE(\n",
       "  (conv1): SAGEConv(\n",
       "    (feat_drop): Dropout(p=0.2, inplace=False)\n",
       "    (fc_neigh): Linear(in_features=100, out_features=128, bias=True)\n",
       "  )\n",
       "  (conv2): SAGEConv(\n",
       "    (feat_drop): Dropout(p=0.2, inplace=False)\n",
       "    (fc_neigh): Linear(in_features=128, out_features=2, bias=True)\n",
       "  )\n",
       "  (dropout): Dropout(p=0.2, inplace=False)\n",
       ")"
      ]
     },
     "execution_count": 139,
     "metadata": {},
     "output_type": "execute_result"
    },
    {
     "name": "stdout",
     "output_type": "stream",
     "text": [
      "Epoch 131\n"
     ]
    },
    {
     "data": {
      "text/plain": [
       "SAGE(\n",
       "  (conv1): SAGEConv(\n",
       "    (feat_drop): Dropout(p=0.2, inplace=False)\n",
       "    (fc_neigh): Linear(in_features=100, out_features=128, bias=True)\n",
       "  )\n",
       "  (conv2): SAGEConv(\n",
       "    (feat_drop): Dropout(p=0.2, inplace=False)\n",
       "    (fc_neigh): Linear(in_features=128, out_features=2, bias=True)\n",
       "  )\n",
       "  (dropout): Dropout(p=0.2, inplace=False)\n",
       ")"
      ]
     },
     "execution_count": 139,
     "metadata": {},
     "output_type": "execute_result"
    },
    {
     "name": "stdout",
     "output_type": "stream",
     "text": [
      "Epoch 132\n"
     ]
    },
    {
     "data": {
      "text/plain": [
       "SAGE(\n",
       "  (conv1): SAGEConv(\n",
       "    (feat_drop): Dropout(p=0.2, inplace=False)\n",
       "    (fc_neigh): Linear(in_features=100, out_features=128, bias=True)\n",
       "  )\n",
       "  (conv2): SAGEConv(\n",
       "    (feat_drop): Dropout(p=0.2, inplace=False)\n",
       "    (fc_neigh): Linear(in_features=128, out_features=2, bias=True)\n",
       "  )\n",
       "  (dropout): Dropout(p=0.2, inplace=False)\n",
       ")"
      ]
     },
     "execution_count": 139,
     "metadata": {},
     "output_type": "execute_result"
    },
    {
     "name": "stdout",
     "output_type": "stream",
     "text": [
      "Epoch 133\n"
     ]
    },
    {
     "data": {
      "text/plain": [
       "SAGE(\n",
       "  (conv1): SAGEConv(\n",
       "    (feat_drop): Dropout(p=0.2, inplace=False)\n",
       "    (fc_neigh): Linear(in_features=100, out_features=128, bias=True)\n",
       "  )\n",
       "  (conv2): SAGEConv(\n",
       "    (feat_drop): Dropout(p=0.2, inplace=False)\n",
       "    (fc_neigh): Linear(in_features=128, out_features=2, bias=True)\n",
       "  )\n",
       "  (dropout): Dropout(p=0.2, inplace=False)\n",
       ")"
      ]
     },
     "execution_count": 139,
     "metadata": {},
     "output_type": "execute_result"
    },
    {
     "name": "stdout",
     "output_type": "stream",
     "text": [
      "Epoch 134\n"
     ]
    },
    {
     "data": {
      "text/plain": [
       "SAGE(\n",
       "  (conv1): SAGEConv(\n",
       "    (feat_drop): Dropout(p=0.2, inplace=False)\n",
       "    (fc_neigh): Linear(in_features=100, out_features=128, bias=True)\n",
       "  )\n",
       "  (conv2): SAGEConv(\n",
       "    (feat_drop): Dropout(p=0.2, inplace=False)\n",
       "    (fc_neigh): Linear(in_features=128, out_features=2, bias=True)\n",
       "  )\n",
       "  (dropout): Dropout(p=0.2, inplace=False)\n",
       ")"
      ]
     },
     "execution_count": 139,
     "metadata": {},
     "output_type": "execute_result"
    },
    {
     "name": "stdout",
     "output_type": "stream",
     "text": [
      "Epoch 135\n"
     ]
    },
    {
     "data": {
      "text/plain": [
       "SAGE(\n",
       "  (conv1): SAGEConv(\n",
       "    (feat_drop): Dropout(p=0.2, inplace=False)\n",
       "    (fc_neigh): Linear(in_features=100, out_features=128, bias=True)\n",
       "  )\n",
       "  (conv2): SAGEConv(\n",
       "    (feat_drop): Dropout(p=0.2, inplace=False)\n",
       "    (fc_neigh): Linear(in_features=128, out_features=2, bias=True)\n",
       "  )\n",
       "  (dropout): Dropout(p=0.2, inplace=False)\n",
       ")"
      ]
     },
     "execution_count": 139,
     "metadata": {},
     "output_type": "execute_result"
    },
    {
     "name": "stdout",
     "output_type": "stream",
     "text": [
      "Epoch 136\n"
     ]
    },
    {
     "data": {
      "text/plain": [
       "SAGE(\n",
       "  (conv1): SAGEConv(\n",
       "    (feat_drop): Dropout(p=0.2, inplace=False)\n",
       "    (fc_neigh): Linear(in_features=100, out_features=128, bias=True)\n",
       "  )\n",
       "  (conv2): SAGEConv(\n",
       "    (feat_drop): Dropout(p=0.2, inplace=False)\n",
       "    (fc_neigh): Linear(in_features=128, out_features=2, bias=True)\n",
       "  )\n",
       "  (dropout): Dropout(p=0.2, inplace=False)\n",
       ")"
      ]
     },
     "execution_count": 139,
     "metadata": {},
     "output_type": "execute_result"
    },
    {
     "name": "stdout",
     "output_type": "stream",
     "text": [
      "Epoch 137\n"
     ]
    },
    {
     "data": {
      "text/plain": [
       "SAGE(\n",
       "  (conv1): SAGEConv(\n",
       "    (feat_drop): Dropout(p=0.2, inplace=False)\n",
       "    (fc_neigh): Linear(in_features=100, out_features=128, bias=True)\n",
       "  )\n",
       "  (conv2): SAGEConv(\n",
       "    (feat_drop): Dropout(p=0.2, inplace=False)\n",
       "    (fc_neigh): Linear(in_features=128, out_features=2, bias=True)\n",
       "  )\n",
       "  (dropout): Dropout(p=0.2, inplace=False)\n",
       ")"
      ]
     },
     "execution_count": 139,
     "metadata": {},
     "output_type": "execute_result"
    },
    {
     "name": "stdout",
     "output_type": "stream",
     "text": [
      "Epoch 138\n"
     ]
    },
    {
     "data": {
      "text/plain": [
       "SAGE(\n",
       "  (conv1): SAGEConv(\n",
       "    (feat_drop): Dropout(p=0.2, inplace=False)\n",
       "    (fc_neigh): Linear(in_features=100, out_features=128, bias=True)\n",
       "  )\n",
       "  (conv2): SAGEConv(\n",
       "    (feat_drop): Dropout(p=0.2, inplace=False)\n",
       "    (fc_neigh): Linear(in_features=128, out_features=2, bias=True)\n",
       "  )\n",
       "  (dropout): Dropout(p=0.2, inplace=False)\n",
       ")"
      ]
     },
     "execution_count": 139,
     "metadata": {},
     "output_type": "execute_result"
    },
    {
     "name": "stdout",
     "output_type": "stream",
     "text": [
      "Epoch 139\n"
     ]
    },
    {
     "data": {
      "text/plain": [
       "SAGE(\n",
       "  (conv1): SAGEConv(\n",
       "    (feat_drop): Dropout(p=0.2, inplace=False)\n",
       "    (fc_neigh): Linear(in_features=100, out_features=128, bias=True)\n",
       "  )\n",
       "  (conv2): SAGEConv(\n",
       "    (feat_drop): Dropout(p=0.2, inplace=False)\n",
       "    (fc_neigh): Linear(in_features=128, out_features=2, bias=True)\n",
       "  )\n",
       "  (dropout): Dropout(p=0.2, inplace=False)\n",
       ")"
      ]
     },
     "execution_count": 139,
     "metadata": {},
     "output_type": "execute_result"
    },
    {
     "name": "stdout",
     "output_type": "stream",
     "text": [
      "Epoch 140\n"
     ]
    },
    {
     "data": {
      "text/plain": [
       "SAGE(\n",
       "  (conv1): SAGEConv(\n",
       "    (feat_drop): Dropout(p=0.2, inplace=False)\n",
       "    (fc_neigh): Linear(in_features=100, out_features=128, bias=True)\n",
       "  )\n",
       "  (conv2): SAGEConv(\n",
       "    (feat_drop): Dropout(p=0.2, inplace=False)\n",
       "    (fc_neigh): Linear(in_features=128, out_features=2, bias=True)\n",
       "  )\n",
       "  (dropout): Dropout(p=0.2, inplace=False)\n",
       ")"
      ]
     },
     "execution_count": 139,
     "metadata": {},
     "output_type": "execute_result"
    },
    {
     "name": "stdout",
     "output_type": "stream",
     "text": [
      "Epoch 141\n"
     ]
    },
    {
     "data": {
      "text/plain": [
       "SAGE(\n",
       "  (conv1): SAGEConv(\n",
       "    (feat_drop): Dropout(p=0.2, inplace=False)\n",
       "    (fc_neigh): Linear(in_features=100, out_features=128, bias=True)\n",
       "  )\n",
       "  (conv2): SAGEConv(\n",
       "    (feat_drop): Dropout(p=0.2, inplace=False)\n",
       "    (fc_neigh): Linear(in_features=128, out_features=2, bias=True)\n",
       "  )\n",
       "  (dropout): Dropout(p=0.2, inplace=False)\n",
       ")"
      ]
     },
     "execution_count": 139,
     "metadata": {},
     "output_type": "execute_result"
    },
    {
     "name": "stdout",
     "output_type": "stream",
     "text": [
      "Epoch 142\n"
     ]
    },
    {
     "data": {
      "text/plain": [
       "SAGE(\n",
       "  (conv1): SAGEConv(\n",
       "    (feat_drop): Dropout(p=0.2, inplace=False)\n",
       "    (fc_neigh): Linear(in_features=100, out_features=128, bias=True)\n",
       "  )\n",
       "  (conv2): SAGEConv(\n",
       "    (feat_drop): Dropout(p=0.2, inplace=False)\n",
       "    (fc_neigh): Linear(in_features=128, out_features=2, bias=True)\n",
       "  )\n",
       "  (dropout): Dropout(p=0.2, inplace=False)\n",
       ")"
      ]
     },
     "execution_count": 139,
     "metadata": {},
     "output_type": "execute_result"
    },
    {
     "name": "stdout",
     "output_type": "stream",
     "text": [
      "Epoch 143\n"
     ]
    },
    {
     "data": {
      "text/plain": [
       "SAGE(\n",
       "  (conv1): SAGEConv(\n",
       "    (feat_drop): Dropout(p=0.2, inplace=False)\n",
       "    (fc_neigh): Linear(in_features=100, out_features=128, bias=True)\n",
       "  )\n",
       "  (conv2): SAGEConv(\n",
       "    (feat_drop): Dropout(p=0.2, inplace=False)\n",
       "    (fc_neigh): Linear(in_features=128, out_features=2, bias=True)\n",
       "  )\n",
       "  (dropout): Dropout(p=0.2, inplace=False)\n",
       ")"
      ]
     },
     "execution_count": 139,
     "metadata": {},
     "output_type": "execute_result"
    },
    {
     "name": "stdout",
     "output_type": "stream",
     "text": [
      "Epoch 144\n"
     ]
    },
    {
     "data": {
      "text/plain": [
       "SAGE(\n",
       "  (conv1): SAGEConv(\n",
       "    (feat_drop): Dropout(p=0.2, inplace=False)\n",
       "    (fc_neigh): Linear(in_features=100, out_features=128, bias=True)\n",
       "  )\n",
       "  (conv2): SAGEConv(\n",
       "    (feat_drop): Dropout(p=0.2, inplace=False)\n",
       "    (fc_neigh): Linear(in_features=128, out_features=2, bias=True)\n",
       "  )\n",
       "  (dropout): Dropout(p=0.2, inplace=False)\n",
       ")"
      ]
     },
     "execution_count": 139,
     "metadata": {},
     "output_type": "execute_result"
    },
    {
     "name": "stdout",
     "output_type": "stream",
     "text": [
      "Epoch 145\n"
     ]
    },
    {
     "data": {
      "text/plain": [
       "SAGE(\n",
       "  (conv1): SAGEConv(\n",
       "    (feat_drop): Dropout(p=0.2, inplace=False)\n",
       "    (fc_neigh): Linear(in_features=100, out_features=128, bias=True)\n",
       "  )\n",
       "  (conv2): SAGEConv(\n",
       "    (feat_drop): Dropout(p=0.2, inplace=False)\n",
       "    (fc_neigh): Linear(in_features=128, out_features=2, bias=True)\n",
       "  )\n",
       "  (dropout): Dropout(p=0.2, inplace=False)\n",
       ")"
      ]
     },
     "execution_count": 139,
     "metadata": {},
     "output_type": "execute_result"
    },
    {
     "name": "stdout",
     "output_type": "stream",
     "text": [
      "Epoch 146\n"
     ]
    },
    {
     "data": {
      "text/plain": [
       "SAGE(\n",
       "  (conv1): SAGEConv(\n",
       "    (feat_drop): Dropout(p=0.2, inplace=False)\n",
       "    (fc_neigh): Linear(in_features=100, out_features=128, bias=True)\n",
       "  )\n",
       "  (conv2): SAGEConv(\n",
       "    (feat_drop): Dropout(p=0.2, inplace=False)\n",
       "    (fc_neigh): Linear(in_features=128, out_features=2, bias=True)\n",
       "  )\n",
       "  (dropout): Dropout(p=0.2, inplace=False)\n",
       ")"
      ]
     },
     "execution_count": 139,
     "metadata": {},
     "output_type": "execute_result"
    },
    {
     "name": "stdout",
     "output_type": "stream",
     "text": [
      "Epoch 147\n"
     ]
    },
    {
     "data": {
      "text/plain": [
       "SAGE(\n",
       "  (conv1): SAGEConv(\n",
       "    (feat_drop): Dropout(p=0.2, inplace=False)\n",
       "    (fc_neigh): Linear(in_features=100, out_features=128, bias=True)\n",
       "  )\n",
       "  (conv2): SAGEConv(\n",
       "    (feat_drop): Dropout(p=0.2, inplace=False)\n",
       "    (fc_neigh): Linear(in_features=128, out_features=2, bias=True)\n",
       "  )\n",
       "  (dropout): Dropout(p=0.2, inplace=False)\n",
       ")"
      ]
     },
     "execution_count": 139,
     "metadata": {},
     "output_type": "execute_result"
    },
    {
     "name": "stdout",
     "output_type": "stream",
     "text": [
      "Epoch 148\n"
     ]
    },
    {
     "data": {
      "text/plain": [
       "SAGE(\n",
       "  (conv1): SAGEConv(\n",
       "    (feat_drop): Dropout(p=0.2, inplace=False)\n",
       "    (fc_neigh): Linear(in_features=100, out_features=128, bias=True)\n",
       "  )\n",
       "  (conv2): SAGEConv(\n",
       "    (feat_drop): Dropout(p=0.2, inplace=False)\n",
       "    (fc_neigh): Linear(in_features=128, out_features=2, bias=True)\n",
       "  )\n",
       "  (dropout): Dropout(p=0.2, inplace=False)\n",
       ")"
      ]
     },
     "execution_count": 139,
     "metadata": {},
     "output_type": "execute_result"
    },
    {
     "name": "stdout",
     "output_type": "stream",
     "text": [
      "Epoch 149\n"
     ]
    },
    {
     "data": {
      "text/plain": [
       "SAGE(\n",
       "  (conv1): SAGEConv(\n",
       "    (feat_drop): Dropout(p=0.2, inplace=False)\n",
       "    (fc_neigh): Linear(in_features=100, out_features=128, bias=True)\n",
       "  )\n",
       "  (conv2): SAGEConv(\n",
       "    (feat_drop): Dropout(p=0.2, inplace=False)\n",
       "    (fc_neigh): Linear(in_features=128, out_features=2, bias=True)\n",
       "  )\n",
       "  (dropout): Dropout(p=0.2, inplace=False)\n",
       ")"
      ]
     },
     "execution_count": 139,
     "metadata": {},
     "output_type": "execute_result"
    },
    {
     "name": "stdout",
     "output_type": "stream",
     "text": [
      "Epoch 150\n"
     ]
    },
    {
     "data": {
      "text/plain": [
       "SAGE(\n",
       "  (conv1): SAGEConv(\n",
       "    (feat_drop): Dropout(p=0.2, inplace=False)\n",
       "    (fc_neigh): Linear(in_features=100, out_features=128, bias=True)\n",
       "  )\n",
       "  (conv2): SAGEConv(\n",
       "    (feat_drop): Dropout(p=0.2, inplace=False)\n",
       "    (fc_neigh): Linear(in_features=128, out_features=2, bias=True)\n",
       "  )\n",
       "  (dropout): Dropout(p=0.2, inplace=False)\n",
       ")"
      ]
     },
     "execution_count": 139,
     "metadata": {},
     "output_type": "execute_result"
    },
    {
     "name": "stdout",
     "output_type": "stream",
     "text": [
      "Epoch 151\n"
     ]
    },
    {
     "data": {
      "text/plain": [
       "SAGE(\n",
       "  (conv1): SAGEConv(\n",
       "    (feat_drop): Dropout(p=0.2, inplace=False)\n",
       "    (fc_neigh): Linear(in_features=100, out_features=128, bias=True)\n",
       "  )\n",
       "  (conv2): SAGEConv(\n",
       "    (feat_drop): Dropout(p=0.2, inplace=False)\n",
       "    (fc_neigh): Linear(in_features=128, out_features=2, bias=True)\n",
       "  )\n",
       "  (dropout): Dropout(p=0.2, inplace=False)\n",
       ")"
      ]
     },
     "execution_count": 139,
     "metadata": {},
     "output_type": "execute_result"
    },
    {
     "name": "stdout",
     "output_type": "stream",
     "text": [
      "Epoch 152\n"
     ]
    },
    {
     "data": {
      "text/plain": [
       "SAGE(\n",
       "  (conv1): SAGEConv(\n",
       "    (feat_drop): Dropout(p=0.2, inplace=False)\n",
       "    (fc_neigh): Linear(in_features=100, out_features=128, bias=True)\n",
       "  )\n",
       "  (conv2): SAGEConv(\n",
       "    (feat_drop): Dropout(p=0.2, inplace=False)\n",
       "    (fc_neigh): Linear(in_features=128, out_features=2, bias=True)\n",
       "  )\n",
       "  (dropout): Dropout(p=0.2, inplace=False)\n",
       ")"
      ]
     },
     "execution_count": 139,
     "metadata": {},
     "output_type": "execute_result"
    },
    {
     "name": "stdout",
     "output_type": "stream",
     "text": [
      "Epoch 153\n"
     ]
    },
    {
     "data": {
      "text/plain": [
       "SAGE(\n",
       "  (conv1): SAGEConv(\n",
       "    (feat_drop): Dropout(p=0.2, inplace=False)\n",
       "    (fc_neigh): Linear(in_features=100, out_features=128, bias=True)\n",
       "  )\n",
       "  (conv2): SAGEConv(\n",
       "    (feat_drop): Dropout(p=0.2, inplace=False)\n",
       "    (fc_neigh): Linear(in_features=128, out_features=2, bias=True)\n",
       "  )\n",
       "  (dropout): Dropout(p=0.2, inplace=False)\n",
       ")"
      ]
     },
     "execution_count": 139,
     "metadata": {},
     "output_type": "execute_result"
    },
    {
     "name": "stdout",
     "output_type": "stream",
     "text": [
      "Epoch 154\n"
     ]
    },
    {
     "data": {
      "text/plain": [
       "SAGE(\n",
       "  (conv1): SAGEConv(\n",
       "    (feat_drop): Dropout(p=0.2, inplace=False)\n",
       "    (fc_neigh): Linear(in_features=100, out_features=128, bias=True)\n",
       "  )\n",
       "  (conv2): SAGEConv(\n",
       "    (feat_drop): Dropout(p=0.2, inplace=False)\n",
       "    (fc_neigh): Linear(in_features=128, out_features=2, bias=True)\n",
       "  )\n",
       "  (dropout): Dropout(p=0.2, inplace=False)\n",
       ")"
      ]
     },
     "execution_count": 139,
     "metadata": {},
     "output_type": "execute_result"
    },
    {
     "name": "stdout",
     "output_type": "stream",
     "text": [
      "Epoch 155\n"
     ]
    },
    {
     "data": {
      "text/plain": [
       "SAGE(\n",
       "  (conv1): SAGEConv(\n",
       "    (feat_drop): Dropout(p=0.2, inplace=False)\n",
       "    (fc_neigh): Linear(in_features=100, out_features=128, bias=True)\n",
       "  )\n",
       "  (conv2): SAGEConv(\n",
       "    (feat_drop): Dropout(p=0.2, inplace=False)\n",
       "    (fc_neigh): Linear(in_features=128, out_features=2, bias=True)\n",
       "  )\n",
       "  (dropout): Dropout(p=0.2, inplace=False)\n",
       ")"
      ]
     },
     "execution_count": 139,
     "metadata": {},
     "output_type": "execute_result"
    },
    {
     "name": "stdout",
     "output_type": "stream",
     "text": [
      "Epoch 156\n"
     ]
    },
    {
     "data": {
      "text/plain": [
       "SAGE(\n",
       "  (conv1): SAGEConv(\n",
       "    (feat_drop): Dropout(p=0.2, inplace=False)\n",
       "    (fc_neigh): Linear(in_features=100, out_features=128, bias=True)\n",
       "  )\n",
       "  (conv2): SAGEConv(\n",
       "    (feat_drop): Dropout(p=0.2, inplace=False)\n",
       "    (fc_neigh): Linear(in_features=128, out_features=2, bias=True)\n",
       "  )\n",
       "  (dropout): Dropout(p=0.2, inplace=False)\n",
       ")"
      ]
     },
     "execution_count": 139,
     "metadata": {},
     "output_type": "execute_result"
    },
    {
     "name": "stdout",
     "output_type": "stream",
     "text": [
      "Epoch 157\n"
     ]
    },
    {
     "data": {
      "text/plain": [
       "SAGE(\n",
       "  (conv1): SAGEConv(\n",
       "    (feat_drop): Dropout(p=0.2, inplace=False)\n",
       "    (fc_neigh): Linear(in_features=100, out_features=128, bias=True)\n",
       "  )\n",
       "  (conv2): SAGEConv(\n",
       "    (feat_drop): Dropout(p=0.2, inplace=False)\n",
       "    (fc_neigh): Linear(in_features=128, out_features=2, bias=True)\n",
       "  )\n",
       "  (dropout): Dropout(p=0.2, inplace=False)\n",
       ")"
      ]
     },
     "execution_count": 139,
     "metadata": {},
     "output_type": "execute_result"
    },
    {
     "name": "stdout",
     "output_type": "stream",
     "text": [
      "Epoch 158\n"
     ]
    },
    {
     "data": {
      "text/plain": [
       "SAGE(\n",
       "  (conv1): SAGEConv(\n",
       "    (feat_drop): Dropout(p=0.2, inplace=False)\n",
       "    (fc_neigh): Linear(in_features=100, out_features=128, bias=True)\n",
       "  )\n",
       "  (conv2): SAGEConv(\n",
       "    (feat_drop): Dropout(p=0.2, inplace=False)\n",
       "    (fc_neigh): Linear(in_features=128, out_features=2, bias=True)\n",
       "  )\n",
       "  (dropout): Dropout(p=0.2, inplace=False)\n",
       ")"
      ]
     },
     "execution_count": 139,
     "metadata": {},
     "output_type": "execute_result"
    },
    {
     "name": "stdout",
     "output_type": "stream",
     "text": [
      "Epoch 159\n"
     ]
    },
    {
     "data": {
      "text/plain": [
       "SAGE(\n",
       "  (conv1): SAGEConv(\n",
       "    (feat_drop): Dropout(p=0.2, inplace=False)\n",
       "    (fc_neigh): Linear(in_features=100, out_features=128, bias=True)\n",
       "  )\n",
       "  (conv2): SAGEConv(\n",
       "    (feat_drop): Dropout(p=0.2, inplace=False)\n",
       "    (fc_neigh): Linear(in_features=128, out_features=2, bias=True)\n",
       "  )\n",
       "  (dropout): Dropout(p=0.2, inplace=False)\n",
       ")"
      ]
     },
     "execution_count": 139,
     "metadata": {},
     "output_type": "execute_result"
    },
    {
     "name": "stdout",
     "output_type": "stream",
     "text": [
      "Epoch 160\n"
     ]
    },
    {
     "data": {
      "text/plain": [
       "SAGE(\n",
       "  (conv1): SAGEConv(\n",
       "    (feat_drop): Dropout(p=0.2, inplace=False)\n",
       "    (fc_neigh): Linear(in_features=100, out_features=128, bias=True)\n",
       "  )\n",
       "  (conv2): SAGEConv(\n",
       "    (feat_drop): Dropout(p=0.2, inplace=False)\n",
       "    (fc_neigh): Linear(in_features=128, out_features=2, bias=True)\n",
       "  )\n",
       "  (dropout): Dropout(p=0.2, inplace=False)\n",
       ")"
      ]
     },
     "execution_count": 139,
     "metadata": {},
     "output_type": "execute_result"
    },
    {
     "name": "stdout",
     "output_type": "stream",
     "text": [
      "Epoch 161\n"
     ]
    },
    {
     "data": {
      "text/plain": [
       "SAGE(\n",
       "  (conv1): SAGEConv(\n",
       "    (feat_drop): Dropout(p=0.2, inplace=False)\n",
       "    (fc_neigh): Linear(in_features=100, out_features=128, bias=True)\n",
       "  )\n",
       "  (conv2): SAGEConv(\n",
       "    (feat_drop): Dropout(p=0.2, inplace=False)\n",
       "    (fc_neigh): Linear(in_features=128, out_features=2, bias=True)\n",
       "  )\n",
       "  (dropout): Dropout(p=0.2, inplace=False)\n",
       ")"
      ]
     },
     "execution_count": 139,
     "metadata": {},
     "output_type": "execute_result"
    },
    {
     "name": "stdout",
     "output_type": "stream",
     "text": [
      "Epoch 162\n"
     ]
    },
    {
     "data": {
      "text/plain": [
       "SAGE(\n",
       "  (conv1): SAGEConv(\n",
       "    (feat_drop): Dropout(p=0.2, inplace=False)\n",
       "    (fc_neigh): Linear(in_features=100, out_features=128, bias=True)\n",
       "  )\n",
       "  (conv2): SAGEConv(\n",
       "    (feat_drop): Dropout(p=0.2, inplace=False)\n",
       "    (fc_neigh): Linear(in_features=128, out_features=2, bias=True)\n",
       "  )\n",
       "  (dropout): Dropout(p=0.2, inplace=False)\n",
       ")"
      ]
     },
     "execution_count": 139,
     "metadata": {},
     "output_type": "execute_result"
    },
    {
     "name": "stdout",
     "output_type": "stream",
     "text": [
      "Epoch 163\n"
     ]
    },
    {
     "data": {
      "text/plain": [
       "SAGE(\n",
       "  (conv1): SAGEConv(\n",
       "    (feat_drop): Dropout(p=0.2, inplace=False)\n",
       "    (fc_neigh): Linear(in_features=100, out_features=128, bias=True)\n",
       "  )\n",
       "  (conv2): SAGEConv(\n",
       "    (feat_drop): Dropout(p=0.2, inplace=False)\n",
       "    (fc_neigh): Linear(in_features=128, out_features=2, bias=True)\n",
       "  )\n",
       "  (dropout): Dropout(p=0.2, inplace=False)\n",
       ")"
      ]
     },
     "execution_count": 139,
     "metadata": {},
     "output_type": "execute_result"
    },
    {
     "name": "stdout",
     "output_type": "stream",
     "text": [
      "Epoch 164\n"
     ]
    },
    {
     "data": {
      "text/plain": [
       "SAGE(\n",
       "  (conv1): SAGEConv(\n",
       "    (feat_drop): Dropout(p=0.2, inplace=False)\n",
       "    (fc_neigh): Linear(in_features=100, out_features=128, bias=True)\n",
       "  )\n",
       "  (conv2): SAGEConv(\n",
       "    (feat_drop): Dropout(p=0.2, inplace=False)\n",
       "    (fc_neigh): Linear(in_features=128, out_features=2, bias=True)\n",
       "  )\n",
       "  (dropout): Dropout(p=0.2, inplace=False)\n",
       ")"
      ]
     },
     "execution_count": 139,
     "metadata": {},
     "output_type": "execute_result"
    },
    {
     "name": "stdout",
     "output_type": "stream",
     "text": [
      "Epoch 165\n"
     ]
    },
    {
     "data": {
      "text/plain": [
       "SAGE(\n",
       "  (conv1): SAGEConv(\n",
       "    (feat_drop): Dropout(p=0.2, inplace=False)\n",
       "    (fc_neigh): Linear(in_features=100, out_features=128, bias=True)\n",
       "  )\n",
       "  (conv2): SAGEConv(\n",
       "    (feat_drop): Dropout(p=0.2, inplace=False)\n",
       "    (fc_neigh): Linear(in_features=128, out_features=2, bias=True)\n",
       "  )\n",
       "  (dropout): Dropout(p=0.2, inplace=False)\n",
       ")"
      ]
     },
     "execution_count": 139,
     "metadata": {},
     "output_type": "execute_result"
    },
    {
     "name": "stdout",
     "output_type": "stream",
     "text": [
      "Epoch 166\n"
     ]
    },
    {
     "data": {
      "text/plain": [
       "SAGE(\n",
       "  (conv1): SAGEConv(\n",
       "    (feat_drop): Dropout(p=0.2, inplace=False)\n",
       "    (fc_neigh): Linear(in_features=100, out_features=128, bias=True)\n",
       "  )\n",
       "  (conv2): SAGEConv(\n",
       "    (feat_drop): Dropout(p=0.2, inplace=False)\n",
       "    (fc_neigh): Linear(in_features=128, out_features=2, bias=True)\n",
       "  )\n",
       "  (dropout): Dropout(p=0.2, inplace=False)\n",
       ")"
      ]
     },
     "execution_count": 139,
     "metadata": {},
     "output_type": "execute_result"
    },
    {
     "name": "stdout",
     "output_type": "stream",
     "text": [
      "Epoch 167\n"
     ]
    },
    {
     "data": {
      "text/plain": [
       "SAGE(\n",
       "  (conv1): SAGEConv(\n",
       "    (feat_drop): Dropout(p=0.2, inplace=False)\n",
       "    (fc_neigh): Linear(in_features=100, out_features=128, bias=True)\n",
       "  )\n",
       "  (conv2): SAGEConv(\n",
       "    (feat_drop): Dropout(p=0.2, inplace=False)\n",
       "    (fc_neigh): Linear(in_features=128, out_features=2, bias=True)\n",
       "  )\n",
       "  (dropout): Dropout(p=0.2, inplace=False)\n",
       ")"
      ]
     },
     "execution_count": 139,
     "metadata": {},
     "output_type": "execute_result"
    },
    {
     "name": "stdout",
     "output_type": "stream",
     "text": [
      "Epoch 168\n"
     ]
    },
    {
     "data": {
      "text/plain": [
       "SAGE(\n",
       "  (conv1): SAGEConv(\n",
       "    (feat_drop): Dropout(p=0.2, inplace=False)\n",
       "    (fc_neigh): Linear(in_features=100, out_features=128, bias=True)\n",
       "  )\n",
       "  (conv2): SAGEConv(\n",
       "    (feat_drop): Dropout(p=0.2, inplace=False)\n",
       "    (fc_neigh): Linear(in_features=128, out_features=2, bias=True)\n",
       "  )\n",
       "  (dropout): Dropout(p=0.2, inplace=False)\n",
       ")"
      ]
     },
     "execution_count": 139,
     "metadata": {},
     "output_type": "execute_result"
    },
    {
     "name": "stdout",
     "output_type": "stream",
     "text": [
      "Epoch 169\n"
     ]
    },
    {
     "data": {
      "text/plain": [
       "SAGE(\n",
       "  (conv1): SAGEConv(\n",
       "    (feat_drop): Dropout(p=0.2, inplace=False)\n",
       "    (fc_neigh): Linear(in_features=100, out_features=128, bias=True)\n",
       "  )\n",
       "  (conv2): SAGEConv(\n",
       "    (feat_drop): Dropout(p=0.2, inplace=False)\n",
       "    (fc_neigh): Linear(in_features=128, out_features=2, bias=True)\n",
       "  )\n",
       "  (dropout): Dropout(p=0.2, inplace=False)\n",
       ")"
      ]
     },
     "execution_count": 139,
     "metadata": {},
     "output_type": "execute_result"
    },
    {
     "name": "stdout",
     "output_type": "stream",
     "text": [
      "Epoch 170\n"
     ]
    },
    {
     "data": {
      "text/plain": [
       "SAGE(\n",
       "  (conv1): SAGEConv(\n",
       "    (feat_drop): Dropout(p=0.2, inplace=False)\n",
       "    (fc_neigh): Linear(in_features=100, out_features=128, bias=True)\n",
       "  )\n",
       "  (conv2): SAGEConv(\n",
       "    (feat_drop): Dropout(p=0.2, inplace=False)\n",
       "    (fc_neigh): Linear(in_features=128, out_features=2, bias=True)\n",
       "  )\n",
       "  (dropout): Dropout(p=0.2, inplace=False)\n",
       ")"
      ]
     },
     "execution_count": 139,
     "metadata": {},
     "output_type": "execute_result"
    },
    {
     "name": "stdout",
     "output_type": "stream",
     "text": [
      "Epoch 171\n"
     ]
    },
    {
     "data": {
      "text/plain": [
       "SAGE(\n",
       "  (conv1): SAGEConv(\n",
       "    (feat_drop): Dropout(p=0.2, inplace=False)\n",
       "    (fc_neigh): Linear(in_features=100, out_features=128, bias=True)\n",
       "  )\n",
       "  (conv2): SAGEConv(\n",
       "    (feat_drop): Dropout(p=0.2, inplace=False)\n",
       "    (fc_neigh): Linear(in_features=128, out_features=2, bias=True)\n",
       "  )\n",
       "  (dropout): Dropout(p=0.2, inplace=False)\n",
       ")"
      ]
     },
     "execution_count": 139,
     "metadata": {},
     "output_type": "execute_result"
    },
    {
     "name": "stdout",
     "output_type": "stream",
     "text": [
      "Epoch 172\n"
     ]
    },
    {
     "data": {
      "text/plain": [
       "SAGE(\n",
       "  (conv1): SAGEConv(\n",
       "    (feat_drop): Dropout(p=0.2, inplace=False)\n",
       "    (fc_neigh): Linear(in_features=100, out_features=128, bias=True)\n",
       "  )\n",
       "  (conv2): SAGEConv(\n",
       "    (feat_drop): Dropout(p=0.2, inplace=False)\n",
       "    (fc_neigh): Linear(in_features=128, out_features=2, bias=True)\n",
       "  )\n",
       "  (dropout): Dropout(p=0.2, inplace=False)\n",
       ")"
      ]
     },
     "execution_count": 139,
     "metadata": {},
     "output_type": "execute_result"
    },
    {
     "name": "stdout",
     "output_type": "stream",
     "text": [
      "Epoch 173\n"
     ]
    },
    {
     "data": {
      "text/plain": [
       "SAGE(\n",
       "  (conv1): SAGEConv(\n",
       "    (feat_drop): Dropout(p=0.2, inplace=False)\n",
       "    (fc_neigh): Linear(in_features=100, out_features=128, bias=True)\n",
       "  )\n",
       "  (conv2): SAGEConv(\n",
       "    (feat_drop): Dropout(p=0.2, inplace=False)\n",
       "    (fc_neigh): Linear(in_features=128, out_features=2, bias=True)\n",
       "  )\n",
       "  (dropout): Dropout(p=0.2, inplace=False)\n",
       ")"
      ]
     },
     "execution_count": 139,
     "metadata": {},
     "output_type": "execute_result"
    },
    {
     "name": "stdout",
     "output_type": "stream",
     "text": [
      "Epoch 174\n"
     ]
    },
    {
     "data": {
      "text/plain": [
       "SAGE(\n",
       "  (conv1): SAGEConv(\n",
       "    (feat_drop): Dropout(p=0.2, inplace=False)\n",
       "    (fc_neigh): Linear(in_features=100, out_features=128, bias=True)\n",
       "  )\n",
       "  (conv2): SAGEConv(\n",
       "    (feat_drop): Dropout(p=0.2, inplace=False)\n",
       "    (fc_neigh): Linear(in_features=128, out_features=2, bias=True)\n",
       "  )\n",
       "  (dropout): Dropout(p=0.2, inplace=False)\n",
       ")"
      ]
     },
     "execution_count": 139,
     "metadata": {},
     "output_type": "execute_result"
    },
    {
     "name": "stdout",
     "output_type": "stream",
     "text": [
      "Epoch 175\n"
     ]
    },
    {
     "data": {
      "text/plain": [
       "SAGE(\n",
       "  (conv1): SAGEConv(\n",
       "    (feat_drop): Dropout(p=0.2, inplace=False)\n",
       "    (fc_neigh): Linear(in_features=100, out_features=128, bias=True)\n",
       "  )\n",
       "  (conv2): SAGEConv(\n",
       "    (feat_drop): Dropout(p=0.2, inplace=False)\n",
       "    (fc_neigh): Linear(in_features=128, out_features=2, bias=True)\n",
       "  )\n",
       "  (dropout): Dropout(p=0.2, inplace=False)\n",
       ")"
      ]
     },
     "execution_count": 139,
     "metadata": {},
     "output_type": "execute_result"
    },
    {
     "name": "stdout",
     "output_type": "stream",
     "text": [
      "Epoch 176\n"
     ]
    },
    {
     "data": {
      "text/plain": [
       "SAGE(\n",
       "  (conv1): SAGEConv(\n",
       "    (feat_drop): Dropout(p=0.2, inplace=False)\n",
       "    (fc_neigh): Linear(in_features=100, out_features=128, bias=True)\n",
       "  )\n",
       "  (conv2): SAGEConv(\n",
       "    (feat_drop): Dropout(p=0.2, inplace=False)\n",
       "    (fc_neigh): Linear(in_features=128, out_features=2, bias=True)\n",
       "  )\n",
       "  (dropout): Dropout(p=0.2, inplace=False)\n",
       ")"
      ]
     },
     "execution_count": 139,
     "metadata": {},
     "output_type": "execute_result"
    },
    {
     "name": "stdout",
     "output_type": "stream",
     "text": [
      "Epoch 177\n"
     ]
    },
    {
     "data": {
      "text/plain": [
       "SAGE(\n",
       "  (conv1): SAGEConv(\n",
       "    (feat_drop): Dropout(p=0.2, inplace=False)\n",
       "    (fc_neigh): Linear(in_features=100, out_features=128, bias=True)\n",
       "  )\n",
       "  (conv2): SAGEConv(\n",
       "    (feat_drop): Dropout(p=0.2, inplace=False)\n",
       "    (fc_neigh): Linear(in_features=128, out_features=2, bias=True)\n",
       "  )\n",
       "  (dropout): Dropout(p=0.2, inplace=False)\n",
       ")"
      ]
     },
     "execution_count": 139,
     "metadata": {},
     "output_type": "execute_result"
    },
    {
     "name": "stdout",
     "output_type": "stream",
     "text": [
      "Epoch 178\n"
     ]
    },
    {
     "data": {
      "text/plain": [
       "SAGE(\n",
       "  (conv1): SAGEConv(\n",
       "    (feat_drop): Dropout(p=0.2, inplace=False)\n",
       "    (fc_neigh): Linear(in_features=100, out_features=128, bias=True)\n",
       "  )\n",
       "  (conv2): SAGEConv(\n",
       "    (feat_drop): Dropout(p=0.2, inplace=False)\n",
       "    (fc_neigh): Linear(in_features=128, out_features=2, bias=True)\n",
       "  )\n",
       "  (dropout): Dropout(p=0.2, inplace=False)\n",
       ")"
      ]
     },
     "execution_count": 139,
     "metadata": {},
     "output_type": "execute_result"
    },
    {
     "name": "stdout",
     "output_type": "stream",
     "text": [
      "Epoch 179\n"
     ]
    },
    {
     "data": {
      "text/plain": [
       "SAGE(\n",
       "  (conv1): SAGEConv(\n",
       "    (feat_drop): Dropout(p=0.2, inplace=False)\n",
       "    (fc_neigh): Linear(in_features=100, out_features=128, bias=True)\n",
       "  )\n",
       "  (conv2): SAGEConv(\n",
       "    (feat_drop): Dropout(p=0.2, inplace=False)\n",
       "    (fc_neigh): Linear(in_features=128, out_features=2, bias=True)\n",
       "  )\n",
       "  (dropout): Dropout(p=0.2, inplace=False)\n",
       ")"
      ]
     },
     "execution_count": 139,
     "metadata": {},
     "output_type": "execute_result"
    },
    {
     "name": "stdout",
     "output_type": "stream",
     "text": [
      "Epoch 180\n"
     ]
    },
    {
     "data": {
      "text/plain": [
       "SAGE(\n",
       "  (conv1): SAGEConv(\n",
       "    (feat_drop): Dropout(p=0.2, inplace=False)\n",
       "    (fc_neigh): Linear(in_features=100, out_features=128, bias=True)\n",
       "  )\n",
       "  (conv2): SAGEConv(\n",
       "    (feat_drop): Dropout(p=0.2, inplace=False)\n",
       "    (fc_neigh): Linear(in_features=128, out_features=2, bias=True)\n",
       "  )\n",
       "  (dropout): Dropout(p=0.2, inplace=False)\n",
       ")"
      ]
     },
     "execution_count": 139,
     "metadata": {},
     "output_type": "execute_result"
    },
    {
     "name": "stdout",
     "output_type": "stream",
     "text": [
      "Epoch 181\n"
     ]
    },
    {
     "data": {
      "text/plain": [
       "SAGE(\n",
       "  (conv1): SAGEConv(\n",
       "    (feat_drop): Dropout(p=0.2, inplace=False)\n",
       "    (fc_neigh): Linear(in_features=100, out_features=128, bias=True)\n",
       "  )\n",
       "  (conv2): SAGEConv(\n",
       "    (feat_drop): Dropout(p=0.2, inplace=False)\n",
       "    (fc_neigh): Linear(in_features=128, out_features=2, bias=True)\n",
       "  )\n",
       "  (dropout): Dropout(p=0.2, inplace=False)\n",
       ")"
      ]
     },
     "execution_count": 139,
     "metadata": {},
     "output_type": "execute_result"
    },
    {
     "name": "stdout",
     "output_type": "stream",
     "text": [
      "Epoch 182\n"
     ]
    },
    {
     "data": {
      "text/plain": [
       "SAGE(\n",
       "  (conv1): SAGEConv(\n",
       "    (feat_drop): Dropout(p=0.2, inplace=False)\n",
       "    (fc_neigh): Linear(in_features=100, out_features=128, bias=True)\n",
       "  )\n",
       "  (conv2): SAGEConv(\n",
       "    (feat_drop): Dropout(p=0.2, inplace=False)\n",
       "    (fc_neigh): Linear(in_features=128, out_features=2, bias=True)\n",
       "  )\n",
       "  (dropout): Dropout(p=0.2, inplace=False)\n",
       ")"
      ]
     },
     "execution_count": 139,
     "metadata": {},
     "output_type": "execute_result"
    },
    {
     "name": "stdout",
     "output_type": "stream",
     "text": [
      "Epoch 183\n"
     ]
    },
    {
     "data": {
      "text/plain": [
       "SAGE(\n",
       "  (conv1): SAGEConv(\n",
       "    (feat_drop): Dropout(p=0.2, inplace=False)\n",
       "    (fc_neigh): Linear(in_features=100, out_features=128, bias=True)\n",
       "  )\n",
       "  (conv2): SAGEConv(\n",
       "    (feat_drop): Dropout(p=0.2, inplace=False)\n",
       "    (fc_neigh): Linear(in_features=128, out_features=2, bias=True)\n",
       "  )\n",
       "  (dropout): Dropout(p=0.2, inplace=False)\n",
       ")"
      ]
     },
     "execution_count": 139,
     "metadata": {},
     "output_type": "execute_result"
    },
    {
     "name": "stdout",
     "output_type": "stream",
     "text": [
      "Epoch 184\n"
     ]
    },
    {
     "data": {
      "text/plain": [
       "SAGE(\n",
       "  (conv1): SAGEConv(\n",
       "    (feat_drop): Dropout(p=0.2, inplace=False)\n",
       "    (fc_neigh): Linear(in_features=100, out_features=128, bias=True)\n",
       "  )\n",
       "  (conv2): SAGEConv(\n",
       "    (feat_drop): Dropout(p=0.2, inplace=False)\n",
       "    (fc_neigh): Linear(in_features=128, out_features=2, bias=True)\n",
       "  )\n",
       "  (dropout): Dropout(p=0.2, inplace=False)\n",
       ")"
      ]
     },
     "execution_count": 139,
     "metadata": {},
     "output_type": "execute_result"
    },
    {
     "name": "stdout",
     "output_type": "stream",
     "text": [
      "Epoch 185\n"
     ]
    },
    {
     "data": {
      "text/plain": [
       "SAGE(\n",
       "  (conv1): SAGEConv(\n",
       "    (feat_drop): Dropout(p=0.2, inplace=False)\n",
       "    (fc_neigh): Linear(in_features=100, out_features=128, bias=True)\n",
       "  )\n",
       "  (conv2): SAGEConv(\n",
       "    (feat_drop): Dropout(p=0.2, inplace=False)\n",
       "    (fc_neigh): Linear(in_features=128, out_features=2, bias=True)\n",
       "  )\n",
       "  (dropout): Dropout(p=0.2, inplace=False)\n",
       ")"
      ]
     },
     "execution_count": 139,
     "metadata": {},
     "output_type": "execute_result"
    },
    {
     "name": "stdout",
     "output_type": "stream",
     "text": [
      "Epoch 186\n"
     ]
    },
    {
     "data": {
      "text/plain": [
       "SAGE(\n",
       "  (conv1): SAGEConv(\n",
       "    (feat_drop): Dropout(p=0.2, inplace=False)\n",
       "    (fc_neigh): Linear(in_features=100, out_features=128, bias=True)\n",
       "  )\n",
       "  (conv2): SAGEConv(\n",
       "    (feat_drop): Dropout(p=0.2, inplace=False)\n",
       "    (fc_neigh): Linear(in_features=128, out_features=2, bias=True)\n",
       "  )\n",
       "  (dropout): Dropout(p=0.2, inplace=False)\n",
       ")"
      ]
     },
     "execution_count": 139,
     "metadata": {},
     "output_type": "execute_result"
    },
    {
     "name": "stdout",
     "output_type": "stream",
     "text": [
      "Epoch 187\n"
     ]
    },
    {
     "data": {
      "text/plain": [
       "SAGE(\n",
       "  (conv1): SAGEConv(\n",
       "    (feat_drop): Dropout(p=0.2, inplace=False)\n",
       "    (fc_neigh): Linear(in_features=100, out_features=128, bias=True)\n",
       "  )\n",
       "  (conv2): SAGEConv(\n",
       "    (feat_drop): Dropout(p=0.2, inplace=False)\n",
       "    (fc_neigh): Linear(in_features=128, out_features=2, bias=True)\n",
       "  )\n",
       "  (dropout): Dropout(p=0.2, inplace=False)\n",
       ")"
      ]
     },
     "execution_count": 139,
     "metadata": {},
     "output_type": "execute_result"
    },
    {
     "name": "stdout",
     "output_type": "stream",
     "text": [
      "Epoch 188\n"
     ]
    },
    {
     "data": {
      "text/plain": [
       "SAGE(\n",
       "  (conv1): SAGEConv(\n",
       "    (feat_drop): Dropout(p=0.2, inplace=False)\n",
       "    (fc_neigh): Linear(in_features=100, out_features=128, bias=True)\n",
       "  )\n",
       "  (conv2): SAGEConv(\n",
       "    (feat_drop): Dropout(p=0.2, inplace=False)\n",
       "    (fc_neigh): Linear(in_features=128, out_features=2, bias=True)\n",
       "  )\n",
       "  (dropout): Dropout(p=0.2, inplace=False)\n",
       ")"
      ]
     },
     "execution_count": 139,
     "metadata": {},
     "output_type": "execute_result"
    },
    {
     "name": "stdout",
     "output_type": "stream",
     "text": [
      "Epoch 189\n"
     ]
    },
    {
     "data": {
      "text/plain": [
       "SAGE(\n",
       "  (conv1): SAGEConv(\n",
       "    (feat_drop): Dropout(p=0.2, inplace=False)\n",
       "    (fc_neigh): Linear(in_features=100, out_features=128, bias=True)\n",
       "  )\n",
       "  (conv2): SAGEConv(\n",
       "    (feat_drop): Dropout(p=0.2, inplace=False)\n",
       "    (fc_neigh): Linear(in_features=128, out_features=2, bias=True)\n",
       "  )\n",
       "  (dropout): Dropout(p=0.2, inplace=False)\n",
       ")"
      ]
     },
     "execution_count": 139,
     "metadata": {},
     "output_type": "execute_result"
    },
    {
     "name": "stdout",
     "output_type": "stream",
     "text": [
      "Epoch 190\n"
     ]
    },
    {
     "data": {
      "text/plain": [
       "SAGE(\n",
       "  (conv1): SAGEConv(\n",
       "    (feat_drop): Dropout(p=0.2, inplace=False)\n",
       "    (fc_neigh): Linear(in_features=100, out_features=128, bias=True)\n",
       "  )\n",
       "  (conv2): SAGEConv(\n",
       "    (feat_drop): Dropout(p=0.2, inplace=False)\n",
       "    (fc_neigh): Linear(in_features=128, out_features=2, bias=True)\n",
       "  )\n",
       "  (dropout): Dropout(p=0.2, inplace=False)\n",
       ")"
      ]
     },
     "execution_count": 139,
     "metadata": {},
     "output_type": "execute_result"
    },
    {
     "name": "stdout",
     "output_type": "stream",
     "text": [
      "Epoch 191\n"
     ]
    },
    {
     "data": {
      "text/plain": [
       "SAGE(\n",
       "  (conv1): SAGEConv(\n",
       "    (feat_drop): Dropout(p=0.2, inplace=False)\n",
       "    (fc_neigh): Linear(in_features=100, out_features=128, bias=True)\n",
       "  )\n",
       "  (conv2): SAGEConv(\n",
       "    (feat_drop): Dropout(p=0.2, inplace=False)\n",
       "    (fc_neigh): Linear(in_features=128, out_features=2, bias=True)\n",
       "  )\n",
       "  (dropout): Dropout(p=0.2, inplace=False)\n",
       ")"
      ]
     },
     "execution_count": 139,
     "metadata": {},
     "output_type": "execute_result"
    },
    {
     "name": "stdout",
     "output_type": "stream",
     "text": [
      "Epoch 192\n"
     ]
    },
    {
     "data": {
      "text/plain": [
       "SAGE(\n",
       "  (conv1): SAGEConv(\n",
       "    (feat_drop): Dropout(p=0.2, inplace=False)\n",
       "    (fc_neigh): Linear(in_features=100, out_features=128, bias=True)\n",
       "  )\n",
       "  (conv2): SAGEConv(\n",
       "    (feat_drop): Dropout(p=0.2, inplace=False)\n",
       "    (fc_neigh): Linear(in_features=128, out_features=2, bias=True)\n",
       "  )\n",
       "  (dropout): Dropout(p=0.2, inplace=False)\n",
       ")"
      ]
     },
     "execution_count": 139,
     "metadata": {},
     "output_type": "execute_result"
    },
    {
     "name": "stdout",
     "output_type": "stream",
     "text": [
      "Epoch 193\n"
     ]
    },
    {
     "data": {
      "text/plain": [
       "SAGE(\n",
       "  (conv1): SAGEConv(\n",
       "    (feat_drop): Dropout(p=0.2, inplace=False)\n",
       "    (fc_neigh): Linear(in_features=100, out_features=128, bias=True)\n",
       "  )\n",
       "  (conv2): SAGEConv(\n",
       "    (feat_drop): Dropout(p=0.2, inplace=False)\n",
       "    (fc_neigh): Linear(in_features=128, out_features=2, bias=True)\n",
       "  )\n",
       "  (dropout): Dropout(p=0.2, inplace=False)\n",
       ")"
      ]
     },
     "execution_count": 139,
     "metadata": {},
     "output_type": "execute_result"
    },
    {
     "name": "stdout",
     "output_type": "stream",
     "text": [
      "Epoch 194\n"
     ]
    },
    {
     "data": {
      "text/plain": [
       "SAGE(\n",
       "  (conv1): SAGEConv(\n",
       "    (feat_drop): Dropout(p=0.2, inplace=False)\n",
       "    (fc_neigh): Linear(in_features=100, out_features=128, bias=True)\n",
       "  )\n",
       "  (conv2): SAGEConv(\n",
       "    (feat_drop): Dropout(p=0.2, inplace=False)\n",
       "    (fc_neigh): Linear(in_features=128, out_features=2, bias=True)\n",
       "  )\n",
       "  (dropout): Dropout(p=0.2, inplace=False)\n",
       ")"
      ]
     },
     "execution_count": 139,
     "metadata": {},
     "output_type": "execute_result"
    },
    {
     "name": "stdout",
     "output_type": "stream",
     "text": [
      "Epoch 195\n"
     ]
    },
    {
     "data": {
      "text/plain": [
       "SAGE(\n",
       "  (conv1): SAGEConv(\n",
       "    (feat_drop): Dropout(p=0.2, inplace=False)\n",
       "    (fc_neigh): Linear(in_features=100, out_features=128, bias=True)\n",
       "  )\n",
       "  (conv2): SAGEConv(\n",
       "    (feat_drop): Dropout(p=0.2, inplace=False)\n",
       "    (fc_neigh): Linear(in_features=128, out_features=2, bias=True)\n",
       "  )\n",
       "  (dropout): Dropout(p=0.2, inplace=False)\n",
       ")"
      ]
     },
     "execution_count": 139,
     "metadata": {},
     "output_type": "execute_result"
    },
    {
     "name": "stdout",
     "output_type": "stream",
     "text": [
      "Epoch 196\n"
     ]
    },
    {
     "data": {
      "text/plain": [
       "SAGE(\n",
       "  (conv1): SAGEConv(\n",
       "    (feat_drop): Dropout(p=0.2, inplace=False)\n",
       "    (fc_neigh): Linear(in_features=100, out_features=128, bias=True)\n",
       "  )\n",
       "  (conv2): SAGEConv(\n",
       "    (feat_drop): Dropout(p=0.2, inplace=False)\n",
       "    (fc_neigh): Linear(in_features=128, out_features=2, bias=True)\n",
       "  )\n",
       "  (dropout): Dropout(p=0.2, inplace=False)\n",
       ")"
      ]
     },
     "execution_count": 139,
     "metadata": {},
     "output_type": "execute_result"
    },
    {
     "name": "stdout",
     "output_type": "stream",
     "text": [
      "Epoch 197\n"
     ]
    },
    {
     "data": {
      "text/plain": [
       "SAGE(\n",
       "  (conv1): SAGEConv(\n",
       "    (feat_drop): Dropout(p=0.2, inplace=False)\n",
       "    (fc_neigh): Linear(in_features=100, out_features=128, bias=True)\n",
       "  )\n",
       "  (conv2): SAGEConv(\n",
       "    (feat_drop): Dropout(p=0.2, inplace=False)\n",
       "    (fc_neigh): Linear(in_features=128, out_features=2, bias=True)\n",
       "  )\n",
       "  (dropout): Dropout(p=0.2, inplace=False)\n",
       ")"
      ]
     },
     "execution_count": 139,
     "metadata": {},
     "output_type": "execute_result"
    },
    {
     "name": "stdout",
     "output_type": "stream",
     "text": [
      "Epoch 198\n"
     ]
    },
    {
     "data": {
      "text/plain": [
       "SAGE(\n",
       "  (conv1): SAGEConv(\n",
       "    (feat_drop): Dropout(p=0.2, inplace=False)\n",
       "    (fc_neigh): Linear(in_features=100, out_features=128, bias=True)\n",
       "  )\n",
       "  (conv2): SAGEConv(\n",
       "    (feat_drop): Dropout(p=0.2, inplace=False)\n",
       "    (fc_neigh): Linear(in_features=128, out_features=2, bias=True)\n",
       "  )\n",
       "  (dropout): Dropout(p=0.2, inplace=False)\n",
       ")"
      ]
     },
     "execution_count": 139,
     "metadata": {},
     "output_type": "execute_result"
    },
    {
     "name": "stdout",
     "output_type": "stream",
     "text": [
      "Epoch 199\n"
     ]
    },
    {
     "data": {
      "text/plain": [
       "SAGE(\n",
       "  (conv1): SAGEConv(\n",
       "    (feat_drop): Dropout(p=0.2, inplace=False)\n",
       "    (fc_neigh): Linear(in_features=100, out_features=128, bias=True)\n",
       "  )\n",
       "  (conv2): SAGEConv(\n",
       "    (feat_drop): Dropout(p=0.2, inplace=False)\n",
       "    (fc_neigh): Linear(in_features=128, out_features=2, bias=True)\n",
       "  )\n",
       "  (dropout): Dropout(p=0.2, inplace=False)\n",
       ")"
      ]
     },
     "execution_count": 139,
     "metadata": {},
     "output_type": "execute_result"
    }
   ],
   "source": [
    "best_val_acc = 0\n",
    "Loss_train=[]\n",
    "Loss_validation=[]\n",
    "Loss_test=[]\n",
    "Acc_validation=[]\n",
    "Acc_test=[]\n",
    "f1_test=[]\n",
    "f1_validation=[]\n",
    "for epoch in range(200): \n",
    "    print('Epoch {}'.format(epoch))\n",
    "    model.train()\n",
    "    # forward function\n",
    "    logits = model(bg, node_features)\n",
    "    # loss\n",
    "    loss = F.cross_entropy(logits[train_mask], node_labels[train_mask])\n",
    "    Loss_train.append(loss.item())\n",
    "    \n",
    "    loss1 = F.cross_entropy(logits[valid_mask], node_labels[valid_mask])\n",
    "    Loss_validation.append(loss1.item())\n",
    "    f1=f1Score(logits[valid_mask],node_labels[valid_mask])\n",
    "    f1_validation.append(f1)\n",
    "      \n",
    "    loss2 = F.cross_entropy(logits[test_mask], node_labels[test_mask])\n",
    "    Loss_test.append(loss2.item())\n",
    "    f11=f1Score(logits[test_mask],node_labels[test_mask])\n",
    "    f1_test.append(f11)\n",
    "    \n",
    "    # validation accuracy\n",
    "    acc = evaluate(model, bg, node_features, node_labels, valid_mask)\n",
    "    Acc_validation.append(acc)\n",
    "    \n",
    "    acc1 = evaluate(model, bg, node_features, node_labels, test_mask)\n",
    "    Acc_test.append(acc)\n",
    "    \n",
    "    # backward propagation\n",
    "    opt.zero_grad()\n",
    "    loss.backward()\n",
    "    opt.step()\n",
    "    \n",
    " #   print('loss = {:.4f}'.format(loss.item()))\n",
    " #   if acc > best_val_acc:\n",
    " #       best_val_acc = acc\n",
    "    #    torch.save(model.state_dict(), 'save_model/best_model.pth')\n",
    " #   print(\"current val acc = {}, best val acc = {}\".format(acc, best_val_acc))\n"
   ]
  },
  {
   "cell_type": "code",
   "execution_count": 101,
   "metadata": {},
   "outputs": [
    {
     "data": {
      "text/plain": [
       "tensor([[ 1.1996, -1.8609],\n",
       "        [ 0.8141, -1.6029],\n",
       "        [ 0.5613, -1.4361],\n",
       "        ...,\n",
       "        [-0.2614, -1.2281],\n",
       "        [-2.2692,  1.9800],\n",
       "        [-0.8090, -0.0442]], grad_fn=<IndexBackward>)"
      ]
     },
     "execution_count": 101,
     "metadata": {},
     "output_type": "execute_result"
    },
    {
     "data": {
      "text/plain": [
       "torch.Size([1100])"
      ]
     },
     "execution_count": 101,
     "metadata": {},
     "output_type": "execute_result"
    },
    {
     "data": {
      "text/plain": [
       "tensor([[0.9552, 0.0448],\n",
       "        [0.9181, 0.0819],\n",
       "        [0.8805, 0.1195],\n",
       "        ...,\n",
       "        [0.7245, 0.2755],\n",
       "        [0.0141, 0.9859],\n",
       "        [0.3176, 0.6824]], grad_fn=<SoftmaxBackward>)"
      ]
     },
     "execution_count": 101,
     "metadata": {},
     "output_type": "execute_result"
    },
    {
     "data": {
      "text/plain": [
       "tensor([0.9552, 0.0448], grad_fn=<SelectBackward>)"
      ]
     },
     "execution_count": 101,
     "metadata": {},
     "output_type": "execute_result"
    },
    {
     "data": {
      "text/plain": [
       "tensor(True)"
      ]
     },
     "execution_count": 101,
     "metadata": {},
     "output_type": "execute_result"
    },
    {
     "data": {
      "text/plain": [
       "1100"
      ]
     },
     "execution_count": 101,
     "metadata": {},
     "output_type": "execute_result"
    },
    {
     "data": {
      "text/plain": [
       "tensor([0, 0, 0,  ..., 1, 1, 1])"
      ]
     },
     "execution_count": 101,
     "metadata": {},
     "output_type": "execute_result"
    }
   ],
   "source": [
    "T1\n",
    "T2.size()\n",
    "T3=F.softmax(T1,dim=1)\n",
    "T3\n",
    "T3[0]\n",
    "T3[0][0]>T3[0][1]  \n",
    "len(T3)\n",
    "node_labels[valid_mask]"
   ]
  },
  {
   "cell_type": "code",
   "execution_count": 102,
   "metadata": {},
   "outputs": [],
   "source": [
    "\n",
    "    "
   ]
  },
  {
   "cell_type": "code",
   "execution_count": 90,
   "metadata": {},
   "outputs": [],
   "source": [
    "import matplotlib.pyplot as plt"
   ]
  },
  {
   "cell_type": "code",
   "execution_count": 143,
   "metadata": {
    "scrolled": true
   },
   "outputs": [
    {
     "data": {
      "text/plain": [
       "[<matplotlib.lines.Line2D at 0x7fca0ae55cf8>]"
      ]
     },
     "execution_count": 143,
     "metadata": {},
     "output_type": "execute_result"
    },
    {
     "data": {
      "text/plain": [
       "[<matplotlib.lines.Line2D at 0x7fca0afde240>]"
      ]
     },
     "execution_count": 143,
     "metadata": {},
     "output_type": "execute_result"
    },
    {
     "data": {
      "text/plain": [
       "[<matplotlib.lines.Line2D at 0x7fca0ae63080>]"
      ]
     },
     "execution_count": 143,
     "metadata": {},
     "output_type": "execute_result"
    },
    {
     "data": {
      "text/plain": [
       "[<matplotlib.lines.Line2D at 0x7fca0aea8588>]"
      ]
     },
     "execution_count": 143,
     "metadata": {},
     "output_type": "execute_result"
    },
    {
     "data": {
      "text/plain": [
       "[<matplotlib.lines.Line2D at 0x7fca0ae634e0>]"
      ]
     },
     "execution_count": 143,
     "metadata": {},
     "output_type": "execute_result"
    },
    {
     "data": {
      "text/plain": [
       "<matplotlib.legend.Legend at 0x7fca0ae637f0>"
      ]
     },
     "execution_count": 143,
     "metadata": {},
     "output_type": "execute_result"
    },
    {
     "data": {
      "image/png": "[encoded data removed]",
      "text/plain": [
       "<Figure size 432x288 with 1 Axes>"
      ]
     },
     "metadata": {
      "needs_background": "light"
     },
     "output_type": "display_data"
    }
   ],
   "source": [
    "x=list(range(0,200))\n",
    "plt.plot(x,Loss_validation,label='validation_loss')\n",
    "plt.plot(x,Loss_test,label='test_loss')\n",
    "plt.plot(x,Loss_train,label='train_loss')\n",
    "\n",
    "plt.plot(x,f1_test,label='validation_f1')\n",
    "plt.plot(x,f1_validation,label='test_f1')\n",
    "\n",
    "plt.legend()\n",
    "plt.show()"
   ]
  },
  {
   "cell_type": "code",
   "execution_count": 142,
   "metadata": {},
   "outputs": [
    {
     "data": {
      "text/plain": [
       "[0.8809090909090909]"
      ]
     },
     "execution_count": 142,
     "metadata": {},
     "output_type": "execute_result"
    },
    {
     "data": {
      "text/plain": [
       "[0.3359028100967407]"
      ]
     },
     "execution_count": 142,
     "metadata": {},
     "output_type": "execute_result"
    },
    {
     "data": {
      "text/plain": [
       "[0.3481695353984833]"
      ]
     },
     "execution_count": 142,
     "metadata": {},
     "output_type": "execute_result"
    },
    {
     "data": {
      "text/plain": [
       "[0.8809090909090909]"
      ]
     },
     "execution_count": 142,
     "metadata": {},
     "output_type": "execute_result"
    },
    {
     "data": {
      "text/plain": [
       "[0.8619999999999999]"
      ]
     },
     "execution_count": 142,
     "metadata": {},
     "output_type": "execute_result"
    },
    {
     "data": {
      "text/plain": [
       "[0.8709090909090909]"
      ]
     },
     "execution_count": 142,
     "metadata": {},
     "output_type": "execute_result"
    }
   ],
   "source": [
    "Acc_test[-1:]\n",
    "Loss_validation[-1:]\n",
    "Loss_test[-1:]\n",
    "Acc_validation[-1:]\n",
    "f1_test[-1:]\n",
    "f1_validation[-1:]"
   ]
  },
  {
   "cell_type": "code",
   "execution_count": 198,
   "metadata": {},
   "outputs": [
    {
     "data": {
      "text/plain": [
       "Counter({0: 2552, 1: 325})"
      ]
     },
     "execution_count": 198,
     "metadata": {},
     "output_type": "execute_result"
    }
   ],
   "source": [
    "Counter(a.label)"
   ]
  },
  {
   "cell_type": "code",
   "execution_count": 199,
   "metadata": {},
   "outputs": [
    {
     "data": {
      "text/plain": [
       "Counter({0: 2552, 1: 1041})"
      ]
     },
     "execution_count": 199,
     "metadata": {},
     "output_type": "execute_result"
    }
   ],
   "source": [
    "Counter(label)"
   ]
  },
  {
   "cell_type": "code",
   "execution_count": 201,
   "metadata": {},
   "outputs": [
    {
     "data": {
      "text/plain": [
       "3593"
      ]
     },
     "execution_count": 201,
     "metadata": {},
     "output_type": "execute_result"
    }
   ],
   "source": [
    "len(label)"
   ]
  },
  {
   "cell_type": "code",
   "execution_count": null,
   "metadata": {},
   "outputs": [],
   "source": []
  },
  {
   "cell_type": "code",
   "execution_count": 205,
   "metadata": {},
   "outputs": [],
   "source": [
    "dflabel=pd.DataFrame(a.label)"
   ]
  },
  {
   "cell_type": "code",
   "execution_count": 206,
   "metadata": {},
   "outputs": [
    {
     "data": {
      "text/plain": [
       "2877"
      ]
     },
     "execution_count": 206,
     "metadata": {},
     "output_type": "execute_result"
    }
   ],
   "source": [
    "len(dflabel)"
   ]
  },
  {
   "cell_type": "code",
   "execution_count": null,
   "metadata": {},
   "outputs": [],
   "source": []
  }
 ],
 "metadata": {
  "kernelspec": {
   "display_name": "conda_pytorch_latest_p36",
   "language": "python",
   "name": "conda_pytorch_latest_p36"
  },
  "language_info": {
   "codemirror_mode": {
    "name": "ipython",
    "version": 3
   },
   "file_extension": ".py",
   "mimetype": "text/x-python",
   "name": "python",
   "nbconvert_exporter": "python",
   "pygments_lexer": "ipython3",
   "version": "3.6.10"
  }
 },
 "nbformat": 4,
 "nbformat_minor": 4
}
