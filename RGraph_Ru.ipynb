{
 "cells": [
  {
   "cell_type": "code",
   "execution_count": 18,
   "metadata": {},
   "outputs": [
    {
     "name": "stderr",
     "output_type": "stream",
     "text": [
      "Updating HTML index of packages in '.Library'\n",
      "Making 'packages.html' ... done\n"
     ]
    }
   ],
   "source": [
    "install.packages('networkD3')"
   ]
  },
  {
   "cell_type": "code",
   "execution_count": 26,
   "metadata": {},
   "outputs": [],
   "source": [
    "dfLinks = read.csv('shortVer_rumor4.csv', header=TRUE)\n",
    "dfNodes = read.csv('shortVer4.csv', header=TRUE)"
   ]
  },
  {
   "cell_type": "code",
   "execution_count": 27,
   "metadata": {},
   "outputs": [
    {
     "data": {
      "text/html": [
       "<table>\n",
       "<caption>A data.frame: 1 × 14</caption>\n",
       "<thead>\n",
       "\t<tr><th></th><th scope=col>X</th><th scope=col>vertices</th><th scope=col>neg</th><th scope=col>ne</th><th scope=col>po</th><th scope=col>m</th><th scope=col>rumor</th><th scope=col>not_rumor</th><th scope=col>v1</th><th scope=col>v2</th><th scope=col>max</th><th scope=col>max_label</th><th scope=col>key1</th><th scope=col>key2</th></tr>\n",
       "\t<tr><th></th><th scope=col>&lt;int&gt;</th><th scope=col>&lt;fct&gt;</th><th scope=col>&lt;dbl&gt;</th><th scope=col>&lt;dbl&gt;</th><th scope=col>&lt;dbl&gt;</th><th scope=col>&lt;dbl&gt;</th><th scope=col>&lt;dbl&gt;</th><th scope=col>&lt;dbl&gt;</th><th scope=col>&lt;fct&gt;</th><th scope=col>&lt;fct&gt;</th><th scope=col>&lt;dbl&gt;</th><th scope=col>&lt;dbl&gt;</th><th scope=col>&lt;int&gt;</th><th scope=col>&lt;int&gt;</th></tr>\n",
       "</thead>\n",
       "<tbody>\n",
       "\t<tr><th scope=row>1</th><td>0</td><td>('#new', '#gop')</td><td>1</td><td>7</td><td>0</td><td>0</td><td>0</td><td>8</td><td>#new</td><td>#gop</td><td>7</td><td>1</td><td>205</td><td>283</td></tr>\n",
       "</tbody>\n",
       "</table>\n"
      ],
      "text/latex": [
       "A data.frame: 1 × 14\n",
       "\\begin{tabular}{r|llllllllllllll}\n",
       "  & X & vertices & neg & ne & po & m & rumor & not\\_rumor & v1 & v2 & max & max\\_label & key1 & key2\\\\\n",
       "  & <int> & <fct> & <dbl> & <dbl> & <dbl> & <dbl> & <dbl> & <dbl> & <fct> & <fct> & <dbl> & <dbl> & <int> & <int>\\\\\n",
       "\\hline\n",
       "\t1 & 0 & ('\\#new', '\\#gop') & 1 & 7 & 0 & 0 & 0 & 8 & \\#new & \\#gop & 7 & 1 & 205 & 283\\\\\n",
       "\\end{tabular}\n"
      ],
      "text/markdown": [
       "\n",
       "A data.frame: 1 × 14\n",
       "\n",
       "| <!--/--> | X &lt;int&gt; | vertices &lt;fct&gt; | neg &lt;dbl&gt; | ne &lt;dbl&gt; | po &lt;dbl&gt; | m &lt;dbl&gt; | rumor &lt;dbl&gt; | not_rumor &lt;dbl&gt; | v1 &lt;fct&gt; | v2 &lt;fct&gt; | max &lt;dbl&gt; | max_label &lt;dbl&gt; | key1 &lt;int&gt; | key2 &lt;int&gt; |\n",
       "|---|---|---|---|---|---|---|---|---|---|---|---|---|---|---|\n",
       "| 1 | 0 | ('#new', '#gop') | 1 | 7 | 0 | 0 | 0 | 8 | #new | #gop | 7 | 1 | 205 | 283 |\n",
       "\n"
      ],
      "text/plain": [
       "  X vertices         neg ne po m rumor not_rumor v1   v2   max max_label key1\n",
       "1 0 ('#new', '#gop') 1   7  0  0 0     8         #new #gop 7   1         205 \n",
       "  key2\n",
       "1 283 "
      ]
     },
     "metadata": {},
     "output_type": "display_data"
    },
    {
     "data": {
      "text/html": [
       "<table>\n",
       "<caption>A data.frame: 1 × 4</caption>\n",
       "<thead>\n",
       "\t<tr><th></th><th scope=col>X</th><th scope=col>key</th><th scope=col>len</th><th scope=col>tag</th></tr>\n",
       "\t<tr><th></th><th scope=col>&lt;int&gt;</th><th scope=col>&lt;fct&gt;</th><th scope=col>&lt;int&gt;</th><th scope=col>&lt;int&gt;</th></tr>\n",
       "</thead>\n",
       "<tbody>\n",
       "\t<tr><th scope=row>1</th><td>0</td><td>#nyt</td><td>3</td><td>0</td></tr>\n",
       "</tbody>\n",
       "</table>\n"
      ],
      "text/latex": [
       "A data.frame: 1 × 4\n",
       "\\begin{tabular}{r|llll}\n",
       "  & X & key & len & tag\\\\\n",
       "  & <int> & <fct> & <int> & <int>\\\\\n",
       "\\hline\n",
       "\t1 & 0 & \\#nyt & 3 & 0\\\\\n",
       "\\end{tabular}\n"
      ],
      "text/markdown": [
       "\n",
       "A data.frame: 1 × 4\n",
       "\n",
       "| <!--/--> | X &lt;int&gt; | key &lt;fct&gt; | len &lt;int&gt; | tag &lt;int&gt; |\n",
       "|---|---|---|---|---|\n",
       "| 1 | 0 | #nyt | 3 | 0 |\n",
       "\n"
      ],
      "text/plain": [
       "  X key  len tag\n",
       "1 0 #nyt 3   0  "
      ]
     },
     "metadata": {},
     "output_type": "display_data"
    }
   ],
   "source": [
    "head(dfLinks,n=1)\n",
    "head(dfNodes,n=1)"
   ]
  },
  {
   "cell_type": "code",
   "execution_count": 28,
   "metadata": {},
   "outputs": [
    {
     "name": "stderr",
     "output_type": "stream",
     "text": [
      "Warning message:\n",
      "“It looks like Source/Target is not zero-indexed. This is required in JavaScript and so your plot may not render.”"
     ]
    }
   ],
   "source": [
    "library(networkD3)\n",
    "\n",
    "# Plot\n",
    "p = forceNetwork(Links = dfLinks, Nodes = dfNodes,\n",
    "            Source = \"key1\", Target = \"key2\",\n",
    "            Value = \"max\", NodeID = \"key\",\n",
    "            Group = \"tag\", opacity = 0.8, fontSize = 50)\n",
    "\n",
    "saveNetwork(p, file='G4.html', selfcontained = TRUE)"
   ]
  },
  {
   "cell_type": "code",
   "execution_count": null,
   "metadata": {},
   "outputs": [],
   "source": [
    "\"#new: 300\"\n",
    "neg:200 net:50 po:49 m:1\n",
    "\n",
    "smoted\n",
    "Trumor:6000\n",
    "Y:5500 N:500\n",
    "\n",
    "N:500 Y:1000\n",
    "\n",
    "Y:5500 N:5000\n",
    "\n",
    "1-500\n",
    "\n",
    ">200 10->500\n",
    "<50 500\n",
    "50-100 30->500\n",
    "\n",
    "\n",
    "R:igraph\n",
    "  ggplot2\n",
    "  \n",
    "  barplot\n",
    "  hist\n",
    "p1\n",
    "p2\n",
    "\n"
   ]
  }
 ],
 "metadata": {
  "kernelspec": {
   "display_name": "R",
   "language": "R",
   "name": "ir"
  },
  "language_info": {
   "codemirror_mode": "r",
   "file_extension": ".r",
   "mimetype": "text/x-r-source",
   "name": "R",
   "pygments_lexer": "r",
   "version": "3.6.3"
  }
 },
 "nbformat": 4,
 "nbformat_minor": 4
}
